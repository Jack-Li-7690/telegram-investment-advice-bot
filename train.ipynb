{
 "cells": [
  {
   "cell_type": "markdown",
   "metadata": {
    "colab_type": "text",
    "id": "view-in-github"
   },
   "source": [
    "<a href=\"https://colab.research.google.com/github/skywalker0803r/Ricky/blob/master/CNN_stock_v12.ipynb\" target=\"_parent\"><img src=\"https://colab.research.google.com/assets/colab-badge.svg\" alt=\"Open In Colab\"/></a>"
   ]
  },
  {
   "cell_type": "code",
   "execution_count": 216,
   "metadata": {
    "id": "XTORNlRNWTAE"
   },
   "outputs": [],
   "source": [
    "#!pip install yfinance\n",
    "#!pip install finta\n",
    "#!pip install --upgrade pandas\n",
    "#!pip install --upgrade pandas-datareader"
   ]
  },
  {
   "cell_type": "markdown",
   "metadata": {
    "id": "6vaRLIuvJlZ7"
   },
   "source": [
    "# 載入資料"
   ]
  },
  {
   "attachments": {},
   "cell_type": "markdown",
   "metadata": {},
   "source": [
    "https://sharegpt.com/c/nwqFGKt"
   ]
  },
  {
   "cell_type": "code",
   "execution_count": 217,
   "metadata": {
    "colab": {
     "base_uri": "https://localhost:8080/",
     "height": 367
    },
    "id": "6rjcBk4sWHYE",
    "outputId": "c29b3370-5d64-4c46-8149-33871512419b"
   },
   "outputs": [
    {
     "name": "stdout",
     "output_type": "stream",
     "text": [
      "[*********************100%***********************]  1 of 1 completed\n",
      "(2460, 6)\n"
     ]
    },
    {
     "data": {
      "text/html": [
       "<div>\n",
       "<style scoped>\n",
       "    .dataframe tbody tr th:only-of-type {\n",
       "        vertical-align: middle;\n",
       "    }\n",
       "\n",
       "    .dataframe tbody tr th {\n",
       "        vertical-align: top;\n",
       "    }\n",
       "\n",
       "    .dataframe thead th {\n",
       "        text-align: right;\n",
       "    }\n",
       "</style>\n",
       "<table border=\"1\" class=\"dataframe\">\n",
       "  <thead>\n",
       "    <tr style=\"text-align: right;\">\n",
       "      <th></th>\n",
       "      <th>Open</th>\n",
       "      <th>High</th>\n",
       "      <th>Low</th>\n",
       "      <th>Close</th>\n",
       "      <th>Adj Close</th>\n",
       "      <th>Volume</th>\n",
       "    </tr>\n",
       "    <tr>\n",
       "      <th>Date</th>\n",
       "      <th></th>\n",
       "      <th></th>\n",
       "      <th></th>\n",
       "      <th></th>\n",
       "      <th></th>\n",
       "      <th></th>\n",
       "    </tr>\n",
       "  </thead>\n",
       "  <tbody>\n",
       "    <tr>\n",
       "      <th>2008-01-02</th>\n",
       "      <td>8491.5703</td>\n",
       "      <td>8532.9199</td>\n",
       "      <td>8319.5801</td>\n",
       "      <td>8323.0498</td>\n",
       "      <td>8323.0176</td>\n",
       "      <td>4372600</td>\n",
       "    </tr>\n",
       "    <tr>\n",
       "      <th>2008-01-03</th>\n",
       "      <td>8171.6802</td>\n",
       "      <td>8243.9297</td>\n",
       "      <td>8130.4102</td>\n",
       "      <td>8184.2002</td>\n",
       "      <td>8184.1694</td>\n",
       "      <td>3636400</td>\n",
       "    </tr>\n",
       "    <tr>\n",
       "      <th>2008-01-04</th>\n",
       "      <td>8134.0400</td>\n",
       "      <td>8247.1797</td>\n",
       "      <td>8097.8501</td>\n",
       "      <td>8221.0996</td>\n",
       "      <td>8221.0674</td>\n",
       "      <td>4603600</td>\n",
       "    </tr>\n",
       "  </tbody>\n",
       "</table>\n",
       "</div>"
      ],
      "text/plain": [
       "                Open      High       Low     Close  Adj Close   Volume\n",
       "Date                                                                  \n",
       "2008-01-02 8491.5703 8532.9199 8319.5801 8323.0498  8323.0176  4372600\n",
       "2008-01-03 8171.6802 8243.9297 8130.4102 8184.2002  8184.1694  3636400\n",
       "2008-01-04 8134.0400 8247.1797 8097.8501 8221.0996  8221.0674  4603600"
      ]
     },
     "metadata": {},
     "output_type": "display_data"
    },
    {
     "data": {
      "text/html": [
       "<div>\n",
       "<style scoped>\n",
       "    .dataframe tbody tr th:only-of-type {\n",
       "        vertical-align: middle;\n",
       "    }\n",
       "\n",
       "    .dataframe tbody tr th {\n",
       "        vertical-align: top;\n",
       "    }\n",
       "\n",
       "    .dataframe thead th {\n",
       "        text-align: right;\n",
       "    }\n",
       "</style>\n",
       "<table border=\"1\" class=\"dataframe\">\n",
       "  <thead>\n",
       "    <tr style=\"text-align: right;\">\n",
       "      <th></th>\n",
       "      <th>Open</th>\n",
       "      <th>High</th>\n",
       "      <th>Low</th>\n",
       "      <th>Close</th>\n",
       "      <th>Adj Close</th>\n",
       "      <th>Volume</th>\n",
       "    </tr>\n",
       "    <tr>\n",
       "      <th>Date</th>\n",
       "      <th></th>\n",
       "      <th></th>\n",
       "      <th></th>\n",
       "      <th></th>\n",
       "      <th></th>\n",
       "      <th></th>\n",
       "    </tr>\n",
       "  </thead>\n",
       "  <tbody>\n",
       "    <tr>\n",
       "      <th>2017-12-27</th>\n",
       "      <td>10419.8096</td>\n",
       "      <td>10497.7695</td>\n",
       "      <td>10419.8096</td>\n",
       "      <td>10486.6699</td>\n",
       "      <td>10486.6699</td>\n",
       "      <td>2103300</td>\n",
       "    </tr>\n",
       "    <tr>\n",
       "      <th>2017-12-28</th>\n",
       "      <td>10513.2900</td>\n",
       "      <td>10592.0400</td>\n",
       "      <td>10513.2900</td>\n",
       "      <td>10567.6396</td>\n",
       "      <td>10567.6396</td>\n",
       "      <td>2223700</td>\n",
       "    </tr>\n",
       "    <tr>\n",
       "      <th>2017-12-29</th>\n",
       "      <td>10590.9502</td>\n",
       "      <td>10659.9805</td>\n",
       "      <td>10590.9502</td>\n",
       "      <td>10642.8604</td>\n",
       "      <td>10642.8604</td>\n",
       "      <td>2411700</td>\n",
       "    </tr>\n",
       "  </tbody>\n",
       "</table>\n",
       "</div>"
      ],
      "text/plain": [
       "                 Open       High        Low      Close  Adj Close   Volume\n",
       "Date                                                                      \n",
       "2017-12-27 10419.8096 10497.7695 10419.8096 10486.6699 10486.6699  2103300\n",
       "2017-12-28 10513.2900 10592.0400 10513.2900 10567.6396 10567.6396  2223700\n",
       "2017-12-29 10590.9502 10659.9805 10590.9502 10642.8604 10642.8604  2411700"
      ]
     },
     "metadata": {},
     "output_type": "display_data"
    }
   ],
   "source": [
    "from pandas_datareader import data as pdr\n",
    "import pandas as pd\n",
    "import yfinance as yf\n",
    "import seaborn as sns\n",
    "yf.pdr_override()\n",
    "y_symbols = [\"^TWII\"]\n",
    "from datetime import datetime\n",
    "startdate = datetime(2008,1,1)\n",
    "enddate = datetime(2018,1,1)\n",
    "df = pdr.get_data_yahoo(y_symbols, start=startdate, end=enddate)\n",
    "print(df.shape)\n",
    "display(df.head(3))\n",
    "display(df.tail(3))"
   ]
  },
  {
   "cell_type": "markdown",
   "metadata": {
    "id": "HegmuvBN0FKD"
   },
   "source": [
    "# Label triple_barrier"
   ]
  },
  {
   "attachments": {},
   "cell_type": "markdown",
   "metadata": {},
   "source": [
    "https://sharegpt.com/c/ARA034F"
   ]
  },
  {
   "cell_type": "code",
   "execution_count": 218,
   "metadata": {},
   "outputs": [
    {
     "name": "stderr",
     "output_type": "stream",
     "text": [
      "C:\\Users\\Administrator\\AppData\\Local\\Temp\\ipykernel_14188\\1125190979.py:27: SettingWithCopyWarning: \n",
      "A value is trying to be set on a copy of a slice from a DataFrame.\n",
      "Try using .loc[row_indexer,col_indexer] = value instead\n",
      "\n",
      "See the caveats in the documentation: https://pandas.pydata.org/pandas-docs/stable/user_guide/indexing.html#returning-a-view-versus-a-copy\n",
      "  df['triple_barrier_signal'] = ret\n"
     ]
    }
   ],
   "source": [
    "import numpy as np\n",
    "import math\n",
    "def triple_barrier_signal(price,ub,lb,t):\n",
    "  '''\n",
    "  triple-barrier包含2個horizontal barrier，1個vertical barrier。\n",
    "  首先解釋一下這3个barrier：\n",
    "  根據3个barrier中第一個被touch的進行label\n",
    "  barrier 1 (the upper barrier)首先達到，label 1\n",
    "  barrier 2（the lower barrier)首先達到，label -1\n",
    "  如果barrier 1和barrier 2都没有達到，则barrier 3達到，label 0\n",
    "  '''\n",
    "  signal = []\n",
    "  for i in range(len(price)-t):\n",
    "    # 情況1.如果price[i:i+t+1]這段序列有任何元素的值大於price[i]*ub則signal[i] = 1\n",
    "    if max(price[i:i+t+1]) > price[i] * ub:\n",
    "      signal.append(1)\n",
    "    # 情況2.如果price[i:i+t+1]這段序列有任何元素的值低於price[i]*lb則signal[i] = -1\n",
    "    elif min(price[i:i+t+1]) < price[i] * lb:\n",
    "      signal.append(-1)\n",
    "    # 如果以上情況1和情況2都沒有發生則signal[i] = 0\n",
    "    else:\n",
    "      signal.append(0)\n",
    "  return signal\n",
    "\n",
    "ret = triple_barrier_signal(df.Close.values.tolist(),1.03,0.97,20)\n",
    "df = df.head(len(ret))\n",
    "df['triple_barrier_signal'] = ret"
   ]
  },
  {
   "cell_type": "code",
   "execution_count": 219,
   "metadata": {
    "colab": {
     "base_uri": "https://localhost:8080/",
     "height": 708
    },
    "id": "MHRZWGG40a3q",
    "outputId": "b35a41dc-c660-4ae5-b063-27194e79aca5"
   },
   "outputs": [
    {
     "data": {
      "text/html": [
       "<div>\n",
       "<style scoped>\n",
       "    .dataframe tbody tr th:only-of-type {\n",
       "        vertical-align: middle;\n",
       "    }\n",
       "\n",
       "    .dataframe tbody tr th {\n",
       "        vertical-align: top;\n",
       "    }\n",
       "\n",
       "    .dataframe thead th {\n",
       "        text-align: right;\n",
       "    }\n",
       "</style>\n",
       "<table border=\"1\" class=\"dataframe\">\n",
       "  <thead>\n",
       "    <tr style=\"text-align: right;\">\n",
       "      <th></th>\n",
       "      <th>Open</th>\n",
       "      <th>High</th>\n",
       "      <th>Low</th>\n",
       "      <th>Close</th>\n",
       "      <th>Adj Close</th>\n",
       "      <th>Volume</th>\n",
       "      <th>triple_barrier_signal</th>\n",
       "    </tr>\n",
       "    <tr>\n",
       "      <th>Date</th>\n",
       "      <th></th>\n",
       "      <th></th>\n",
       "      <th></th>\n",
       "      <th></th>\n",
       "      <th></th>\n",
       "      <th></th>\n",
       "      <th></th>\n",
       "    </tr>\n",
       "  </thead>\n",
       "  <tbody>\n",
       "    <tr>\n",
       "      <th>2017-11-06</th>\n",
       "      <td>10856.5596</td>\n",
       "      <td>10858.5000</td>\n",
       "      <td>10769.1904</td>\n",
       "      <td>10786.1904</td>\n",
       "      <td>10786.1904</td>\n",
       "      <td>2241200</td>\n",
       "      <td>0</td>\n",
       "    </tr>\n",
       "    <tr>\n",
       "      <th>2017-11-07</th>\n",
       "      <td>10820.8301</td>\n",
       "      <td>10842.6104</td>\n",
       "      <td>10807.8896</td>\n",
       "      <td>10840.3398</td>\n",
       "      <td>10840.3398</td>\n",
       "      <td>2593500</td>\n",
       "      <td>0</td>\n",
       "    </tr>\n",
       "    <tr>\n",
       "      <th>2017-11-08</th>\n",
       "      <td>10839.4404</td>\n",
       "      <td>10844.7402</td>\n",
       "      <td>10806.0098</td>\n",
       "      <td>10818.9902</td>\n",
       "      <td>10818.9902</td>\n",
       "      <td>2513400</td>\n",
       "      <td>-1</td>\n",
       "    </tr>\n",
       "    <tr>\n",
       "      <th>2017-11-09</th>\n",
       "      <td>10802.9502</td>\n",
       "      <td>10831.3799</td>\n",
       "      <td>10721.8701</td>\n",
       "      <td>10743.2695</td>\n",
       "      <td>10743.2695</td>\n",
       "      <td>3008000</td>\n",
       "      <td>-1</td>\n",
       "    </tr>\n",
       "    <tr>\n",
       "      <th>2017-11-10</th>\n",
       "      <td>10713.6699</td>\n",
       "      <td>10742.6104</td>\n",
       "      <td>10659.2900</td>\n",
       "      <td>10732.6699</td>\n",
       "      <td>10732.6699</td>\n",
       "      <td>2347400</td>\n",
       "      <td>-1</td>\n",
       "    </tr>\n",
       "    <tr>\n",
       "      <th>2017-11-13</th>\n",
       "      <td>10728.2197</td>\n",
       "      <td>10749.3896</td>\n",
       "      <td>10683.9199</td>\n",
       "      <td>10683.9199</td>\n",
       "      <td>10683.9199</td>\n",
       "      <td>2850600</td>\n",
       "      <td>-1</td>\n",
       "    </tr>\n",
       "    <tr>\n",
       "      <th>2017-11-14</th>\n",
       "      <td>10716.5898</td>\n",
       "      <td>10735.0801</td>\n",
       "      <td>10654.5801</td>\n",
       "      <td>10687.1797</td>\n",
       "      <td>10687.1797</td>\n",
       "      <td>2676900</td>\n",
       "      <td>-1</td>\n",
       "    </tr>\n",
       "    <tr>\n",
       "      <th>2017-11-15</th>\n",
       "      <td>10662.0801</td>\n",
       "      <td>10669.5898</td>\n",
       "      <td>10600.2598</td>\n",
       "      <td>10630.6504</td>\n",
       "      <td>10630.6504</td>\n",
       "      <td>2325600</td>\n",
       "      <td>0</td>\n",
       "    </tr>\n",
       "    <tr>\n",
       "      <th>2017-11-16</th>\n",
       "      <td>10629.1602</td>\n",
       "      <td>10666.6602</td>\n",
       "      <td>10609.2305</td>\n",
       "      <td>10625.0400</td>\n",
       "      <td>10625.0400</td>\n",
       "      <td>2189300</td>\n",
       "      <td>0</td>\n",
       "    </tr>\n",
       "    <tr>\n",
       "      <th>2017-11-17</th>\n",
       "      <td>10673.4297</td>\n",
       "      <td>10729.4502</td>\n",
       "      <td>10673.4297</td>\n",
       "      <td>10701.6396</td>\n",
       "      <td>10701.6396</td>\n",
       "      <td>2471200</td>\n",
       "      <td>-1</td>\n",
       "    </tr>\n",
       "    <tr>\n",
       "      <th>2017-11-20</th>\n",
       "      <td>10706.7900</td>\n",
       "      <td>10728.3896</td>\n",
       "      <td>10656.1797</td>\n",
       "      <td>10664.5498</td>\n",
       "      <td>10664.5498</td>\n",
       "      <td>2503700</td>\n",
       "      <td>0</td>\n",
       "    </tr>\n",
       "    <tr>\n",
       "      <th>2017-11-21</th>\n",
       "      <td>10688.2197</td>\n",
       "      <td>10787.5801</td>\n",
       "      <td>10687.2598</td>\n",
       "      <td>10779.2402</td>\n",
       "      <td>10779.2402</td>\n",
       "      <td>3285200</td>\n",
       "      <td>-1</td>\n",
       "    </tr>\n",
       "    <tr>\n",
       "      <th>2017-11-22</th>\n",
       "      <td>10815.4004</td>\n",
       "      <td>10882.6504</td>\n",
       "      <td>10801.0996</td>\n",
       "      <td>10822.5898</td>\n",
       "      <td>10822.5898</td>\n",
       "      <td>3911700</td>\n",
       "      <td>-1</td>\n",
       "    </tr>\n",
       "    <tr>\n",
       "      <th>2017-11-23</th>\n",
       "      <td>10837.6104</td>\n",
       "      <td>10872.2900</td>\n",
       "      <td>10809.0898</td>\n",
       "      <td>10854.5703</td>\n",
       "      <td>10854.5703</td>\n",
       "      <td>2681100</td>\n",
       "      <td>-1</td>\n",
       "    </tr>\n",
       "    <tr>\n",
       "      <th>2017-11-24</th>\n",
       "      <td>10847.7900</td>\n",
       "      <td>10873.9102</td>\n",
       "      <td>10833.7803</td>\n",
       "      <td>10854.0898</td>\n",
       "      <td>10854.0898</td>\n",
       "      <td>2746900</td>\n",
       "      <td>-1</td>\n",
       "    </tr>\n",
       "    <tr>\n",
       "      <th>2017-11-27</th>\n",
       "      <td>10836.8203</td>\n",
       "      <td>10856.0000</td>\n",
       "      <td>10746.7402</td>\n",
       "      <td>10750.9297</td>\n",
       "      <td>10750.9297</td>\n",
       "      <td>2668100</td>\n",
       "      <td>-1</td>\n",
       "    </tr>\n",
       "    <tr>\n",
       "      <th>2017-11-28</th>\n",
       "      <td>10733.5596</td>\n",
       "      <td>10752.5801</td>\n",
       "      <td>10692.5303</td>\n",
       "      <td>10707.0703</td>\n",
       "      <td>10707.0703</td>\n",
       "      <td>2961000</td>\n",
       "      <td>-1</td>\n",
       "    </tr>\n",
       "    <tr>\n",
       "      <th>2017-11-29</th>\n",
       "      <td>10735.2402</td>\n",
       "      <td>10762.9102</td>\n",
       "      <td>10697.6201</td>\n",
       "      <td>10713.5498</td>\n",
       "      <td>10713.5498</td>\n",
       "      <td>3096300</td>\n",
       "      <td>-1</td>\n",
       "    </tr>\n",
       "    <tr>\n",
       "      <th>2017-11-30</th>\n",
       "      <td>10623.2002</td>\n",
       "      <td>10650.1797</td>\n",
       "      <td>10560.4404</td>\n",
       "      <td>10560.4404</td>\n",
       "      <td>10560.4404</td>\n",
       "      <td>4939100</td>\n",
       "      <td>0</td>\n",
       "    </tr>\n",
       "    <tr>\n",
       "      <th>2017-12-01</th>\n",
       "      <td>10591.6201</td>\n",
       "      <td>10665.9199</td>\n",
       "      <td>10495.1504</td>\n",
       "      <td>10600.3701</td>\n",
       "      <td>10600.3701</td>\n",
       "      <td>3776200</td>\n",
       "      <td>0</td>\n",
       "    </tr>\n",
       "  </tbody>\n",
       "</table>\n",
       "</div>"
      ],
      "text/plain": [
       "                 Open       High        Low      Close  Adj Close   Volume  \\\n",
       "Date                                                                         \n",
       "2017-11-06 10856.5596 10858.5000 10769.1904 10786.1904 10786.1904  2241200   \n",
       "2017-11-07 10820.8301 10842.6104 10807.8896 10840.3398 10840.3398  2593500   \n",
       "2017-11-08 10839.4404 10844.7402 10806.0098 10818.9902 10818.9902  2513400   \n",
       "2017-11-09 10802.9502 10831.3799 10721.8701 10743.2695 10743.2695  3008000   \n",
       "2017-11-10 10713.6699 10742.6104 10659.2900 10732.6699 10732.6699  2347400   \n",
       "2017-11-13 10728.2197 10749.3896 10683.9199 10683.9199 10683.9199  2850600   \n",
       "2017-11-14 10716.5898 10735.0801 10654.5801 10687.1797 10687.1797  2676900   \n",
       "2017-11-15 10662.0801 10669.5898 10600.2598 10630.6504 10630.6504  2325600   \n",
       "2017-11-16 10629.1602 10666.6602 10609.2305 10625.0400 10625.0400  2189300   \n",
       "2017-11-17 10673.4297 10729.4502 10673.4297 10701.6396 10701.6396  2471200   \n",
       "2017-11-20 10706.7900 10728.3896 10656.1797 10664.5498 10664.5498  2503700   \n",
       "2017-11-21 10688.2197 10787.5801 10687.2598 10779.2402 10779.2402  3285200   \n",
       "2017-11-22 10815.4004 10882.6504 10801.0996 10822.5898 10822.5898  3911700   \n",
       "2017-11-23 10837.6104 10872.2900 10809.0898 10854.5703 10854.5703  2681100   \n",
       "2017-11-24 10847.7900 10873.9102 10833.7803 10854.0898 10854.0898  2746900   \n",
       "2017-11-27 10836.8203 10856.0000 10746.7402 10750.9297 10750.9297  2668100   \n",
       "2017-11-28 10733.5596 10752.5801 10692.5303 10707.0703 10707.0703  2961000   \n",
       "2017-11-29 10735.2402 10762.9102 10697.6201 10713.5498 10713.5498  3096300   \n",
       "2017-11-30 10623.2002 10650.1797 10560.4404 10560.4404 10560.4404  4939100   \n",
       "2017-12-01 10591.6201 10665.9199 10495.1504 10600.3701 10600.3701  3776200   \n",
       "\n",
       "            triple_barrier_signal  \n",
       "Date                               \n",
       "2017-11-06                      0  \n",
       "2017-11-07                      0  \n",
       "2017-11-08                     -1  \n",
       "2017-11-09                     -1  \n",
       "2017-11-10                     -1  \n",
       "2017-11-13                     -1  \n",
       "2017-11-14                     -1  \n",
       "2017-11-15                      0  \n",
       "2017-11-16                      0  \n",
       "2017-11-17                     -1  \n",
       "2017-11-20                      0  \n",
       "2017-11-21                     -1  \n",
       "2017-11-22                     -1  \n",
       "2017-11-23                     -1  \n",
       "2017-11-24                     -1  \n",
       "2017-11-27                     -1  \n",
       "2017-11-28                     -1  \n",
       "2017-11-29                     -1  \n",
       "2017-11-30                      0  \n",
       "2017-12-01                      0  "
      ]
     },
     "execution_count": 219,
     "metadata": {},
     "output_type": "execute_result"
    }
   ],
   "source": [
    "df.tail(20)"
   ]
  },
  {
   "cell_type": "code",
   "execution_count": 220,
   "metadata": {
    "colab": {
     "base_uri": "https://localhost:8080/",
     "height": 352
    },
    "id": "tK_VXl2R1Osh",
    "outputId": "fa3cc2f6-47c9-4bb9-ac84-6495154b1805"
   },
   "outputs": [
    {
     "name": "stderr",
     "output_type": "stream",
     "text": [
      "c:\\Users\\Administrator\\anaconda3\\lib\\site-packages\\seaborn\\_decorators.py:36: FutureWarning: Pass the following variable as a keyword arg: x. From version 0.12, the only valid positional argument will be `data`, and passing other arguments without an explicit keyword will result in an error or misinterpretation.\n",
      "  warnings.warn(\n"
     ]
    },
    {
     "data": {
      "text/plain": [
       "<AxesSubplot:xlabel='triple_barrier_signal', ylabel='count'>"
      ]
     },
     "execution_count": 220,
     "metadata": {},
     "output_type": "execute_result"
    },
    {
     "data": {
      "image/png": "[encoded data removed]",
      "text/plain": [
       "<Figure size 640x480 with 1 Axes>"
      ]
     },
     "metadata": {},
     "output_type": "display_data"
    }
   ],
   "source": [
    "df['triple_barrier_signal'].value_counts()\n",
    "sns.countplot(df['triple_barrier_signal'])"
   ]
  },
  {
   "cell_type": "code",
   "execution_count": 221,
   "metadata": {
    "colab": {
     "base_uri": "https://localhost:8080/",
     "height": 314
    },
    "id": "Qti5Zd4-jOrH",
    "outputId": "33f3f5d4-7a51-4cd0-fdc4-2e5780fad238"
   },
   "outputs": [
    {
     "data": {
      "image/png": "[encoded data removed]",
      "text/plain": [
       "<Figure size 640x480 with 1 Axes>"
      ]
     },
     "metadata": {},
     "output_type": "display_data"
    }
   ],
   "source": [
    "import matplotlib.pyplot as plt\n",
    "\n",
    "df_recent = df.tail(100)\n",
    "buy = df_recent[df_recent['triple_barrier_signal']==1]['Close']\n",
    "sell = df_recent[df_recent['triple_barrier_signal']==-1]['Close']\n",
    "df_recent['Close'].plot()#後20筆是前20筆的驗證\n",
    "plt.scatter(buy.index,buy.values,color='red')\n",
    "plt.scatter(sell.index,sell.values,color='black')\n",
    "plt.show()"
   ]
  },
  {
   "cell_type": "markdown",
   "metadata": {
    "id": "HUtEilqGfIJl"
   },
   "source": [
    "# 建立ohlcv"
   ]
  },
  {
   "cell_type": "code",
   "execution_count": 222,
   "metadata": {
    "id": "FdFhLZkYfKpN"
   },
   "outputs": [],
   "source": [
    "from finta import TA\n",
    "ohlcv = df[['Open','High','Low','Close','Volume']]\n",
    "ohlcv.columns = ['open','high','low','close','volume']"
   ]
  },
  {
   "cell_type": "markdown",
   "metadata": {
    "id": "9K9RepGQwbQQ"
   },
   "source": [
    "# 計算技術指標RSI"
   ]
  },
  {
   "attachments": {},
   "cell_type": "markdown",
   "metadata": {},
   "source": [
    "https://sharegpt.com/c/lXPO7as"
   ]
  },
  {
   "cell_type": "code",
   "execution_count": 223,
   "metadata": {
    "colab": {
     "base_uri": "https://localhost:8080/",
     "height": 710
    },
    "id": "ZZkpnqk9e0Rw",
    "outputId": "0bcb6f01-781e-452e-8e8a-8388dee9200b"
   },
   "outputs": [
    {
     "name": "stdout",
     "output_type": "stream",
     "text": [
      "count   2439.0000\n",
      "mean      52.4968\n",
      "std       12.4751\n",
      "min        0.0000\n",
      "25%       43.8183\n",
      "50%       53.8318\n",
      "75%       61.7164\n",
      "max       82.3669\n",
      "Name: RSI, dtype: float64\n"
     ]
    },
    {
     "name": "stderr",
     "output_type": "stream",
     "text": [
      "C:\\Users\\Administrator\\AppData\\Local\\Temp\\ipykernel_14188\\80940770.py:1: SettingWithCopyWarning: \n",
      "A value is trying to be set on a copy of a slice from a DataFrame.\n",
      "Try using .loc[row_indexer,col_indexer] = value instead\n",
      "\n",
      "See the caveats in the documentation: https://pandas.pydata.org/pandas-docs/stable/user_guide/indexing.html#returning-a-view-versus-a-copy\n",
      "  df['RSI'] = TA.RSI(ohlcv)\n",
      "c:\\Users\\Administrator\\anaconda3\\lib\\site-packages\\seaborn\\distributions.py:2619: FutureWarning: `distplot` is a deprecated function and will be removed in a future version. Please adapt your code to use either `displot` (a figure-level function with similar flexibility) or `histplot` (an axes-level function for histograms).\n",
      "  warnings.warn(msg, FutureWarning)\n"
     ]
    },
    {
     "data": {
      "text/html": [
       "<div>\n",
       "<style scoped>\n",
       "    .dataframe tbody tr th:only-of-type {\n",
       "        vertical-align: middle;\n",
       "    }\n",
       "\n",
       "    .dataframe tbody tr th {\n",
       "        vertical-align: top;\n",
       "    }\n",
       "\n",
       "    .dataframe thead th {\n",
       "        text-align: right;\n",
       "    }\n",
       "</style>\n",
       "<table border=\"1\" class=\"dataframe\">\n",
       "  <thead>\n",
       "    <tr style=\"text-align: right;\">\n",
       "      <th></th>\n",
       "      <th>Open</th>\n",
       "      <th>High</th>\n",
       "      <th>Low</th>\n",
       "      <th>Close</th>\n",
       "      <th>Adj Close</th>\n",
       "      <th>Volume</th>\n",
       "      <th>triple_barrier_signal</th>\n",
       "      <th>RSI</th>\n",
       "    </tr>\n",
       "    <tr>\n",
       "      <th>Date</th>\n",
       "      <th></th>\n",
       "      <th></th>\n",
       "      <th></th>\n",
       "      <th></th>\n",
       "      <th></th>\n",
       "      <th></th>\n",
       "      <th></th>\n",
       "      <th></th>\n",
       "    </tr>\n",
       "  </thead>\n",
       "  <tbody>\n",
       "    <tr>\n",
       "      <th>2017-11-27</th>\n",
       "      <td>10836.8203</td>\n",
       "      <td>10856.0000</td>\n",
       "      <td>10746.7402</td>\n",
       "      <td>10750.9297</td>\n",
       "      <td>10750.9297</td>\n",
       "      <td>2668100</td>\n",
       "      <td>-1</td>\n",
       "      <td>51.8056</td>\n",
       "    </tr>\n",
       "    <tr>\n",
       "      <th>2017-11-28</th>\n",
       "      <td>10733.5596</td>\n",
       "      <td>10752.5801</td>\n",
       "      <td>10692.5303</td>\n",
       "      <td>10707.0703</td>\n",
       "      <td>10707.0703</td>\n",
       "      <td>2961000</td>\n",
       "      <td>-1</td>\n",
       "      <td>48.0033</td>\n",
       "    </tr>\n",
       "    <tr>\n",
       "      <th>2017-11-29</th>\n",
       "      <td>10735.2402</td>\n",
       "      <td>10762.9102</td>\n",
       "      <td>10697.6201</td>\n",
       "      <td>10713.5498</td>\n",
       "      <td>10713.5498</td>\n",
       "      <td>3096300</td>\n",
       "      <td>-1</td>\n",
       "      <td>48.6035</td>\n",
       "    </tr>\n",
       "    <tr>\n",
       "      <th>2017-11-30</th>\n",
       "      <td>10623.2002</td>\n",
       "      <td>10650.1797</td>\n",
       "      <td>10560.4404</td>\n",
       "      <td>10560.4404</td>\n",
       "      <td>10560.4404</td>\n",
       "      <td>4939100</td>\n",
       "      <td>0</td>\n",
       "      <td>37.5687</td>\n",
       "    </tr>\n",
       "    <tr>\n",
       "      <th>2017-12-01</th>\n",
       "      <td>10591.6201</td>\n",
       "      <td>10665.9199</td>\n",
       "      <td>10495.1504</td>\n",
       "      <td>10600.3701</td>\n",
       "      <td>10600.3701</td>\n",
       "      <td>3776200</td>\n",
       "      <td>0</td>\n",
       "      <td>41.3110</td>\n",
       "    </tr>\n",
       "  </tbody>\n",
       "</table>\n",
       "</div>"
      ],
      "text/plain": [
       "                 Open       High        Low      Close  Adj Close   Volume  \\\n",
       "Date                                                                         \n",
       "2017-11-27 10836.8203 10856.0000 10746.7402 10750.9297 10750.9297  2668100   \n",
       "2017-11-28 10733.5596 10752.5801 10692.5303 10707.0703 10707.0703  2961000   \n",
       "2017-11-29 10735.2402 10762.9102 10697.6201 10713.5498 10713.5498  3096300   \n",
       "2017-11-30 10623.2002 10650.1797 10560.4404 10560.4404 10560.4404  4939100   \n",
       "2017-12-01 10591.6201 10665.9199 10495.1504 10600.3701 10600.3701  3776200   \n",
       "\n",
       "            triple_barrier_signal     RSI  \n",
       "Date                                       \n",
       "2017-11-27                     -1 51.8056  \n",
       "2017-11-28                     -1 48.0033  \n",
       "2017-11-29                     -1 48.6035  \n",
       "2017-11-30                      0 37.5687  \n",
       "2017-12-01                      0 41.3110  "
      ]
     },
     "execution_count": 223,
     "metadata": {},
     "output_type": "execute_result"
    },
    {
     "data": {
      "image/png": "[encoded data removed]",
      "text/plain": [
       "<Figure size 640x480 with 1 Axes>"
      ]
     },
     "metadata": {},
     "output_type": "display_data"
    }
   ],
   "source": [
    "df['RSI'] = TA.RSI(ohlcv)\n",
    "print(df['RSI'].describe())\n",
    "sns.distplot(df['RSI'].dropna())\n",
    "df.tail()"
   ]
  },
  {
   "cell_type": "markdown",
   "metadata": {
    "id": "fZXZuQe93pJE"
   },
   "source": [
    "# 計算威廉指標"
   ]
  },
  {
   "cell_type": "code",
   "execution_count": 224,
   "metadata": {
    "colab": {
     "base_uri": "https://localhost:8080/",
     "height": 710
    },
    "id": "Q8_qx-dnfPJa",
    "outputId": "74fbe3f1-258c-49d6-f653-80e848d4748c"
   },
   "outputs": [
    {
     "name": "stdout",
     "output_type": "stream",
     "text": [
      "count   2427.0000\n",
      "mean     -42.8045\n",
      "std       32.1322\n",
      "min     -100.0000\n",
      "25%      -72.2049\n",
      "50%      -37.6398\n",
      "75%      -12.6047\n",
      "max       -0.0000\n",
      "Name: Williams %R, dtype: float64\n"
     ]
    },
    {
     "name": "stderr",
     "output_type": "stream",
     "text": [
      "C:\\Users\\Administrator\\AppData\\Local\\Temp\\ipykernel_14188\\4271450618.py:1: SettingWithCopyWarning: \n",
      "A value is trying to be set on a copy of a slice from a DataFrame.\n",
      "Try using .loc[row_indexer,col_indexer] = value instead\n",
      "\n",
      "See the caveats in the documentation: https://pandas.pydata.org/pandas-docs/stable/user_guide/indexing.html#returning-a-view-versus-a-copy\n",
      "  df['Williams %R'] = TA.WILLIAMS(ohlcv)\n",
      "c:\\Users\\Administrator\\anaconda3\\lib\\site-packages\\seaborn\\distributions.py:2619: FutureWarning: `distplot` is a deprecated function and will be removed in a future version. Please adapt your code to use either `displot` (a figure-level function with similar flexibility) or `histplot` (an axes-level function for histograms).\n",
      "  warnings.warn(msg, FutureWarning)\n"
     ]
    },
    {
     "data": {
      "text/html": [
       "<div>\n",
       "<style scoped>\n",
       "    .dataframe tbody tr th:only-of-type {\n",
       "        vertical-align: middle;\n",
       "    }\n",
       "\n",
       "    .dataframe tbody tr th {\n",
       "        vertical-align: top;\n",
       "    }\n",
       "\n",
       "    .dataframe thead th {\n",
       "        text-align: right;\n",
       "    }\n",
       "</style>\n",
       "<table border=\"1\" class=\"dataframe\">\n",
       "  <thead>\n",
       "    <tr style=\"text-align: right;\">\n",
       "      <th></th>\n",
       "      <th>Open</th>\n",
       "      <th>High</th>\n",
       "      <th>Low</th>\n",
       "      <th>Close</th>\n",
       "      <th>Adj Close</th>\n",
       "      <th>Volume</th>\n",
       "      <th>triple_barrier_signal</th>\n",
       "      <th>RSI</th>\n",
       "      <th>Williams %R</th>\n",
       "    </tr>\n",
       "    <tr>\n",
       "      <th>Date</th>\n",
       "      <th></th>\n",
       "      <th></th>\n",
       "      <th></th>\n",
       "      <th></th>\n",
       "      <th></th>\n",
       "      <th></th>\n",
       "      <th></th>\n",
       "      <th></th>\n",
       "      <th></th>\n",
       "    </tr>\n",
       "  </thead>\n",
       "  <tbody>\n",
       "    <tr>\n",
       "      <th>2017-11-27</th>\n",
       "      <td>10836.8203</td>\n",
       "      <td>10856.0000</td>\n",
       "      <td>10746.7402</td>\n",
       "      <td>10750.9297</td>\n",
       "      <td>10750.9297</td>\n",
       "      <td>2668100</td>\n",
       "      <td>-1</td>\n",
       "      <td>51.8056</td>\n",
       "      <td>-46.6449</td>\n",
       "    </tr>\n",
       "    <tr>\n",
       "      <th>2017-11-28</th>\n",
       "      <td>10733.5596</td>\n",
       "      <td>10752.5801</td>\n",
       "      <td>10692.5303</td>\n",
       "      <td>10707.0703</td>\n",
       "      <td>10707.0703</td>\n",
       "      <td>2961000</td>\n",
       "      <td>-1</td>\n",
       "      <td>48.0033</td>\n",
       "      <td>-62.1763</td>\n",
       "    </tr>\n",
       "    <tr>\n",
       "      <th>2017-11-29</th>\n",
       "      <td>10735.2402</td>\n",
       "      <td>10762.9102</td>\n",
       "      <td>10697.6201</td>\n",
       "      <td>10713.5498</td>\n",
       "      <td>10713.5498</td>\n",
       "      <td>3096300</td>\n",
       "      <td>-1</td>\n",
       "      <td>48.6035</td>\n",
       "      <td>-59.8818</td>\n",
       "    </tr>\n",
       "    <tr>\n",
       "      <th>2017-11-30</th>\n",
       "      <td>10623.2002</td>\n",
       "      <td>10650.1797</td>\n",
       "      <td>10560.4404</td>\n",
       "      <td>10560.4404</td>\n",
       "      <td>10560.4404</td>\n",
       "      <td>4939100</td>\n",
       "      <td>0</td>\n",
       "      <td>37.5687</td>\n",
       "      <td>-100.0000</td>\n",
       "    </tr>\n",
       "    <tr>\n",
       "      <th>2017-12-01</th>\n",
       "      <td>10591.6201</td>\n",
       "      <td>10665.9199</td>\n",
       "      <td>10495.1504</td>\n",
       "      <td>10600.3701</td>\n",
       "      <td>10600.3701</td>\n",
       "      <td>3776200</td>\n",
       "      <td>0</td>\n",
       "      <td>41.3110</td>\n",
       "      <td>-72.8465</td>\n",
       "    </tr>\n",
       "  </tbody>\n",
       "</table>\n",
       "</div>"
      ],
      "text/plain": [
       "                 Open       High        Low      Close  Adj Close   Volume  \\\n",
       "Date                                                                         \n",
       "2017-11-27 10836.8203 10856.0000 10746.7402 10750.9297 10750.9297  2668100   \n",
       "2017-11-28 10733.5596 10752.5801 10692.5303 10707.0703 10707.0703  2961000   \n",
       "2017-11-29 10735.2402 10762.9102 10697.6201 10713.5498 10713.5498  3096300   \n",
       "2017-11-30 10623.2002 10650.1797 10560.4404 10560.4404 10560.4404  4939100   \n",
       "2017-12-01 10591.6201 10665.9199 10495.1504 10600.3701 10600.3701  3776200   \n",
       "\n",
       "            triple_barrier_signal     RSI  Williams %R  \n",
       "Date                                                    \n",
       "2017-11-27                     -1 51.8056     -46.6449  \n",
       "2017-11-28                     -1 48.0033     -62.1763  \n",
       "2017-11-29                     -1 48.6035     -59.8818  \n",
       "2017-11-30                      0 37.5687    -100.0000  \n",
       "2017-12-01                      0 41.3110     -72.8465  "
      ]
     },
     "execution_count": 224,
     "metadata": {},
     "output_type": "execute_result"
    },
    {
     "data": {
      "image/png": "[encoded data removed]",
      "text/plain": [
       "<Figure size 640x480 with 1 Axes>"
      ]
     },
     "metadata": {},
     "output_type": "display_data"
    }
   ],
   "source": [
    "df['Williams %R'] = TA.WILLIAMS(ohlcv)\n",
    "print(df['Williams %R'].describe())\n",
    "sns.distplot(df['Williams %R'].dropna())\n",
    "df.tail()"
   ]
  },
  {
   "cell_type": "markdown",
   "metadata": {
    "id": "xK4jb6KTDdGa"
   },
   "source": [
    "# SMA"
   ]
  },
  {
   "cell_type": "code",
   "execution_count": 225,
   "metadata": {
    "colab": {
     "base_uri": "https://localhost:8080/",
     "height": 710
    },
    "id": "osETw-NkfgfL",
    "outputId": "e56924f4-bbf5-44ec-d264-324681bac228"
   },
   "outputs": [
    {
     "name": "stdout",
     "output_type": "stream",
     "text": [
      "count    2400.0000\n",
      "mean     8167.1424\n",
      "std      1223.8877\n",
      "min      4461.4230\n",
      "25%      7546.7448\n",
      "50%      8253.9699\n",
      "75%      8915.5335\n",
      "max     10719.0485\n",
      "Name: SMA, dtype: float64\n"
     ]
    },
    {
     "name": "stderr",
     "output_type": "stream",
     "text": [
      "C:\\Users\\Administrator\\AppData\\Local\\Temp\\ipykernel_14188\\1878676325.py:1: SettingWithCopyWarning: \n",
      "A value is trying to be set on a copy of a slice from a DataFrame.\n",
      "Try using .loc[row_indexer,col_indexer] = value instead\n",
      "\n",
      "See the caveats in the documentation: https://pandas.pydata.org/pandas-docs/stable/user_guide/indexing.html#returning-a-view-versus-a-copy\n",
      "  df['SMA'] = TA.SMA(ohlcv)\n",
      "c:\\Users\\Administrator\\anaconda3\\lib\\site-packages\\seaborn\\distributions.py:2619: FutureWarning: `distplot` is a deprecated function and will be removed in a future version. Please adapt your code to use either `displot` (a figure-level function with similar flexibility) or `histplot` (an axes-level function for histograms).\n",
      "  warnings.warn(msg, FutureWarning)\n"
     ]
    },
    {
     "data": {
      "text/html": [
       "<div>\n",
       "<style scoped>\n",
       "    .dataframe tbody tr th:only-of-type {\n",
       "        vertical-align: middle;\n",
       "    }\n",
       "\n",
       "    .dataframe tbody tr th {\n",
       "        vertical-align: top;\n",
       "    }\n",
       "\n",
       "    .dataframe thead th {\n",
       "        text-align: right;\n",
       "    }\n",
       "</style>\n",
       "<table border=\"1\" class=\"dataframe\">\n",
       "  <thead>\n",
       "    <tr style=\"text-align: right;\">\n",
       "      <th></th>\n",
       "      <th>Open</th>\n",
       "      <th>High</th>\n",
       "      <th>Low</th>\n",
       "      <th>Close</th>\n",
       "      <th>Adj Close</th>\n",
       "      <th>Volume</th>\n",
       "      <th>triple_barrier_signal</th>\n",
       "      <th>RSI</th>\n",
       "      <th>Williams %R</th>\n",
       "      <th>SMA</th>\n",
       "    </tr>\n",
       "    <tr>\n",
       "      <th>Date</th>\n",
       "      <th></th>\n",
       "      <th></th>\n",
       "      <th></th>\n",
       "      <th></th>\n",
       "      <th></th>\n",
       "      <th></th>\n",
       "      <th></th>\n",
       "      <th></th>\n",
       "      <th></th>\n",
       "      <th></th>\n",
       "    </tr>\n",
       "  </thead>\n",
       "  <tbody>\n",
       "    <tr>\n",
       "      <th>2017-11-27</th>\n",
       "      <td>10836.8203</td>\n",
       "      <td>10856.0000</td>\n",
       "      <td>10746.7402</td>\n",
       "      <td>10750.9297</td>\n",
       "      <td>10750.9297</td>\n",
       "      <td>2668100</td>\n",
       "      <td>-1</td>\n",
       "      <td>51.8056</td>\n",
       "      <td>-46.6449</td>\n",
       "      <td>10690.6778</td>\n",
       "    </tr>\n",
       "    <tr>\n",
       "      <th>2017-11-28</th>\n",
       "      <td>10733.5596</td>\n",
       "      <td>10752.5801</td>\n",
       "      <td>10692.5303</td>\n",
       "      <td>10707.0703</td>\n",
       "      <td>10707.0703</td>\n",
       "      <td>2961000</td>\n",
       "      <td>-1</td>\n",
       "      <td>48.0033</td>\n",
       "      <td>-62.1763</td>\n",
       "      <td>10699.9556</td>\n",
       "    </tr>\n",
       "    <tr>\n",
       "      <th>2017-11-29</th>\n",
       "      <td>10735.2402</td>\n",
       "      <td>10762.9102</td>\n",
       "      <td>10697.6201</td>\n",
       "      <td>10713.5498</td>\n",
       "      <td>10713.5498</td>\n",
       "      <td>3096300</td>\n",
       "      <td>-1</td>\n",
       "      <td>48.6035</td>\n",
       "      <td>-59.8818</td>\n",
       "      <td>10710.1288</td>\n",
       "    </tr>\n",
       "    <tr>\n",
       "      <th>2017-11-30</th>\n",
       "      <td>10623.2002</td>\n",
       "      <td>10650.1797</td>\n",
       "      <td>10560.4404</td>\n",
       "      <td>10560.4404</td>\n",
       "      <td>10560.4404</td>\n",
       "      <td>4939100</td>\n",
       "      <td>0</td>\n",
       "      <td>37.5687</td>\n",
       "      <td>-100.0000</td>\n",
       "      <td>10715.7507</td>\n",
       "    </tr>\n",
       "    <tr>\n",
       "      <th>2017-12-01</th>\n",
       "      <td>10591.6201</td>\n",
       "      <td>10665.9199</td>\n",
       "      <td>10495.1504</td>\n",
       "      <td>10600.3701</td>\n",
       "      <td>10600.3701</td>\n",
       "      <td>3776200</td>\n",
       "      <td>0</td>\n",
       "      <td>41.3110</td>\n",
       "      <td>-72.8465</td>\n",
       "      <td>10719.0485</td>\n",
       "    </tr>\n",
       "  </tbody>\n",
       "</table>\n",
       "</div>"
      ],
      "text/plain": [
       "                 Open       High        Low      Close  Adj Close   Volume  \\\n",
       "Date                                                                         \n",
       "2017-11-27 10836.8203 10856.0000 10746.7402 10750.9297 10750.9297  2668100   \n",
       "2017-11-28 10733.5596 10752.5801 10692.5303 10707.0703 10707.0703  2961000   \n",
       "2017-11-29 10735.2402 10762.9102 10697.6201 10713.5498 10713.5498  3096300   \n",
       "2017-11-30 10623.2002 10650.1797 10560.4404 10560.4404 10560.4404  4939100   \n",
       "2017-12-01 10591.6201 10665.9199 10495.1504 10600.3701 10600.3701  3776200   \n",
       "\n",
       "            triple_barrier_signal     RSI  Williams %R        SMA  \n",
       "Date                                                               \n",
       "2017-11-27                     -1 51.8056     -46.6449 10690.6778  \n",
       "2017-11-28                     -1 48.0033     -62.1763 10699.9556  \n",
       "2017-11-29                     -1 48.6035     -59.8818 10710.1288  \n",
       "2017-11-30                      0 37.5687    -100.0000 10715.7507  \n",
       "2017-12-01                      0 41.3110     -72.8465 10719.0485  "
      ]
     },
     "execution_count": 225,
     "metadata": {},
     "output_type": "execute_result"
    },
    {
     "data": {
      "image/png": "[encoded data removed]",
      "text/plain": [
       "<Figure size 640x480 with 1 Axes>"
      ]
     },
     "metadata": {},
     "output_type": "display_data"
    }
   ],
   "source": [
    "df['SMA'] = TA.SMA(ohlcv)\n",
    "print(df['SMA'].describe())\n",
    "sns.distplot(df['SMA'].dropna())\n",
    "df.tail()"
   ]
  },
  {
   "cell_type": "markdown",
   "metadata": {
    "id": "a2Mf0ckEoHC_"
   },
   "source": [
    "# EMA"
   ]
  },
  {
   "cell_type": "code",
   "execution_count": 226,
   "metadata": {
    "colab": {
     "base_uri": "https://localhost:8080/",
     "height": 710
    },
    "id": "EQlFyJLeh4WA",
    "outputId": "2e855f69-5432-41fa-9ccc-7c9737057f2c"
   },
   "outputs": [
    {
     "name": "stdout",
     "output_type": "stream",
     "text": [
      "count    2440.0000\n",
      "mean     8182.3706\n",
      "std      1246.7141\n",
      "min      4300.8002\n",
      "25%      7563.2029\n",
      "50%      8249.9663\n",
      "75%      8976.0160\n",
      "max     10791.8770\n",
      "Name: EMA, dtype: float64\n"
     ]
    },
    {
     "name": "stderr",
     "output_type": "stream",
     "text": [
      "C:\\Users\\Administrator\\AppData\\Local\\Temp\\ipykernel_14188\\3115164127.py:1: SettingWithCopyWarning: \n",
      "A value is trying to be set on a copy of a slice from a DataFrame.\n",
      "Try using .loc[row_indexer,col_indexer] = value instead\n",
      "\n",
      "See the caveats in the documentation: https://pandas.pydata.org/pandas-docs/stable/user_guide/indexing.html#returning-a-view-versus-a-copy\n",
      "  df['EMA'] = TA.EMA(ohlcv)\n",
      "c:\\Users\\Administrator\\anaconda3\\lib\\site-packages\\seaborn\\distributions.py:2619: FutureWarning: `distplot` is a deprecated function and will be removed in a future version. Please adapt your code to use either `displot` (a figure-level function with similar flexibility) or `histplot` (an axes-level function for histograms).\n",
      "  warnings.warn(msg, FutureWarning)\n"
     ]
    },
    {
     "data": {
      "text/html": [
       "<div>\n",
       "<style scoped>\n",
       "    .dataframe tbody tr th:only-of-type {\n",
       "        vertical-align: middle;\n",
       "    }\n",
       "\n",
       "    .dataframe tbody tr th {\n",
       "        vertical-align: top;\n",
       "    }\n",
       "\n",
       "    .dataframe thead th {\n",
       "        text-align: right;\n",
       "    }\n",
       "</style>\n",
       "<table border=\"1\" class=\"dataframe\">\n",
       "  <thead>\n",
       "    <tr style=\"text-align: right;\">\n",
       "      <th></th>\n",
       "      <th>Open</th>\n",
       "      <th>High</th>\n",
       "      <th>Low</th>\n",
       "      <th>Close</th>\n",
       "      <th>Adj Close</th>\n",
       "      <th>Volume</th>\n",
       "      <th>triple_barrier_signal</th>\n",
       "      <th>RSI</th>\n",
       "      <th>Williams %R</th>\n",
       "      <th>SMA</th>\n",
       "      <th>EMA</th>\n",
       "    </tr>\n",
       "    <tr>\n",
       "      <th>Date</th>\n",
       "      <th></th>\n",
       "      <th></th>\n",
       "      <th></th>\n",
       "      <th></th>\n",
       "      <th></th>\n",
       "      <th></th>\n",
       "      <th></th>\n",
       "      <th></th>\n",
       "      <th></th>\n",
       "      <th></th>\n",
       "      <th></th>\n",
       "    </tr>\n",
       "  </thead>\n",
       "  <tbody>\n",
       "    <tr>\n",
       "      <th>2017-11-27</th>\n",
       "      <td>10836.8203</td>\n",
       "      <td>10856.0000</td>\n",
       "      <td>10746.7402</td>\n",
       "      <td>10750.9297</td>\n",
       "      <td>10750.9297</td>\n",
       "      <td>2668100</td>\n",
       "      <td>-1</td>\n",
       "      <td>51.8056</td>\n",
       "      <td>-46.6449</td>\n",
       "      <td>10690.6778</td>\n",
       "      <td>10771.4790</td>\n",
       "    </tr>\n",
       "    <tr>\n",
       "      <th>2017-11-28</th>\n",
       "      <td>10733.5596</td>\n",
       "      <td>10752.5801</td>\n",
       "      <td>10692.5303</td>\n",
       "      <td>10707.0703</td>\n",
       "      <td>10707.0703</td>\n",
       "      <td>2961000</td>\n",
       "      <td>-1</td>\n",
       "      <td>48.0033</td>\n",
       "      <td>-62.1763</td>\n",
       "      <td>10699.9556</td>\n",
       "      <td>10758.5973</td>\n",
       "    </tr>\n",
       "    <tr>\n",
       "      <th>2017-11-29</th>\n",
       "      <td>10735.2402</td>\n",
       "      <td>10762.9102</td>\n",
       "      <td>10697.6201</td>\n",
       "      <td>10713.5498</td>\n",
       "      <td>10713.5498</td>\n",
       "      <td>3096300</td>\n",
       "      <td>-1</td>\n",
       "      <td>48.6035</td>\n",
       "      <td>-59.8818</td>\n",
       "      <td>10710.1288</td>\n",
       "      <td>10749.5878</td>\n",
       "    </tr>\n",
       "    <tr>\n",
       "      <th>2017-11-30</th>\n",
       "      <td>10623.2002</td>\n",
       "      <td>10650.1797</td>\n",
       "      <td>10560.4404</td>\n",
       "      <td>10560.4404</td>\n",
       "      <td>10560.4404</td>\n",
       "      <td>4939100</td>\n",
       "      <td>0</td>\n",
       "      <td>37.5687</td>\n",
       "      <td>-100.0000</td>\n",
       "      <td>10715.7507</td>\n",
       "      <td>10711.7583</td>\n",
       "    </tr>\n",
       "    <tr>\n",
       "      <th>2017-12-01</th>\n",
       "      <td>10591.6201</td>\n",
       "      <td>10665.9199</td>\n",
       "      <td>10495.1504</td>\n",
       "      <td>10600.3701</td>\n",
       "      <td>10600.3701</td>\n",
       "      <td>3776200</td>\n",
       "      <td>0</td>\n",
       "      <td>41.3110</td>\n",
       "      <td>-72.8465</td>\n",
       "      <td>10719.0485</td>\n",
       "      <td>10689.4807</td>\n",
       "    </tr>\n",
       "  </tbody>\n",
       "</table>\n",
       "</div>"
      ],
      "text/plain": [
       "                 Open       High        Low      Close  Adj Close   Volume  \\\n",
       "Date                                                                         \n",
       "2017-11-27 10836.8203 10856.0000 10746.7402 10750.9297 10750.9297  2668100   \n",
       "2017-11-28 10733.5596 10752.5801 10692.5303 10707.0703 10707.0703  2961000   \n",
       "2017-11-29 10735.2402 10762.9102 10697.6201 10713.5498 10713.5498  3096300   \n",
       "2017-11-30 10623.2002 10650.1797 10560.4404 10560.4404 10560.4404  4939100   \n",
       "2017-12-01 10591.6201 10665.9199 10495.1504 10600.3701 10600.3701  3776200   \n",
       "\n",
       "            triple_barrier_signal     RSI  Williams %R        SMA        EMA  \n",
       "Date                                                                          \n",
       "2017-11-27                     -1 51.8056     -46.6449 10690.6778 10771.4790  \n",
       "2017-11-28                     -1 48.0033     -62.1763 10699.9556 10758.5973  \n",
       "2017-11-29                     -1 48.6035     -59.8818 10710.1288 10749.5878  \n",
       "2017-11-30                      0 37.5687    -100.0000 10715.7507 10711.7583  \n",
       "2017-12-01                      0 41.3110     -72.8465 10719.0485 10689.4807  "
      ]
     },
     "execution_count": 226,
     "metadata": {},
     "output_type": "execute_result"
    },
    {
     "data": {
      "image/png": "[encoded data removed]",
      "text/plain": [
       "<Figure size 640x480 with 1 Axes>"
      ]
     },
     "metadata": {},
     "output_type": "display_data"
    }
   ],
   "source": [
    "df['EMA'] = TA.EMA(ohlcv)\n",
    "print(df['EMA'].describe())\n",
    "sns.distplot(df['EMA'])\n",
    "df.tail()"
   ]
  },
  {
   "cell_type": "markdown",
   "metadata": {
    "id": "wqkaWfQryV3W"
   },
   "source": [
    "# WMA"
   ]
  },
  {
   "cell_type": "code",
   "execution_count": 227,
   "metadata": {
    "colab": {
     "base_uri": "https://localhost:8080/",
     "height": 859
    },
    "id": "9Dw9scCSieLI",
    "outputId": "1cd9b6c0-1ff1-46a1-f108-4e8f7ccbf7ca"
   },
   "outputs": [
    {
     "name": "stdout",
     "output_type": "stream",
     "text": [
      "count    2432.0000\n",
      "mean     8183.9337\n",
      "std      1253.1930\n",
      "min      4234.7189\n",
      "25%      7560.7884\n",
      "50%      8256.4287\n",
      "75%      8994.1397\n",
      "max     10803.8627\n",
      "Name: WMA, dtype: float64\n"
     ]
    },
    {
     "name": "stderr",
     "output_type": "stream",
     "text": [
      "C:\\Users\\Administrator\\AppData\\Local\\Temp\\ipykernel_14188\\1037319935.py:1: SettingWithCopyWarning: \n",
      "A value is trying to be set on a copy of a slice from a DataFrame.\n",
      "Try using .loc[row_indexer,col_indexer] = value instead\n",
      "\n",
      "See the caveats in the documentation: https://pandas.pydata.org/pandas-docs/stable/user_guide/indexing.html#returning-a-view-versus-a-copy\n",
      "  df['WMA'] = TA.WMA(ohlcv)\n",
      "c:\\Users\\Administrator\\anaconda3\\lib\\site-packages\\seaborn\\distributions.py:2619: FutureWarning: `distplot` is a deprecated function and will be removed in a future version. Please adapt your code to use either `displot` (a figure-level function with similar flexibility) or `histplot` (an axes-level function for histograms).\n",
      "  warnings.warn(msg, FutureWarning)\n"
     ]
    },
    {
     "data": {
      "text/html": [
       "<div>\n",
       "<style scoped>\n",
       "    .dataframe tbody tr th:only-of-type {\n",
       "        vertical-align: middle;\n",
       "    }\n",
       "\n",
       "    .dataframe tbody tr th {\n",
       "        vertical-align: top;\n",
       "    }\n",
       "\n",
       "    .dataframe thead th {\n",
       "        text-align: right;\n",
       "    }\n",
       "</style>\n",
       "<table border=\"1\" class=\"dataframe\">\n",
       "  <thead>\n",
       "    <tr style=\"text-align: right;\">\n",
       "      <th></th>\n",
       "      <th>Open</th>\n",
       "      <th>High</th>\n",
       "      <th>Low</th>\n",
       "      <th>Close</th>\n",
       "      <th>Adj Close</th>\n",
       "      <th>Volume</th>\n",
       "      <th>triple_barrier_signal</th>\n",
       "      <th>RSI</th>\n",
       "      <th>Williams %R</th>\n",
       "      <th>SMA</th>\n",
       "      <th>EMA</th>\n",
       "      <th>WMA</th>\n",
       "    </tr>\n",
       "    <tr>\n",
       "      <th>Date</th>\n",
       "      <th></th>\n",
       "      <th></th>\n",
       "      <th></th>\n",
       "      <th></th>\n",
       "      <th></th>\n",
       "      <th></th>\n",
       "      <th></th>\n",
       "      <th></th>\n",
       "      <th></th>\n",
       "      <th></th>\n",
       "      <th></th>\n",
       "      <th></th>\n",
       "    </tr>\n",
       "  </thead>\n",
       "  <tbody>\n",
       "    <tr>\n",
       "      <th>2017-11-27</th>\n",
       "      <td>10836.8203</td>\n",
       "      <td>10856.0000</td>\n",
       "      <td>10746.7402</td>\n",
       "      <td>10750.9297</td>\n",
       "      <td>10750.9297</td>\n",
       "      <td>2668100</td>\n",
       "      <td>-1</td>\n",
       "      <td>51.8056</td>\n",
       "      <td>-46.6449</td>\n",
       "      <td>10690.6778</td>\n",
       "      <td>10771.4790</td>\n",
       "      <td>10778.8593</td>\n",
       "    </tr>\n",
       "    <tr>\n",
       "      <th>2017-11-28</th>\n",
       "      <td>10733.5596</td>\n",
       "      <td>10752.5801</td>\n",
       "      <td>10692.5303</td>\n",
       "      <td>10707.0703</td>\n",
       "      <td>10707.0703</td>\n",
       "      <td>2961000</td>\n",
       "      <td>-1</td>\n",
       "      <td>48.0033</td>\n",
       "      <td>-62.1763</td>\n",
       "      <td>10699.9556</td>\n",
       "      <td>10758.5973</td>\n",
       "      <td>10771.7556</td>\n",
       "    </tr>\n",
       "    <tr>\n",
       "      <th>2017-11-29</th>\n",
       "      <td>10735.2402</td>\n",
       "      <td>10762.9102</td>\n",
       "      <td>10697.6201</td>\n",
       "      <td>10713.5498</td>\n",
       "      <td>10713.5498</td>\n",
       "      <td>3096300</td>\n",
       "      <td>-1</td>\n",
       "      <td>48.6035</td>\n",
       "      <td>-59.8818</td>\n",
       "      <td>10710.1288</td>\n",
       "      <td>10749.5878</td>\n",
       "      <td>10764.2495</td>\n",
       "    </tr>\n",
       "    <tr>\n",
       "      <th>2017-11-30</th>\n",
       "      <td>10623.2002</td>\n",
       "      <td>10650.1797</td>\n",
       "      <td>10560.4404</td>\n",
       "      <td>10560.4404</td>\n",
       "      <td>10560.4404</td>\n",
       "      <td>4939100</td>\n",
       "      <td>0</td>\n",
       "      <td>37.5687</td>\n",
       "      <td>-100.0000</td>\n",
       "      <td>10715.7507</td>\n",
       "      <td>10711.7583</td>\n",
       "      <td>10724.1547</td>\n",
       "    </tr>\n",
       "    <tr>\n",
       "      <th>2017-12-01</th>\n",
       "      <td>10591.6201</td>\n",
       "      <td>10665.9199</td>\n",
       "      <td>10495.1504</td>\n",
       "      <td>10600.3701</td>\n",
       "      <td>10600.3701</td>\n",
       "      <td>3776200</td>\n",
       "      <td>0</td>\n",
       "      <td>41.3110</td>\n",
       "      <td>-72.8465</td>\n",
       "      <td>10719.0485</td>\n",
       "      <td>10689.4807</td>\n",
       "      <td>10695.1836</td>\n",
       "    </tr>\n",
       "  </tbody>\n",
       "</table>\n",
       "</div>"
      ],
      "text/plain": [
       "                 Open       High        Low      Close  Adj Close   Volume  \\\n",
       "Date                                                                         \n",
       "2017-11-27 10836.8203 10856.0000 10746.7402 10750.9297 10750.9297  2668100   \n",
       "2017-11-28 10733.5596 10752.5801 10692.5303 10707.0703 10707.0703  2961000   \n",
       "2017-11-29 10735.2402 10762.9102 10697.6201 10713.5498 10713.5498  3096300   \n",
       "2017-11-30 10623.2002 10650.1797 10560.4404 10560.4404 10560.4404  4939100   \n",
       "2017-12-01 10591.6201 10665.9199 10495.1504 10600.3701 10600.3701  3776200   \n",
       "\n",
       "            triple_barrier_signal     RSI  Williams %R        SMA        EMA  \\\n",
       "Date                                                                           \n",
       "2017-11-27                     -1 51.8056     -46.6449 10690.6778 10771.4790   \n",
       "2017-11-28                     -1 48.0033     -62.1763 10699.9556 10758.5973   \n",
       "2017-11-29                     -1 48.6035     -59.8818 10710.1288 10749.5878   \n",
       "2017-11-30                      0 37.5687    -100.0000 10715.7507 10711.7583   \n",
       "2017-12-01                      0 41.3110     -72.8465 10719.0485 10689.4807   \n",
       "\n",
       "                  WMA  \n",
       "Date                   \n",
       "2017-11-27 10778.8593  \n",
       "2017-11-28 10771.7556  \n",
       "2017-11-29 10764.2495  \n",
       "2017-11-30 10724.1547  \n",
       "2017-12-01 10695.1836  "
      ]
     },
     "execution_count": 227,
     "metadata": {},
     "output_type": "execute_result"
    },
    {
     "data": {
      "image/png": "[encoded data removed]",
      "text/plain": [
       "<Figure size 640x480 with 1 Axes>"
      ]
     },
     "metadata": {},
     "output_type": "display_data"
    }
   ],
   "source": [
    "df['WMA'] = TA.WMA(ohlcv)\n",
    "print(df['WMA'].describe())\n",
    "sns.distplot(df['WMA'].dropna())\n",
    "df.tail()"
   ]
  },
  {
   "cell_type": "markdown",
   "metadata": {
    "id": "HNC131ghyrF1"
   },
   "source": [
    "# HMA"
   ]
  },
  {
   "cell_type": "code",
   "execution_count": 228,
   "metadata": {
    "colab": {
     "base_uri": "https://localhost:8080/",
     "height": 861
    },
    "id": "b02O6Yevi6mN",
    "outputId": "e65d2e1e-055f-4536-ad08-7204247bc397"
   },
   "outputs": [
    {
     "name": "stdout",
     "output_type": "stream",
     "text": [
      "count    2422.0000\n",
      "mean     8186.7117\n",
      "std      1264.6263\n",
      "min      4094.4014\n",
      "25%      7548.7275\n",
      "50%      8279.0542\n",
      "75%      9011.3992\n",
      "max     10819.7084\n",
      "Name: HMA, dtype: float64\n"
     ]
    },
    {
     "name": "stderr",
     "output_type": "stream",
     "text": [
      "C:\\Users\\Administrator\\AppData\\Local\\Temp\\ipykernel_14188\\1554131951.py:1: SettingWithCopyWarning: \n",
      "A value is trying to be set on a copy of a slice from a DataFrame.\n",
      "Try using .loc[row_indexer,col_indexer] = value instead\n",
      "\n",
      "See the caveats in the documentation: https://pandas.pydata.org/pandas-docs/stable/user_guide/indexing.html#returning-a-view-versus-a-copy\n",
      "  df['HMA'] = TA.HMA(ohlcv)\n",
      "c:\\Users\\Administrator\\anaconda3\\lib\\site-packages\\seaborn\\distributions.py:2619: FutureWarning: `distplot` is a deprecated function and will be removed in a future version. Please adapt your code to use either `displot` (a figure-level function with similar flexibility) or `histplot` (an axes-level function for histograms).\n",
      "  warnings.warn(msg, FutureWarning)\n"
     ]
    },
    {
     "data": {
      "text/html": [
       "<div>\n",
       "<style scoped>\n",
       "    .dataframe tbody tr th:only-of-type {\n",
       "        vertical-align: middle;\n",
       "    }\n",
       "\n",
       "    .dataframe tbody tr th {\n",
       "        vertical-align: top;\n",
       "    }\n",
       "\n",
       "    .dataframe thead th {\n",
       "        text-align: right;\n",
       "    }\n",
       "</style>\n",
       "<table border=\"1\" class=\"dataframe\">\n",
       "  <thead>\n",
       "    <tr style=\"text-align: right;\">\n",
       "      <th></th>\n",
       "      <th>Open</th>\n",
       "      <th>High</th>\n",
       "      <th>Low</th>\n",
       "      <th>Close</th>\n",
       "      <th>Adj Close</th>\n",
       "      <th>Volume</th>\n",
       "      <th>triple_barrier_signal</th>\n",
       "      <th>RSI</th>\n",
       "      <th>Williams %R</th>\n",
       "      <th>SMA</th>\n",
       "      <th>EMA</th>\n",
       "      <th>WMA</th>\n",
       "      <th>HMA</th>\n",
       "    </tr>\n",
       "    <tr>\n",
       "      <th>Date</th>\n",
       "      <th></th>\n",
       "      <th></th>\n",
       "      <th></th>\n",
       "      <th></th>\n",
       "      <th></th>\n",
       "      <th></th>\n",
       "      <th></th>\n",
       "      <th></th>\n",
       "      <th></th>\n",
       "      <th></th>\n",
       "      <th></th>\n",
       "      <th></th>\n",
       "      <th></th>\n",
       "    </tr>\n",
       "  </thead>\n",
       "  <tbody>\n",
       "    <tr>\n",
       "      <th>2017-11-27</th>\n",
       "      <td>10836.8203</td>\n",
       "      <td>10856.0000</td>\n",
       "      <td>10746.7402</td>\n",
       "      <td>10750.9297</td>\n",
       "      <td>10750.9297</td>\n",
       "      <td>2668100</td>\n",
       "      <td>-1</td>\n",
       "      <td>51.8056</td>\n",
       "      <td>-46.6449</td>\n",
       "      <td>10690.6778</td>\n",
       "      <td>10771.4790</td>\n",
       "      <td>10778.8593</td>\n",
       "      <td>10801.4256</td>\n",
       "    </tr>\n",
       "    <tr>\n",
       "      <th>2017-11-28</th>\n",
       "      <td>10733.5596</td>\n",
       "      <td>10752.5801</td>\n",
       "      <td>10692.5303</td>\n",
       "      <td>10707.0703</td>\n",
       "      <td>10707.0703</td>\n",
       "      <td>2961000</td>\n",
       "      <td>-1</td>\n",
       "      <td>48.0033</td>\n",
       "      <td>-62.1763</td>\n",
       "      <td>10699.9556</td>\n",
       "      <td>10758.5973</td>\n",
       "      <td>10771.7556</td>\n",
       "      <td>10810.8021</td>\n",
       "    </tr>\n",
       "    <tr>\n",
       "      <th>2017-11-29</th>\n",
       "      <td>10735.2402</td>\n",
       "      <td>10762.9102</td>\n",
       "      <td>10697.6201</td>\n",
       "      <td>10713.5498</td>\n",
       "      <td>10713.5498</td>\n",
       "      <td>3096300</td>\n",
       "      <td>-1</td>\n",
       "      <td>48.6035</td>\n",
       "      <td>-59.8818</td>\n",
       "      <td>10710.1288</td>\n",
       "      <td>10749.5878</td>\n",
       "      <td>10764.2495</td>\n",
       "      <td>10803.1265</td>\n",
       "    </tr>\n",
       "    <tr>\n",
       "      <th>2017-11-30</th>\n",
       "      <td>10623.2002</td>\n",
       "      <td>10650.1797</td>\n",
       "      <td>10560.4404</td>\n",
       "      <td>10560.4404</td>\n",
       "      <td>10560.4404</td>\n",
       "      <td>4939100</td>\n",
       "      <td>0</td>\n",
       "      <td>37.5687</td>\n",
       "      <td>-100.0000</td>\n",
       "      <td>10715.7507</td>\n",
       "      <td>10711.7583</td>\n",
       "      <td>10724.1547</td>\n",
       "      <td>10765.3660</td>\n",
       "    </tr>\n",
       "    <tr>\n",
       "      <th>2017-12-01</th>\n",
       "      <td>10591.6201</td>\n",
       "      <td>10665.9199</td>\n",
       "      <td>10495.1504</td>\n",
       "      <td>10600.3701</td>\n",
       "      <td>10600.3701</td>\n",
       "      <td>3776200</td>\n",
       "      <td>0</td>\n",
       "      <td>41.3110</td>\n",
       "      <td>-72.8465</td>\n",
       "      <td>10719.0485</td>\n",
       "      <td>10689.4807</td>\n",
       "      <td>10695.1836</td>\n",
       "      <td>10716.1467</td>\n",
       "    </tr>\n",
       "  </tbody>\n",
       "</table>\n",
       "</div>"
      ],
      "text/plain": [
       "                 Open       High        Low      Close  Adj Close   Volume  \\\n",
       "Date                                                                         \n",
       "2017-11-27 10836.8203 10856.0000 10746.7402 10750.9297 10750.9297  2668100   \n",
       "2017-11-28 10733.5596 10752.5801 10692.5303 10707.0703 10707.0703  2961000   \n",
       "2017-11-29 10735.2402 10762.9102 10697.6201 10713.5498 10713.5498  3096300   \n",
       "2017-11-30 10623.2002 10650.1797 10560.4404 10560.4404 10560.4404  4939100   \n",
       "2017-12-01 10591.6201 10665.9199 10495.1504 10600.3701 10600.3701  3776200   \n",
       "\n",
       "            triple_barrier_signal     RSI  Williams %R        SMA        EMA  \\\n",
       "Date                                                                           \n",
       "2017-11-27                     -1 51.8056     -46.6449 10690.6778 10771.4790   \n",
       "2017-11-28                     -1 48.0033     -62.1763 10699.9556 10758.5973   \n",
       "2017-11-29                     -1 48.6035     -59.8818 10710.1288 10749.5878   \n",
       "2017-11-30                      0 37.5687    -100.0000 10715.7507 10711.7583   \n",
       "2017-12-01                      0 41.3110     -72.8465 10719.0485 10689.4807   \n",
       "\n",
       "                  WMA        HMA  \n",
       "Date                              \n",
       "2017-11-27 10778.8593 10801.4256  \n",
       "2017-11-28 10771.7556 10810.8021  \n",
       "2017-11-29 10764.2495 10803.1265  \n",
       "2017-11-30 10724.1547 10765.3660  \n",
       "2017-12-01 10695.1836 10716.1467  "
      ]
     },
     "execution_count": 228,
     "metadata": {},
     "output_type": "execute_result"
    },
    {
     "data": {
      "image/png": "[encoded data removed]",
      "text/plain": [
       "<Figure size 640x480 with 1 Axes>"
      ]
     },
     "metadata": {},
     "output_type": "display_data"
    }
   ],
   "source": [
    "df['HMA'] = TA.HMA(ohlcv)\n",
    "print(df['HMA'].describe())\n",
    "sns.distplot(df['HMA'].dropna())\n",
    "df.tail()"
   ]
  },
  {
   "cell_type": "markdown",
   "metadata": {
    "id": "ch7SZ7aFjCit"
   },
   "source": [
    "# TEMA"
   ]
  },
  {
   "cell_type": "code",
   "execution_count": 229,
   "metadata": {
    "colab": {
     "base_uri": "https://localhost:8080/",
     "height": 859
    },
    "id": "GeS0aHxZjFtA",
    "outputId": "27b87182-1793-484a-e6ad-f1cd98eff6db"
   },
   "outputs": [
    {
     "name": "stdout",
     "output_type": "stream",
     "text": [
      "count    2440.0000\n",
      "mean     8186.5381\n",
      "std      1258.8024\n",
      "min      4104.9841\n",
      "25%      7555.0573\n",
      "50%      8274.7014\n",
      "75%      8999.6324\n",
      "max     10844.0101\n",
      "Name: TEMA, dtype: float64\n"
     ]
    },
    {
     "name": "stderr",
     "output_type": "stream",
     "text": [
      "C:\\Users\\Administrator\\AppData\\Local\\Temp\\ipykernel_14188\\348095914.py:1: SettingWithCopyWarning: \n",
      "A value is trying to be set on a copy of a slice from a DataFrame.\n",
      "Try using .loc[row_indexer,col_indexer] = value instead\n",
      "\n",
      "See the caveats in the documentation: https://pandas.pydata.org/pandas-docs/stable/user_guide/indexing.html#returning-a-view-versus-a-copy\n",
      "  df['TEMA'] = TA.TEMA(ohlcv)\n",
      "c:\\Users\\Administrator\\anaconda3\\lib\\site-packages\\seaborn\\distributions.py:2619: FutureWarning: `distplot` is a deprecated function and will be removed in a future version. Please adapt your code to use either `displot` (a figure-level function with similar flexibility) or `histplot` (an axes-level function for histograms).\n",
      "  warnings.warn(msg, FutureWarning)\n"
     ]
    },
    {
     "data": {
      "text/html": [
       "<div>\n",
       "<style scoped>\n",
       "    .dataframe tbody tr th:only-of-type {\n",
       "        vertical-align: middle;\n",
       "    }\n",
       "\n",
       "    .dataframe tbody tr th {\n",
       "        vertical-align: top;\n",
       "    }\n",
       "\n",
       "    .dataframe thead th {\n",
       "        text-align: right;\n",
       "    }\n",
       "</style>\n",
       "<table border=\"1\" class=\"dataframe\">\n",
       "  <thead>\n",
       "    <tr style=\"text-align: right;\">\n",
       "      <th></th>\n",
       "      <th>Open</th>\n",
       "      <th>High</th>\n",
       "      <th>Low</th>\n",
       "      <th>Close</th>\n",
       "      <th>Adj Close</th>\n",
       "      <th>Volume</th>\n",
       "      <th>triple_barrier_signal</th>\n",
       "      <th>RSI</th>\n",
       "      <th>Williams %R</th>\n",
       "      <th>SMA</th>\n",
       "      <th>EMA</th>\n",
       "      <th>WMA</th>\n",
       "      <th>HMA</th>\n",
       "      <th>TEMA</th>\n",
       "    </tr>\n",
       "    <tr>\n",
       "      <th>Date</th>\n",
       "      <th></th>\n",
       "      <th></th>\n",
       "      <th></th>\n",
       "      <th></th>\n",
       "      <th></th>\n",
       "      <th></th>\n",
       "      <th></th>\n",
       "      <th></th>\n",
       "      <th></th>\n",
       "      <th></th>\n",
       "      <th></th>\n",
       "      <th></th>\n",
       "      <th></th>\n",
       "      <th></th>\n",
       "    </tr>\n",
       "  </thead>\n",
       "  <tbody>\n",
       "    <tr>\n",
       "      <th>2017-11-27</th>\n",
       "      <td>10836.8203</td>\n",
       "      <td>10856.0000</td>\n",
       "      <td>10746.7402</td>\n",
       "      <td>10750.9297</td>\n",
       "      <td>10750.9297</td>\n",
       "      <td>2668100</td>\n",
       "      <td>-1</td>\n",
       "      <td>51.8056</td>\n",
       "      <td>-46.6449</td>\n",
       "      <td>10690.6778</td>\n",
       "      <td>10771.4790</td>\n",
       "      <td>10778.8593</td>\n",
       "      <td>10801.4256</td>\n",
       "      <td>10812.0876</td>\n",
       "    </tr>\n",
       "    <tr>\n",
       "      <th>2017-11-28</th>\n",
       "      <td>10733.5596</td>\n",
       "      <td>10752.5801</td>\n",
       "      <td>10692.5303</td>\n",
       "      <td>10707.0703</td>\n",
       "      <td>10707.0703</td>\n",
       "      <td>2961000</td>\n",
       "      <td>-1</td>\n",
       "      <td>48.0033</td>\n",
       "      <td>-62.1763</td>\n",
       "      <td>10699.9556</td>\n",
       "      <td>10758.5973</td>\n",
       "      <td>10771.7556</td>\n",
       "      <td>10810.8021</td>\n",
       "      <td>10768.4651</td>\n",
       "    </tr>\n",
       "    <tr>\n",
       "      <th>2017-11-29</th>\n",
       "      <td>10735.2402</td>\n",
       "      <td>10762.9102</td>\n",
       "      <td>10697.6201</td>\n",
       "      <td>10713.5498</td>\n",
       "      <td>10713.5498</td>\n",
       "      <td>3096300</td>\n",
       "      <td>-1</td>\n",
       "      <td>48.6035</td>\n",
       "      <td>-59.8818</td>\n",
       "      <td>10710.1288</td>\n",
       "      <td>10749.5878</td>\n",
       "      <td>10764.2495</td>\n",
       "      <td>10803.1265</td>\n",
       "      <td>10742.9017</td>\n",
       "    </tr>\n",
       "    <tr>\n",
       "      <th>2017-11-30</th>\n",
       "      <td>10623.2002</td>\n",
       "      <td>10650.1797</td>\n",
       "      <td>10560.4404</td>\n",
       "      <td>10560.4404</td>\n",
       "      <td>10560.4404</td>\n",
       "      <td>4939100</td>\n",
       "      <td>0</td>\n",
       "      <td>37.5687</td>\n",
       "      <td>-100.0000</td>\n",
       "      <td>10715.7507</td>\n",
       "      <td>10711.7583</td>\n",
       "      <td>10724.1547</td>\n",
       "      <td>10765.3660</td>\n",
       "      <td>10651.8030</td>\n",
       "    </tr>\n",
       "    <tr>\n",
       "      <th>2017-12-01</th>\n",
       "      <td>10591.6201</td>\n",
       "      <td>10665.9199</td>\n",
       "      <td>10495.1504</td>\n",
       "      <td>10600.3701</td>\n",
       "      <td>10600.3701</td>\n",
       "      <td>3776200</td>\n",
       "      <td>0</td>\n",
       "      <td>41.3110</td>\n",
       "      <td>-72.8465</td>\n",
       "      <td>10719.0485</td>\n",
       "      <td>10689.4807</td>\n",
       "      <td>10695.1836</td>\n",
       "      <td>10716.1467</td>\n",
       "      <td>10614.1731</td>\n",
       "    </tr>\n",
       "  </tbody>\n",
       "</table>\n",
       "</div>"
      ],
      "text/plain": [
       "                 Open       High        Low      Close  Adj Close   Volume  \\\n",
       "Date                                                                         \n",
       "2017-11-27 10836.8203 10856.0000 10746.7402 10750.9297 10750.9297  2668100   \n",
       "2017-11-28 10733.5596 10752.5801 10692.5303 10707.0703 10707.0703  2961000   \n",
       "2017-11-29 10735.2402 10762.9102 10697.6201 10713.5498 10713.5498  3096300   \n",
       "2017-11-30 10623.2002 10650.1797 10560.4404 10560.4404 10560.4404  4939100   \n",
       "2017-12-01 10591.6201 10665.9199 10495.1504 10600.3701 10600.3701  3776200   \n",
       "\n",
       "            triple_barrier_signal     RSI  Williams %R        SMA        EMA  \\\n",
       "Date                                                                           \n",
       "2017-11-27                     -1 51.8056     -46.6449 10690.6778 10771.4790   \n",
       "2017-11-28                     -1 48.0033     -62.1763 10699.9556 10758.5973   \n",
       "2017-11-29                     -1 48.6035     -59.8818 10710.1288 10749.5878   \n",
       "2017-11-30                      0 37.5687    -100.0000 10715.7507 10711.7583   \n",
       "2017-12-01                      0 41.3110     -72.8465 10719.0485 10689.4807   \n",
       "\n",
       "                  WMA        HMA       TEMA  \n",
       "Date                                         \n",
       "2017-11-27 10778.8593 10801.4256 10812.0876  \n",
       "2017-11-28 10771.7556 10810.8021 10768.4651  \n",
       "2017-11-29 10764.2495 10803.1265 10742.9017  \n",
       "2017-11-30 10724.1547 10765.3660 10651.8030  \n",
       "2017-12-01 10695.1836 10716.1467 10614.1731  "
      ]
     },
     "execution_count": 229,
     "metadata": {},
     "output_type": "execute_result"
    },
    {
     "data": {
      "image/png": "[encoded data removed]",
      "text/plain": [
       "<Figure size 640x480 with 1 Axes>"
      ]
     },
     "metadata": {},
     "output_type": "display_data"
    }
   ],
   "source": [
    "df['TEMA'] = TA.TEMA(ohlcv)\n",
    "print(df['TEMA'].describe())\n",
    "sns.distplot(df['TEMA'].dropna())\n",
    "df.tail()"
   ]
  },
  {
   "cell_type": "markdown",
   "metadata": {
    "id": "EbMrqw5jjZaa"
   },
   "source": [
    "# CCI"
   ]
  },
  {
   "cell_type": "code",
   "execution_count": 230,
   "metadata": {
    "colab": {
     "base_uri": "https://localhost:8080/",
     "height": 859
    },
    "id": "WBfeDdkUjZiP",
    "outputId": "784c46f0-2257-4387-ba9b-e8b3968de529"
   },
   "outputs": [
    {
     "name": "stdout",
     "output_type": "stream",
     "text": [
      "count   2439.0000\n",
      "mean      14.9754\n",
      "std      110.5569\n",
      "min     -367.4168\n",
      "25%      -71.8450\n",
      "50%       33.6958\n",
      "75%      101.3122\n",
      "max      347.4393\n",
      "Name: CCI, dtype: float64\n"
     ]
    },
    {
     "name": "stderr",
     "output_type": "stream",
     "text": [
      "C:\\Users\\Administrator\\AppData\\Local\\Temp\\ipykernel_14188\\4109371288.py:1: SettingWithCopyWarning: \n",
      "A value is trying to be set on a copy of a slice from a DataFrame.\n",
      "Try using .loc[row_indexer,col_indexer] = value instead\n",
      "\n",
      "See the caveats in the documentation: https://pandas.pydata.org/pandas-docs/stable/user_guide/indexing.html#returning-a-view-versus-a-copy\n",
      "  df['CCI'] = TA.CCI(ohlcv)\n",
      "c:\\Users\\Administrator\\anaconda3\\lib\\site-packages\\seaborn\\distributions.py:2619: FutureWarning: `distplot` is a deprecated function and will be removed in a future version. Please adapt your code to use either `displot` (a figure-level function with similar flexibility) or `histplot` (an axes-level function for histograms).\n",
      "  warnings.warn(msg, FutureWarning)\n"
     ]
    },
    {
     "data": {
      "text/html": [
       "<div>\n",
       "<style scoped>\n",
       "    .dataframe tbody tr th:only-of-type {\n",
       "        vertical-align: middle;\n",
       "    }\n",
       "\n",
       "    .dataframe tbody tr th {\n",
       "        vertical-align: top;\n",
       "    }\n",
       "\n",
       "    .dataframe thead th {\n",
       "        text-align: right;\n",
       "    }\n",
       "</style>\n",
       "<table border=\"1\" class=\"dataframe\">\n",
       "  <thead>\n",
       "    <tr style=\"text-align: right;\">\n",
       "      <th></th>\n",
       "      <th>Open</th>\n",
       "      <th>High</th>\n",
       "      <th>Low</th>\n",
       "      <th>Close</th>\n",
       "      <th>Adj Close</th>\n",
       "      <th>Volume</th>\n",
       "      <th>triple_barrier_signal</th>\n",
       "      <th>RSI</th>\n",
       "      <th>Williams %R</th>\n",
       "      <th>SMA</th>\n",
       "      <th>EMA</th>\n",
       "      <th>WMA</th>\n",
       "      <th>HMA</th>\n",
       "      <th>TEMA</th>\n",
       "      <th>CCI</th>\n",
       "    </tr>\n",
       "    <tr>\n",
       "      <th>Date</th>\n",
       "      <th></th>\n",
       "      <th></th>\n",
       "      <th></th>\n",
       "      <th></th>\n",
       "      <th></th>\n",
       "      <th></th>\n",
       "      <th></th>\n",
       "      <th></th>\n",
       "      <th></th>\n",
       "      <th></th>\n",
       "      <th></th>\n",
       "      <th></th>\n",
       "      <th></th>\n",
       "      <th></th>\n",
       "      <th></th>\n",
       "    </tr>\n",
       "  </thead>\n",
       "  <tbody>\n",
       "    <tr>\n",
       "      <th>2017-11-27</th>\n",
       "      <td>10836.8203</td>\n",
       "      <td>10856.0000</td>\n",
       "      <td>10746.7402</td>\n",
       "      <td>10750.9297</td>\n",
       "      <td>10750.9297</td>\n",
       "      <td>2668100</td>\n",
       "      <td>-1</td>\n",
       "      <td>51.8056</td>\n",
       "      <td>-46.6449</td>\n",
       "      <td>10690.6778</td>\n",
       "      <td>10771.4790</td>\n",
       "      <td>10778.8593</td>\n",
       "      <td>10801.4256</td>\n",
       "      <td>10812.0876</td>\n",
       "      <td>24.3347</td>\n",
       "    </tr>\n",
       "    <tr>\n",
       "      <th>2017-11-28</th>\n",
       "      <td>10733.5596</td>\n",
       "      <td>10752.5801</td>\n",
       "      <td>10692.5303</td>\n",
       "      <td>10707.0703</td>\n",
       "      <td>10707.0703</td>\n",
       "      <td>2961000</td>\n",
       "      <td>-1</td>\n",
       "      <td>48.0033</td>\n",
       "      <td>-62.1763</td>\n",
       "      <td>10699.9556</td>\n",
       "      <td>10758.5973</td>\n",
       "      <td>10771.7556</td>\n",
       "      <td>10810.8021</td>\n",
       "      <td>10768.4651</td>\n",
       "      <td>-46.2921</td>\n",
       "    </tr>\n",
       "    <tr>\n",
       "      <th>2017-11-29</th>\n",
       "      <td>10735.2402</td>\n",
       "      <td>10762.9102</td>\n",
       "      <td>10697.6201</td>\n",
       "      <td>10713.5498</td>\n",
       "      <td>10713.5498</td>\n",
       "      <td>3096300</td>\n",
       "      <td>-1</td>\n",
       "      <td>48.6035</td>\n",
       "      <td>-59.8818</td>\n",
       "      <td>10710.1288</td>\n",
       "      <td>10749.5878</td>\n",
       "      <td>10764.2495</td>\n",
       "      <td>10803.1265</td>\n",
       "      <td>10742.9017</td>\n",
       "      <td>-33.9320</td>\n",
       "    </tr>\n",
       "    <tr>\n",
       "      <th>2017-11-30</th>\n",
       "      <td>10623.2002</td>\n",
       "      <td>10650.1797</td>\n",
       "      <td>10560.4404</td>\n",
       "      <td>10560.4404</td>\n",
       "      <td>10560.4404</td>\n",
       "      <td>4939100</td>\n",
       "      <td>0</td>\n",
       "      <td>37.5687</td>\n",
       "      <td>-100.0000</td>\n",
       "      <td>10715.7507</td>\n",
       "      <td>10711.7583</td>\n",
       "      <td>10724.1547</td>\n",
       "      <td>10765.3660</td>\n",
       "      <td>10651.8030</td>\n",
       "      <td>-157.8802</td>\n",
       "    </tr>\n",
       "    <tr>\n",
       "      <th>2017-12-01</th>\n",
       "      <td>10591.6201</td>\n",
       "      <td>10665.9199</td>\n",
       "      <td>10495.1504</td>\n",
       "      <td>10600.3701</td>\n",
       "      <td>10600.3701</td>\n",
       "      <td>3776200</td>\n",
       "      <td>0</td>\n",
       "      <td>41.3110</td>\n",
       "      <td>-72.8465</td>\n",
       "      <td>10719.0485</td>\n",
       "      <td>10689.4807</td>\n",
       "      <td>10695.1836</td>\n",
       "      <td>10716.1467</td>\n",
       "      <td>10614.1731</td>\n",
       "      <td>-141.5523</td>\n",
       "    </tr>\n",
       "  </tbody>\n",
       "</table>\n",
       "</div>"
      ],
      "text/plain": [
       "                 Open       High        Low      Close  Adj Close   Volume  \\\n",
       "Date                                                                         \n",
       "2017-11-27 10836.8203 10856.0000 10746.7402 10750.9297 10750.9297  2668100   \n",
       "2017-11-28 10733.5596 10752.5801 10692.5303 10707.0703 10707.0703  2961000   \n",
       "2017-11-29 10735.2402 10762.9102 10697.6201 10713.5498 10713.5498  3096300   \n",
       "2017-11-30 10623.2002 10650.1797 10560.4404 10560.4404 10560.4404  4939100   \n",
       "2017-12-01 10591.6201 10665.9199 10495.1504 10600.3701 10600.3701  3776200   \n",
       "\n",
       "            triple_barrier_signal     RSI  Williams %R        SMA        EMA  \\\n",
       "Date                                                                           \n",
       "2017-11-27                     -1 51.8056     -46.6449 10690.6778 10771.4790   \n",
       "2017-11-28                     -1 48.0033     -62.1763 10699.9556 10758.5973   \n",
       "2017-11-29                     -1 48.6035     -59.8818 10710.1288 10749.5878   \n",
       "2017-11-30                      0 37.5687    -100.0000 10715.7507 10711.7583   \n",
       "2017-12-01                      0 41.3110     -72.8465 10719.0485 10689.4807   \n",
       "\n",
       "                  WMA        HMA       TEMA       CCI  \n",
       "Date                                                   \n",
       "2017-11-27 10778.8593 10801.4256 10812.0876   24.3347  \n",
       "2017-11-28 10771.7556 10810.8021 10768.4651  -46.2921  \n",
       "2017-11-29 10764.2495 10803.1265 10742.9017  -33.9320  \n",
       "2017-11-30 10724.1547 10765.3660 10651.8030 -157.8802  \n",
       "2017-12-01 10695.1836 10716.1467 10614.1731 -141.5523  "
      ]
     },
     "execution_count": 230,
     "metadata": {},
     "output_type": "execute_result"
    },
    {
     "data": {
      "image/png": "[encoded data removed]",
      "text/plain": [
       "<Figure size 640x480 with 1 Axes>"
      ]
     },
     "metadata": {},
     "output_type": "display_data"
    }
   ],
   "source": [
    "df['CCI'] = TA.CCI(ohlcv)\n",
    "print(df['CCI'].describe())\n",
    "sns.distplot(df['CCI'].dropna())\n",
    "df.tail()"
   ]
  },
  {
   "cell_type": "markdown",
   "metadata": {
    "id": "G8rAJ61cjkJ4"
   },
   "source": [
    "# CMO"
   ]
  },
  {
   "cell_type": "code",
   "execution_count": 231,
   "metadata": {
    "colab": {
     "base_uri": "https://localhost:8080/",
     "height": 859
    },
    "id": "P9EispJmjkj_",
    "outputId": "8e3e772b-fbf8-4dfc-8221-2b5b24f9440e"
   },
   "outputs": [
    {
     "name": "stdout",
     "output_type": "stream",
     "text": [
      "count   2439.0000\n",
      "mean       5.4414\n",
      "std       29.5094\n",
      "min     -100.0000\n",
      "25%      -15.3229\n",
      "50%        8.3159\n",
      "75%       27.1838\n",
      "max       78.4165\n",
      "Name: CMO, dtype: float64\n"
     ]
    },
    {
     "name": "stderr",
     "output_type": "stream",
     "text": [
      "C:\\Users\\Administrator\\AppData\\Local\\Temp\\ipykernel_14188\\2048488867.py:1: SettingWithCopyWarning: \n",
      "A value is trying to be set on a copy of a slice from a DataFrame.\n",
      "Try using .loc[row_indexer,col_indexer] = value instead\n",
      "\n",
      "See the caveats in the documentation: https://pandas.pydata.org/pandas-docs/stable/user_guide/indexing.html#returning-a-view-versus-a-copy\n",
      "  df['CMO'] = TA.CMO(ohlcv)\n",
      "c:\\Users\\Administrator\\anaconda3\\lib\\site-packages\\seaborn\\distributions.py:2619: FutureWarning: `distplot` is a deprecated function and will be removed in a future version. Please adapt your code to use either `displot` (a figure-level function with similar flexibility) or `histplot` (an axes-level function for histograms).\n",
      "  warnings.warn(msg, FutureWarning)\n"
     ]
    },
    {
     "data": {
      "text/html": [
       "<div>\n",
       "<style scoped>\n",
       "    .dataframe tbody tr th:only-of-type {\n",
       "        vertical-align: middle;\n",
       "    }\n",
       "\n",
       "    .dataframe tbody tr th {\n",
       "        vertical-align: top;\n",
       "    }\n",
       "\n",
       "    .dataframe thead th {\n",
       "        text-align: right;\n",
       "    }\n",
       "</style>\n",
       "<table border=\"1\" class=\"dataframe\">\n",
       "  <thead>\n",
       "    <tr style=\"text-align: right;\">\n",
       "      <th></th>\n",
       "      <th>Open</th>\n",
       "      <th>High</th>\n",
       "      <th>Low</th>\n",
       "      <th>Close</th>\n",
       "      <th>Adj Close</th>\n",
       "      <th>Volume</th>\n",
       "      <th>triple_barrier_signal</th>\n",
       "      <th>RSI</th>\n",
       "      <th>Williams %R</th>\n",
       "      <th>SMA</th>\n",
       "      <th>EMA</th>\n",
       "      <th>WMA</th>\n",
       "      <th>HMA</th>\n",
       "      <th>TEMA</th>\n",
       "      <th>CCI</th>\n",
       "      <th>CMO</th>\n",
       "    </tr>\n",
       "    <tr>\n",
       "      <th>Date</th>\n",
       "      <th></th>\n",
       "      <th></th>\n",
       "      <th></th>\n",
       "      <th></th>\n",
       "      <th></th>\n",
       "      <th></th>\n",
       "      <th></th>\n",
       "      <th></th>\n",
       "      <th></th>\n",
       "      <th></th>\n",
       "      <th></th>\n",
       "      <th></th>\n",
       "      <th></th>\n",
       "      <th></th>\n",
       "      <th></th>\n",
       "      <th></th>\n",
       "    </tr>\n",
       "  </thead>\n",
       "  <tbody>\n",
       "    <tr>\n",
       "      <th>2017-11-27</th>\n",
       "      <td>10836.8203</td>\n",
       "      <td>10856.0000</td>\n",
       "      <td>10746.7402</td>\n",
       "      <td>10750.9297</td>\n",
       "      <td>10750.9297</td>\n",
       "      <td>2668100</td>\n",
       "      <td>-1</td>\n",
       "      <td>51.8056</td>\n",
       "      <td>-46.6449</td>\n",
       "      <td>10690.6778</td>\n",
       "      <td>10771.4790</td>\n",
       "      <td>10778.8593</td>\n",
       "      <td>10801.4256</td>\n",
       "      <td>10812.0876</td>\n",
       "      <td>24.3347</td>\n",
       "      <td>0.4619</td>\n",
       "    </tr>\n",
       "    <tr>\n",
       "      <th>2017-11-28</th>\n",
       "      <td>10733.5596</td>\n",
       "      <td>10752.5801</td>\n",
       "      <td>10692.5303</td>\n",
       "      <td>10707.0703</td>\n",
       "      <td>10707.0703</td>\n",
       "      <td>2961000</td>\n",
       "      <td>-1</td>\n",
       "      <td>48.0033</td>\n",
       "      <td>-62.1763</td>\n",
       "      <td>10699.9556</td>\n",
       "      <td>10758.5973</td>\n",
       "      <td>10771.7556</td>\n",
       "      <td>10810.8021</td>\n",
       "      <td>10768.4651</td>\n",
       "      <td>-46.2921</td>\n",
       "      <td>-9.4746</td>\n",
       "    </tr>\n",
       "    <tr>\n",
       "      <th>2017-11-29</th>\n",
       "      <td>10735.2402</td>\n",
       "      <td>10762.9102</td>\n",
       "      <td>10697.6201</td>\n",
       "      <td>10713.5498</td>\n",
       "      <td>10713.5498</td>\n",
       "      <td>3096300</td>\n",
       "      <td>-1</td>\n",
       "      <td>48.6035</td>\n",
       "      <td>-59.8818</td>\n",
       "      <td>10710.1288</td>\n",
       "      <td>10749.5878</td>\n",
       "      <td>10764.2495</td>\n",
       "      <td>10803.1265</td>\n",
       "      <td>10742.9017</td>\n",
       "      <td>-33.9320</td>\n",
       "      <td>-7.7256</td>\n",
       "    </tr>\n",
       "    <tr>\n",
       "      <th>2017-11-30</th>\n",
       "      <td>10623.2002</td>\n",
       "      <td>10650.1797</td>\n",
       "      <td>10560.4404</td>\n",
       "      <td>10560.4404</td>\n",
       "      <td>10560.4404</td>\n",
       "      <td>4939100</td>\n",
       "      <td>0</td>\n",
       "      <td>37.5687</td>\n",
       "      <td>-100.0000</td>\n",
       "      <td>10715.7507</td>\n",
       "      <td>10711.7583</td>\n",
       "      <td>10724.1547</td>\n",
       "      <td>10765.3660</td>\n",
       "      <td>10651.8030</td>\n",
       "      <td>-157.8802</td>\n",
       "      <td>-34.9933</td>\n",
       "    </tr>\n",
       "    <tr>\n",
       "      <th>2017-12-01</th>\n",
       "      <td>10591.6201</td>\n",
       "      <td>10665.9199</td>\n",
       "      <td>10495.1504</td>\n",
       "      <td>10600.3701</td>\n",
       "      <td>10600.3701</td>\n",
       "      <td>3776200</td>\n",
       "      <td>0</td>\n",
       "      <td>41.3110</td>\n",
       "      <td>-72.8465</td>\n",
       "      <td>10719.0485</td>\n",
       "      <td>10689.4807</td>\n",
       "      <td>10695.1836</td>\n",
       "      <td>10716.1467</td>\n",
       "      <td>10614.1731</td>\n",
       "      <td>-141.5523</td>\n",
       "      <td>-24.3458</td>\n",
       "    </tr>\n",
       "  </tbody>\n",
       "</table>\n",
       "</div>"
      ],
      "text/plain": [
       "                 Open       High        Low      Close  Adj Close   Volume  \\\n",
       "Date                                                                         \n",
       "2017-11-27 10836.8203 10856.0000 10746.7402 10750.9297 10750.9297  2668100   \n",
       "2017-11-28 10733.5596 10752.5801 10692.5303 10707.0703 10707.0703  2961000   \n",
       "2017-11-29 10735.2402 10762.9102 10697.6201 10713.5498 10713.5498  3096300   \n",
       "2017-11-30 10623.2002 10650.1797 10560.4404 10560.4404 10560.4404  4939100   \n",
       "2017-12-01 10591.6201 10665.9199 10495.1504 10600.3701 10600.3701  3776200   \n",
       "\n",
       "            triple_barrier_signal     RSI  Williams %R        SMA        EMA  \\\n",
       "Date                                                                           \n",
       "2017-11-27                     -1 51.8056     -46.6449 10690.6778 10771.4790   \n",
       "2017-11-28                     -1 48.0033     -62.1763 10699.9556 10758.5973   \n",
       "2017-11-29                     -1 48.6035     -59.8818 10710.1288 10749.5878   \n",
       "2017-11-30                      0 37.5687    -100.0000 10715.7507 10711.7583   \n",
       "2017-12-01                      0 41.3110     -72.8465 10719.0485 10689.4807   \n",
       "\n",
       "                  WMA        HMA       TEMA       CCI      CMO  \n",
       "Date                                                            \n",
       "2017-11-27 10778.8593 10801.4256 10812.0876   24.3347   0.4619  \n",
       "2017-11-28 10771.7556 10810.8021 10768.4651  -46.2921  -9.4746  \n",
       "2017-11-29 10764.2495 10803.1265 10742.9017  -33.9320  -7.7256  \n",
       "2017-11-30 10724.1547 10765.3660 10651.8030 -157.8802 -34.9933  \n",
       "2017-12-01 10695.1836 10716.1467 10614.1731 -141.5523 -24.3458  "
      ]
     },
     "execution_count": 231,
     "metadata": {},
     "output_type": "execute_result"
    },
    {
     "data": {
      "image/png": "[encoded data removed]",
      "text/plain": [
       "<Figure size 640x480 with 1 Axes>"
      ]
     },
     "metadata": {},
     "output_type": "display_data"
    }
   ],
   "source": [
    "df['CMO'] = TA.CMO(ohlcv)\n",
    "print(df['CMO'].describe())\n",
    "sns.distplot(df['CMO'].dropna())\n",
    "df.tail()"
   ]
  },
  {
   "cell_type": "markdown",
   "metadata": {
    "id": "35qI_9gZjsR0"
   },
   "source": [
    "# MACD"
   ]
  },
  {
   "cell_type": "code",
   "execution_count": 232,
   "metadata": {
    "colab": {
     "base_uri": "https://localhost:8080/",
     "height": 859
    },
    "id": "5QG4lBEfjsZb",
    "outputId": "e4ec3202-6c2e-4b9a-c425-9b589035517f"
   },
   "outputs": [
    {
     "name": "stdout",
     "output_type": "stream",
     "text": [
      "count   2440.0000\n",
      "mean       0.0339\n",
      "std       28.2714\n",
      "min     -129.9043\n",
      "25%      -17.7211\n",
      "50%        0.3331\n",
      "75%       17.9639\n",
      "max       84.1810\n",
      "Name: MACD, dtype: float64\n"
     ]
    },
    {
     "name": "stderr",
     "output_type": "stream",
     "text": [
      "C:\\Users\\Administrator\\AppData\\Local\\Temp\\ipykernel_14188\\2662787808.py:1: SettingWithCopyWarning: \n",
      "A value is trying to be set on a copy of a slice from a DataFrame.\n",
      "Try using .loc[row_indexer,col_indexer] = value instead\n",
      "\n",
      "See the caveats in the documentation: https://pandas.pydata.org/pandas-docs/stable/user_guide/indexing.html#returning-a-view-versus-a-copy\n",
      "  df['MACD'] = TA.MACD(ohlcv)['MACD'] - TA.MACD(ohlcv)['SIGNAL']\n",
      "c:\\Users\\Administrator\\anaconda3\\lib\\site-packages\\seaborn\\distributions.py:2619: FutureWarning: `distplot` is a deprecated function and will be removed in a future version. Please adapt your code to use either `displot` (a figure-level function with similar flexibility) or `histplot` (an axes-level function for histograms).\n",
      "  warnings.warn(msg, FutureWarning)\n"
     ]
    },
    {
     "data": {
      "text/html": [
       "<div>\n",
       "<style scoped>\n",
       "    .dataframe tbody tr th:only-of-type {\n",
       "        vertical-align: middle;\n",
       "    }\n",
       "\n",
       "    .dataframe tbody tr th {\n",
       "        vertical-align: top;\n",
       "    }\n",
       "\n",
       "    .dataframe thead th {\n",
       "        text-align: right;\n",
       "    }\n",
       "</style>\n",
       "<table border=\"1\" class=\"dataframe\">\n",
       "  <thead>\n",
       "    <tr style=\"text-align: right;\">\n",
       "      <th></th>\n",
       "      <th>Open</th>\n",
       "      <th>High</th>\n",
       "      <th>Low</th>\n",
       "      <th>Close</th>\n",
       "      <th>Adj Close</th>\n",
       "      <th>Volume</th>\n",
       "      <th>triple_barrier_signal</th>\n",
       "      <th>RSI</th>\n",
       "      <th>Williams %R</th>\n",
       "      <th>SMA</th>\n",
       "      <th>EMA</th>\n",
       "      <th>WMA</th>\n",
       "      <th>HMA</th>\n",
       "      <th>TEMA</th>\n",
       "      <th>CCI</th>\n",
       "      <th>CMO</th>\n",
       "      <th>MACD</th>\n",
       "    </tr>\n",
       "    <tr>\n",
       "      <th>Date</th>\n",
       "      <th></th>\n",
       "      <th></th>\n",
       "      <th></th>\n",
       "      <th></th>\n",
       "      <th></th>\n",
       "      <th></th>\n",
       "      <th></th>\n",
       "      <th></th>\n",
       "      <th></th>\n",
       "      <th></th>\n",
       "      <th></th>\n",
       "      <th></th>\n",
       "      <th></th>\n",
       "      <th></th>\n",
       "      <th></th>\n",
       "      <th></th>\n",
       "      <th></th>\n",
       "    </tr>\n",
       "  </thead>\n",
       "  <tbody>\n",
       "    <tr>\n",
       "      <th>2017-11-27</th>\n",
       "      <td>10836.8203</td>\n",
       "      <td>10856.0000</td>\n",
       "      <td>10746.7402</td>\n",
       "      <td>10750.9297</td>\n",
       "      <td>10750.9297</td>\n",
       "      <td>2668100</td>\n",
       "      <td>-1</td>\n",
       "      <td>51.8056</td>\n",
       "      <td>-46.6449</td>\n",
       "      <td>10690.6778</td>\n",
       "      <td>10771.4790</td>\n",
       "      <td>10778.8593</td>\n",
       "      <td>10801.4256</td>\n",
       "      <td>10812.0876</td>\n",
       "      <td>24.3347</td>\n",
       "      <td>0.4619</td>\n",
       "      <td>3.1244</td>\n",
       "    </tr>\n",
       "    <tr>\n",
       "      <th>2017-11-28</th>\n",
       "      <td>10733.5596</td>\n",
       "      <td>10752.5801</td>\n",
       "      <td>10692.5303</td>\n",
       "      <td>10707.0703</td>\n",
       "      <td>10707.0703</td>\n",
       "      <td>2961000</td>\n",
       "      <td>-1</td>\n",
       "      <td>48.0033</td>\n",
       "      <td>-62.1763</td>\n",
       "      <td>10699.9556</td>\n",
       "      <td>10758.5973</td>\n",
       "      <td>10771.7556</td>\n",
       "      <td>10810.8021</td>\n",
       "      <td>10768.4651</td>\n",
       "      <td>-46.2921</td>\n",
       "      <td>-9.4746</td>\n",
       "      <td>-2.8993</td>\n",
       "    </tr>\n",
       "    <tr>\n",
       "      <th>2017-11-29</th>\n",
       "      <td>10735.2402</td>\n",
       "      <td>10762.9102</td>\n",
       "      <td>10697.6201</td>\n",
       "      <td>10713.5498</td>\n",
       "      <td>10713.5498</td>\n",
       "      <td>3096300</td>\n",
       "      <td>-1</td>\n",
       "      <td>48.6035</td>\n",
       "      <td>-59.8818</td>\n",
       "      <td>10710.1288</td>\n",
       "      <td>10749.5878</td>\n",
       "      <td>10764.2495</td>\n",
       "      <td>10803.1265</td>\n",
       "      <td>10742.9017</td>\n",
       "      <td>-33.9320</td>\n",
       "      <td>-7.7256</td>\n",
       "      <td>-6.3501</td>\n",
       "    </tr>\n",
       "    <tr>\n",
       "      <th>2017-11-30</th>\n",
       "      <td>10623.2002</td>\n",
       "      <td>10650.1797</td>\n",
       "      <td>10560.4404</td>\n",
       "      <td>10560.4404</td>\n",
       "      <td>10560.4404</td>\n",
       "      <td>4939100</td>\n",
       "      <td>0</td>\n",
       "      <td>37.5687</td>\n",
       "      <td>-100.0000</td>\n",
       "      <td>10715.7507</td>\n",
       "      <td>10711.7583</td>\n",
       "      <td>10724.1547</td>\n",
       "      <td>10765.3660</td>\n",
       "      <td>10651.8030</td>\n",
       "      <td>-157.8802</td>\n",
       "      <td>-34.9933</td>\n",
       "      <td>-18.1775</td>\n",
       "    </tr>\n",
       "    <tr>\n",
       "      <th>2017-12-01</th>\n",
       "      <td>10591.6201</td>\n",
       "      <td>10665.9199</td>\n",
       "      <td>10495.1504</td>\n",
       "      <td>10600.3701</td>\n",
       "      <td>10600.3701</td>\n",
       "      <td>3776200</td>\n",
       "      <td>0</td>\n",
       "      <td>41.3110</td>\n",
       "      <td>-72.8465</td>\n",
       "      <td>10719.0485</td>\n",
       "      <td>10689.4807</td>\n",
       "      <td>10695.1836</td>\n",
       "      <td>10716.1467</td>\n",
       "      <td>10614.1731</td>\n",
       "      <td>-141.5523</td>\n",
       "      <td>-24.3458</td>\n",
       "      <td>-22.2744</td>\n",
       "    </tr>\n",
       "  </tbody>\n",
       "</table>\n",
       "</div>"
      ],
      "text/plain": [
       "                 Open       High        Low      Close  Adj Close   Volume  \\\n",
       "Date                                                                         \n",
       "2017-11-27 10836.8203 10856.0000 10746.7402 10750.9297 10750.9297  2668100   \n",
       "2017-11-28 10733.5596 10752.5801 10692.5303 10707.0703 10707.0703  2961000   \n",
       "2017-11-29 10735.2402 10762.9102 10697.6201 10713.5498 10713.5498  3096300   \n",
       "2017-11-30 10623.2002 10650.1797 10560.4404 10560.4404 10560.4404  4939100   \n",
       "2017-12-01 10591.6201 10665.9199 10495.1504 10600.3701 10600.3701  3776200   \n",
       "\n",
       "            triple_barrier_signal     RSI  Williams %R        SMA        EMA  \\\n",
       "Date                                                                           \n",
       "2017-11-27                     -1 51.8056     -46.6449 10690.6778 10771.4790   \n",
       "2017-11-28                     -1 48.0033     -62.1763 10699.9556 10758.5973   \n",
       "2017-11-29                     -1 48.6035     -59.8818 10710.1288 10749.5878   \n",
       "2017-11-30                      0 37.5687    -100.0000 10715.7507 10711.7583   \n",
       "2017-12-01                      0 41.3110     -72.8465 10719.0485 10689.4807   \n",
       "\n",
       "                  WMA        HMA       TEMA       CCI      CMO     MACD  \n",
       "Date                                                                     \n",
       "2017-11-27 10778.8593 10801.4256 10812.0876   24.3347   0.4619   3.1244  \n",
       "2017-11-28 10771.7556 10810.8021 10768.4651  -46.2921  -9.4746  -2.8993  \n",
       "2017-11-29 10764.2495 10803.1265 10742.9017  -33.9320  -7.7256  -6.3501  \n",
       "2017-11-30 10724.1547 10765.3660 10651.8030 -157.8802 -34.9933 -18.1775  \n",
       "2017-12-01 10695.1836 10716.1467 10614.1731 -141.5523 -24.3458 -22.2744  "
      ]
     },
     "execution_count": 232,
     "metadata": {},
     "output_type": "execute_result"
    },
    {
     "data": {
      "image/png": "[encoded data removed]",
      "text/plain": [
       "<Figure size 640x480 with 1 Axes>"
      ]
     },
     "metadata": {},
     "output_type": "display_data"
    }
   ],
   "source": [
    "df['MACD'] = TA.MACD(ohlcv)['MACD'] - TA.MACD(ohlcv)['SIGNAL']\n",
    "print(df['MACD'].describe())\n",
    "sns.distplot(df['MACD'].dropna())\n",
    "df.tail()"
   ]
  },
  {
   "cell_type": "markdown",
   "metadata": {
    "id": "roEAzvV7liUA"
   },
   "source": [
    "# PPO"
   ]
  },
  {
   "cell_type": "code",
   "execution_count": 233,
   "metadata": {
    "colab": {
     "base_uri": "https://localhost:8080/",
     "height": 859
    },
    "id": "ovCLHYPXli73",
    "outputId": "92133e2a-4bcb-4927-f5e7-8792284f056c"
   },
   "outputs": [
    {
     "name": "stdout",
     "output_type": "stream",
     "text": [
      "count   2440.0000\n",
      "mean       0.0003\n",
      "std        0.3816\n",
      "min       -1.5488\n",
      "25%       -0.2201\n",
      "50%       -0.0036\n",
      "75%        0.2158\n",
      "max        1.5197\n",
      "Name: PPO, dtype: float64\n"
     ]
    },
    {
     "name": "stderr",
     "output_type": "stream",
     "text": [
      "C:\\Users\\Administrator\\AppData\\Local\\Temp\\ipykernel_14188\\3095035729.py:1: SettingWithCopyWarning: \n",
      "A value is trying to be set on a copy of a slice from a DataFrame.\n",
      "Try using .loc[row_indexer,col_indexer] = value instead\n",
      "\n",
      "See the caveats in the documentation: https://pandas.pydata.org/pandas-docs/stable/user_guide/indexing.html#returning-a-view-versus-a-copy\n",
      "  df['PPO'] = TA.PPO(ohlcv)['PPO'] - TA.PPO(ohlcv)['SIGNAL']\n",
      "c:\\Users\\Administrator\\anaconda3\\lib\\site-packages\\seaborn\\distributions.py:2619: FutureWarning: `distplot` is a deprecated function and will be removed in a future version. Please adapt your code to use either `displot` (a figure-level function with similar flexibility) or `histplot` (an axes-level function for histograms).\n",
      "  warnings.warn(msg, FutureWarning)\n"
     ]
    },
    {
     "data": {
      "text/html": [
       "<div>\n",
       "<style scoped>\n",
       "    .dataframe tbody tr th:only-of-type {\n",
       "        vertical-align: middle;\n",
       "    }\n",
       "\n",
       "    .dataframe tbody tr th {\n",
       "        vertical-align: top;\n",
       "    }\n",
       "\n",
       "    .dataframe thead th {\n",
       "        text-align: right;\n",
       "    }\n",
       "</style>\n",
       "<table border=\"1\" class=\"dataframe\">\n",
       "  <thead>\n",
       "    <tr style=\"text-align: right;\">\n",
       "      <th></th>\n",
       "      <th>Open</th>\n",
       "      <th>High</th>\n",
       "      <th>Low</th>\n",
       "      <th>Close</th>\n",
       "      <th>Adj Close</th>\n",
       "      <th>Volume</th>\n",
       "      <th>triple_barrier_signal</th>\n",
       "      <th>RSI</th>\n",
       "      <th>Williams %R</th>\n",
       "      <th>SMA</th>\n",
       "      <th>EMA</th>\n",
       "      <th>WMA</th>\n",
       "      <th>HMA</th>\n",
       "      <th>TEMA</th>\n",
       "      <th>CCI</th>\n",
       "      <th>CMO</th>\n",
       "      <th>MACD</th>\n",
       "      <th>PPO</th>\n",
       "    </tr>\n",
       "    <tr>\n",
       "      <th>Date</th>\n",
       "      <th></th>\n",
       "      <th></th>\n",
       "      <th></th>\n",
       "      <th></th>\n",
       "      <th></th>\n",
       "      <th></th>\n",
       "      <th></th>\n",
       "      <th></th>\n",
       "      <th></th>\n",
       "      <th></th>\n",
       "      <th></th>\n",
       "      <th></th>\n",
       "      <th></th>\n",
       "      <th></th>\n",
       "      <th></th>\n",
       "      <th></th>\n",
       "      <th></th>\n",
       "      <th></th>\n",
       "    </tr>\n",
       "  </thead>\n",
       "  <tbody>\n",
       "    <tr>\n",
       "      <th>2017-11-27</th>\n",
       "      <td>10836.8203</td>\n",
       "      <td>10856.0000</td>\n",
       "      <td>10746.7402</td>\n",
       "      <td>10750.9297</td>\n",
       "      <td>10750.9297</td>\n",
       "      <td>2668100</td>\n",
       "      <td>-1</td>\n",
       "      <td>51.8056</td>\n",
       "      <td>-46.6449</td>\n",
       "      <td>10690.6778</td>\n",
       "      <td>10771.4790</td>\n",
       "      <td>10778.8593</td>\n",
       "      <td>10801.4256</td>\n",
       "      <td>10812.0876</td>\n",
       "      <td>24.3347</td>\n",
       "      <td>0.4619</td>\n",
       "      <td>3.1244</td>\n",
       "      <td>0.0287</td>\n",
       "    </tr>\n",
       "    <tr>\n",
       "      <th>2017-11-28</th>\n",
       "      <td>10733.5596</td>\n",
       "      <td>10752.5801</td>\n",
       "      <td>10692.5303</td>\n",
       "      <td>10707.0703</td>\n",
       "      <td>10707.0703</td>\n",
       "      <td>2961000</td>\n",
       "      <td>-1</td>\n",
       "      <td>48.0033</td>\n",
       "      <td>-62.1763</td>\n",
       "      <td>10699.9556</td>\n",
       "      <td>10758.5973</td>\n",
       "      <td>10771.7556</td>\n",
       "      <td>10810.8021</td>\n",
       "      <td>10768.4651</td>\n",
       "      <td>-46.2921</td>\n",
       "      <td>-9.4746</td>\n",
       "      <td>-2.8993</td>\n",
       "      <td>-0.0273</td>\n",
       "    </tr>\n",
       "    <tr>\n",
       "      <th>2017-11-29</th>\n",
       "      <td>10735.2402</td>\n",
       "      <td>10762.9102</td>\n",
       "      <td>10697.6201</td>\n",
       "      <td>10713.5498</td>\n",
       "      <td>10713.5498</td>\n",
       "      <td>3096300</td>\n",
       "      <td>-1</td>\n",
       "      <td>48.6035</td>\n",
       "      <td>-59.8818</td>\n",
       "      <td>10710.1288</td>\n",
       "      <td>10749.5878</td>\n",
       "      <td>10764.2495</td>\n",
       "      <td>10803.1265</td>\n",
       "      <td>10742.9017</td>\n",
       "      <td>-33.9320</td>\n",
       "      <td>-7.7256</td>\n",
       "      <td>-6.3501</td>\n",
       "      <td>-0.0594</td>\n",
       "    </tr>\n",
       "    <tr>\n",
       "      <th>2017-11-30</th>\n",
       "      <td>10623.2002</td>\n",
       "      <td>10650.1797</td>\n",
       "      <td>10560.4404</td>\n",
       "      <td>10560.4404</td>\n",
       "      <td>10560.4404</td>\n",
       "      <td>4939100</td>\n",
       "      <td>0</td>\n",
       "      <td>37.5687</td>\n",
       "      <td>-100.0000</td>\n",
       "      <td>10715.7507</td>\n",
       "      <td>10711.7583</td>\n",
       "      <td>10724.1547</td>\n",
       "      <td>10765.3660</td>\n",
       "      <td>10651.8030</td>\n",
       "      <td>-157.8802</td>\n",
       "      <td>-34.9933</td>\n",
       "      <td>-18.1775</td>\n",
       "      <td>-0.1696</td>\n",
       "    </tr>\n",
       "    <tr>\n",
       "      <th>2017-12-01</th>\n",
       "      <td>10591.6201</td>\n",
       "      <td>10665.9199</td>\n",
       "      <td>10495.1504</td>\n",
       "      <td>10600.3701</td>\n",
       "      <td>10600.3701</td>\n",
       "      <td>3776200</td>\n",
       "      <td>0</td>\n",
       "      <td>41.3110</td>\n",
       "      <td>-72.8465</td>\n",
       "      <td>10719.0485</td>\n",
       "      <td>10689.4807</td>\n",
       "      <td>10695.1836</td>\n",
       "      <td>10716.1467</td>\n",
       "      <td>10614.1731</td>\n",
       "      <td>-141.5523</td>\n",
       "      <td>-24.3458</td>\n",
       "      <td>-22.2744</td>\n",
       "      <td>-0.2078</td>\n",
       "    </tr>\n",
       "  </tbody>\n",
       "</table>\n",
       "</div>"
      ],
      "text/plain": [
       "                 Open       High        Low      Close  Adj Close   Volume  \\\n",
       "Date                                                                         \n",
       "2017-11-27 10836.8203 10856.0000 10746.7402 10750.9297 10750.9297  2668100   \n",
       "2017-11-28 10733.5596 10752.5801 10692.5303 10707.0703 10707.0703  2961000   \n",
       "2017-11-29 10735.2402 10762.9102 10697.6201 10713.5498 10713.5498  3096300   \n",
       "2017-11-30 10623.2002 10650.1797 10560.4404 10560.4404 10560.4404  4939100   \n",
       "2017-12-01 10591.6201 10665.9199 10495.1504 10600.3701 10600.3701  3776200   \n",
       "\n",
       "            triple_barrier_signal     RSI  Williams %R        SMA        EMA  \\\n",
       "Date                                                                           \n",
       "2017-11-27                     -1 51.8056     -46.6449 10690.6778 10771.4790   \n",
       "2017-11-28                     -1 48.0033     -62.1763 10699.9556 10758.5973   \n",
       "2017-11-29                     -1 48.6035     -59.8818 10710.1288 10749.5878   \n",
       "2017-11-30                      0 37.5687    -100.0000 10715.7507 10711.7583   \n",
       "2017-12-01                      0 41.3110     -72.8465 10719.0485 10689.4807   \n",
       "\n",
       "                  WMA        HMA       TEMA       CCI      CMO     MACD  \\\n",
       "Date                                                                      \n",
       "2017-11-27 10778.8593 10801.4256 10812.0876   24.3347   0.4619   3.1244   \n",
       "2017-11-28 10771.7556 10810.8021 10768.4651  -46.2921  -9.4746  -2.8993   \n",
       "2017-11-29 10764.2495 10803.1265 10742.9017  -33.9320  -7.7256  -6.3501   \n",
       "2017-11-30 10724.1547 10765.3660 10651.8030 -157.8802 -34.9933 -18.1775   \n",
       "2017-12-01 10695.1836 10716.1467 10614.1731 -141.5523 -24.3458 -22.2744   \n",
       "\n",
       "               PPO  \n",
       "Date                \n",
       "2017-11-27  0.0287  \n",
       "2017-11-28 -0.0273  \n",
       "2017-11-29 -0.0594  \n",
       "2017-11-30 -0.1696  \n",
       "2017-12-01 -0.2078  "
      ]
     },
     "execution_count": 233,
     "metadata": {},
     "output_type": "execute_result"
    },
    {
     "data": {
      "image/png": "[encoded data removed]",
      "text/plain": [
       "<Figure size 640x480 with 1 Axes>"
      ]
     },
     "metadata": {},
     "output_type": "display_data"
    }
   ],
   "source": [
    "df['PPO'] = TA.PPO(ohlcv)['PPO'] - TA.PPO(ohlcv)['SIGNAL']\n",
    "print(df['PPO'].describe())\n",
    "sns.distplot(df['PPO'].dropna())\n",
    "df.tail()"
   ]
  },
  {
   "cell_type": "markdown",
   "metadata": {
    "id": "5BBE8vaWmdGN"
   },
   "source": [
    "# ROC"
   ]
  },
  {
   "cell_type": "code",
   "execution_count": 234,
   "metadata": {
    "colab": {
     "base_uri": "https://localhost:8080/",
     "height": 859
    },
    "id": "OKI3MqwhmdOj",
    "outputId": "116bea98-1a2d-4084-84a0-753ed49abc2b"
   },
   "outputs": [
    {
     "name": "stdout",
     "output_type": "stream",
     "text": [
      "count   2428.0000\n",
      "mean       0.2222\n",
      "std        4.1105\n",
      "min      -18.7921\n",
      "25%       -1.7646\n",
      "50%        0.5071\n",
      "75%        2.5827\n",
      "max       17.1667\n",
      "Name: ROC, dtype: float64\n"
     ]
    },
    {
     "name": "stderr",
     "output_type": "stream",
     "text": [
      "C:\\Users\\Administrator\\AppData\\Local\\Temp\\ipykernel_14188\\1860037326.py:1: SettingWithCopyWarning: \n",
      "A value is trying to be set on a copy of a slice from a DataFrame.\n",
      "Try using .loc[row_indexer,col_indexer] = value instead\n",
      "\n",
      "See the caveats in the documentation: https://pandas.pydata.org/pandas-docs/stable/user_guide/indexing.html#returning-a-view-versus-a-copy\n",
      "  df['ROC'] = TA.ROC(ohlcv)\n",
      "c:\\Users\\Administrator\\anaconda3\\lib\\site-packages\\seaborn\\distributions.py:2619: FutureWarning: `distplot` is a deprecated function and will be removed in a future version. Please adapt your code to use either `displot` (a figure-level function with similar flexibility) or `histplot` (an axes-level function for histograms).\n",
      "  warnings.warn(msg, FutureWarning)\n"
     ]
    },
    {
     "data": {
      "text/html": [
       "<div>\n",
       "<style scoped>\n",
       "    .dataframe tbody tr th:only-of-type {\n",
       "        vertical-align: middle;\n",
       "    }\n",
       "\n",
       "    .dataframe tbody tr th {\n",
       "        vertical-align: top;\n",
       "    }\n",
       "\n",
       "    .dataframe thead th {\n",
       "        text-align: right;\n",
       "    }\n",
       "</style>\n",
       "<table border=\"1\" class=\"dataframe\">\n",
       "  <thead>\n",
       "    <tr style=\"text-align: right;\">\n",
       "      <th></th>\n",
       "      <th>Open</th>\n",
       "      <th>High</th>\n",
       "      <th>Low</th>\n",
       "      <th>Close</th>\n",
       "      <th>Adj Close</th>\n",
       "      <th>Volume</th>\n",
       "      <th>triple_barrier_signal</th>\n",
       "      <th>RSI</th>\n",
       "      <th>Williams %R</th>\n",
       "      <th>SMA</th>\n",
       "      <th>EMA</th>\n",
       "      <th>WMA</th>\n",
       "      <th>HMA</th>\n",
       "      <th>TEMA</th>\n",
       "      <th>CCI</th>\n",
       "      <th>CMO</th>\n",
       "      <th>MACD</th>\n",
       "      <th>PPO</th>\n",
       "      <th>ROC</th>\n",
       "    </tr>\n",
       "    <tr>\n",
       "      <th>Date</th>\n",
       "      <th></th>\n",
       "      <th></th>\n",
       "      <th></th>\n",
       "      <th></th>\n",
       "      <th></th>\n",
       "      <th></th>\n",
       "      <th></th>\n",
       "      <th></th>\n",
       "      <th></th>\n",
       "      <th></th>\n",
       "      <th></th>\n",
       "      <th></th>\n",
       "      <th></th>\n",
       "      <th></th>\n",
       "      <th></th>\n",
       "      <th></th>\n",
       "      <th></th>\n",
       "      <th></th>\n",
       "      <th></th>\n",
       "    </tr>\n",
       "  </thead>\n",
       "  <tbody>\n",
       "    <tr>\n",
       "      <th>2017-11-27</th>\n",
       "      <td>10836.8203</td>\n",
       "      <td>10856.0000</td>\n",
       "      <td>10746.7402</td>\n",
       "      <td>10750.9297</td>\n",
       "      <td>10750.9297</td>\n",
       "      <td>2668100</td>\n",
       "      <td>-1</td>\n",
       "      <td>51.8056</td>\n",
       "      <td>-46.6449</td>\n",
       "      <td>10690.6778</td>\n",
       "      <td>10771.4790</td>\n",
       "      <td>10778.8593</td>\n",
       "      <td>10801.4256</td>\n",
       "      <td>10812.0876</td>\n",
       "      <td>24.3347</td>\n",
       "      <td>0.4619</td>\n",
       "      <td>3.1244</td>\n",
       "      <td>0.0287</td>\n",
       "      <td>0.0713</td>\n",
       "    </tr>\n",
       "    <tr>\n",
       "      <th>2017-11-28</th>\n",
       "      <td>10733.5596</td>\n",
       "      <td>10752.5801</td>\n",
       "      <td>10692.5303</td>\n",
       "      <td>10707.0703</td>\n",
       "      <td>10707.0703</td>\n",
       "      <td>2961000</td>\n",
       "      <td>-1</td>\n",
       "      <td>48.0033</td>\n",
       "      <td>-62.1763</td>\n",
       "      <td>10699.9556</td>\n",
       "      <td>10758.5973</td>\n",
       "      <td>10771.7556</td>\n",
       "      <td>10810.8021</td>\n",
       "      <td>10768.4651</td>\n",
       "      <td>-46.2921</td>\n",
       "      <td>-9.4746</td>\n",
       "      <td>-2.8993</td>\n",
       "      <td>-0.0273</td>\n",
       "      <td>-0.2385</td>\n",
       "    </tr>\n",
       "    <tr>\n",
       "      <th>2017-11-29</th>\n",
       "      <td>10735.2402</td>\n",
       "      <td>10762.9102</td>\n",
       "      <td>10697.6201</td>\n",
       "      <td>10713.5498</td>\n",
       "      <td>10713.5498</td>\n",
       "      <td>3096300</td>\n",
       "      <td>-1</td>\n",
       "      <td>48.6035</td>\n",
       "      <td>-59.8818</td>\n",
       "      <td>10710.1288</td>\n",
       "      <td>10749.5878</td>\n",
       "      <td>10764.2495</td>\n",
       "      <td>10803.1265</td>\n",
       "      <td>10742.9017</td>\n",
       "      <td>-33.9320</td>\n",
       "      <td>-7.7256</td>\n",
       "      <td>-6.3501</td>\n",
       "      <td>-0.0594</td>\n",
       "      <td>0.2773</td>\n",
       "    </tr>\n",
       "    <tr>\n",
       "      <th>2017-11-30</th>\n",
       "      <td>10623.2002</td>\n",
       "      <td>10650.1797</td>\n",
       "      <td>10560.4404</td>\n",
       "      <td>10560.4404</td>\n",
       "      <td>10560.4404</td>\n",
       "      <td>4939100</td>\n",
       "      <td>0</td>\n",
       "      <td>37.5687</td>\n",
       "      <td>-100.0000</td>\n",
       "      <td>10715.7507</td>\n",
       "      <td>10711.7583</td>\n",
       "      <td>10724.1547</td>\n",
       "      <td>10765.3660</td>\n",
       "      <td>10651.8030</td>\n",
       "      <td>-157.8802</td>\n",
       "      <td>-34.9933</td>\n",
       "      <td>-18.1775</td>\n",
       "      <td>-0.1696</td>\n",
       "      <td>-1.1859</td>\n",
       "    </tr>\n",
       "    <tr>\n",
       "      <th>2017-12-01</th>\n",
       "      <td>10591.6201</td>\n",
       "      <td>10665.9199</td>\n",
       "      <td>10495.1504</td>\n",
       "      <td>10600.3701</td>\n",
       "      <td>10600.3701</td>\n",
       "      <td>3776200</td>\n",
       "      <td>0</td>\n",
       "      <td>41.3110</td>\n",
       "      <td>-72.8465</td>\n",
       "      <td>10719.0485</td>\n",
       "      <td>10689.4807</td>\n",
       "      <td>10695.1836</td>\n",
       "      <td>10716.1467</td>\n",
       "      <td>10614.1731</td>\n",
       "      <td>-141.5523</td>\n",
       "      <td>-24.3458</td>\n",
       "      <td>-22.2744</td>\n",
       "      <td>-0.2078</td>\n",
       "      <td>-0.2848</td>\n",
       "    </tr>\n",
       "  </tbody>\n",
       "</table>\n",
       "</div>"
      ],
      "text/plain": [
       "                 Open       High        Low      Close  Adj Close   Volume  \\\n",
       "Date                                                                         \n",
       "2017-11-27 10836.8203 10856.0000 10746.7402 10750.9297 10750.9297  2668100   \n",
       "2017-11-28 10733.5596 10752.5801 10692.5303 10707.0703 10707.0703  2961000   \n",
       "2017-11-29 10735.2402 10762.9102 10697.6201 10713.5498 10713.5498  3096300   \n",
       "2017-11-30 10623.2002 10650.1797 10560.4404 10560.4404 10560.4404  4939100   \n",
       "2017-12-01 10591.6201 10665.9199 10495.1504 10600.3701 10600.3701  3776200   \n",
       "\n",
       "            triple_barrier_signal     RSI  Williams %R        SMA        EMA  \\\n",
       "Date                                                                           \n",
       "2017-11-27                     -1 51.8056     -46.6449 10690.6778 10771.4790   \n",
       "2017-11-28                     -1 48.0033     -62.1763 10699.9556 10758.5973   \n",
       "2017-11-29                     -1 48.6035     -59.8818 10710.1288 10749.5878   \n",
       "2017-11-30                      0 37.5687    -100.0000 10715.7507 10711.7583   \n",
       "2017-12-01                      0 41.3110     -72.8465 10719.0485 10689.4807   \n",
       "\n",
       "                  WMA        HMA       TEMA       CCI      CMO     MACD  \\\n",
       "Date                                                                      \n",
       "2017-11-27 10778.8593 10801.4256 10812.0876   24.3347   0.4619   3.1244   \n",
       "2017-11-28 10771.7556 10810.8021 10768.4651  -46.2921  -9.4746  -2.8993   \n",
       "2017-11-29 10764.2495 10803.1265 10742.9017  -33.9320  -7.7256  -6.3501   \n",
       "2017-11-30 10724.1547 10765.3660 10651.8030 -157.8802 -34.9933 -18.1775   \n",
       "2017-12-01 10695.1836 10716.1467 10614.1731 -141.5523 -24.3458 -22.2744   \n",
       "\n",
       "               PPO     ROC  \n",
       "Date                        \n",
       "2017-11-27  0.0287  0.0713  \n",
       "2017-11-28 -0.0273 -0.2385  \n",
       "2017-11-29 -0.0594  0.2773  \n",
       "2017-11-30 -0.1696 -1.1859  \n",
       "2017-12-01 -0.2078 -0.2848  "
      ]
     },
     "execution_count": 234,
     "metadata": {},
     "output_type": "execute_result"
    },
    {
     "data": {
      "image/png": "[encoded data removed]",
      "text/plain": [
       "<Figure size 640x480 with 1 Axes>"
      ]
     },
     "metadata": {},
     "output_type": "display_data"
    }
   ],
   "source": [
    "df['ROC'] = TA.ROC(ohlcv)\n",
    "print(df['ROC'].describe())\n",
    "sns.distplot(df['ROC'].dropna())\n",
    "df.tail()"
   ]
  },
  {
   "cell_type": "markdown",
   "metadata": {
    "id": "b9LTKsyvmuSd"
   },
   "source": [
    "# CMFI"
   ]
  },
  {
   "cell_type": "code",
   "execution_count": 235,
   "metadata": {
    "colab": {
     "base_uri": "https://localhost:8080/",
     "height": 870
    },
    "id": "somnlSTOmvjJ",
    "outputId": "7daebd37-da99-4f56-bd63-5f56d6560ec3"
   },
   "outputs": [
    {
     "name": "stdout",
     "output_type": "stream",
     "text": [
      "count          2431.0000\n",
      "mean    11666835709.5187\n",
      "std      6137660906.0302\n",
      "min     -8174940909.9709\n",
      "25%     10432278415.0164\n",
      "50%     13597426857.8323\n",
      "75%     15517297915.0876\n",
      "max     19157612189.2948\n",
      "Name: CFI, dtype: float64\n"
     ]
    },
    {
     "name": "stderr",
     "output_type": "stream",
     "text": [
      "C:\\Users\\Administrator\\AppData\\Local\\Temp\\ipykernel_14188\\3380674280.py:1: SettingWithCopyWarning: \n",
      "A value is trying to be set on a copy of a slice from a DataFrame.\n",
      "Try using .loc[row_indexer,col_indexer] = value instead\n",
      "\n",
      "See the caveats in the documentation: https://pandas.pydata.org/pandas-docs/stable/user_guide/indexing.html#returning-a-view-versus-a-copy\n",
      "  df['CFI'] = TA.CFI(ohlcv)\n",
      "c:\\Users\\Administrator\\anaconda3\\lib\\site-packages\\seaborn\\distributions.py:2619: FutureWarning: `distplot` is a deprecated function and will be removed in a future version. Please adapt your code to use either `displot` (a figure-level function with similar flexibility) or `histplot` (an axes-level function for histograms).\n",
      "  warnings.warn(msg, FutureWarning)\n"
     ]
    },
    {
     "data": {
      "text/html": [
       "<div>\n",
       "<style scoped>\n",
       "    .dataframe tbody tr th:only-of-type {\n",
       "        vertical-align: middle;\n",
       "    }\n",
       "\n",
       "    .dataframe tbody tr th {\n",
       "        vertical-align: top;\n",
       "    }\n",
       "\n",
       "    .dataframe thead th {\n",
       "        text-align: right;\n",
       "    }\n",
       "</style>\n",
       "<table border=\"1\" class=\"dataframe\">\n",
       "  <thead>\n",
       "    <tr style=\"text-align: right;\">\n",
       "      <th></th>\n",
       "      <th>Open</th>\n",
       "      <th>High</th>\n",
       "      <th>Low</th>\n",
       "      <th>Close</th>\n",
       "      <th>Adj Close</th>\n",
       "      <th>Volume</th>\n",
       "      <th>triple_barrier_signal</th>\n",
       "      <th>RSI</th>\n",
       "      <th>Williams %R</th>\n",
       "      <th>SMA</th>\n",
       "      <th>EMA</th>\n",
       "      <th>WMA</th>\n",
       "      <th>HMA</th>\n",
       "      <th>TEMA</th>\n",
       "      <th>CCI</th>\n",
       "      <th>CMO</th>\n",
       "      <th>MACD</th>\n",
       "      <th>PPO</th>\n",
       "      <th>ROC</th>\n",
       "      <th>CFI</th>\n",
       "    </tr>\n",
       "    <tr>\n",
       "      <th>Date</th>\n",
       "      <th></th>\n",
       "      <th></th>\n",
       "      <th></th>\n",
       "      <th></th>\n",
       "      <th></th>\n",
       "      <th></th>\n",
       "      <th></th>\n",
       "      <th></th>\n",
       "      <th></th>\n",
       "      <th></th>\n",
       "      <th></th>\n",
       "      <th></th>\n",
       "      <th></th>\n",
       "      <th></th>\n",
       "      <th></th>\n",
       "      <th></th>\n",
       "      <th></th>\n",
       "      <th></th>\n",
       "      <th></th>\n",
       "      <th></th>\n",
       "    </tr>\n",
       "  </thead>\n",
       "  <tbody>\n",
       "    <tr>\n",
       "      <th>2017-11-27</th>\n",
       "      <td>10836.8203</td>\n",
       "      <td>10856.0000</td>\n",
       "      <td>10746.7402</td>\n",
       "      <td>10750.9297</td>\n",
       "      <td>10750.9297</td>\n",
       "      <td>2668100</td>\n",
       "      <td>-1</td>\n",
       "      <td>51.8056</td>\n",
       "      <td>-46.6449</td>\n",
       "      <td>10690.6778</td>\n",
       "      <td>10771.4790</td>\n",
       "      <td>10778.8593</td>\n",
       "      <td>10801.4256</td>\n",
       "      <td>10812.0876</td>\n",
       "      <td>24.3347</td>\n",
       "      <td>0.4619</td>\n",
       "      <td>3.1244</td>\n",
       "      <td>0.0287</td>\n",
       "      <td>0.0713</td>\n",
       "      <td>19155111008.1090</td>\n",
       "    </tr>\n",
       "    <tr>\n",
       "      <th>2017-11-28</th>\n",
       "      <td>10733.5596</td>\n",
       "      <td>10752.5801</td>\n",
       "      <td>10692.5303</td>\n",
       "      <td>10707.0703</td>\n",
       "      <td>10707.0703</td>\n",
       "      <td>2961000</td>\n",
       "      <td>-1</td>\n",
       "      <td>48.0033</td>\n",
       "      <td>-62.1763</td>\n",
       "      <td>10699.9556</td>\n",
       "      <td>10758.5973</td>\n",
       "      <td>10771.7556</td>\n",
       "      <td>10810.8021</td>\n",
       "      <td>10768.4651</td>\n",
       "      <td>-46.2921</td>\n",
       "      <td>-9.4746</td>\n",
       "      <td>-2.8993</td>\n",
       "      <td>-0.0273</td>\n",
       "      <td>-0.2385</td>\n",
       "      <td>19131841227.1809</td>\n",
       "    </tr>\n",
       "    <tr>\n",
       "      <th>2017-11-29</th>\n",
       "      <td>10735.2402</td>\n",
       "      <td>10762.9102</td>\n",
       "      <td>10697.6201</td>\n",
       "      <td>10713.5498</td>\n",
       "      <td>10713.5498</td>\n",
       "      <td>3096300</td>\n",
       "      <td>-1</td>\n",
       "      <td>48.6035</td>\n",
       "      <td>-59.8818</td>\n",
       "      <td>10710.1288</td>\n",
       "      <td>10749.5878</td>\n",
       "      <td>10764.2495</td>\n",
       "      <td>10803.1265</td>\n",
       "      <td>10742.9017</td>\n",
       "      <td>-33.9320</td>\n",
       "      <td>-7.7256</td>\n",
       "      <td>-6.3501</td>\n",
       "      <td>-0.0594</td>\n",
       "      <td>0.2773</td>\n",
       "      <td>19116450033.9961</td>\n",
       "    </tr>\n",
       "    <tr>\n",
       "      <th>2017-11-30</th>\n",
       "      <td>10623.2002</td>\n",
       "      <td>10650.1797</td>\n",
       "      <td>10560.4404</td>\n",
       "      <td>10560.4404</td>\n",
       "      <td>10560.4404</td>\n",
       "      <td>4939100</td>\n",
       "      <td>0</td>\n",
       "      <td>37.5687</td>\n",
       "      <td>-100.0000</td>\n",
       "      <td>10715.7507</td>\n",
       "      <td>10711.7583</td>\n",
       "      <td>10724.1547</td>\n",
       "      <td>10765.3660</td>\n",
       "      <td>10651.8030</td>\n",
       "      <td>-157.8802</td>\n",
       "      <td>-34.9933</td>\n",
       "      <td>-18.1775</td>\n",
       "      <td>-0.1696</td>\n",
       "      <td>-1.1859</td>\n",
       "      <td>18966362237.0154</td>\n",
       "    </tr>\n",
       "    <tr>\n",
       "      <th>2017-12-01</th>\n",
       "      <td>10591.6201</td>\n",
       "      <td>10665.9199</td>\n",
       "      <td>10495.1504</td>\n",
       "      <td>10600.3701</td>\n",
       "      <td>10600.3701</td>\n",
       "      <td>3776200</td>\n",
       "      <td>0</td>\n",
       "      <td>41.3110</td>\n",
       "      <td>-72.8465</td>\n",
       "      <td>10719.0485</td>\n",
       "      <td>10689.4807</td>\n",
       "      <td>10695.1836</td>\n",
       "      <td>10716.1467</td>\n",
       "      <td>10614.1731</td>\n",
       "      <td>-141.5523</td>\n",
       "      <td>-24.3458</td>\n",
       "      <td>-22.2744</td>\n",
       "      <td>-0.2078</td>\n",
       "      <td>-0.2848</td>\n",
       "      <td>18870978127.8379</td>\n",
       "    </tr>\n",
       "  </tbody>\n",
       "</table>\n",
       "</div>"
      ],
      "text/plain": [
       "                 Open       High        Low      Close  Adj Close   Volume  \\\n",
       "Date                                                                         \n",
       "2017-11-27 10836.8203 10856.0000 10746.7402 10750.9297 10750.9297  2668100   \n",
       "2017-11-28 10733.5596 10752.5801 10692.5303 10707.0703 10707.0703  2961000   \n",
       "2017-11-29 10735.2402 10762.9102 10697.6201 10713.5498 10713.5498  3096300   \n",
       "2017-11-30 10623.2002 10650.1797 10560.4404 10560.4404 10560.4404  4939100   \n",
       "2017-12-01 10591.6201 10665.9199 10495.1504 10600.3701 10600.3701  3776200   \n",
       "\n",
       "            triple_barrier_signal     RSI  Williams %R        SMA        EMA  \\\n",
       "Date                                                                           \n",
       "2017-11-27                     -1 51.8056     -46.6449 10690.6778 10771.4790   \n",
       "2017-11-28                     -1 48.0033     -62.1763 10699.9556 10758.5973   \n",
       "2017-11-29                     -1 48.6035     -59.8818 10710.1288 10749.5878   \n",
       "2017-11-30                      0 37.5687    -100.0000 10715.7507 10711.7583   \n",
       "2017-12-01                      0 41.3110     -72.8465 10719.0485 10689.4807   \n",
       "\n",
       "                  WMA        HMA       TEMA       CCI      CMO     MACD  \\\n",
       "Date                                                                      \n",
       "2017-11-27 10778.8593 10801.4256 10812.0876   24.3347   0.4619   3.1244   \n",
       "2017-11-28 10771.7556 10810.8021 10768.4651  -46.2921  -9.4746  -2.8993   \n",
       "2017-11-29 10764.2495 10803.1265 10742.9017  -33.9320  -7.7256  -6.3501   \n",
       "2017-11-30 10724.1547 10765.3660 10651.8030 -157.8802 -34.9933 -18.1775   \n",
       "2017-12-01 10695.1836 10716.1467 10614.1731 -141.5523 -24.3458 -22.2744   \n",
       "\n",
       "               PPO     ROC              CFI  \n",
       "Date                                         \n",
       "2017-11-27  0.0287  0.0713 19155111008.1090  \n",
       "2017-11-28 -0.0273 -0.2385 19131841227.1809  \n",
       "2017-11-29 -0.0594  0.2773 19116450033.9961  \n",
       "2017-11-30 -0.1696 -1.1859 18966362237.0154  \n",
       "2017-12-01 -0.2078 -0.2848 18870978127.8379  "
      ]
     },
     "execution_count": 235,
     "metadata": {},
     "output_type": "execute_result"
    },
    {
     "data": {
      "image/png": "[encoded data removed]",
      "text/plain": [
       "<Figure size 640x480 with 1 Axes>"
      ]
     },
     "metadata": {},
     "output_type": "display_data"
    }
   ],
   "source": [
    "df['CFI'] = TA.CFI(ohlcv)\n",
    "print(df['CFI'].describe())\n",
    "sns.distplot(df['CFI'].dropna())\n",
    "df.tail()"
   ]
  },
  {
   "cell_type": "markdown",
   "metadata": {
    "id": "8WydSl0doUYk"
   },
   "source": [
    "# DMI"
   ]
  },
  {
   "cell_type": "code",
   "execution_count": 236,
   "metadata": {
    "colab": {
     "base_uri": "https://localhost:8080/",
     "height": 888
    },
    "id": "xRTnC6DboU05",
    "outputId": "44b95a05-2030-40a9-92fc-0f3ed1a13062"
   },
   "outputs": [
    {
     "name": "stdout",
     "output_type": "stream",
     "text": [
      "count   2427.0000\n",
      "mean      -0.9161\n",
      "std       16.6154\n",
      "min     -104.8152\n",
      "25%      -11.7043\n",
      "50%        1.0794\n",
      "75%       10.7963\n",
      "max       43.7253\n",
      "Name: DMI, dtype: float64\n"
     ]
    },
    {
     "name": "stderr",
     "output_type": "stream",
     "text": [
      "C:\\Users\\Administrator\\AppData\\Local\\Temp\\ipykernel_14188\\3167327712.py:1: SettingWithCopyWarning: \n",
      "A value is trying to be set on a copy of a slice from a DataFrame.\n",
      "Try using .loc[row_indexer,col_indexer] = value instead\n",
      "\n",
      "See the caveats in the documentation: https://pandas.pydata.org/pandas-docs/stable/user_guide/indexing.html#returning-a-view-versus-a-copy\n",
      "  df['DMI'] = TA.DMI(ohlcv)['DI+'] - TA.DMI(ohlcv)['DI-']\n",
      "c:\\Users\\Administrator\\anaconda3\\lib\\site-packages\\seaborn\\distributions.py:2619: FutureWarning: `distplot` is a deprecated function and will be removed in a future version. Please adapt your code to use either `displot` (a figure-level function with similar flexibility) or `histplot` (an axes-level function for histograms).\n",
      "  warnings.warn(msg, FutureWarning)\n"
     ]
    },
    {
     "data": {
      "text/html": [
       "<div>\n",
       "<style scoped>\n",
       "    .dataframe tbody tr th:only-of-type {\n",
       "        vertical-align: middle;\n",
       "    }\n",
       "\n",
       "    .dataframe tbody tr th {\n",
       "        vertical-align: top;\n",
       "    }\n",
       "\n",
       "    .dataframe thead th {\n",
       "        text-align: right;\n",
       "    }\n",
       "</style>\n",
       "<table border=\"1\" class=\"dataframe\">\n",
       "  <thead>\n",
       "    <tr style=\"text-align: right;\">\n",
       "      <th></th>\n",
       "      <th>Open</th>\n",
       "      <th>High</th>\n",
       "      <th>Low</th>\n",
       "      <th>Close</th>\n",
       "      <th>Adj Close</th>\n",
       "      <th>Volume</th>\n",
       "      <th>triple_barrier_signal</th>\n",
       "      <th>RSI</th>\n",
       "      <th>Williams %R</th>\n",
       "      <th>SMA</th>\n",
       "      <th>...</th>\n",
       "      <th>WMA</th>\n",
       "      <th>HMA</th>\n",
       "      <th>TEMA</th>\n",
       "      <th>CCI</th>\n",
       "      <th>CMO</th>\n",
       "      <th>MACD</th>\n",
       "      <th>PPO</th>\n",
       "      <th>ROC</th>\n",
       "      <th>CFI</th>\n",
       "      <th>DMI</th>\n",
       "    </tr>\n",
       "    <tr>\n",
       "      <th>Date</th>\n",
       "      <th></th>\n",
       "      <th></th>\n",
       "      <th></th>\n",
       "      <th></th>\n",
       "      <th></th>\n",
       "      <th></th>\n",
       "      <th></th>\n",
       "      <th></th>\n",
       "      <th></th>\n",
       "      <th></th>\n",
       "      <th></th>\n",
       "      <th></th>\n",
       "      <th></th>\n",
       "      <th></th>\n",
       "      <th></th>\n",
       "      <th></th>\n",
       "      <th></th>\n",
       "      <th></th>\n",
       "      <th></th>\n",
       "      <th></th>\n",
       "      <th></th>\n",
       "    </tr>\n",
       "  </thead>\n",
       "  <tbody>\n",
       "    <tr>\n",
       "      <th>2017-11-27</th>\n",
       "      <td>10836.8203</td>\n",
       "      <td>10856.0000</td>\n",
       "      <td>10746.7402</td>\n",
       "      <td>10750.9297</td>\n",
       "      <td>10750.9297</td>\n",
       "      <td>2668100</td>\n",
       "      <td>-1</td>\n",
       "      <td>51.8056</td>\n",
       "      <td>-46.6449</td>\n",
       "      <td>10690.6778</td>\n",
       "      <td>...</td>\n",
       "      <td>10778.8593</td>\n",
       "      <td>10801.4256</td>\n",
       "      <td>10812.0876</td>\n",
       "      <td>24.3347</td>\n",
       "      <td>0.4619</td>\n",
       "      <td>3.1244</td>\n",
       "      <td>0.0287</td>\n",
       "      <td>0.0713</td>\n",
       "      <td>19155111008.1090</td>\n",
       "      <td>-0.2551</td>\n",
       "    </tr>\n",
       "    <tr>\n",
       "      <th>2017-11-28</th>\n",
       "      <td>10733.5596</td>\n",
       "      <td>10752.5801</td>\n",
       "      <td>10692.5303</td>\n",
       "      <td>10707.0703</td>\n",
       "      <td>10707.0703</td>\n",
       "      <td>2961000</td>\n",
       "      <td>-1</td>\n",
       "      <td>48.0033</td>\n",
       "      <td>-62.1763</td>\n",
       "      <td>10699.9556</td>\n",
       "      <td>...</td>\n",
       "      <td>10771.7556</td>\n",
       "      <td>10810.8021</td>\n",
       "      <td>10768.4651</td>\n",
       "      <td>-46.2921</td>\n",
       "      <td>-9.4746</td>\n",
       "      <td>-2.8993</td>\n",
       "      <td>-0.0273</td>\n",
       "      <td>-0.2385</td>\n",
       "      <td>19131841227.1809</td>\n",
       "      <td>-4.9121</td>\n",
       "    </tr>\n",
       "    <tr>\n",
       "      <th>2017-11-29</th>\n",
       "      <td>10735.2402</td>\n",
       "      <td>10762.9102</td>\n",
       "      <td>10697.6201</td>\n",
       "      <td>10713.5498</td>\n",
       "      <td>10713.5498</td>\n",
       "      <td>3096300</td>\n",
       "      <td>-1</td>\n",
       "      <td>48.6035</td>\n",
       "      <td>-59.8818</td>\n",
       "      <td>10710.1288</td>\n",
       "      <td>...</td>\n",
       "      <td>10764.2495</td>\n",
       "      <td>10803.1265</td>\n",
       "      <td>10742.9017</td>\n",
       "      <td>-33.9320</td>\n",
       "      <td>-7.7256</td>\n",
       "      <td>-6.3501</td>\n",
       "      <td>-0.0594</td>\n",
       "      <td>0.2773</td>\n",
       "      <td>19116450033.9961</td>\n",
       "      <td>-3.6350</td>\n",
       "    </tr>\n",
       "    <tr>\n",
       "      <th>2017-11-30</th>\n",
       "      <td>10623.2002</td>\n",
       "      <td>10650.1797</td>\n",
       "      <td>10560.4404</td>\n",
       "      <td>10560.4404</td>\n",
       "      <td>10560.4404</td>\n",
       "      <td>4939100</td>\n",
       "      <td>0</td>\n",
       "      <td>37.5687</td>\n",
       "      <td>-100.0000</td>\n",
       "      <td>10715.7507</td>\n",
       "      <td>...</td>\n",
       "      <td>10724.1547</td>\n",
       "      <td>10765.3660</td>\n",
       "      <td>10651.8030</td>\n",
       "      <td>-157.8802</td>\n",
       "      <td>-34.9933</td>\n",
       "      <td>-18.1775</td>\n",
       "      <td>-0.1696</td>\n",
       "      <td>-1.1859</td>\n",
       "      <td>18966362237.0154</td>\n",
       "      <td>-14.9574</td>\n",
       "    </tr>\n",
       "    <tr>\n",
       "      <th>2017-12-01</th>\n",
       "      <td>10591.6201</td>\n",
       "      <td>10665.9199</td>\n",
       "      <td>10495.1504</td>\n",
       "      <td>10600.3701</td>\n",
       "      <td>10600.3701</td>\n",
       "      <td>3776200</td>\n",
       "      <td>0</td>\n",
       "      <td>41.3110</td>\n",
       "      <td>-72.8465</td>\n",
       "      <td>10719.0485</td>\n",
       "      <td>...</td>\n",
       "      <td>10695.1836</td>\n",
       "      <td>10716.1467</td>\n",
       "      <td>10614.1731</td>\n",
       "      <td>-141.5523</td>\n",
       "      <td>-24.3458</td>\n",
       "      <td>-22.2744</td>\n",
       "      <td>-0.2078</td>\n",
       "      <td>-0.2848</td>\n",
       "      <td>18870978127.8379</td>\n",
       "      <td>-18.9513</td>\n",
       "    </tr>\n",
       "  </tbody>\n",
       "</table>\n",
       "<p>5 rows × 21 columns</p>\n",
       "</div>"
      ],
      "text/plain": [
       "                 Open       High        Low      Close  Adj Close   Volume  \\\n",
       "Date                                                                         \n",
       "2017-11-27 10836.8203 10856.0000 10746.7402 10750.9297 10750.9297  2668100   \n",
       "2017-11-28 10733.5596 10752.5801 10692.5303 10707.0703 10707.0703  2961000   \n",
       "2017-11-29 10735.2402 10762.9102 10697.6201 10713.5498 10713.5498  3096300   \n",
       "2017-11-30 10623.2002 10650.1797 10560.4404 10560.4404 10560.4404  4939100   \n",
       "2017-12-01 10591.6201 10665.9199 10495.1504 10600.3701 10600.3701  3776200   \n",
       "\n",
       "            triple_barrier_signal     RSI  Williams %R        SMA  ...  \\\n",
       "Date                                                               ...   \n",
       "2017-11-27                     -1 51.8056     -46.6449 10690.6778  ...   \n",
       "2017-11-28                     -1 48.0033     -62.1763 10699.9556  ...   \n",
       "2017-11-29                     -1 48.6035     -59.8818 10710.1288  ...   \n",
       "2017-11-30                      0 37.5687    -100.0000 10715.7507  ...   \n",
       "2017-12-01                      0 41.3110     -72.8465 10719.0485  ...   \n",
       "\n",
       "                  WMA        HMA       TEMA       CCI      CMO     MACD  \\\n",
       "Date                                                                      \n",
       "2017-11-27 10778.8593 10801.4256 10812.0876   24.3347   0.4619   3.1244   \n",
       "2017-11-28 10771.7556 10810.8021 10768.4651  -46.2921  -9.4746  -2.8993   \n",
       "2017-11-29 10764.2495 10803.1265 10742.9017  -33.9320  -7.7256  -6.3501   \n",
       "2017-11-30 10724.1547 10765.3660 10651.8030 -157.8802 -34.9933 -18.1775   \n",
       "2017-12-01 10695.1836 10716.1467 10614.1731 -141.5523 -24.3458 -22.2744   \n",
       "\n",
       "               PPO     ROC              CFI      DMI  \n",
       "Date                                                  \n",
       "2017-11-27  0.0287  0.0713 19155111008.1090  -0.2551  \n",
       "2017-11-28 -0.0273 -0.2385 19131841227.1809  -4.9121  \n",
       "2017-11-29 -0.0594  0.2773 19116450033.9961  -3.6350  \n",
       "2017-11-30 -0.1696 -1.1859 18966362237.0154 -14.9574  \n",
       "2017-12-01 -0.2078 -0.2848 18870978127.8379 -18.9513  \n",
       "\n",
       "[5 rows x 21 columns]"
      ]
     },
     "execution_count": 236,
     "metadata": {},
     "output_type": "execute_result"
    },
    {
     "data": {
      "image/png": "[encoded data removed]",
      "text/plain": [
       "<Figure size 640x480 with 1 Axes>"
      ]
     },
     "metadata": {},
     "output_type": "display_data"
    }
   ],
   "source": [
    "df['DMI'] = TA.DMI(ohlcv)['DI+'] - TA.DMI(ohlcv)['DI-']\n",
    "print(df['DMI'].describe())\n",
    "sns.distplot(df['DMI'].dropna())\n",
    "df.tail()"
   ]
  },
  {
   "cell_type": "markdown",
   "metadata": {
    "id": "96c_FgXOo98u"
   },
   "source": [
    "# SAR"
   ]
  },
  {
   "cell_type": "code",
   "execution_count": 237,
   "metadata": {
    "colab": {
     "base_uri": "https://localhost:8080/",
     "height": 888
    },
    "id": "eRPVEtrmo-bi",
    "outputId": "d52d7cff-0942-430d-bdf0-60441dcc90a0"
   },
   "outputs": [
    {
     "name": "stdout",
     "output_type": "stream",
     "text": [
      "count    2440.0000\n",
      "mean     8160.2866\n",
      "std      1263.1784\n",
      "min      3955.4299\n",
      "25%      7528.5569\n",
      "50%      8240.5838\n",
      "75%      8961.5487\n",
      "max     10882.6504\n",
      "Name: SAR, dtype: float64\n"
     ]
    },
    {
     "name": "stderr",
     "output_type": "stream",
     "text": [
      "C:\\Users\\Administrator\\AppData\\Local\\Temp\\ipykernel_14188\\1481618610.py:1: SettingWithCopyWarning: \n",
      "A value is trying to be set on a copy of a slice from a DataFrame.\n",
      "Try using .loc[row_indexer,col_indexer] = value instead\n",
      "\n",
      "See the caveats in the documentation: https://pandas.pydata.org/pandas-docs/stable/user_guide/indexing.html#returning-a-view-versus-a-copy\n",
      "  df['SAR'] = TA.SAR(ohlcv)\n",
      "c:\\Users\\Administrator\\anaconda3\\lib\\site-packages\\seaborn\\distributions.py:2619: FutureWarning: `distplot` is a deprecated function and will be removed in a future version. Please adapt your code to use either `displot` (a figure-level function with similar flexibility) or `histplot` (an axes-level function for histograms).\n",
      "  warnings.warn(msg, FutureWarning)\n"
     ]
    },
    {
     "data": {
      "text/html": [
       "<div>\n",
       "<style scoped>\n",
       "    .dataframe tbody tr th:only-of-type {\n",
       "        vertical-align: middle;\n",
       "    }\n",
       "\n",
       "    .dataframe tbody tr th {\n",
       "        vertical-align: top;\n",
       "    }\n",
       "\n",
       "    .dataframe thead th {\n",
       "        text-align: right;\n",
       "    }\n",
       "</style>\n",
       "<table border=\"1\" class=\"dataframe\">\n",
       "  <thead>\n",
       "    <tr style=\"text-align: right;\">\n",
       "      <th></th>\n",
       "      <th>Open</th>\n",
       "      <th>High</th>\n",
       "      <th>Low</th>\n",
       "      <th>Close</th>\n",
       "      <th>Adj Close</th>\n",
       "      <th>Volume</th>\n",
       "      <th>triple_barrier_signal</th>\n",
       "      <th>RSI</th>\n",
       "      <th>Williams %R</th>\n",
       "      <th>SMA</th>\n",
       "      <th>...</th>\n",
       "      <th>HMA</th>\n",
       "      <th>TEMA</th>\n",
       "      <th>CCI</th>\n",
       "      <th>CMO</th>\n",
       "      <th>MACD</th>\n",
       "      <th>PPO</th>\n",
       "      <th>ROC</th>\n",
       "      <th>CFI</th>\n",
       "      <th>DMI</th>\n",
       "      <th>SAR</th>\n",
       "    </tr>\n",
       "    <tr>\n",
       "      <th>Date</th>\n",
       "      <th></th>\n",
       "      <th></th>\n",
       "      <th></th>\n",
       "      <th></th>\n",
       "      <th></th>\n",
       "      <th></th>\n",
       "      <th></th>\n",
       "      <th></th>\n",
       "      <th></th>\n",
       "      <th></th>\n",
       "      <th></th>\n",
       "      <th></th>\n",
       "      <th></th>\n",
       "      <th></th>\n",
       "      <th></th>\n",
       "      <th></th>\n",
       "      <th></th>\n",
       "      <th></th>\n",
       "      <th></th>\n",
       "      <th></th>\n",
       "      <th></th>\n",
       "    </tr>\n",
       "  </thead>\n",
       "  <tbody>\n",
       "    <tr>\n",
       "      <th>2017-11-27</th>\n",
       "      <td>10836.8203</td>\n",
       "      <td>10856.0000</td>\n",
       "      <td>10746.7402</td>\n",
       "      <td>10750.9297</td>\n",
       "      <td>10750.9297</td>\n",
       "      <td>2668100</td>\n",
       "      <td>-1</td>\n",
       "      <td>51.8056</td>\n",
       "      <td>-46.6449</td>\n",
       "      <td>10690.6778</td>\n",
       "      <td>...</td>\n",
       "      <td>10801.4256</td>\n",
       "      <td>10812.0876</td>\n",
       "      <td>24.3347</td>\n",
       "      <td>0.4619</td>\n",
       "      <td>3.1244</td>\n",
       "      <td>0.0287</td>\n",
       "      <td>0.0713</td>\n",
       "      <td>19155111008.1090</td>\n",
       "      <td>-0.2551</td>\n",
       "      <td>10632.8092</td>\n",
       "    </tr>\n",
       "    <tr>\n",
       "      <th>2017-11-28</th>\n",
       "      <td>10733.5596</td>\n",
       "      <td>10752.5801</td>\n",
       "      <td>10692.5303</td>\n",
       "      <td>10707.0703</td>\n",
       "      <td>10707.0703</td>\n",
       "      <td>2961000</td>\n",
       "      <td>-1</td>\n",
       "      <td>48.0033</td>\n",
       "      <td>-62.1763</td>\n",
       "      <td>10699.9556</td>\n",
       "      <td>...</td>\n",
       "      <td>10810.8021</td>\n",
       "      <td>10768.4651</td>\n",
       "      <td>-46.2921</td>\n",
       "      <td>-9.4746</td>\n",
       "      <td>-2.8993</td>\n",
       "      <td>-0.0273</td>\n",
       "      <td>-0.2385</td>\n",
       "      <td>19131841227.1809</td>\n",
       "      <td>-4.9121</td>\n",
       "      <td>10642.8029</td>\n",
       "    </tr>\n",
       "    <tr>\n",
       "      <th>2017-11-29</th>\n",
       "      <td>10735.2402</td>\n",
       "      <td>10762.9102</td>\n",
       "      <td>10697.6201</td>\n",
       "      <td>10713.5498</td>\n",
       "      <td>10713.5498</td>\n",
       "      <td>3096300</td>\n",
       "      <td>-1</td>\n",
       "      <td>48.6035</td>\n",
       "      <td>-59.8818</td>\n",
       "      <td>10710.1288</td>\n",
       "      <td>...</td>\n",
       "      <td>10803.1265</td>\n",
       "      <td>10742.9017</td>\n",
       "      <td>-33.9320</td>\n",
       "      <td>-7.7256</td>\n",
       "      <td>-6.3501</td>\n",
       "      <td>-0.0594</td>\n",
       "      <td>0.2773</td>\n",
       "      <td>19116450033.9961</td>\n",
       "      <td>-3.6350</td>\n",
       "      <td>10652.3968</td>\n",
       "    </tr>\n",
       "    <tr>\n",
       "      <th>2017-11-30</th>\n",
       "      <td>10623.2002</td>\n",
       "      <td>10650.1797</td>\n",
       "      <td>10560.4404</td>\n",
       "      <td>10560.4404</td>\n",
       "      <td>10560.4404</td>\n",
       "      <td>4939100</td>\n",
       "      <td>0</td>\n",
       "      <td>37.5687</td>\n",
       "      <td>-100.0000</td>\n",
       "      <td>10715.7507</td>\n",
       "      <td>...</td>\n",
       "      <td>10765.3660</td>\n",
       "      <td>10651.8030</td>\n",
       "      <td>-157.8802</td>\n",
       "      <td>-34.9933</td>\n",
       "      <td>-18.1775</td>\n",
       "      <td>-0.1696</td>\n",
       "      <td>-1.1859</td>\n",
       "      <td>18966362237.0154</td>\n",
       "      <td>-14.9574</td>\n",
       "      <td>10882.6504</td>\n",
       "    </tr>\n",
       "    <tr>\n",
       "      <th>2017-12-01</th>\n",
       "      <td>10591.6201</td>\n",
       "      <td>10665.9199</td>\n",
       "      <td>10495.1504</td>\n",
       "      <td>10600.3701</td>\n",
       "      <td>10600.3701</td>\n",
       "      <td>3776200</td>\n",
       "      <td>0</td>\n",
       "      <td>41.3110</td>\n",
       "      <td>-72.8465</td>\n",
       "      <td>10719.0485</td>\n",
       "      <td>...</td>\n",
       "      <td>10716.1467</td>\n",
       "      <td>10614.1731</td>\n",
       "      <td>-141.5523</td>\n",
       "      <td>-24.3458</td>\n",
       "      <td>-22.2744</td>\n",
       "      <td>-0.2078</td>\n",
       "      <td>-0.2848</td>\n",
       "      <td>18870978127.8379</td>\n",
       "      <td>-18.9513</td>\n",
       "      <td>10882.6504</td>\n",
       "    </tr>\n",
       "  </tbody>\n",
       "</table>\n",
       "<p>5 rows × 22 columns</p>\n",
       "</div>"
      ],
      "text/plain": [
       "                 Open       High        Low      Close  Adj Close   Volume  \\\n",
       "Date                                                                         \n",
       "2017-11-27 10836.8203 10856.0000 10746.7402 10750.9297 10750.9297  2668100   \n",
       "2017-11-28 10733.5596 10752.5801 10692.5303 10707.0703 10707.0703  2961000   \n",
       "2017-11-29 10735.2402 10762.9102 10697.6201 10713.5498 10713.5498  3096300   \n",
       "2017-11-30 10623.2002 10650.1797 10560.4404 10560.4404 10560.4404  4939100   \n",
       "2017-12-01 10591.6201 10665.9199 10495.1504 10600.3701 10600.3701  3776200   \n",
       "\n",
       "            triple_barrier_signal     RSI  Williams %R        SMA  ...  \\\n",
       "Date                                                               ...   \n",
       "2017-11-27                     -1 51.8056     -46.6449 10690.6778  ...   \n",
       "2017-11-28                     -1 48.0033     -62.1763 10699.9556  ...   \n",
       "2017-11-29                     -1 48.6035     -59.8818 10710.1288  ...   \n",
       "2017-11-30                      0 37.5687    -100.0000 10715.7507  ...   \n",
       "2017-12-01                      0 41.3110     -72.8465 10719.0485  ...   \n",
       "\n",
       "                  HMA       TEMA       CCI      CMO     MACD     PPO     ROC  \\\n",
       "Date                                                                           \n",
       "2017-11-27 10801.4256 10812.0876   24.3347   0.4619   3.1244  0.0287  0.0713   \n",
       "2017-11-28 10810.8021 10768.4651  -46.2921  -9.4746  -2.8993 -0.0273 -0.2385   \n",
       "2017-11-29 10803.1265 10742.9017  -33.9320  -7.7256  -6.3501 -0.0594  0.2773   \n",
       "2017-11-30 10765.3660 10651.8030 -157.8802 -34.9933 -18.1775 -0.1696 -1.1859   \n",
       "2017-12-01 10716.1467 10614.1731 -141.5523 -24.3458 -22.2744 -0.2078 -0.2848   \n",
       "\n",
       "                        CFI      DMI        SAR  \n",
       "Date                                             \n",
       "2017-11-27 19155111008.1090  -0.2551 10632.8092  \n",
       "2017-11-28 19131841227.1809  -4.9121 10642.8029  \n",
       "2017-11-29 19116450033.9961  -3.6350 10652.3968  \n",
       "2017-11-30 18966362237.0154 -14.9574 10882.6504  \n",
       "2017-12-01 18870978127.8379 -18.9513 10882.6504  \n",
       "\n",
       "[5 rows x 22 columns]"
      ]
     },
     "execution_count": 237,
     "metadata": {},
     "output_type": "execute_result"
    },
    {
     "data": {
      "image/png": "[encoded data removed]",
      "text/plain": [
       "<Figure size 640x480 with 1 Axes>"
      ]
     },
     "metadata": {},
     "output_type": "display_data"
    }
   ],
   "source": [
    "df['SAR'] = TA.SAR(ohlcv)\n",
    "print(df['SAR'].describe())\n",
    "sns.distplot(df['SAR'].dropna())\n",
    "df.tail()"
   ]
  },
  {
   "cell_type": "markdown",
   "metadata": {
    "id": "MoqrDEejwYOV"
   },
   "source": [
    "# columns選取"
   ]
  },
  {
   "cell_type": "code",
   "execution_count": 238,
   "metadata": {
    "colab": {
     "base_uri": "https://localhost:8080/",
     "height": 440
    },
    "id": "qrGg0ojRKuE1",
    "outputId": "824578e6-f0b6-4fbe-c36f-7e8a3affb47a"
   },
   "outputs": [
    {
     "name": "stdout",
     "output_type": "stream",
     "text": [
      "(2440, 22)\n",
      "(2400, 16)\n"
     ]
    },
    {
     "data": {
      "text/html": [
       "<div>\n",
       "<style scoped>\n",
       "    .dataframe tbody tr th:only-of-type {\n",
       "        vertical-align: middle;\n",
       "    }\n",
       "\n",
       "    .dataframe tbody tr th {\n",
       "        vertical-align: top;\n",
       "    }\n",
       "\n",
       "    .dataframe thead th {\n",
       "        text-align: right;\n",
       "    }\n",
       "</style>\n",
       "<table border=\"1\" class=\"dataframe\">\n",
       "  <thead>\n",
       "    <tr style=\"text-align: right;\">\n",
       "      <th></th>\n",
       "      <th>RSI</th>\n",
       "      <th>Williams %R</th>\n",
       "      <th>SMA</th>\n",
       "      <th>EMA</th>\n",
       "      <th>WMA</th>\n",
       "      <th>HMA</th>\n",
       "      <th>TEMA</th>\n",
       "      <th>CCI</th>\n",
       "      <th>CMO</th>\n",
       "      <th>MACD</th>\n",
       "      <th>PPO</th>\n",
       "      <th>ROC</th>\n",
       "      <th>CFI</th>\n",
       "      <th>DMI</th>\n",
       "      <th>SAR</th>\n",
       "      <th>triple_barrier_signal</th>\n",
       "    </tr>\n",
       "    <tr>\n",
       "      <th>Date</th>\n",
       "      <th></th>\n",
       "      <th></th>\n",
       "      <th></th>\n",
       "      <th></th>\n",
       "      <th></th>\n",
       "      <th></th>\n",
       "      <th></th>\n",
       "      <th></th>\n",
       "      <th></th>\n",
       "      <th></th>\n",
       "      <th></th>\n",
       "      <th></th>\n",
       "      <th></th>\n",
       "      <th></th>\n",
       "      <th></th>\n",
       "      <th></th>\n",
       "    </tr>\n",
       "  </thead>\n",
       "  <tbody>\n",
       "    <tr>\n",
       "      <th>2017-11-27</th>\n",
       "      <td>51.8056</td>\n",
       "      <td>-46.6449</td>\n",
       "      <td>10690.6778</td>\n",
       "      <td>10771.4790</td>\n",
       "      <td>10778.8593</td>\n",
       "      <td>10801.4256</td>\n",
       "      <td>10812.0876</td>\n",
       "      <td>24.3347</td>\n",
       "      <td>0.4619</td>\n",
       "      <td>3.1244</td>\n",
       "      <td>0.0287</td>\n",
       "      <td>0.0713</td>\n",
       "      <td>19155111008.1090</td>\n",
       "      <td>-0.2551</td>\n",
       "      <td>10632.8092</td>\n",
       "      <td>-1</td>\n",
       "    </tr>\n",
       "    <tr>\n",
       "      <th>2017-11-28</th>\n",
       "      <td>48.0033</td>\n",
       "      <td>-62.1763</td>\n",
       "      <td>10699.9556</td>\n",
       "      <td>10758.5973</td>\n",
       "      <td>10771.7556</td>\n",
       "      <td>10810.8021</td>\n",
       "      <td>10768.4651</td>\n",
       "      <td>-46.2921</td>\n",
       "      <td>-9.4746</td>\n",
       "      <td>-2.8993</td>\n",
       "      <td>-0.0273</td>\n",
       "      <td>-0.2385</td>\n",
       "      <td>19131841227.1809</td>\n",
       "      <td>-4.9121</td>\n",
       "      <td>10642.8029</td>\n",
       "      <td>-1</td>\n",
       "    </tr>\n",
       "    <tr>\n",
       "      <th>2017-11-29</th>\n",
       "      <td>48.6035</td>\n",
       "      <td>-59.8818</td>\n",
       "      <td>10710.1288</td>\n",
       "      <td>10749.5878</td>\n",
       "      <td>10764.2495</td>\n",
       "      <td>10803.1265</td>\n",
       "      <td>10742.9017</td>\n",
       "      <td>-33.9320</td>\n",
       "      <td>-7.7256</td>\n",
       "      <td>-6.3501</td>\n",
       "      <td>-0.0594</td>\n",
       "      <td>0.2773</td>\n",
       "      <td>19116450033.9961</td>\n",
       "      <td>-3.6350</td>\n",
       "      <td>10652.3968</td>\n",
       "      <td>-1</td>\n",
       "    </tr>\n",
       "    <tr>\n",
       "      <th>2017-11-30</th>\n",
       "      <td>37.5687</td>\n",
       "      <td>-100.0000</td>\n",
       "      <td>10715.7507</td>\n",
       "      <td>10711.7583</td>\n",
       "      <td>10724.1547</td>\n",
       "      <td>10765.3660</td>\n",
       "      <td>10651.8030</td>\n",
       "      <td>-157.8802</td>\n",
       "      <td>-34.9933</td>\n",
       "      <td>-18.1775</td>\n",
       "      <td>-0.1696</td>\n",
       "      <td>-1.1859</td>\n",
       "      <td>18966362237.0154</td>\n",
       "      <td>-14.9574</td>\n",
       "      <td>10882.6504</td>\n",
       "      <td>0</td>\n",
       "    </tr>\n",
       "    <tr>\n",
       "      <th>2017-12-01</th>\n",
       "      <td>41.3110</td>\n",
       "      <td>-72.8465</td>\n",
       "      <td>10719.0485</td>\n",
       "      <td>10689.4807</td>\n",
       "      <td>10695.1836</td>\n",
       "      <td>10716.1467</td>\n",
       "      <td>10614.1731</td>\n",
       "      <td>-141.5523</td>\n",
       "      <td>-24.3458</td>\n",
       "      <td>-22.2744</td>\n",
       "      <td>-0.2078</td>\n",
       "      <td>-0.2848</td>\n",
       "      <td>18870978127.8379</td>\n",
       "      <td>-18.9513</td>\n",
       "      <td>10882.6504</td>\n",
       "      <td>0</td>\n",
       "    </tr>\n",
       "  </tbody>\n",
       "</table>\n",
       "</div>"
      ],
      "text/plain": [
       "               RSI  Williams %R        SMA        EMA        WMA        HMA  \\\n",
       "Date                                                                          \n",
       "2017-11-27 51.8056     -46.6449 10690.6778 10771.4790 10778.8593 10801.4256   \n",
       "2017-11-28 48.0033     -62.1763 10699.9556 10758.5973 10771.7556 10810.8021   \n",
       "2017-11-29 48.6035     -59.8818 10710.1288 10749.5878 10764.2495 10803.1265   \n",
       "2017-11-30 37.5687    -100.0000 10715.7507 10711.7583 10724.1547 10765.3660   \n",
       "2017-12-01 41.3110     -72.8465 10719.0485 10689.4807 10695.1836 10716.1467   \n",
       "\n",
       "                 TEMA       CCI      CMO     MACD     PPO     ROC  \\\n",
       "Date                                                                \n",
       "2017-11-27 10812.0876   24.3347   0.4619   3.1244  0.0287  0.0713   \n",
       "2017-11-28 10768.4651  -46.2921  -9.4746  -2.8993 -0.0273 -0.2385   \n",
       "2017-11-29 10742.9017  -33.9320  -7.7256  -6.3501 -0.0594  0.2773   \n",
       "2017-11-30 10651.8030 -157.8802 -34.9933 -18.1775 -0.1696 -1.1859   \n",
       "2017-12-01 10614.1731 -141.5523 -24.3458 -22.2744 -0.2078 -0.2848   \n",
       "\n",
       "                        CFI      DMI        SAR  triple_barrier_signal  \n",
       "Date                                                                    \n",
       "2017-11-27 19155111008.1090  -0.2551 10632.8092                     -1  \n",
       "2017-11-28 19131841227.1809  -4.9121 10642.8029                     -1  \n",
       "2017-11-29 19116450033.9961  -3.6350 10652.3968                     -1  \n",
       "2017-11-30 18966362237.0154 -14.9574 10882.6504                      0  \n",
       "2017-12-01 18870978127.8379 -18.9513 10882.6504                      0  "
      ]
     },
     "execution_count": 238,
     "metadata": {},
     "output_type": "execute_result"
    }
   ],
   "source": [
    "print(df.shape)\n",
    "df = df.dropna(axis=0)#刪除有缺失的row,會缺失主要因為用時間rolling計算技術指標導致,正常的\n",
    "features = ['RSI','Williams %R','SMA','EMA','WMA','HMA','TEMA','CCI','CMO','MACD','PPO','ROC','CFI','DMI','SAR']\n",
    "y_name = 'triple_barrier_signal' #當作labels\n",
    "df = df[features+[y_name]]\n",
    "print(df.shape)\n",
    "df.tail()"
   ]
  },
  {
   "cell_type": "markdown",
   "metadata": {
    "id": "c68TXVQaqGl3"
   },
   "source": [
    "# features scaling"
   ]
  },
  {
   "cell_type": "code",
   "execution_count": 239,
   "metadata": {
    "colab": {
     "base_uri": "https://localhost:8080/",
     "height": 281
    },
    "id": "JpZPZWfJqGuo",
    "outputId": "00e4a943-7054-48ab-a8e3-8346945ef1a7"
   },
   "outputs": [
    {
     "data": {
      "text/html": [
       "<div>\n",
       "<style scoped>\n",
       "    .dataframe tbody tr th:only-of-type {\n",
       "        vertical-align: middle;\n",
       "    }\n",
       "\n",
       "    .dataframe tbody tr th {\n",
       "        vertical-align: top;\n",
       "    }\n",
       "\n",
       "    .dataframe thead th {\n",
       "        text-align: right;\n",
       "    }\n",
       "</style>\n",
       "<table border=\"1\" class=\"dataframe\">\n",
       "  <thead>\n",
       "    <tr style=\"text-align: right;\">\n",
       "      <th></th>\n",
       "      <th>RSI</th>\n",
       "      <th>Williams %R</th>\n",
       "      <th>SMA</th>\n",
       "      <th>EMA</th>\n",
       "      <th>WMA</th>\n",
       "      <th>HMA</th>\n",
       "      <th>TEMA</th>\n",
       "      <th>CCI</th>\n",
       "      <th>CMO</th>\n",
       "      <th>MACD</th>\n",
       "      <th>PPO</th>\n",
       "      <th>ROC</th>\n",
       "      <th>CFI</th>\n",
       "      <th>DMI</th>\n",
       "      <th>SAR</th>\n",
       "      <th>triple_barrier_signal</th>\n",
       "    </tr>\n",
       "    <tr>\n",
       "      <th>Date</th>\n",
       "      <th></th>\n",
       "      <th></th>\n",
       "      <th></th>\n",
       "      <th></th>\n",
       "      <th></th>\n",
       "      <th></th>\n",
       "      <th></th>\n",
       "      <th></th>\n",
       "      <th></th>\n",
       "      <th></th>\n",
       "      <th></th>\n",
       "      <th></th>\n",
       "      <th></th>\n",
       "      <th></th>\n",
       "      <th></th>\n",
       "      <th></th>\n",
       "    </tr>\n",
       "  </thead>\n",
       "  <tbody>\n",
       "    <tr>\n",
       "      <th>2017-11-27</th>\n",
       "      <td>0.5780</td>\n",
       "      <td>0.5336</td>\n",
       "      <td>0.9955</td>\n",
       "      <td>0.9969</td>\n",
       "      <td>0.9962</td>\n",
       "      <td>0.9973</td>\n",
       "      <td>0.9953</td>\n",
       "      <td>0.5480</td>\n",
       "      <td>0.5272</td>\n",
       "      <td>0.6214</td>\n",
       "      <td>0.5141</td>\n",
       "      <td>0.5246</td>\n",
       "      <td>0.9999</td>\n",
       "      <td>0.5972</td>\n",
       "      <td>0.9639</td>\n",
       "      <td>-1</td>\n",
       "    </tr>\n",
       "    <tr>\n",
       "      <th>2017-11-28</th>\n",
       "      <td>0.5255</td>\n",
       "      <td>0.3782</td>\n",
       "      <td>0.9969</td>\n",
       "      <td>0.9949</td>\n",
       "      <td>0.9951</td>\n",
       "      <td>0.9987</td>\n",
       "      <td>0.9888</td>\n",
       "      <td>0.4492</td>\n",
       "      <td>0.4669</td>\n",
       "      <td>0.5932</td>\n",
       "      <td>0.4958</td>\n",
       "      <td>0.5160</td>\n",
       "      <td>0.9991</td>\n",
       "      <td>0.5546</td>\n",
       "      <td>0.9654</td>\n",
       "      <td>-1</td>\n",
       "    </tr>\n",
       "    <tr>\n",
       "      <th>2017-11-29</th>\n",
       "      <td>0.5338</td>\n",
       "      <td>0.4012</td>\n",
       "      <td>0.9986</td>\n",
       "      <td>0.9935</td>\n",
       "      <td>0.9940</td>\n",
       "      <td>0.9975</td>\n",
       "      <td>0.9850</td>\n",
       "      <td>0.4665</td>\n",
       "      <td>0.4775</td>\n",
       "      <td>0.5771</td>\n",
       "      <td>0.4854</td>\n",
       "      <td>0.5303</td>\n",
       "      <td>0.9985</td>\n",
       "      <td>0.5663</td>\n",
       "      <td>0.9668</td>\n",
       "      <td>-1</td>\n",
       "    </tr>\n",
       "    <tr>\n",
       "      <th>2017-11-30</th>\n",
       "      <td>0.3814</td>\n",
       "      <td>0.0000</td>\n",
       "      <td>0.9995</td>\n",
       "      <td>0.9877</td>\n",
       "      <td>0.9879</td>\n",
       "      <td>0.9919</td>\n",
       "      <td>0.9715</td>\n",
       "      <td>0.2931</td>\n",
       "      <td>0.3122</td>\n",
       "      <td>0.5219</td>\n",
       "      <td>0.4495</td>\n",
       "      <td>0.4896</td>\n",
       "      <td>0.9930</td>\n",
       "      <td>0.4626</td>\n",
       "      <td>1.0000</td>\n",
       "      <td>0</td>\n",
       "    </tr>\n",
       "    <tr>\n",
       "      <th>2017-12-01</th>\n",
       "      <td>0.4331</td>\n",
       "      <td>0.2715</td>\n",
       "      <td>1.0000</td>\n",
       "      <td>0.9842</td>\n",
       "      <td>0.9835</td>\n",
       "      <td>0.9846</td>\n",
       "      <td>0.9659</td>\n",
       "      <td>0.3160</td>\n",
       "      <td>0.3767</td>\n",
       "      <td>0.5027</td>\n",
       "      <td>0.4370</td>\n",
       "      <td>0.5147</td>\n",
       "      <td>0.9895</td>\n",
       "      <td>0.4260</td>\n",
       "      <td>1.0000</td>\n",
       "      <td>0</td>\n",
       "    </tr>\n",
       "  </tbody>\n",
       "</table>\n",
       "</div>"
      ],
      "text/plain": [
       "              RSI  Williams %R    SMA    EMA    WMA    HMA   TEMA    CCI  \\\n",
       "Date                                                                       \n",
       "2017-11-27 0.5780       0.5336 0.9955 0.9969 0.9962 0.9973 0.9953 0.5480   \n",
       "2017-11-28 0.5255       0.3782 0.9969 0.9949 0.9951 0.9987 0.9888 0.4492   \n",
       "2017-11-29 0.5338       0.4012 0.9986 0.9935 0.9940 0.9975 0.9850 0.4665   \n",
       "2017-11-30 0.3814       0.0000 0.9995 0.9877 0.9879 0.9919 0.9715 0.2931   \n",
       "2017-12-01 0.4331       0.2715 1.0000 0.9842 0.9835 0.9846 0.9659 0.3160   \n",
       "\n",
       "              CMO   MACD    PPO    ROC    CFI    DMI    SAR  \\\n",
       "Date                                                          \n",
       "2017-11-27 0.5272 0.6214 0.5141 0.5246 0.9999 0.5972 0.9639   \n",
       "2017-11-28 0.4669 0.5932 0.4958 0.5160 0.9991 0.5546 0.9654   \n",
       "2017-11-29 0.4775 0.5771 0.4854 0.5303 0.9985 0.5663 0.9668   \n",
       "2017-11-30 0.3122 0.5219 0.4495 0.4896 0.9930 0.4626 1.0000   \n",
       "2017-12-01 0.3767 0.5027 0.4370 0.5147 0.9895 0.4260 1.0000   \n",
       "\n",
       "            triple_barrier_signal  \n",
       "Date                               \n",
       "2017-11-27                     -1  \n",
       "2017-11-28                     -1  \n",
       "2017-11-29                     -1  \n",
       "2017-11-30                      0  \n",
       "2017-12-01                      0  "
      ]
     },
     "execution_count": 239,
     "metadata": {},
     "output_type": "execute_result"
    }
   ],
   "source": [
    "from sklearn.preprocessing import MinMaxScaler\n",
    "import pickle\n",
    "min_max_scaler = MinMaxScaler()\n",
    "df_minmax = df.copy()\n",
    "df_minmax[features] = min_max_scaler.fit_transform(df_minmax[features])#縮放到0-1之間\n",
    "with open('scaler.pkl', 'wb') as f:\n",
    "    pickle.dump(min_max_scaler, f)\n",
    "df_minmax.tail()"
   ]
  },
  {
   "cell_type": "code",
   "execution_count": 240,
   "metadata": {
    "colab": {
     "base_uri": "https://localhost:8080/"
    },
    "id": "5MCZDpBgrrQQ",
    "outputId": "e90f39f8-23d4-4878-d63f-cb27b2dd095b"
   },
   "outputs": [
    {
     "name": "stdout",
     "output_type": "stream",
     "text": [
      "特徵縮放完成!\n"
     ]
    }
   ],
   "source": [
    "df = df_minmax\n",
    "print('特徵縮放完成!')"
   ]
  },
  {
   "cell_type": "markdown",
   "metadata": {
    "id": "_kc7tvz_M7PO"
   },
   "source": [
    "# Xs ,ys prepare"
   ]
  },
  {
   "attachments": {},
   "cell_type": "markdown",
   "metadata": {},
   "source": [
    "https://sharegpt.com/c/KcXGMUL"
   ]
  },
  {
   "cell_type": "code",
   "execution_count": 241,
   "metadata": {
    "colab": {
     "base_uri": "https://localhost:8080/"
    },
    "id": "2ZHvlRJ5Lzzu",
    "outputId": "74cf3daf-357b-42da-bb37-a21aa7ebcc78"
   },
   "outputs": [
    {
     "name": "stderr",
     "output_type": "stream",
     "text": [
      "100%|██████████| 2386/2386 [00:02<00:00, 868.11it/s]"
     ]
    },
    {
     "name": "stdout",
     "output_type": "stream",
     "text": [
      "準備完成\n"
     ]
    },
    {
     "name": "stderr",
     "output_type": "stream",
     "text": [
      "\n"
     ]
    }
   ],
   "source": [
    "from tqdm import tqdm\n",
    "import numpy as np\n",
    "\n",
    "#定義觀察天數,起始index(0),結束index(資料筆數-觀察天數)\n",
    "days = 15\n",
    "start_index = 0\n",
    "end_index = len(df)-days\n",
    "\n",
    "#特徵欄位\n",
    "features = df.drop(y_name,axis=1).columns.tolist()\n",
    "\n",
    "#待存放序列\n",
    "Xs = []\n",
    "ys = []\n",
    "indexs = []\n",
    "\n",
    "'''\n",
    "若資料筆數100,days=15天,f_index=85,i只會跑到84,i+days=99,features只會跑到98天.\n",
    "若資料筆數100,days=15天,f_index=85+1,i會跑到85,i+days=100,features會跑到99天.\n",
    "'''\n",
    "for i in tqdm(range(start_index ,end_index+1 ,1)):#每次i都會遞增1\n",
    "  X = df.iloc[i:i+days,:][features] #ex:0...14(不含15)之features\n",
    "  y = df.iloc[i+days-1:i+days,:][y_name]#ex:14,y_name\n",
    "  X = np.array(X) # to np_array\n",
    "  Xs.append(X) #加入一筆X\n",
    "  ys.append(y) #加入一筆y\n",
    "  indexs.append((df.iloc[[i]].index,df.iloc[[i+days-1]].index)) #加入資料日期\n",
    "#轉換成np_array\n",
    "Xs = np.array(Xs)\n",
    "ys = np.array(ys)\n",
    "print('準備完成')"
   ]
  },
  {
   "cell_type": "markdown",
   "metadata": {
    "id": "a9iNRYKpNfIP"
   },
   "source": [
    "# check"
   ]
  },
  {
   "cell_type": "code",
   "execution_count": 242,
   "metadata": {
    "colab": {
     "base_uri": "https://localhost:8080/"
    },
    "id": "7YiS6ZmtNfSf",
    "outputId": "8dd32a11-d46d-40c1-cce0-049a3c5d3467"
   },
   "outputs": [
    {
     "name": "stdout",
     "output_type": "stream",
     "text": [
      "資料筆數: 2386\n",
      "第一筆的index開始和結束:2008-03-07-2008-03-27\n",
      "最後一筆的index開始和結束:2017-11-13-2017-12-01\n"
     ]
    }
   ],
   "source": [
    "print('資料筆數:',len(Xs))\n",
    "print('第一筆的index開始和結束:{}-{}'.format(indexs[0][0].date[0],indexs[0][1].date[0]))\n",
    "print('最後一筆的index開始和結束:{}-{}'.format(indexs[-1][0].date[0],indexs[-1][1].date[0]))"
   ]
  },
  {
   "cell_type": "markdown",
   "metadata": {
    "id": "Pabl4tEsXYB8"
   },
   "source": [
    "# Reshape X"
   ]
  },
  {
   "cell_type": "markdown",
   "metadata": {
    "id": "RvUPQWb1An8u"
   },
   "source": [
    "(圖片數量,長,寬,1張)"
   ]
  },
  {
   "cell_type": "code",
   "execution_count": 243,
   "metadata": {
    "colab": {
     "base_uri": "https://localhost:8080/"
    },
    "id": "In4R0IcSPDwG",
    "outputId": "80fa7a67-706b-4a89-da2f-aa6bd6e492ff"
   },
   "outputs": [
    {
     "name": "stdout",
     "output_type": "stream",
     "text": [
      "(2386, 15, 15)\n",
      "(2386, 15, 15, 1)\n"
     ]
    }
   ],
   "source": [
    "print(Xs.shape)\n",
    "Xs = Xs.reshape(-1,days,len(features),1)\n",
    "print(Xs.shape)"
   ]
  },
  {
   "cell_type": "markdown",
   "metadata": {
    "id": "lUy2cpReXaOV"
   },
   "source": [
    "# One hot encoding of label"
   ]
  },
  {
   "cell_type": "markdown",
   "metadata": {
    "id": "hjDc-sStA1gk"
   },
   "source": [
    "原始y代表漲幅"
   ]
  },
  {
   "cell_type": "code",
   "execution_count": 244,
   "metadata": {
    "colab": {
     "base_uri": "https://localhost:8080/"
    },
    "id": "6XGRdxmfWrfo",
    "outputId": "42bae8dc-7639-4f25-911d-f7068a07b04f"
   },
   "outputs": [
    {
     "name": "stdout",
     "output_type": "stream",
     "text": [
      "(2386, 1)\n",
      "[[1]\n",
      " [1]\n",
      " [1]\n",
      " [1]\n",
      " [1]]\n",
      "(2386, 3)\n",
      "[[0. 1. 0.]\n",
      " [0. 1. 0.]\n",
      " [0. 1. 0.]\n",
      " [0. 1. 0.]\n",
      " [0. 1. 0.]]\n"
     ]
    }
   ],
   "source": [
    "print(ys.shape)\n",
    "print(ys[:5])\n",
    "\n",
    "from keras.utils.np_utils import to_categorical\n",
    "ys = to_categorical(ys, num_classes = 3)\n",
    "print(ys.shape)\n",
    "print(ys[:5])"
   ]
  },
  {
   "cell_type": "markdown",
   "metadata": {
    "id": "TYcPI2TWBTpJ"
   },
   "source": [
    "# Visualization"
   ]
  },
  {
   "attachments": {},
   "cell_type": "markdown",
   "metadata": {},
   "source": [
    "https://sharegpt.com/c/lQ0OLk6"
   ]
  },
  {
   "cell_type": "code",
   "execution_count": 245,
   "metadata": {},
   "outputs": [
    {
     "data": {
      "image/png": "[encoded data removed]",
      "text/plain": [
       "<Figure size 1000x1000 with 9 Axes>"
      ]
     },
     "metadata": {},
     "output_type": "display_data"
    }
   ],
   "source": [
    "import matplotlib.pyplot as plt\n",
    "\n",
    "# n为batch大小，这里设为9\n",
    "n = 9\n",
    "\n",
    "# 生成一个九宫格的画布\n",
    "fig, axs = plt.subplots(3, 3, figsize=(10, 10))\n",
    "\n",
    "# 遍历batch中的每一个样本，依次画出对应的矩阵和标注\n",
    "for i in range(n):\n",
    "    # 获取当前样本的矩阵和标注\n",
    "    x = Xs[i]\n",
    "    y = ys[i]\n",
    "    \n",
    "    # 在对应的子图上画出矩阵和标注\n",
    "    axs[i//3, i%3].imshow(x)\n",
    "    axs[i//3, i%3].set_title('y={}'.format(y))\n",
    "    axs[i//3, i%3].axis('off')\n",
    "\n",
    "# 调整子图之间的距离\n",
    "plt.subplots_adjust(hspace=0.3, wspace=0.3)\n",
    "\n",
    "# 显示画布\n",
    "plt.show()\n"
   ]
  },
  {
   "cell_type": "markdown",
   "metadata": {
    "id": "5Oa6gYq_aVjE"
   },
   "source": [
    "# Split training and test sets"
   ]
  },
  {
   "cell_type": "code",
   "execution_count": 246,
   "metadata": {
    "colab": {
     "base_uri": "https://localhost:8080/"
    },
    "id": "OLHFbreckAlH",
    "outputId": "890e44a7-a031-448b-88b4-6234a533d2ca"
   },
   "outputs": [
    {
     "name": "stdout",
     "output_type": "stream",
     "text": [
      "(2346, 15, 15, 1) (2346, 3) (40, 15, 15, 1)\n"
     ]
    }
   ],
   "source": [
    "X_test = Xs[-40:] #最後40天features當作test資料\n",
    "X_train,y_train = Xs[:-40],ys[:-40] #其他當作訓練\n",
    "print(X_train.shape,y_train.shape,X_test.shape)"
   ]
  },
  {
   "cell_type": "markdown",
   "metadata": {
    "id": "gldr_9_D6CWR"
   },
   "source": [
    "# 調整採樣"
   ]
  },
  {
   "attachments": {},
   "cell_type": "markdown",
   "metadata": {},
   "source": [
    "https://sharegpt.com/c/Vm1VcLs"
   ]
  },
  {
   "cell_type": "code",
   "execution_count": 247,
   "metadata": {
    "colab": {
     "base_uri": "https://localhost:8080/"
    },
    "id": "gUrzPr896Che",
    "outputId": "7a3f59ed-d305-436b-a5a7-7c1b38dd61f8"
   },
   "outputs": [
    {
     "name": "stdout",
     "output_type": "stream",
     "text": [
      "(2346, 225)\n",
      "(2346,)\n",
      "0    601\n",
      "1    601\n",
      "2    601\n",
      "Name: 0, dtype: int64\n",
      "(1803, 15, 15, 1)\n",
      "(1803, 3)\n"
     ]
    }
   ],
   "source": [
    "X_train2維 = X_train.reshape(X_train.shape[0],-1)\n",
    "y_train數字 = np.array([ np.argmax(i) for i in y_train])\n",
    "print(X_train2維.shape)\n",
    "print(y_train數字.shape)\n",
    "\n",
    "from imblearn.under_sampling import RandomUnderSampler\n",
    "ros = RandomUnderSampler()\n",
    "X_train平衡 ,y_train平衡 = ros.fit_resample(X_train2維 ,y_train數字)\n",
    "print(pd.DataFrame(y_train平衡)[0].value_counts().sort_index())#顯示結果\n",
    "\n",
    "X_train = X_train平衡.reshape(X_train平衡.shape[0],15,15,1)#資料數,15,15,1\n",
    "y_train = y_train平衡.reshape(y_train平衡.shape[0],1)#資料數,1\n",
    "y_train = to_categorical(y_train , num_classes = 3)#one_hot\n",
    "print(X_train.shape)\n",
    "print(y_train.shape)"
   ]
  },
  {
   "cell_type": "markdown",
   "metadata": {
    "id": "0LI45EZC6k4Q"
   },
   "source": [
    "# Split training and val sets"
   ]
  },
  {
   "attachments": {},
   "cell_type": "markdown",
   "metadata": {},
   "source": [
    "https://sharegpt.com/c/ZgCDypE"
   ]
  },
  {
   "cell_type": "code",
   "execution_count": 248,
   "metadata": {
    "colab": {
     "base_uri": "https://localhost:8080/"
    },
    "id": "MgsrVpYUYf5J",
    "outputId": "6cca6788-385b-4e8b-af90-50a3c585dea6"
   },
   "outputs": [
    {
     "name": "stdout",
     "output_type": "stream",
     "text": [
      "(1442, 15, 15, 1) (1442, 3) (361, 15, 15, 1) (361, 3)\n"
     ]
    }
   ],
   "source": [
    "from sklearn.model_selection import train_test_split\n",
    "xtrain, xval, ytrain, yval = train_test_split(\n",
    "    X_train,\n",
    "    y_train, \n",
    "    test_size = 0.2,\n",
    "    random_state = 42,\n",
    "    shuffle = True,#是否洗牌\n",
    "    stratify = y_train #是否根據y欄位做分層取樣\n",
    "    )\n",
    "print(xtrain.shape, ytrain.shape, xval.shape, yval.shape)"
   ]
  },
  {
   "cell_type": "markdown",
   "metadata": {
    "id": "2xQOFrENMkSb"
   },
   "source": [
    "# 看一下樣本的label分布情況是否平均(待解決)"
   ]
  },
  {
   "cell_type": "markdown",
   "metadata": {
    "id": "xnUz7A3tlfya"
   },
   "source": [
    "0:Hold,1:Buy,2:Sell"
   ]
  },
  {
   "cell_type": "code",
   "execution_count": 249,
   "metadata": {
    "colab": {
     "base_uri": "https://localhost:8080/"
    },
    "id": "aA9SXiicML6Y",
    "outputId": "cd9708df-7efa-4340-9e24-66ada66568e0"
   },
   "outputs": [
    {
     "data": {
      "text/plain": [
       "1    985\n",
       "2    773\n",
       "0    628\n",
       "dtype: int64"
      ]
     },
     "execution_count": 249,
     "metadata": {},
     "output_type": "execute_result"
    }
   ],
   "source": [
    "pd.Series([np.argmax(i) for i in ys]).value_counts()"
   ]
  },
  {
   "cell_type": "code",
   "execution_count": 250,
   "metadata": {
    "colab": {
     "base_uri": "https://localhost:8080/"
    },
    "id": "l3gzqyHc8hKR",
    "outputId": "2c19bc14-ed29-4105-aa39-d347f9ae6194"
   },
   "outputs": [
    {
     "data": {
      "text/plain": [
       "0    601\n",
       "1    601\n",
       "2    601\n",
       "dtype: int64"
      ]
     },
     "execution_count": 250,
     "metadata": {},
     "output_type": "execute_result"
    }
   ],
   "source": [
    "pd.Series([np.argmax(i) for i in y_train]).value_counts()"
   ]
  },
  {
   "cell_type": "code",
   "execution_count": 251,
   "metadata": {
    "colab": {
     "base_uri": "https://localhost:8080/"
    },
    "id": "UIOBe8tVL5dV",
    "outputId": "a67bed62-5c55-484c-fc4d-cf312ca37fc0"
   },
   "outputs": [
    {
     "data": {
      "text/plain": [
       "1    481\n",
       "2    481\n",
       "0    480\n",
       "dtype: int64"
      ]
     },
     "execution_count": 251,
     "metadata": {},
     "output_type": "execute_result"
    }
   ],
   "source": [
    "pd.Series([np.argmax(i) for i in ytrain]).value_counts()"
   ]
  },
  {
   "cell_type": "code",
   "execution_count": 252,
   "metadata": {
    "colab": {
     "base_uri": "https://localhost:8080/"
    },
    "id": "A235BZ6cMQ-S",
    "outputId": "36dae7ac-2679-43c0-e1e5-68025f81dd0a"
   },
   "outputs": [
    {
     "data": {
      "text/plain": [
       "0    121\n",
       "2    120\n",
       "1    120\n",
       "dtype: int64"
      ]
     },
     "execution_count": 252,
     "metadata": {},
     "output_type": "execute_result"
    }
   ],
   "source": [
    "pd.Series([np.argmax(i) for i in yval]).value_counts()"
   ]
  },
  {
   "cell_type": "markdown",
   "metadata": {
    "id": "m-oXz0FGarb1"
   },
   "source": [
    "# CNN"
   ]
  },
  {
   "attachments": {},
   "cell_type": "markdown",
   "metadata": {},
   "source": [
    "https://sharegpt.com/c/M7VugUR"
   ]
  },
  {
   "cell_type": "code",
   "execution_count": 253,
   "metadata": {
    "id": "eWOsWp7_amoX"
   },
   "outputs": [],
   "source": [
    "from keras import backend as K\n",
    "from keras.models import Sequential\n",
    "from keras.layers import Dense, Dropout, Lambda, Flatten, BatchNormalization\n",
    "from keras.layers import Conv2D, MaxPool2D, AvgPool2D\n",
    "from tensorflow.keras.optimizers import Adam #做梯度下降的一種優化方法\n",
    "from keras.callbacks import ReduceLROnPlateau , EarlyStopping #減少學習速率 on Plateau"
   ]
  },
  {
   "cell_type": "code",
   "execution_count": 254,
   "metadata": {},
   "outputs": [
    {
     "name": "stdout",
     "output_type": "stream",
     "text": [
      "Model: \"sequential_4\"\n",
      "_________________________________________________________________\n",
      " Layer (type)                Output Shape              Param #   \n",
      "=================================================================\n",
      " conv2d_11 (Conv2D)          (None, 13, 13, 32)        320       \n",
      "                                                                 \n",
      " conv2d_12 (Conv2D)          (None, 11, 11, 64)        18496     \n",
      "                                                                 \n",
      " conv2d_13 (Conv2D)          (None, 9, 9, 128)         73856     \n",
      "                                                                 \n",
      " flatten_4 (Flatten)         (None, 10368)             0         \n",
      "                                                                 \n",
      " dropout_6 (Dropout)         (None, 10368)             0         \n",
      "                                                                 \n",
      " dense_6 (Dense)             (None, 3)                 31107     \n",
      "                                                                 \n",
      "=================================================================\n",
      "Total params: 123,779\n",
      "Trainable params: 123,779\n",
      "Non-trainable params: 0\n",
      "_________________________________________________________________\n"
     ]
    }
   ],
   "source": [
    "from keras.models import Sequential\n",
    "from keras.layers import Dense, Flatten, Dropout\n",
    "\n",
    "# 創建一個序列模型\n",
    "model = Sequential()\n",
    "\n",
    "# 添加第一個卷積層，使用32個3x3的卷積核，使用ReLU激活函數，並指定輸入形狀\n",
    "model.add(Conv2D(32, (3, 3), activation='relu', input_shape=(15, 15, 1)))\n",
    "\n",
    "# 添加第二個卷積層，使用64個3x3的卷積核，使用ReLU激活函數\n",
    "model.add(Conv2D(64, (3, 3), activation='relu'))\n",
    "\n",
    "# 添加第三個卷積層，使用128個3x3的卷積核，使用ReLU激活函數\n",
    "model.add(Conv2D(128, (3, 3), activation='relu'))\n",
    "\n",
    "# 添加平坦層，將卷積層的輸出展開為一維數組\n",
    "model.add(Flatten())\n",
    "\n",
    "# 添加dropout層，防止過度擬合\n",
    "model.add(Dropout(0.5))\n",
    "\n",
    "# 添加全連接層，使用softmax激活函數，輸出3個類別\n",
    "model.add(Dense(3, activation='softmax'))\n",
    "\n",
    "# 編譯模型，使用交叉熵損失函數和Adam優化器\n",
    "model.compile(loss='categorical_crossentropy', optimizer='adam', metrics=['accuracy'])\n",
    "\n",
    "# 打印模型結構\n",
    "model.summary()"
   ]
  },
  {
   "cell_type": "code",
   "execution_count": 255,
   "metadata": {
    "colab": {
     "base_uri": "https://localhost:8080/"
    },
    "id": "yd-csnW2auJS",
    "outputId": "83a07049-c549-4377-d5c9-d54d32795749"
   },
   "outputs": [
    {
     "data": {
      "text/plain": [
       "\"\\nnclasses = 3 \\nmodel = Sequential()\\nmodel.add(Conv2D(filters=32, kernel_size=(3,3), padding='same', activation='relu', input_shape=(15,15,1)))#15,15,32\\nmodel.add(Conv2D(filters=64, kernel_size=(3,3), padding='same', activation='relu',))#15,15,64\\nmodel.add(MaxPool2D(pool_size=(5,5)))# 3,3,64\\nmodel.add(Flatten())#576\\nmodel.add(Dropout(0.5))#288\\nmodel.add(Dense(128, activation='relu'))#128\\nmodel.add(Dropout(0.5))#64\\nmodel.add(Dense(32, activation='relu'))#32\\nmodel.add(Dropout(0.5))#16\\nmodel.add(Dense(nclasses, activation='softmax'))#3\\nmodel.summary()\\n\""
      ]
     },
     "execution_count": 255,
     "metadata": {},
     "output_type": "execute_result"
    }
   ],
   "source": [
    "'''\n",
    "nclasses = 3 \n",
    "model = Sequential()\n",
    "model.add(Conv2D(filters=32, kernel_size=(3,3), padding='same', activation='relu', input_shape=(15,15,1)))#15,15,32\n",
    "model.add(Conv2D(filters=64, kernel_size=(3,3), padding='same', activation='relu',))#15,15,64\n",
    "model.add(MaxPool2D(pool_size=(5,5)))# 3,3,64\n",
    "model.add(Flatten())#576\n",
    "model.add(Dropout(0.5))#288\n",
    "model.add(Dense(128, activation='relu'))#128\n",
    "model.add(Dropout(0.5))#64\n",
    "model.add(Dense(32, activation='relu'))#32\n",
    "model.add(Dropout(0.5))#16\n",
    "model.add(Dense(nclasses, activation='softmax'))#3\n",
    "model.summary()\n",
    "'''"
   ]
  },
  {
   "cell_type": "code",
   "execution_count": 256,
   "metadata": {
    "id": "8Z913AqUa8bJ"
   },
   "outputs": [],
   "source": [
    "model.compile(optimizer=\"adam\", loss=\"categorical_crossentropy\", metrics=[\"accuracy\"])"
   ]
  },
  {
   "cell_type": "markdown",
   "metadata": {
    "id": "VORA4n9Lz9of"
   },
   "source": [
    "# 優化器"
   ]
  },
  {
   "cell_type": "code",
   "execution_count": 257,
   "metadata": {
    "id": "Kw_j4R4Da_To"
   },
   "outputs": [],
   "source": [
    "#1\n",
    "lr_reduction = ReduceLROnPlateau(\n",
    "    monitor = 'val_accuracy', \n",
    "    factor=0.5, \n",
    "    patience = 3, \n",
    "    verbose = 1, \n",
    "    min_lr = 0.00001)\n",
    "\n",
    "#2\n",
    "es = EarlyStopping(monitor='val_accuracy',#驗證集acc\n",
    "                   min_delta=0.001, \n",
    "                   patience=20,  \n",
    "                   mode='max',\n",
    "                   restore_best_weights=True)#恢復最佳權重"
   ]
  },
  {
   "cell_type": "markdown",
   "metadata": {
    "id": "aevlVsI9Lk9a"
   },
   "source": [
    "# fit"
   ]
  },
  {
   "cell_type": "code",
   "execution_count": 258,
   "metadata": {
    "colab": {
     "base_uri": "https://localhost:8080/"
    },
    "id": "TJJR7Yg-bHac",
    "outputId": "9d6aae57-82a5-4a43-b61f-480500967762"
   },
   "outputs": [
    {
     "name": "stdout",
     "output_type": "stream",
     "text": [
      "Epoch 1/500\n",
      "12/12 [==============================] - 2s 92ms/step - loss: 1.0879 - accuracy: 0.3849 - val_loss: 1.0618 - val_accuracy: 0.4321\n",
      "Epoch 2/500\n",
      "12/12 [==============================] - 1s 69ms/step - loss: 1.0452 - accuracy: 0.4279 - val_loss: 1.0239 - val_accuracy: 0.4709\n",
      "Epoch 3/500\n",
      "12/12 [==============================] - 1s 74ms/step - loss: 1.0105 - accuracy: 0.4653 - val_loss: 0.9693 - val_accuracy: 0.4931\n",
      "Epoch 4/500\n",
      "12/12 [==============================] - 1s 69ms/step - loss: 0.9794 - accuracy: 0.4875 - val_loss: 0.9457 - val_accuracy: 0.4903\n",
      "Epoch 5/500\n",
      "12/12 [==============================] - 1s 68ms/step - loss: 0.9538 - accuracy: 0.5049 - val_loss: 0.9488 - val_accuracy: 0.5125\n",
      "Epoch 6/500\n",
      "12/12 [==============================] - 1s 68ms/step - loss: 0.9515 - accuracy: 0.5132 - val_loss: 0.9476 - val_accuracy: 0.4875\n",
      "Epoch 7/500\n",
      "12/12 [==============================] - 1s 68ms/step - loss: 0.9316 - accuracy: 0.5153 - val_loss: 0.9149 - val_accuracy: 0.5291\n",
      "Epoch 8/500\n",
      "12/12 [==============================] - 1s 68ms/step - loss: 0.9096 - accuracy: 0.5513 - val_loss: 0.9106 - val_accuracy: 0.5457\n",
      "Epoch 9/500\n",
      "12/12 [==============================] - 1s 68ms/step - loss: 0.9022 - accuracy: 0.5770 - val_loss: 0.9227 - val_accuracy: 0.5512\n",
      "Epoch 10/500\n",
      "12/12 [==============================] - 1s 68ms/step - loss: 0.9000 - accuracy: 0.5479 - val_loss: 0.9001 - val_accuracy: 0.5679\n",
      "Epoch 11/500\n",
      "12/12 [==============================] - 1s 72ms/step - loss: 0.8806 - accuracy: 0.5798 - val_loss: 0.9040 - val_accuracy: 0.5429\n",
      "Epoch 12/500\n",
      "12/12 [==============================] - 1s 69ms/step - loss: 0.8751 - accuracy: 0.5770 - val_loss: 0.8929 - val_accuracy: 0.5512\n",
      "Epoch 13/500\n",
      "12/12 [==============================] - 1s 68ms/step - loss: 0.8691 - accuracy: 0.5971 - val_loss: 0.9184 - val_accuracy: 0.5762\n",
      "Epoch 14/500\n",
      "12/12 [==============================] - 1s 68ms/step - loss: 0.8870 - accuracy: 0.5839 - val_loss: 0.8881 - val_accuracy: 0.5346\n",
      "Epoch 15/500\n",
      "12/12 [==============================] - 1s 68ms/step - loss: 0.8674 - accuracy: 0.5853 - val_loss: 0.8977 - val_accuracy: 0.5873\n",
      "Epoch 16/500\n",
      "12/12 [==============================] - 1s 73ms/step - loss: 0.8577 - accuracy: 0.5985 - val_loss: 0.8764 - val_accuracy: 0.5817\n",
      "Epoch 17/500\n",
      "12/12 [==============================] - 1s 69ms/step - loss: 0.8502 - accuracy: 0.6082 - val_loss: 0.8799 - val_accuracy: 0.5706\n",
      "Epoch 18/500\n",
      "12/12 [==============================] - 1s 68ms/step - loss: 0.8331 - accuracy: 0.6082 - val_loss: 0.8660 - val_accuracy: 0.5817\n",
      "Epoch 19/500\n",
      "12/12 [==============================] - 1s 68ms/step - loss: 0.8390 - accuracy: 0.6061 - val_loss: 0.8714 - val_accuracy: 0.5679\n",
      "Epoch 20/500\n",
      "12/12 [==============================] - 1s 68ms/step - loss: 0.8280 - accuracy: 0.6262 - val_loss: 0.8642 - val_accuracy: 0.5900\n",
      "Epoch 21/500\n",
      "12/12 [==============================] - 1s 73ms/step - loss: 0.8293 - accuracy: 0.6186 - val_loss: 0.8512 - val_accuracy: 0.5817\n",
      "Epoch 22/500\n",
      "12/12 [==============================] - 1s 69ms/step - loss: 0.8101 - accuracy: 0.6297 - val_loss: 0.8519 - val_accuracy: 0.5900\n",
      "Epoch 23/500\n",
      "12/12 [==============================] - 1s 69ms/step - loss: 0.8202 - accuracy: 0.6290 - val_loss: 0.8546 - val_accuracy: 0.5845\n",
      "Epoch 24/500\n",
      "12/12 [==============================] - 1s 69ms/step - loss: 0.7966 - accuracy: 0.6394 - val_loss: 0.8638 - val_accuracy: 0.5762\n",
      "Epoch 25/500\n",
      "12/12 [==============================] - 1s 69ms/step - loss: 0.7881 - accuracy: 0.6540 - val_loss: 0.8287 - val_accuracy: 0.6011\n",
      "Epoch 26/500\n",
      "12/12 [==============================] - 1s 73ms/step - loss: 0.7788 - accuracy: 0.6484 - val_loss: 0.8411 - val_accuracy: 0.5928\n",
      "Epoch 27/500\n",
      "12/12 [==============================] - 1s 69ms/step - loss: 0.7802 - accuracy: 0.6422 - val_loss: 0.8246 - val_accuracy: 0.6177\n",
      "Epoch 28/500\n",
      "12/12 [==============================] - 1s 69ms/step - loss: 0.7702 - accuracy: 0.6581 - val_loss: 0.8359 - val_accuracy: 0.5873\n",
      "Epoch 29/500\n",
      "12/12 [==============================] - 1s 69ms/step - loss: 0.7783 - accuracy: 0.6581 - val_loss: 0.8177 - val_accuracy: 0.6233\n",
      "Epoch 30/500\n",
      "12/12 [==============================] - 1s 73ms/step - loss: 0.7831 - accuracy: 0.6609 - val_loss: 0.8268 - val_accuracy: 0.6039\n",
      "Epoch 31/500\n",
      "12/12 [==============================] - 1s 68ms/step - loss: 0.7616 - accuracy: 0.6449 - val_loss: 0.7954 - val_accuracy: 0.6150\n",
      "Epoch 32/500\n",
      "12/12 [==============================] - 1s 69ms/step - loss: 0.7521 - accuracy: 0.6734 - val_loss: 0.7986 - val_accuracy: 0.6288\n",
      "Epoch 33/500\n",
      "12/12 [==============================] - 1s 68ms/step - loss: 0.7377 - accuracy: 0.6817 - val_loss: 0.8083 - val_accuracy: 0.6150\n",
      "Epoch 34/500\n",
      "12/12 [==============================] - 1s 68ms/step - loss: 0.7467 - accuracy: 0.6831 - val_loss: 0.8051 - val_accuracy: 0.6260\n",
      "Epoch 35/500\n",
      "12/12 [==============================] - 1s 69ms/step - loss: 0.7451 - accuracy: 0.6755 - val_loss: 0.8172 - val_accuracy: 0.5900\n",
      "Epoch 36/500\n",
      "12/12 [==============================] - 1s 68ms/step - loss: 0.7312 - accuracy: 0.6782 - val_loss: 0.7663 - val_accuracy: 0.6648\n",
      "Epoch 37/500\n",
      "12/12 [==============================] - 1s 70ms/step - loss: 0.7196 - accuracy: 0.6859 - val_loss: 0.7907 - val_accuracy: 0.6343\n",
      "Epoch 38/500\n",
      "12/12 [==============================] - 1s 69ms/step - loss: 0.7128 - accuracy: 0.6956 - val_loss: 0.7630 - val_accuracy: 0.6510\n",
      "Epoch 39/500\n",
      "12/12 [==============================] - 1s 73ms/step - loss: 0.7179 - accuracy: 0.6921 - val_loss: 0.7589 - val_accuracy: 0.6399\n",
      "Epoch 40/500\n",
      "12/12 [==============================] - 1s 68ms/step - loss: 0.7101 - accuracy: 0.6914 - val_loss: 0.7571 - val_accuracy: 0.6537\n",
      "Epoch 41/500\n",
      "12/12 [==============================] - 1s 68ms/step - loss: 0.7035 - accuracy: 0.6976 - val_loss: 0.8662 - val_accuracy: 0.5928\n",
      "Epoch 42/500\n",
      "12/12 [==============================] - 1s 68ms/step - loss: 0.7363 - accuracy: 0.6755 - val_loss: 0.7629 - val_accuracy: 0.6288\n",
      "Epoch 43/500\n",
      "12/12 [==============================] - 1s 68ms/step - loss: 0.6897 - accuracy: 0.7136 - val_loss: 0.7575 - val_accuracy: 0.6593\n",
      "Epoch 44/500\n",
      "12/12 [==============================] - 1s 72ms/step - loss: 0.6774 - accuracy: 0.7101 - val_loss: 0.7563 - val_accuracy: 0.6676\n",
      "Epoch 45/500\n",
      "12/12 [==============================] - 1s 68ms/step - loss: 0.6802 - accuracy: 0.7108 - val_loss: 0.7888 - val_accuracy: 0.6454\n",
      "Epoch 46/500\n",
      "12/12 [==============================] - 1s 68ms/step - loss: 0.6927 - accuracy: 0.6990 - val_loss: 0.7439 - val_accuracy: 0.6593\n",
      "Epoch 47/500\n",
      "12/12 [==============================] - 1s 68ms/step - loss: 0.6703 - accuracy: 0.7268 - val_loss: 0.7797 - val_accuracy: 0.6454\n",
      "Epoch 48/500\n",
      "12/12 [==============================] - 1s 74ms/step - loss: 0.6692 - accuracy: 0.7184 - val_loss: 0.7714 - val_accuracy: 0.6454\n",
      "Epoch 49/500\n",
      "12/12 [==============================] - 1s 69ms/step - loss: 0.6566 - accuracy: 0.7240 - val_loss: 0.7424 - val_accuracy: 0.6870\n",
      "Epoch 50/500\n",
      "12/12 [==============================] - 1s 68ms/step - loss: 0.6499 - accuracy: 0.7233 - val_loss: 0.7422 - val_accuracy: 0.6537\n",
      "Epoch 51/500\n",
      "12/12 [==============================] - 1s 68ms/step - loss: 0.6563 - accuracy: 0.7240 - val_loss: 0.7589 - val_accuracy: 0.6593\n",
      "Epoch 52/500\n",
      "12/12 [==============================] - 1s 69ms/step - loss: 0.6399 - accuracy: 0.7351 - val_loss: 0.7551 - val_accuracy: 0.6593\n",
      "Epoch 53/500\n",
      "12/12 [==============================] - 1s 68ms/step - loss: 0.6379 - accuracy: 0.7295 - val_loss: 0.7339 - val_accuracy: 0.6759\n",
      "Epoch 54/500\n",
      "12/12 [==============================] - 1s 69ms/step - loss: 0.6589 - accuracy: 0.7254 - val_loss: 0.7394 - val_accuracy: 0.6842\n",
      "Epoch 55/500\n",
      "12/12 [==============================] - 1s 72ms/step - loss: 0.6139 - accuracy: 0.7552 - val_loss: 0.7438 - val_accuracy: 0.6676\n",
      "Epoch 56/500\n",
      "12/12 [==============================] - 1s 72ms/step - loss: 0.6152 - accuracy: 0.7351 - val_loss: 0.7749 - val_accuracy: 0.6676\n",
      "Epoch 57/500\n",
      "12/12 [==============================] - 1s 74ms/step - loss: 0.6164 - accuracy: 0.7302 - val_loss: 0.7157 - val_accuracy: 0.6787\n",
      "Epoch 58/500\n",
      "12/12 [==============================] - 1s 72ms/step - loss: 0.6133 - accuracy: 0.7552 - val_loss: 0.7233 - val_accuracy: 0.6814\n",
      "Epoch 59/500\n",
      "12/12 [==============================] - 1s 71ms/step - loss: 0.6060 - accuracy: 0.7552 - val_loss: 0.7194 - val_accuracy: 0.6704\n",
      "Epoch 60/500\n",
      "12/12 [==============================] - 1s 68ms/step - loss: 0.5881 - accuracy: 0.7656 - val_loss: 0.7468 - val_accuracy: 0.6870\n",
      "Epoch 61/500\n",
      "12/12 [==============================] - 1s 74ms/step - loss: 0.5689 - accuracy: 0.7753 - val_loss: 0.7671 - val_accuracy: 0.6427\n",
      "Epoch 62/500\n",
      "12/12 [==============================] - 1s 69ms/step - loss: 0.5838 - accuracy: 0.7628 - val_loss: 0.6902 - val_accuracy: 0.7036\n",
      "Epoch 63/500\n",
      "12/12 [==============================] - 1s 69ms/step - loss: 0.5742 - accuracy: 0.7635 - val_loss: 0.7477 - val_accuracy: 0.6898\n",
      "Epoch 64/500\n",
      "12/12 [==============================] - 1s 71ms/step - loss: 0.5843 - accuracy: 0.7510 - val_loss: 0.7126 - val_accuracy: 0.6620\n",
      "Epoch 65/500\n",
      "12/12 [==============================] - 1s 73ms/step - loss: 0.5807 - accuracy: 0.7587 - val_loss: 0.7312 - val_accuracy: 0.6648\n",
      "Epoch 66/500\n",
      "12/12 [==============================] - 1s 69ms/step - loss: 0.5874 - accuracy: 0.7531 - val_loss: 0.7273 - val_accuracy: 0.6814\n",
      "Epoch 67/500\n",
      "12/12 [==============================] - 1s 68ms/step - loss: 0.5639 - accuracy: 0.7594 - val_loss: 0.7390 - val_accuracy: 0.6842\n",
      "Epoch 68/500\n",
      "12/12 [==============================] - 1s 69ms/step - loss: 0.5658 - accuracy: 0.7670 - val_loss: 0.7072 - val_accuracy: 0.7064\n",
      "Epoch 69/500\n",
      "12/12 [==============================] - 1s 75ms/step - loss: 0.5435 - accuracy: 0.7725 - val_loss: 0.7046 - val_accuracy: 0.6925\n",
      "Epoch 70/500\n",
      "12/12 [==============================] - 1s 70ms/step - loss: 0.5452 - accuracy: 0.7774 - val_loss: 0.6914 - val_accuracy: 0.7285\n",
      "Epoch 71/500\n",
      "12/12 [==============================] - 1s 69ms/step - loss: 0.5457 - accuracy: 0.7788 - val_loss: 0.6768 - val_accuracy: 0.7230\n",
      "Epoch 72/500\n",
      "12/12 [==============================] - 1s 68ms/step - loss: 0.5229 - accuracy: 0.7906 - val_loss: 0.6943 - val_accuracy: 0.7119\n",
      "Epoch 73/500\n",
      "12/12 [==============================] - 1s 74ms/step - loss: 0.5445 - accuracy: 0.7843 - val_loss: 0.7194 - val_accuracy: 0.7175\n",
      "Epoch 74/500\n",
      "12/12 [==============================] - 1s 68ms/step - loss: 0.5287 - accuracy: 0.7989 - val_loss: 0.7146 - val_accuracy: 0.6814\n",
      "Epoch 75/500\n",
      "12/12 [==============================] - 1s 70ms/step - loss: 0.5461 - accuracy: 0.7677 - val_loss: 0.7638 - val_accuracy: 0.6814\n",
      "Epoch 76/500\n",
      "12/12 [==============================] - 1s 69ms/step - loss: 0.5298 - accuracy: 0.7933 - val_loss: 0.6815 - val_accuracy: 0.7258\n",
      "Epoch 77/500\n",
      "12/12 [==============================] - 1s 74ms/step - loss: 0.5415 - accuracy: 0.7822 - val_loss: 0.6978 - val_accuracy: 0.7202\n",
      "Epoch 78/500\n",
      "12/12 [==============================] - 1s 68ms/step - loss: 0.5045 - accuracy: 0.7906 - val_loss: 0.7337 - val_accuracy: 0.7064\n",
      "Epoch 79/500\n",
      "12/12 [==============================] - 1s 70ms/step - loss: 0.5088 - accuracy: 0.7961 - val_loss: 0.7335 - val_accuracy: 0.6842\n",
      "Epoch 80/500\n",
      "12/12 [==============================] - 1s 70ms/step - loss: 0.5050 - accuracy: 0.8051 - val_loss: 0.6937 - val_accuracy: 0.6981\n",
      "Epoch 81/500\n",
      "12/12 [==============================] - 1s 76ms/step - loss: 0.4907 - accuracy: 0.8003 - val_loss: 0.6979 - val_accuracy: 0.7202\n",
      "Epoch 82/500\n",
      "12/12 [==============================] - 1s 73ms/step - loss: 0.4876 - accuracy: 0.8065 - val_loss: 0.7175 - val_accuracy: 0.7036\n",
      "Epoch 83/500\n",
      "12/12 [==============================] - 1s 72ms/step - loss: 0.5100 - accuracy: 0.7926 - val_loss: 0.6983 - val_accuracy: 0.7313\n",
      "Epoch 84/500\n",
      "12/12 [==============================] - 1s 71ms/step - loss: 0.4929 - accuracy: 0.8100 - val_loss: 0.6669 - val_accuracy: 0.7119\n",
      "Epoch 85/500\n",
      "12/12 [==============================] - 1s 77ms/step - loss: 0.4706 - accuracy: 0.8114 - val_loss: 0.6923 - val_accuracy: 0.7230\n",
      "Epoch 86/500\n",
      "12/12 [==============================] - 1s 70ms/step - loss: 0.4785 - accuracy: 0.8058 - val_loss: 0.6552 - val_accuracy: 0.7368\n",
      "Epoch 87/500\n",
      "12/12 [==============================] - 1s 68ms/step - loss: 0.4612 - accuracy: 0.8135 - val_loss: 0.6682 - val_accuracy: 0.7424\n",
      "Epoch 88/500\n",
      "12/12 [==============================] - 1s 73ms/step - loss: 0.4550 - accuracy: 0.8232 - val_loss: 0.6843 - val_accuracy: 0.7175\n",
      "Epoch 89/500\n",
      "12/12 [==============================] - 1s 68ms/step - loss: 0.4647 - accuracy: 0.8204 - val_loss: 0.7056 - val_accuracy: 0.7285\n",
      "Epoch 90/500\n",
      "12/12 [==============================] - 1s 69ms/step - loss: 0.4698 - accuracy: 0.8017 - val_loss: 0.6674 - val_accuracy: 0.7313\n",
      "Epoch 91/500\n",
      "12/12 [==============================] - 1s 68ms/step - loss: 0.4353 - accuracy: 0.8419 - val_loss: 0.6554 - val_accuracy: 0.7202\n",
      "Epoch 92/500\n",
      "12/12 [==============================] - 1s 70ms/step - loss: 0.4210 - accuracy: 0.8370 - val_loss: 0.6632 - val_accuracy: 0.7396\n",
      "Epoch 93/500\n",
      "12/12 [==============================] - 1s 72ms/step - loss: 0.4288 - accuracy: 0.8377 - val_loss: 0.6823 - val_accuracy: 0.7285\n",
      "Epoch 94/500\n",
      "12/12 [==============================] - 1s 69ms/step - loss: 0.4416 - accuracy: 0.8211 - val_loss: 0.6665 - val_accuracy: 0.7285\n",
      "Epoch 95/500\n",
      "12/12 [==============================] - 1s 69ms/step - loss: 0.4375 - accuracy: 0.8377 - val_loss: 0.6478 - val_accuracy: 0.7313\n",
      "Epoch 96/500\n",
      "12/12 [==============================] - 1s 68ms/step - loss: 0.4616 - accuracy: 0.8079 - val_loss: 0.7401 - val_accuracy: 0.6842\n",
      "Epoch 97/500\n",
      "12/12 [==============================] - 1s 70ms/step - loss: 0.4666 - accuracy: 0.8245 - val_loss: 0.6753 - val_accuracy: 0.7479\n",
      "Epoch 98/500\n",
      "12/12 [==============================] - 1s 70ms/step - loss: 0.4275 - accuracy: 0.8280 - val_loss: 0.6637 - val_accuracy: 0.7396\n",
      "Epoch 99/500\n",
      "12/12 [==============================] - 1s 68ms/step - loss: 0.4283 - accuracy: 0.8322 - val_loss: 0.6598 - val_accuracy: 0.7424\n",
      "Epoch 100/500\n",
      "12/12 [==============================] - 1s 68ms/step - loss: 0.4072 - accuracy: 0.8495 - val_loss: 0.6449 - val_accuracy: 0.7479\n",
      "Epoch 101/500\n",
      "12/12 [==============================] - 1s 71ms/step - loss: 0.3974 - accuracy: 0.8516 - val_loss: 0.6669 - val_accuracy: 0.7645\n",
      "Epoch 102/500\n",
      "12/12 [==============================] - 1s 69ms/step - loss: 0.4029 - accuracy: 0.8377 - val_loss: 0.6663 - val_accuracy: 0.7452\n",
      "Epoch 103/500\n",
      "12/12 [==============================] - 1s 70ms/step - loss: 0.3873 - accuracy: 0.8502 - val_loss: 0.6422 - val_accuracy: 0.7535\n",
      "Epoch 104/500\n",
      "12/12 [==============================] - 1s 68ms/step - loss: 0.3862 - accuracy: 0.8564 - val_loss: 0.6666 - val_accuracy: 0.7562\n",
      "Epoch 105/500\n",
      "12/12 [==============================] - 1s 74ms/step - loss: 0.4115 - accuracy: 0.8343 - val_loss: 0.6508 - val_accuracy: 0.7562\n",
      "Epoch 106/500\n",
      "12/12 [==============================] - 1s 69ms/step - loss: 0.4123 - accuracy: 0.8370 - val_loss: 0.6868 - val_accuracy: 0.7562\n",
      "Epoch 107/500\n",
      "12/12 [==============================] - 1s 68ms/step - loss: 0.3891 - accuracy: 0.8447 - val_loss: 0.6356 - val_accuracy: 0.7535\n",
      "Epoch 108/500\n",
      "12/12 [==============================] - 1s 69ms/step - loss: 0.3823 - accuracy: 0.8516 - val_loss: 0.6659 - val_accuracy: 0.7258\n",
      "Epoch 109/500\n",
      "12/12 [==============================] - 1s 71ms/step - loss: 0.3550 - accuracy: 0.8669 - val_loss: 0.6686 - val_accuracy: 0.7452\n",
      "Epoch 110/500\n",
      "12/12 [==============================] - 1s 69ms/step - loss: 0.3778 - accuracy: 0.8488 - val_loss: 0.6438 - val_accuracy: 0.7507\n",
      "Epoch 111/500\n",
      "12/12 [==============================] - 1s 68ms/step - loss: 0.3929 - accuracy: 0.8460 - val_loss: 0.6516 - val_accuracy: 0.7673\n",
      "Epoch 112/500\n",
      "12/12 [==============================] - 1s 70ms/step - loss: 0.3627 - accuracy: 0.8558 - val_loss: 0.6295 - val_accuracy: 0.7507\n",
      "Epoch 113/500\n",
      "12/12 [==============================] - 1s 73ms/step - loss: 0.3706 - accuracy: 0.8634 - val_loss: 0.6366 - val_accuracy: 0.7535\n",
      "Epoch 114/500\n",
      "12/12 [==============================] - 1s 72ms/step - loss: 0.3817 - accuracy: 0.8571 - val_loss: 0.6484 - val_accuracy: 0.7368\n",
      "Epoch 115/500\n",
      "12/12 [==============================] - 1s 72ms/step - loss: 0.3578 - accuracy: 0.8599 - val_loss: 0.6618 - val_accuracy: 0.7368\n",
      "Epoch 116/500\n",
      "12/12 [==============================] - 1s 74ms/step - loss: 0.3820 - accuracy: 0.8460 - val_loss: 0.6533 - val_accuracy: 0.7839\n",
      "Epoch 117/500\n",
      "12/12 [==============================] - 1s 68ms/step - loss: 0.3568 - accuracy: 0.8696 - val_loss: 0.6425 - val_accuracy: 0.7424\n",
      "Epoch 118/500\n",
      "12/12 [==============================] - 1s 69ms/step - loss: 0.3693 - accuracy: 0.8578 - val_loss: 0.6438 - val_accuracy: 0.7701\n",
      "Epoch 119/500\n",
      "12/12 [==============================] - 1s 76ms/step - loss: 0.3430 - accuracy: 0.8766 - val_loss: 0.6316 - val_accuracy: 0.7507\n",
      "Epoch 120/500\n",
      "12/12 [==============================] - 1s 75ms/step - loss: 0.3557 - accuracy: 0.8675 - val_loss: 0.6103 - val_accuracy: 0.7701\n",
      "Epoch 121/500\n",
      "12/12 [==============================] - 1s 70ms/step - loss: 0.3514 - accuracy: 0.8655 - val_loss: 0.6167 - val_accuracy: 0.7867\n",
      "Epoch 122/500\n",
      "12/12 [==============================] - 1s 70ms/step - loss: 0.3099 - accuracy: 0.8793 - val_loss: 0.6284 - val_accuracy: 0.7701\n",
      "Epoch 123/500\n",
      "12/12 [==============================] - 1s 70ms/step - loss: 0.3112 - accuracy: 0.8807 - val_loss: 0.6486 - val_accuracy: 0.7618\n",
      "Epoch 124/500\n",
      "12/12 [==============================] - 1s 69ms/step - loss: 0.3163 - accuracy: 0.8828 - val_loss: 0.6562 - val_accuracy: 0.7479\n",
      "Epoch 125/500\n",
      "12/12 [==============================] - 1s 78ms/step - loss: 0.3318 - accuracy: 0.8689 - val_loss: 0.6979 - val_accuracy: 0.7424\n",
      "Epoch 126/500\n",
      "12/12 [==============================] - 1s 70ms/step - loss: 0.3276 - accuracy: 0.8759 - val_loss: 0.6296 - val_accuracy: 0.7562\n",
      "Epoch 127/500\n",
      "12/12 [==============================] - 1s 69ms/step - loss: 0.3353 - accuracy: 0.8599 - val_loss: 0.6983 - val_accuracy: 0.7535\n",
      "Epoch 128/500\n",
      "12/12 [==============================] - 1s 72ms/step - loss: 0.2989 - accuracy: 0.8890 - val_loss: 0.6468 - val_accuracy: 0.7535\n",
      "Epoch 129/500\n",
      "12/12 [==============================] - 1s 69ms/step - loss: 0.3147 - accuracy: 0.8835 - val_loss: 0.6355 - val_accuracy: 0.7562\n",
      "Epoch 130/500\n",
      "12/12 [==============================] - 1s 70ms/step - loss: 0.3210 - accuracy: 0.8814 - val_loss: 0.6318 - val_accuracy: 0.7729\n",
      "Epoch 131/500\n",
      "12/12 [==============================] - 1s 69ms/step - loss: 0.3790 - accuracy: 0.8502 - val_loss: 0.7092 - val_accuracy: 0.7368\n",
      "Epoch 132/500\n",
      "12/12 [==============================] - 1s 73ms/step - loss: 0.3450 - accuracy: 0.8669 - val_loss: 0.6367 - val_accuracy: 0.7673\n",
      "Epoch 133/500\n",
      "12/12 [==============================] - 1s 71ms/step - loss: 0.3031 - accuracy: 0.8897 - val_loss: 0.6296 - val_accuracy: 0.7673\n",
      "Epoch 134/500\n",
      "12/12 [==============================] - 1s 69ms/step - loss: 0.2994 - accuracy: 0.8870 - val_loss: 0.6181 - val_accuracy: 0.7756\n",
      "Epoch 135/500\n",
      "12/12 [==============================] - 1s 69ms/step - loss: 0.3044 - accuracy: 0.8738 - val_loss: 0.6018 - val_accuracy: 0.7950\n",
      "Epoch 136/500\n",
      "12/12 [==============================] - 1s 74ms/step - loss: 0.2854 - accuracy: 0.8932 - val_loss: 0.6171 - val_accuracy: 0.7784\n",
      "Epoch 137/500\n",
      "12/12 [==============================] - 1s 69ms/step - loss: 0.3064 - accuracy: 0.8856 - val_loss: 0.6270 - val_accuracy: 0.7812\n",
      "Epoch 138/500\n",
      "12/12 [==============================] - 1s 69ms/step - loss: 0.3025 - accuracy: 0.8828 - val_loss: 0.5903 - val_accuracy: 0.7839\n",
      "Epoch 139/500\n",
      "12/12 [==============================] - 1s 69ms/step - loss: 0.2717 - accuracy: 0.8967 - val_loss: 0.6633 - val_accuracy: 0.7535\n",
      "Epoch 140/500\n",
      "12/12 [==============================] - 1s 74ms/step - loss: 0.2819 - accuracy: 0.8766 - val_loss: 0.6079 - val_accuracy: 0.7784\n",
      "Epoch 141/500\n",
      "12/12 [==============================] - 1s 69ms/step - loss: 0.2980 - accuracy: 0.8807 - val_loss: 0.6418 - val_accuracy: 0.7701\n",
      "Epoch 142/500\n",
      "12/12 [==============================] - 1s 73ms/step - loss: 0.2567 - accuracy: 0.9078 - val_loss: 0.6307 - val_accuracy: 0.7756\n",
      "Epoch 143/500\n",
      "12/12 [==============================] - 1s 70ms/step - loss: 0.2648 - accuracy: 0.8932 - val_loss: 0.6277 - val_accuracy: 0.7784\n",
      "Epoch 144/500\n",
      "12/12 [==============================] - 1s 74ms/step - loss: 0.2538 - accuracy: 0.9078 - val_loss: 0.6625 - val_accuracy: 0.7618\n",
      "Epoch 145/500\n",
      "12/12 [==============================] - 1s 69ms/step - loss: 0.2705 - accuracy: 0.8953 - val_loss: 0.6192 - val_accuracy: 0.7784\n",
      "Epoch 146/500\n",
      "12/12 [==============================] - 1s 70ms/step - loss: 0.2700 - accuracy: 0.9029 - val_loss: 0.6682 - val_accuracy: 0.8006\n",
      "Epoch 147/500\n",
      "12/12 [==============================] - 1s 69ms/step - loss: 0.2749 - accuracy: 0.8988 - val_loss: 0.6198 - val_accuracy: 0.7812\n",
      "Epoch 148/500\n",
      "12/12 [==============================] - 1s 74ms/step - loss: 0.2553 - accuracy: 0.8981 - val_loss: 0.6583 - val_accuracy: 0.7784\n",
      "Epoch 149/500\n",
      "12/12 [==============================] - 1s 69ms/step - loss: 0.2674 - accuracy: 0.8953 - val_loss: 0.6526 - val_accuracy: 0.7784\n",
      "Epoch 150/500\n",
      "12/12 [==============================] - 1s 73ms/step - loss: 0.2479 - accuracy: 0.9071 - val_loss: 0.6090 - val_accuracy: 0.7756\n",
      "Epoch 151/500\n",
      "12/12 [==============================] - 1s 71ms/step - loss: 0.2406 - accuracy: 0.9001 - val_loss: 0.6787 - val_accuracy: 0.7618\n",
      "Epoch 152/500\n",
      "12/12 [==============================] - 1s 73ms/step - loss: 0.3001 - accuracy: 0.8752 - val_loss: 0.7953 - val_accuracy: 0.7368\n",
      "Epoch 153/500\n",
      "12/12 [==============================] - 1s 69ms/step - loss: 0.3019 - accuracy: 0.8807 - val_loss: 0.6672 - val_accuracy: 0.7922\n",
      "Epoch 154/500\n",
      "12/12 [==============================] - 1s 69ms/step - loss: 0.2454 - accuracy: 0.9043 - val_loss: 0.6252 - val_accuracy: 0.7895\n",
      "Epoch 155/500\n",
      "12/12 [==============================] - 1s 69ms/step - loss: 0.2515 - accuracy: 0.9126 - val_loss: 0.6448 - val_accuracy: 0.7645\n",
      "Epoch 156/500\n",
      "12/12 [==============================] - 1s 75ms/step - loss: 0.2732 - accuracy: 0.9050 - val_loss: 0.6357 - val_accuracy: 0.7784\n",
      "Epoch 157/500\n",
      "12/12 [==============================] - 1s 68ms/step - loss: 0.2614 - accuracy: 0.9029 - val_loss: 0.7018 - val_accuracy: 0.7812\n",
      "Epoch 158/500\n",
      "12/12 [==============================] - 1s 68ms/step - loss: 0.2666 - accuracy: 0.8939 - val_loss: 0.6134 - val_accuracy: 0.7701\n",
      "Epoch 159/500\n",
      "12/12 [==============================] - 1s 68ms/step - loss: 0.2536 - accuracy: 0.9126 - val_loss: 0.6557 - val_accuracy: 0.7729\n",
      "Epoch 160/500\n",
      "12/12 [==============================] - 1s 73ms/step - loss: 0.2672 - accuracy: 0.9064 - val_loss: 0.6112 - val_accuracy: 0.7867\n",
      "Epoch 161/500\n",
      "12/12 [==============================] - 1s 69ms/step - loss: 0.2587 - accuracy: 0.9008 - val_loss: 0.5941 - val_accuracy: 0.7701\n",
      "Epoch 162/500\n",
      "12/12 [==============================] - 1s 69ms/step - loss: 0.2371 - accuracy: 0.9126 - val_loss: 0.6448 - val_accuracy: 0.7784\n",
      "Epoch 163/500\n",
      "12/12 [==============================] - 1s 74ms/step - loss: 0.2268 - accuracy: 0.9209 - val_loss: 0.6449 - val_accuracy: 0.7978\n",
      "Epoch 164/500\n",
      "12/12 [==============================] - 1s 68ms/step - loss: 0.2309 - accuracy: 0.9209 - val_loss: 0.6360 - val_accuracy: 0.7978\n",
      "Epoch 165/500\n",
      "12/12 [==============================] - 1s 68ms/step - loss: 0.2242 - accuracy: 0.9112 - val_loss: 0.6476 - val_accuracy: 0.7839\n",
      "Epoch 166/500\n",
      "12/12 [==============================] - 1s 69ms/step - loss: 0.2313 - accuracy: 0.9161 - val_loss: 0.6128 - val_accuracy: 0.7784\n"
     ]
    }
   ],
   "source": [
    "history = model.fit(\n",
    "    xtrain,\n",
    "    ytrain,\n",
    "    batch_size = 128,\n",
    "    epochs = 500,\n",
    "    validation_data=(xval,yval),\n",
    "    verbose=1,callbacks=[es]\n",
    "    )"
   ]
  },
  {
   "cell_type": "markdown",
   "metadata": {
    "id": "xQ2Koxsz0Zun"
   },
   "source": [
    "# 訓練過程評估"
   ]
  },
  {
   "attachments": {},
   "cell_type": "markdown",
   "metadata": {},
   "source": [
    "https://sharegpt.com/c/1CqBYQz"
   ]
  },
  {
   "cell_type": "code",
   "execution_count": 259,
   "metadata": {
    "colab": {
     "base_uri": "https://localhost:8080/",
     "height": 265
    },
    "id": "2SxJIEDzbaZ7",
    "outputId": "a497d834-d543-4515-ddca-128e29314047"
   },
   "outputs": [
    {
     "data": {
      "image/png": "[encoded data removed]",
      "text/plain": [
       "<Figure size 640x480 with 2 Axes>"
      ]
     },
     "metadata": {},
     "output_type": "display_data"
    }
   ],
   "source": [
    "import matplotlib.pyplot as plt\n",
    "fig, ax = plt.subplots(2,1)\n",
    "ax[0].plot(history.history['loss'], color='b', label=\"Training loss\")\n",
    "ax[0].plot(history.history['val_loss'], color='r', label=\"Validation loss\",axes =ax[0])\n",
    "ax[0].grid(color='black', linestyle='-', linewidth=0.25)\n",
    "legend = ax[0].legend(loc='best', shadow=True)\n",
    "\n",
    "ax[1].plot(history.history['accuracy'], color='b', label=\"Training accuracy\")\n",
    "ax[1].plot(history.history['val_accuracy'], color='r',label=\"Validation accuracy\")\n",
    "ax[1].grid(color='black', linestyle='-', linewidth=0.25)\n",
    "legend = ax[1].legend(loc='best', shadow=True)"
   ]
  },
  {
   "cell_type": "markdown",
   "metadata": {
    "id": "zWVmgHz80cCp"
   },
   "source": [
    "# 混淆矩陣"
   ]
  },
  {
   "attachments": {},
   "cell_type": "markdown",
   "metadata": {},
   "source": [
    "https://sharegpt.com/c/0SZ8tM0"
   ]
  },
  {
   "cell_type": "code",
   "execution_count": 260,
   "metadata": {
    "colab": {
     "base_uri": "https://localhost:8080/",
     "height": 328
    },
    "id": "UH5CcmX6btme",
    "outputId": "7d92e0fe-f376-4a04-fc2a-6b7f16d4c946"
   },
   "outputs": [
    {
     "name": "stdout",
     "output_type": "stream",
     "text": [
      "12/12 [==============================] - 0s 5ms/step\n"
     ]
    },
    {
     "data": {
      "image/png": "[encoded data removed]",
      "text/plain": [
       "<Figure size 640x480 with 2 Axes>"
      ]
     },
     "metadata": {},
     "output_type": "display_data"
    }
   ],
   "source": [
    "from sklearn.metrics import confusion_matrix\n",
    "import itertools\n",
    "\n",
    "def plot_confusion_matrix(cm, classes, normalize=False, title='Confusion matrix', cmap=plt.cm.Blues):\n",
    "    plt.imshow(cm, interpolation='nearest', cmap=cmap)\n",
    "    plt.title(title)\n",
    "    plt.colorbar()\n",
    "    tick_marks = np.arange(len(classes))\n",
    "    plt.xticks(tick_marks, classes, rotation=45)\n",
    "    plt.yticks(tick_marks, classes)\n",
    "    if normalize:\n",
    "        cm = cm.astype('float') / cm.sum(axis=1)[:, np.newaxis]\n",
    "    thresh = cm.max() / 2.\n",
    "    for i, j in itertools.product(range(cm.shape[0]), range(cm.shape[1])):\n",
    "        plt.text(j, i, cm[i, j],\n",
    "                 horizontalalignment=\"center\",\n",
    "                 color=\"white\" if cm[i, j] > thresh else \"black\")\n",
    "    plt.tight_layout()\n",
    "    plt.ylabel('True label')\n",
    "    plt.xlabel('Predicted label')\n",
    "\n",
    "#預測的y\n",
    "ypred_onehot = model.predict(xval)\n",
    "#轉換預測的y: [0 0 1 0 0 ...] --> 2\n",
    "ypred = np.argmax(ypred_onehot,axis=1)\n",
    "#轉換真實的y\n",
    "ytrue = np.argmax(yval,axis=1)\n",
    "#計算 confusion matrix\n",
    "confusion_mtx = confusion_matrix(ytrue, ypred)\n",
    "#畫出 confusion matrix\n",
    "plot_confusion_matrix(confusion_mtx, classes=range(nclasses))"
   ]
  },
  {
   "cell_type": "markdown",
   "metadata": {
    "id": "PmgafP2rpjAO"
   },
   "source": [
    "# 分類report"
   ]
  },
  {
   "cell_type": "markdown",
   "metadata": {
    "id": "zXQ8o9mj1Ydh"
   },
   "source": [
    "轉換預測結果"
   ]
  },
  {
   "cell_type": "code",
   "execution_count": 261,
   "metadata": {
    "colab": {
     "base_uri": "https://localhost:8080/"
    },
    "id": "lCSuw9cYqEYk",
    "outputId": "12988b1c-4618-41aa-ec20-6b63e25b499a"
   },
   "outputs": [
    {
     "name": "stdout",
     "output_type": "stream",
     "text": [
      "12/12 [==============================] - 0s 5ms/step\n",
      "[[0. 0. 1.]\n",
      " [0. 1. 0.]\n",
      " [0. 1. 0.]\n",
      " [0. 1. 0.]\n",
      " [0. 1. 0.]]\n"
     ]
    }
   ],
   "source": [
    "y_pred = model.predict(xval)\n",
    "y_pred = [np.argmax(i) for i in y_pred]\n",
    "y_pred = to_categorical(y_pred, num_classes = 3)\n",
    "print(y_pred[:5])"
   ]
  },
  {
   "cell_type": "markdown",
   "metadata": {
    "id": "XrHrpsVb1avA"
   },
   "source": [
    "真實y值"
   ]
  },
  {
   "cell_type": "code",
   "execution_count": 262,
   "metadata": {
    "colab": {
     "base_uri": "https://localhost:8080/"
    },
    "id": "T2tyxRdo1Mqm",
    "outputId": "d88ad58c-87b4-4b14-ca6b-0146f0419848"
   },
   "outputs": [
    {
     "name": "stdout",
     "output_type": "stream",
     "text": [
      "[[0. 0. 1.]\n",
      " [0. 1. 0.]\n",
      " [0. 1. 0.]\n",
      " [0. 1. 0.]\n",
      " [0. 0. 1.]]\n"
     ]
    }
   ],
   "source": [
    "print(yval[:5])"
   ]
  },
  {
   "cell_type": "markdown",
   "metadata": {
    "id": "wztZOw2r1ddE"
   },
   "source": [
    "# 分類報告"
   ]
  },
  {
   "cell_type": "code",
   "execution_count": 263,
   "metadata": {
    "colab": {
     "base_uri": "https://localhost:8080/"
    },
    "id": "dl9iTLBf2VOe",
    "outputId": "7455eb27-8073-4de9-f1f9-8dc718fa7e73"
   },
   "outputs": [
    {
     "data": {
      "text/plain": [
       "0.8005540166204986"
      ]
     },
     "execution_count": 263,
     "metadata": {},
     "output_type": "execute_result"
    }
   ],
   "source": [
    "def 勝率(yval,y_pred):\n",
    "  t = []\n",
    "  for i,j in zip(yval,y_pred):\n",
    "    t.append(np.allclose(i,j))\n",
    "  return np.mean(t)\n",
    "勝率(yval,y_pred)"
   ]
  },
  {
   "cell_type": "code",
   "execution_count": 264,
   "metadata": {
    "colab": {
     "base_uri": "https://localhost:8080/"
    },
    "id": "vzMaU-Y8pjJT",
    "outputId": "aaa9c419-69f7-40dc-8085-20616c375896"
   },
   "outputs": [
    {
     "name": "stdout",
     "output_type": "stream",
     "text": [
      "              precision    recall  f1-score   support\n",
      "\n",
      "        Hold       0.81      0.79      0.80       121\n",
      "         BUY       0.85      0.74      0.79       120\n",
      "        SELL       0.76      0.87      0.81       120\n",
      "\n",
      "   micro avg       0.80      0.80      0.80       361\n",
      "   macro avg       0.80      0.80      0.80       361\n",
      "weighted avg       0.80      0.80      0.80       361\n",
      " samples avg       0.80      0.80      0.80       361\n",
      "\n"
     ]
    }
   ],
   "source": [
    "from sklearn.metrics import classification_report \n",
    "target_names = ['Hold','BUY','SELL']\n",
    "print(classification_report(yval,y_pred,target_names=target_names))"
   ]
  },
  {
   "attachments": {},
   "cell_type": "markdown",
   "metadata": {
    "id": "togdM5Afo71w"
   },
   "source": [
    "## 測試集預測"
   ]
  },
  {
   "cell_type": "code",
   "execution_count": 265,
   "metadata": {
    "colab": {
     "base_uri": "https://localhost:8080/"
    },
    "id": "kQqzNPdQo8GW",
    "outputId": "91b19ef9-4e17-491c-aa11-3e8f9d65a21e"
   },
   "outputs": [
    {
     "name": "stdout",
     "output_type": "stream",
     "text": [
      "2/2 [==============================] - 0s 4ms/step\n",
      "40\n"
     ]
    }
   ],
   "source": [
    "answer = model.predict(X_test)\n",
    "answer = [ np.argmax(i) for i in answer]\n",
    "print(len(answer))"
   ]
  },
  {
   "attachments": {},
   "cell_type": "markdown",
   "metadata": {
    "id": "FOBO-SgaBHMx"
   },
   "source": [
    "# 預測結果"
   ]
  },
  {
   "cell_type": "code",
   "execution_count": 266,
   "metadata": {
    "colab": {
     "base_uri": "https://localhost:8080/",
     "height": 349
    },
    "id": "YHzRjtab0pr-",
    "outputId": "9415c9bf-a648-4115-98fd-9f2c2144152a"
   },
   "outputs": [
    {
     "name": "stdout",
     "output_type": "stream",
     "text": [
      "[*********************100%***********************]  1 of 1 completed\n"
     ]
    },
    {
     "data": {
      "text/plain": [
       "<matplotlib.collections.PathCollection at 0x1ed313c9640>"
      ]
     },
     "execution_count": 266,
     "metadata": {},
     "output_type": "execute_result"
    },
    {
     "data": {
      "image/png": "[encoded data removed]",
      "text/plain": [
       "<Figure size 640x480 with 1 Axes>"
      ]
     },
     "metadata": {},
     "output_type": "display_data"
    }
   ],
   "source": [
    "C = pd.DataFrame()\n",
    "C['Close'] = pdr.get_data_yahoo(y_symbols, start=startdate, end=enddate)['Close']\n",
    "C['SIGNAL'] = 0\n",
    "C = C.tail(len(answer))\n",
    "C['SIGNAL'] = answer \n",
    "buy = C[C['SIGNAL']==1]['Close']\n",
    "sell = C[C['SIGNAL']==2]['Close']\n",
    "C['Close'].plot()\n",
    "plt.scatter(list(buy.index),list(buy.values),color='red',marker=\"^\")\n",
    "plt.scatter(list(sell.index),list(sell.values),color='black')"
   ]
  },
  {
   "cell_type": "code",
   "execution_count": 267,
   "metadata": {
    "colab": {
     "base_uri": "https://localhost:8080/",
     "height": 290
    },
    "id": "Mhqp36TP3GPc",
    "outputId": "423849a7-b350-4c89-f307-2ce00a2851e2"
   },
   "outputs": [
    {
     "name": "stdout",
     "output_type": "stream",
     "text": [
      "2/2 [==============================] - 0s 5ms/step\n",
      "2/2 [==============================] - 0s 5ms/step\n",
      "2/2 [==============================] - 0s 5ms/step\n"
     ]
    },
    {
     "data": {
      "text/html": [
       "<div>\n",
       "<style scoped>\n",
       "    .dataframe tbody tr th:only-of-type {\n",
       "        vertical-align: middle;\n",
       "    }\n",
       "\n",
       "    .dataframe tbody tr th {\n",
       "        vertical-align: top;\n",
       "    }\n",
       "\n",
       "    .dataframe thead th {\n",
       "        text-align: right;\n",
       "    }\n",
       "</style>\n",
       "<table border=\"1\" class=\"dataframe\">\n",
       "  <thead>\n",
       "    <tr style=\"text-align: right;\">\n",
       "      <th></th>\n",
       "      <th>Close</th>\n",
       "      <th>HOLD%</th>\n",
       "      <th>BUY%</th>\n",
       "      <th>SELL%</th>\n",
       "    </tr>\n",
       "    <tr>\n",
       "      <th>Date</th>\n",
       "      <th></th>\n",
       "      <th></th>\n",
       "      <th></th>\n",
       "      <th></th>\n",
       "    </tr>\n",
       "  </thead>\n",
       "  <tbody>\n",
       "    <tr>\n",
       "      <th>2017-12-04</th>\n",
       "      <td>10651.1104</td>\n",
       "      <td>0.2818</td>\n",
       "      <td>0.7169</td>\n",
       "      <td>0.0013</td>\n",
       "    </tr>\n",
       "    <tr>\n",
       "      <th>2017-12-05</th>\n",
       "      <td>10566.8496</td>\n",
       "      <td>0.3200</td>\n",
       "      <td>0.6789</td>\n",
       "      <td>0.0011</td>\n",
       "    </tr>\n",
       "    <tr>\n",
       "      <th>2017-12-06</th>\n",
       "      <td>10393.9199</td>\n",
       "      <td>0.4188</td>\n",
       "      <td>0.5803</td>\n",
       "      <td>0.0009</td>\n",
       "    </tr>\n",
       "    <tr>\n",
       "      <th>2017-12-07</th>\n",
       "      <td>10355.7598</td>\n",
       "      <td>0.3002</td>\n",
       "      <td>0.6996</td>\n",
       "      <td>0.0002</td>\n",
       "    </tr>\n",
       "    <tr>\n",
       "      <th>2017-12-08</th>\n",
       "      <td>10398.6201</td>\n",
       "      <td>0.1182</td>\n",
       "      <td>0.8818</td>\n",
       "      <td>0.0001</td>\n",
       "    </tr>\n",
       "    <tr>\n",
       "      <th>2017-12-11</th>\n",
       "      <td>10473.0898</td>\n",
       "      <td>0.0968</td>\n",
       "      <td>0.9031</td>\n",
       "      <td>0.0000</td>\n",
       "    </tr>\n",
       "    <tr>\n",
       "      <th>2017-12-12</th>\n",
       "      <td>10443.2803</td>\n",
       "      <td>0.0705</td>\n",
       "      <td>0.9295</td>\n",
       "      <td>0.0000</td>\n",
       "    </tr>\n",
       "    <tr>\n",
       "      <th>2017-12-13</th>\n",
       "      <td>10470.7002</td>\n",
       "      <td>0.0704</td>\n",
       "      <td>0.9296</td>\n",
       "      <td>0.0000</td>\n",
       "    </tr>\n",
       "    <tr>\n",
       "      <th>2017-12-14</th>\n",
       "      <td>10538.0098</td>\n",
       "      <td>0.0922</td>\n",
       "      <td>0.9078</td>\n",
       "      <td>0.0000</td>\n",
       "    </tr>\n",
       "    <tr>\n",
       "      <th>2017-12-15</th>\n",
       "      <td>10491.4404</td>\n",
       "      <td>0.4331</td>\n",
       "      <td>0.5667</td>\n",
       "      <td>0.0002</td>\n",
       "    </tr>\n",
       "    <tr>\n",
       "      <th>2017-12-18</th>\n",
       "      <td>10506.5195</td>\n",
       "      <td>0.8966</td>\n",
       "      <td>0.1022</td>\n",
       "      <td>0.0012</td>\n",
       "    </tr>\n",
       "    <tr>\n",
       "      <th>2017-12-19</th>\n",
       "      <td>10467.3398</td>\n",
       "      <td>0.9909</td>\n",
       "      <td>0.0069</td>\n",
       "      <td>0.0023</td>\n",
       "    </tr>\n",
       "    <tr>\n",
       "      <th>2017-12-20</th>\n",
       "      <td>10504.5195</td>\n",
       "      <td>0.9940</td>\n",
       "      <td>0.0025</td>\n",
       "      <td>0.0035</td>\n",
       "    </tr>\n",
       "    <tr>\n",
       "      <th>2017-12-21</th>\n",
       "      <td>10488.9697</td>\n",
       "      <td>0.9935</td>\n",
       "      <td>0.0032</td>\n",
       "      <td>0.0032</td>\n",
       "    </tr>\n",
       "    <tr>\n",
       "      <th>2017-12-22</th>\n",
       "      <td>10537.2695</td>\n",
       "      <td>0.9937</td>\n",
       "      <td>0.0022</td>\n",
       "      <td>0.0041</td>\n",
       "    </tr>\n",
       "    <tr>\n",
       "      <th>2017-12-25</th>\n",
       "      <td>10522.4902</td>\n",
       "      <td>0.9717</td>\n",
       "      <td>0.0118</td>\n",
       "      <td>0.0164</td>\n",
       "    </tr>\n",
       "    <tr>\n",
       "      <th>2017-12-26</th>\n",
       "      <td>10421.9102</td>\n",
       "      <td>0.5830</td>\n",
       "      <td>0.3072</td>\n",
       "      <td>0.1098</td>\n",
       "    </tr>\n",
       "    <tr>\n",
       "      <th>2017-12-27</th>\n",
       "      <td>10486.6699</td>\n",
       "      <td>0.3734</td>\n",
       "      <td>0.4695</td>\n",
       "      <td>0.1571</td>\n",
       "    </tr>\n",
       "    <tr>\n",
       "      <th>2017-12-28</th>\n",
       "      <td>10567.6396</td>\n",
       "      <td>0.3341</td>\n",
       "      <td>0.4885</td>\n",
       "      <td>0.1774</td>\n",
       "    </tr>\n",
       "    <tr>\n",
       "      <th>2017-12-29</th>\n",
       "      <td>10642.8604</td>\n",
       "      <td>0.3509</td>\n",
       "      <td>0.4616</td>\n",
       "      <td>0.1875</td>\n",
       "    </tr>\n",
       "  </tbody>\n",
       "</table>\n",
       "</div>"
      ],
      "text/plain": [
       "                Close  HOLD%   BUY%  SELL%\n",
       "Date                                      \n",
       "2017-12-04 10651.1104 0.2818 0.7169 0.0013\n",
       "2017-12-05 10566.8496 0.3200 0.6789 0.0011\n",
       "2017-12-06 10393.9199 0.4188 0.5803 0.0009\n",
       "2017-12-07 10355.7598 0.3002 0.6996 0.0002\n",
       "2017-12-08 10398.6201 0.1182 0.8818 0.0001\n",
       "2017-12-11 10473.0898 0.0968 0.9031 0.0000\n",
       "2017-12-12 10443.2803 0.0705 0.9295 0.0000\n",
       "2017-12-13 10470.7002 0.0704 0.9296 0.0000\n",
       "2017-12-14 10538.0098 0.0922 0.9078 0.0000\n",
       "2017-12-15 10491.4404 0.4331 0.5667 0.0002\n",
       "2017-12-18 10506.5195 0.8966 0.1022 0.0012\n",
       "2017-12-19 10467.3398 0.9909 0.0069 0.0023\n",
       "2017-12-20 10504.5195 0.9940 0.0025 0.0035\n",
       "2017-12-21 10488.9697 0.9935 0.0032 0.0032\n",
       "2017-12-22 10537.2695 0.9937 0.0022 0.0041\n",
       "2017-12-25 10522.4902 0.9717 0.0118 0.0164\n",
       "2017-12-26 10421.9102 0.5830 0.3072 0.1098\n",
       "2017-12-27 10486.6699 0.3734 0.4695 0.1571\n",
       "2017-12-28 10567.6396 0.3341 0.4885 0.1774\n",
       "2017-12-29 10642.8604 0.3509 0.4616 0.1875"
      ]
     },
     "execution_count": 267,
     "metadata": {},
     "output_type": "execute_result"
    }
   ],
   "source": [
    "import pandas as pd\n",
    "# Set the float_format option to not use scientific notation\n",
    "pd.set_option('display.float_format', '{:.4f}'.format)\n",
    "np.set_printoptions(suppress=True)\n",
    "C['HOLD%'] = model.predict(X_test)[:,0]\n",
    "C['BUY%'] = model.predict(X_test)[:,1]\n",
    "C['SELL%'] = model.predict(X_test)[:,2]\n",
    "C.drop(['SIGNAL'],axis=1).tail(20)"
   ]
  },
  {
   "cell_type": "markdown",
   "metadata": {
    "id": "uzCeo-ctGg-o"
   },
   "source": [
    "# save model"
   ]
  },
  {
   "cell_type": "code",
   "execution_count": 268,
   "metadata": {
    "id": "M2fvxlPnBG7r"
   },
   "outputs": [],
   "source": [
    "model.save('model.h5')\n",
    "del model"
   ]
  },
  {
   "cell_type": "code",
   "execution_count": 269,
   "metadata": {
    "colab": {
     "base_uri": "https://localhost:8080/"
    },
    "id": "jmAS95PdG0DX",
    "outputId": "9cbd24da-08fc-43d8-bfdd-421d7b99712d"
   },
   "outputs": [
    {
     "name": "stdout",
     "output_type": "stream",
     "text": [
      "2/2 [==============================] - 0s 5ms/step\n"
     ]
    }
   ],
   "source": [
    "from keras.models import load_model\n",
    "model = load_model('model.h5')\n",
    "predict = model.predict(X_test)"
   ]
  },
  {
   "cell_type": "code",
   "execution_count": 270,
   "metadata": {
    "colab": {
     "base_uri": "https://localhost:8080/"
    },
    "id": "x70kJQN2HBc_",
    "outputId": "e5876ace-2a9c-4a1f-b005-a5e2462a550a"
   },
   "outputs": [
    {
     "data": {
      "text/plain": [
       "array([[0.97172666, 0.01182356, 0.01644986],\n",
       "       [0.58300585, 0.30719423, 0.10979991],\n",
       "       [0.3733571 , 0.46952087, 0.15712203],\n",
       "       [0.33405432, 0.48853847, 0.17740728],\n",
       "       [0.35090256, 0.46159416, 0.18750326]], dtype=float32)"
      ]
     },
     "execution_count": 270,
     "metadata": {},
     "output_type": "execute_result"
    }
   ],
   "source": [
    "predict[-5:]"
   ]
  },
  {
   "cell_type": "code",
   "execution_count": null,
   "metadata": {
    "id": "e51I2mMLHKe1"
   },
   "outputs": [],
   "source": []
  }
 ],
 "metadata": {
  "accelerator": "GPU",
  "colab": {
   "include_colab_link": true,
   "name": "CNN_stock.ipynb",
   "provenance": []
  },
  "kernelspec": {
   "display_name": "base",
   "language": "python",
   "name": "python3"
  },
  "language_info": {
   "codemirror_mode": {
    "name": "ipython",
    "version": 3
   },
   "file_extension": ".py",
   "mimetype": "text/x-python",
   "name": "python",
   "nbconvert_exporter": "python",
   "pygments_lexer": "ipython3",
   "version": "3.9.13"
  },
  "vscode": {
   "interpreter": {
    "hash": "57bc2b6ce032b5f0e93daa91901b7ea38a856826ef43aa9e95b6d3999f5310df"
   }
  }
 },
 "nbformat": 4,
 "nbformat_minor": 1
}

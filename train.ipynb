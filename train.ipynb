  {
   "cell_type": "code",
   "execution_count": 41,
   "metadata": {
    "id": "XTORNlRNWTAE"
   },
   "outputs": [],
   "source": [
    "#!pip install yfinance\n",
    "#!pip install finta\n",
    "#!pip install --upgrade pandas\n",
    "#!pip install --upgrade pandas-datareader"
   ]
  },
  {
   "cell_type": "markdown",
   "metadata": {},
   "source": [
    "# 參數"
   ]
  },
  {
   "cell_type": "code",
   "execution_count": 42,
   "metadata": {},
   "outputs": [],
   "source": [
    "from datetime import datetime\n",
    "y_symbols = [\"^TWII\"] # 股票代碼 ^TWII 台灣加權指數 美股蘋果 AAPL 台股台積電 2330.TW\n",
    "startdate = datetime(2008,1,1) # 訓練起始日期\n",
    "enddate = datetime(2018,1,1) # 訓練結束日期\n",
    "漲幅  = 1.03 # 漲3%出場\n",
    "跌幅 = 0.97 # 跌3%出場\n",
    "持有時間 = 20 #預期要持有多長時間"
   ]
  },
  {
   "cell_type": "markdown",
   "metadata": {
    "id": "6vaRLIuvJlZ7"
   },
   "source": [
    "# 載入資料"
   ]
  },
  {
   "cell_type": "markdown",
   "metadata": {},
   "source": [
    "https://sharegpt.com/c/nwqFGKt"
   ]
  },
  {
   "cell_type": "code",
   "execution_count": 43,
   "metadata": {
    "colab": {
     "base_uri": "https://localhost:8080/",
     "height": 367
    },
    "id": "6rjcBk4sWHYE",
    "outputId": "c29b3370-5d64-4c46-8149-33871512419b"
   },
   "outputs": [
    {
     "name": "stdout",
     "output_type": "stream",
     "text": [
      "[*********************100%***********************]  1 of 1 completed\n"
     ]
    },
    {
     "data": {
      "text/html": [
       "<div>\n",
       "<style scoped>\n",
       "    .dataframe tbody tr th:only-of-type {\n",
       "        vertical-align: middle;\n",
       "    }\n",
       "\n",
       "    .dataframe tbody tr th {\n",
       "        vertical-align: top;\n",
       "    }\n",
       "\n",
       "    .dataframe thead th {\n",
       "        text-align: right;\n",
       "    }\n",
       "</style>\n",
       "<table border=\"1\" class=\"dataframe\">\n",
       "  <thead>\n",
       "    <tr style=\"text-align: right;\">\n",
       "      <th></th>\n",
       "      <th>Open</th>\n",
       "      <th>High</th>\n",
       "      <th>Low</th>\n",
       "      <th>Close</th>\n",
       "      <th>Adj Close</th>\n",
       "      <th>Volume</th>\n",
       "    </tr>\n",
       "    <tr>\n",
       "      <th>Date</th>\n",
       "      <th></th>\n",
       "      <th></th>\n",
       "      <th></th>\n",
       "      <th></th>\n",
       "      <th></th>\n",
       "      <th></th>\n",
       "    </tr>\n",
       "  </thead>\n",
       "  <tbody>\n",
       "    <tr>\n",
       "      <th>2018-03-12</th>\n",
       "      <td>10908.990234</td>\n",
       "      <td>11016.559570</td>\n",
       "      <td>10908.990234</td>\n",
       "      <td>11002.099609</td>\n",
       "      <td>11002.099609</td>\n",
       "      <td>2759800</td>\n",
       "    </tr>\n",
       "    <tr>\n",
       "      <th>2018-03-13</th>\n",
       "      <td>11022.150391</td>\n",
       "      <td>11095.629883</td>\n",
       "      <td>11014.870117</td>\n",
       "      <td>11095.629883</td>\n",
       "      <td>11095.629883</td>\n",
       "      <td>2433800</td>\n",
       "    </tr>\n",
       "    <tr>\n",
       "      <th>2018-03-14</th>\n",
       "      <td>11063.730469</td>\n",
       "      <td>11070.290039</td>\n",
       "      <td>11015.469727</td>\n",
       "      <td>11038.799805</td>\n",
       "      <td>11038.799805</td>\n",
       "      <td>2331000</td>\n",
       "    </tr>\n",
       "    <tr>\n",
       "      <th>2018-03-15</th>\n",
       "      <td>11039.599609</td>\n",
       "      <td>11052.110352</td>\n",
       "      <td>11008.179688</td>\n",
       "      <td>11018.450195</td>\n",
       "      <td>11018.450195</td>\n",
       "      <td>2124400</td>\n",
       "    </tr>\n",
       "    <tr>\n",
       "      <th>2018-03-16</th>\n",
       "      <td>11010.240234</td>\n",
       "      <td>11054.860352</td>\n",
       "      <td>10933.459961</td>\n",
       "      <td>11027.700195</td>\n",
       "      <td>11027.700195</td>\n",
       "      <td>3071600</td>\n",
       "    </tr>\n",
       "    <tr>\n",
       "      <th>...</th>\n",
       "      <td>...</td>\n",
       "      <td>...</td>\n",
       "      <td>...</td>\n",
       "      <td>...</td>\n",
       "      <td>...</td>\n",
       "      <td>...</td>\n",
       "    </tr>\n",
       "    <tr>\n",
       "      <th>2023-03-06</th>\n",
       "      <td>15675.280273</td>\n",
       "      <td>15818.879883</td>\n",
       "      <td>15675.280273</td>\n",
       "      <td>15763.509766</td>\n",
       "      <td>15763.509766</td>\n",
       "      <td>3095600</td>\n",
       "    </tr>\n",
       "    <tr>\n",
       "      <th>2023-03-07</th>\n",
       "      <td>15763.870117</td>\n",
       "      <td>15879.160156</td>\n",
       "      <td>15749.040039</td>\n",
       "      <td>15857.889648</td>\n",
       "      <td>15857.889648</td>\n",
       "      <td>2944000</td>\n",
       "    </tr>\n",
       "    <tr>\n",
       "      <th>2023-03-08</th>\n",
       "      <td>15819.179688</td>\n",
       "      <td>15821.490234</td>\n",
       "      <td>15740.980469</td>\n",
       "      <td>15818.200195</td>\n",
       "      <td>15818.200195</td>\n",
       "      <td>3091600</td>\n",
       "    </tr>\n",
       "    <tr>\n",
       "      <th>2023-03-09</th>\n",
       "      <td>15827.980469</td>\n",
       "      <td>15878.750000</td>\n",
       "      <td>15770.660156</td>\n",
       "      <td>15770.660156</td>\n",
       "      <td>15770.660156</td>\n",
       "      <td>3556200</td>\n",
       "    </tr>\n",
       "    <tr>\n",
       "      <th>2023-03-10</th>\n",
       "      <td>15729.290039</td>\n",
       "      <td>15729.290039</td>\n",
       "      <td>15488.709961</td>\n",
       "      <td>15526.200195</td>\n",
       "      <td>15526.200195</td>\n",
       "      <td>0</td>\n",
       "    </tr>\n",
       "  </tbody>\n",
       "</table>\n",
       "<p>1217 rows × 6 columns</p>\n",
       "</div>"
      ],
      "text/plain": [
       "                    Open          High           Low         Close  \\\n",
       "Date                                                                 \n",
       "2018-03-12  10908.990234  11016.559570  10908.990234  11002.099609   \n",
       "2018-03-13  11022.150391  11095.629883  11014.870117  11095.629883   \n",
       "2018-03-14  11063.730469  11070.290039  11015.469727  11038.799805   \n",
       "2018-03-15  11039.599609  11052.110352  11008.179688  11018.450195   \n",
       "2018-03-16  11010.240234  11054.860352  10933.459961  11027.700195   \n",
       "...                  ...           ...           ...           ...   \n",
       "2023-03-06  15675.280273  15818.879883  15675.280273  15763.509766   \n",
       "2023-03-07  15763.870117  15879.160156  15749.040039  15857.889648   \n",
       "2023-03-08  15819.179688  15821.490234  15740.980469  15818.200195   \n",
       "2023-03-09  15827.980469  15878.750000  15770.660156  15770.660156   \n",
       "2023-03-10  15729.290039  15729.290039  15488.709961  15526.200195   \n",
       "\n",
       "               Adj Close   Volume  \n",
       "Date                               \n",
       "2018-03-12  11002.099609  2759800  \n",
       "2018-03-13  11095.629883  2433800  \n",
       "2018-03-14  11038.799805  2331000  \n",
       "2018-03-15  11018.450195  2124400  \n",
       "2018-03-16  11027.700195  3071600  \n",
       "...                  ...      ...  \n",
       "2023-03-06  15763.509766  3095600  \n",
       "2023-03-07  15857.889648  2944000  \n",
       "2023-03-08  15818.200195  3091600  \n",
       "2023-03-09  15770.660156  3556200  \n",
       "2023-03-10  15526.200195        0  \n",
       "\n",
       "[1217 rows x 6 columns]"
      ]
     },
     "metadata": {},
     "output_type": "display_data"
    }
   ],
   "source": [
    "import yfinance as yf\n",
    "from datetime import datetime, timedelta\n",
    "\n",
    "# 設定起始日期為五年前的今天\n",
    "start_date = (datetime.today() - timedelta(days=5*365)).strftime('%Y-%m-%d')\n",
    "\n",
    "# 取得^TWII的資料\n",
    "df = yf.download('^TWII', start=start_date)\n",
    "\n",
    "display(df)\n"
   ]
  },
  {
   "cell_type": "markdown",
   "metadata": {
    "id": "HegmuvBN0FKD"
   },
   "source": [
    "# Label triple_barrier"
   ]
  },
  {
   "cell_type": "markdown",
   "metadata": {},
   "source": [
    "https://sharegpt.com/c/Eir89kz"
   ]
  },
  {
   "cell_type": "code",
   "execution_count": 44,
   "metadata": {},
   "outputs": [
    {
     "name": "stderr",
     "output_type": "stream",
     "text": [
      "C:\\Users\\ricky\\AppData\\Local\\Temp/ipykernel_10260/2883698478.py:27: SettingWithCopyWarning: \n",
      "A value is trying to be set on a copy of a slice from a DataFrame.\n",
      "Try using .loc[row_indexer,col_indexer] = value instead\n",
      "\n",
      "See the caveats in the documentation: https://pandas.pydata.org/pandas-docs/stable/user_guide/indexing.html#returning-a-view-versus-a-copy\n",
      "  df['triple_barrier_signal'] = ret\n"
     ]
    }
   ],
   "source": [
    "import numpy as np\n",
    "import math\n",
    "def triple_barrier_signal(price,ub,lb,t):\n",
    "  '''\n",
    "  triple-barrier包含2個horizontal barrier，1個vertical barrier。\n",
    "  首先解釋一下這3个barrier：\n",
    "  根據3个barrier中第一個被touch的進行label\n",
    "  barrier 1 (the upper barrier)首先達到，label 1\n",
    "  barrier 2（the lower barrier)首先達到，label -1\n",
    "  如果barrier 1和barrier 2都没有達到，则barrier 3達到，label 0\n",
    "  '''\n",
    "  signal = []\n",
    "  for i in range(len(price)-t):\n",
    "    # 情況1.如果price[i:i+t+1]這段序列有任何元素的值大於price[i]*ub則signal[i] = 1\n",
    "    if max(price[i:i+t+1]) > price[i] * ub:\n",
    "      signal.append(1)\n",
    "    # 情況2.如果price[i:i+t+1]這段序列有任何元素的值低於price[i]*lb則signal[i] = -1\n",
    "    elif min(price[i:i+t+1]) < price[i] * lb:\n",
    "      signal.append(-1)\n",
    "    # 如果以上情況1和情況2都沒有發生則signal[i] = 0\n",
    "    else:\n",
    "      signal.append(0)\n",
    "  return signal\n",
    "\n",
    "ret = triple_barrier_signal(df.Close.values.tolist(),漲幅,跌幅,持有時間)\n",
    "df = df.head(len(ret))\n",
    "df['triple_barrier_signal'] = ret"
   ]
  },
  {
   "cell_type": "markdown",
   "metadata": {},
   "source": [
    "# check 'triple_barrier_signal'"
   ]
  },
  {
   "cell_type": "code",
   "execution_count": 45,
   "metadata": {
    "colab": {
     "base_uri": "https://localhost:8080/",
     "height": 708
    },
    "id": "MHRZWGG40a3q",
    "outputId": "b35a41dc-c660-4ae5-b063-27194e79aca5"
   },
   "outputs": [
    {
     "data": {
      "text/html": [
       "<div>\n",
       "<style scoped>\n",
       "    .dataframe tbody tr th:only-of-type {\n",
       "        vertical-align: middle;\n",
       "    }\n",
       "\n",
       "    .dataframe tbody tr th {\n",
       "        vertical-align: top;\n",
       "    }\n",
       "\n",
       "    .dataframe thead th {\n",
       "        text-align: right;\n",
       "    }\n",
       "</style>\n",
       "<table border=\"1\" class=\"dataframe\">\n",
       "  <thead>\n",
       "    <tr style=\"text-align: right;\">\n",
       "      <th></th>\n",
       "      <th>Open</th>\n",
       "      <th>High</th>\n",
       "      <th>Low</th>\n",
       "      <th>Close</th>\n",
       "      <th>Adj Close</th>\n",
       "      <th>Volume</th>\n",
       "      <th>triple_barrier_signal</th>\n",
       "    </tr>\n",
       "    <tr>\n",
       "      <th>Date</th>\n",
       "      <th></th>\n",
       "      <th></th>\n",
       "      <th></th>\n",
       "      <th></th>\n",
       "      <th></th>\n",
       "      <th></th>\n",
       "      <th></th>\n",
       "    </tr>\n",
       "  </thead>\n",
       "  <tbody>\n",
       "    <tr>\n",
       "      <th>2022-12-30</th>\n",
       "      <td>14183.519531</td>\n",
       "      <td>14248.900391</td>\n",
       "      <td>14137.690430</td>\n",
       "      <td>14137.690430</td>\n",
       "      <td>14137.690430</td>\n",
       "      <td>1748100</td>\n",
       "      <td>1</td>\n",
       "    </tr>\n",
       "    <tr>\n",
       "      <th>2023-01-03</th>\n",
       "      <td>14108.160156</td>\n",
       "      <td>14237.940430</td>\n",
       "      <td>14001.969727</td>\n",
       "      <td>14224.120117</td>\n",
       "      <td>14224.120117</td>\n",
       "      <td>1816400</td>\n",
       "      <td>1</td>\n",
       "    </tr>\n",
       "    <tr>\n",
       "      <th>2023-01-04</th>\n",
       "      <td>14186.950195</td>\n",
       "      <td>14257.450195</td>\n",
       "      <td>14177.969727</td>\n",
       "      <td>14199.129883</td>\n",
       "      <td>14199.129883</td>\n",
       "      <td>2073800</td>\n",
       "      <td>1</td>\n",
       "    </tr>\n",
       "    <tr>\n",
       "      <th>2023-01-05</th>\n",
       "      <td>14285.120117</td>\n",
       "      <td>14357.599609</td>\n",
       "      <td>14270.929688</td>\n",
       "      <td>14301.049805</td>\n",
       "      <td>14301.049805</td>\n",
       "      <td>2086500</td>\n",
       "      <td>1</td>\n",
       "    </tr>\n",
       "    <tr>\n",
       "      <th>2023-01-06</th>\n",
       "      <td>14278.519531</td>\n",
       "      <td>14384.919922</td>\n",
       "      <td>14278.519531</td>\n",
       "      <td>14373.339844</td>\n",
       "      <td>14373.339844</td>\n",
       "      <td>1741200</td>\n",
       "      <td>1</td>\n",
       "    </tr>\n",
       "    <tr>\n",
       "      <th>2023-01-09</th>\n",
       "      <td>14504.469727</td>\n",
       "      <td>14752.209961</td>\n",
       "      <td>14504.469727</td>\n",
       "      <td>14752.209961</td>\n",
       "      <td>14752.209961</td>\n",
       "      <td>2581100</td>\n",
       "      <td>1</td>\n",
       "    </tr>\n",
       "    <tr>\n",
       "      <th>2023-01-10</th>\n",
       "      <td>14796.269531</td>\n",
       "      <td>14816.129883</td>\n",
       "      <td>14728.559570</td>\n",
       "      <td>14802.959961</td>\n",
       "      <td>14802.959961</td>\n",
       "      <td>2069800</td>\n",
       "      <td>1</td>\n",
       "    </tr>\n",
       "    <tr>\n",
       "      <th>2023-01-11</th>\n",
       "      <td>14822.860352</td>\n",
       "      <td>14842.740234</td>\n",
       "      <td>14734.440430</td>\n",
       "      <td>14751.440430</td>\n",
       "      <td>14751.440430</td>\n",
       "      <td>1986800</td>\n",
       "      <td>1</td>\n",
       "    </tr>\n",
       "    <tr>\n",
       "      <th>2023-01-12</th>\n",
       "      <td>14780.580078</td>\n",
       "      <td>14813.309570</td>\n",
       "      <td>14700.730469</td>\n",
       "      <td>14731.639648</td>\n",
       "      <td>14731.639648</td>\n",
       "      <td>1812900</td>\n",
       "      <td>1</td>\n",
       "    </tr>\n",
       "    <tr>\n",
       "      <th>2023-01-13</th>\n",
       "      <td>14923.049805</td>\n",
       "      <td>14962.309570</td>\n",
       "      <td>14822.150391</td>\n",
       "      <td>14824.129883</td>\n",
       "      <td>14824.129883</td>\n",
       "      <td>1786500</td>\n",
       "      <td>1</td>\n",
       "    </tr>\n",
       "    <tr>\n",
       "      <th>2023-01-16</th>\n",
       "      <td>14895.259766</td>\n",
       "      <td>14960.919922</td>\n",
       "      <td>14895.259766</td>\n",
       "      <td>14927.009766</td>\n",
       "      <td>14927.009766</td>\n",
       "      <td>1611600</td>\n",
       "      <td>1</td>\n",
       "    </tr>\n",
       "    <tr>\n",
       "      <th>2023-01-17</th>\n",
       "      <td>14922.339844</td>\n",
       "      <td>14945.230469</td>\n",
       "      <td>14884.780273</td>\n",
       "      <td>14932.929688</td>\n",
       "      <td>14932.929688</td>\n",
       "      <td>1772600</td>\n",
       "      <td>1</td>\n",
       "    </tr>\n",
       "    <tr>\n",
       "      <th>2023-01-30</th>\n",
       "      <td>15291.530273</td>\n",
       "      <td>15493.820312</td>\n",
       "      <td>15291.530273</td>\n",
       "      <td>15493.820312</td>\n",
       "      <td>15493.820312</td>\n",
       "      <td>3697500</td>\n",
       "      <td>0</td>\n",
       "    </tr>\n",
       "    <tr>\n",
       "      <th>2023-01-31</th>\n",
       "      <td>15419.209961</td>\n",
       "      <td>15441.980469</td>\n",
       "      <td>15265.200195</td>\n",
       "      <td>15265.200195</td>\n",
       "      <td>15265.200195</td>\n",
       "      <td>3357200</td>\n",
       "      <td>0</td>\n",
       "    </tr>\n",
       "    <tr>\n",
       "      <th>2023-02-01</th>\n",
       "      <td>15346.349609</td>\n",
       "      <td>15420.129883</td>\n",
       "      <td>15291.679688</td>\n",
       "      <td>15420.129883</td>\n",
       "      <td>15420.129883</td>\n",
       "      <td>3009800</td>\n",
       "      <td>0</td>\n",
       "    </tr>\n",
       "    <tr>\n",
       "      <th>2023-02-02</th>\n",
       "      <td>15508.830078</td>\n",
       "      <td>15602.089844</td>\n",
       "      <td>15496.519531</td>\n",
       "      <td>15595.160156</td>\n",
       "      <td>15595.160156</td>\n",
       "      <td>3248500</td>\n",
       "      <td>0</td>\n",
       "    </tr>\n",
       "    <tr>\n",
       "      <th>2023-02-03</th>\n",
       "      <td>15591.950195</td>\n",
       "      <td>15617.730469</td>\n",
       "      <td>15504.030273</td>\n",
       "      <td>15602.660156</td>\n",
       "      <td>15602.660156</td>\n",
       "      <td>2647300</td>\n",
       "      <td>0</td>\n",
       "    </tr>\n",
       "    <tr>\n",
       "      <th>2023-02-06</th>\n",
       "      <td>15514.799805</td>\n",
       "      <td>15514.799805</td>\n",
       "      <td>15392.820312</td>\n",
       "      <td>15392.820312</td>\n",
       "      <td>15392.820312</td>\n",
       "      <td>2320600</td>\n",
       "      <td>1</td>\n",
       "    </tr>\n",
       "    <tr>\n",
       "      <th>2023-02-07</th>\n",
       "      <td>15376.120117</td>\n",
       "      <td>15462.099609</td>\n",
       "      <td>15363.650391</td>\n",
       "      <td>15400.910156</td>\n",
       "      <td>15400.910156</td>\n",
       "      <td>2251800</td>\n",
       "      <td>0</td>\n",
       "    </tr>\n",
       "    <tr>\n",
       "      <th>2023-02-08</th>\n",
       "      <td>15538.709961</td>\n",
       "      <td>15631.219727</td>\n",
       "      <td>15520.049805</td>\n",
       "      <td>15618.169922</td>\n",
       "      <td>15618.169922</td>\n",
       "      <td>2514500</td>\n",
       "      <td>0</td>\n",
       "    </tr>\n",
       "  </tbody>\n",
       "</table>\n",
       "</div>"
      ],
      "text/plain": [
       "                    Open          High           Low         Close  \\\n",
       "Date                                                                 \n",
       "2022-12-30  14183.519531  14248.900391  14137.690430  14137.690430   \n",
       "2023-01-03  14108.160156  14237.940430  14001.969727  14224.120117   \n",
       "2023-01-04  14186.950195  14257.450195  14177.969727  14199.129883   \n",
       "2023-01-05  14285.120117  14357.599609  14270.929688  14301.049805   \n",
       "2023-01-06  14278.519531  14384.919922  14278.519531  14373.339844   \n",
       "2023-01-09  14504.469727  14752.209961  14504.469727  14752.209961   \n",
       "2023-01-10  14796.269531  14816.129883  14728.559570  14802.959961   \n",
       "2023-01-11  14822.860352  14842.740234  14734.440430  14751.440430   \n",
       "2023-01-12  14780.580078  14813.309570  14700.730469  14731.639648   \n",
       "2023-01-13  14923.049805  14962.309570  14822.150391  14824.129883   \n",
       "2023-01-16  14895.259766  14960.919922  14895.259766  14927.009766   \n",
       "2023-01-17  14922.339844  14945.230469  14884.780273  14932.929688   \n",
       "2023-01-30  15291.530273  15493.820312  15291.530273  15493.820312   \n",
       "2023-01-31  15419.209961  15441.980469  15265.200195  15265.200195   \n",
       "2023-02-01  15346.349609  15420.129883  15291.679688  15420.129883   \n",
       "2023-02-02  15508.830078  15602.089844  15496.519531  15595.160156   \n",
       "2023-02-03  15591.950195  15617.730469  15504.030273  15602.660156   \n",
       "2023-02-06  15514.799805  15514.799805  15392.820312  15392.820312   \n",
       "2023-02-07  15376.120117  15462.099609  15363.650391  15400.910156   \n",
       "2023-02-08  15538.709961  15631.219727  15520.049805  15618.169922   \n",
       "\n",
       "               Adj Close   Volume  triple_barrier_signal  \n",
       "Date                                                      \n",
       "2022-12-30  14137.690430  1748100                      1  \n",
       "2023-01-03  14224.120117  1816400                      1  \n",
       "2023-01-04  14199.129883  2073800                      1  \n",
       "2023-01-05  14301.049805  2086500                      1  \n",
       "2023-01-06  14373.339844  1741200                      1  \n",
       "2023-01-09  14752.209961  2581100                      1  \n",
       "2023-01-10  14802.959961  2069800                      1  \n",
       "2023-01-11  14751.440430  1986800                      1  \n",
       "2023-01-12  14731.639648  1812900                      1  \n",
       "2023-01-13  14824.129883  1786500                      1  \n",
       "2023-01-16  14927.009766  1611600                      1  \n",
       "2023-01-17  14932.929688  1772600                      1  \n",
       "2023-01-30  15493.820312  3697500                      0  \n",
       "2023-01-31  15265.200195  3357200                      0  \n",
       "2023-02-01  15420.129883  3009800                      0  \n",
       "2023-02-02  15595.160156  3248500                      0  \n",
       "2023-02-03  15602.660156  2647300                      0  \n",
       "2023-02-06  15392.820312  2320600                      1  \n",
       "2023-02-07  15400.910156  2251800                      0  \n",
       "2023-02-08  15618.169922  2514500                      0  "
      ]
     },
     "execution_count": 45,
     "metadata": {},
     "output_type": "execute_result"
    }
   ],
   "source": [
    "df.tail(20)"
   ]
  },
  {
   "cell_type": "code",
   "execution_count": 46,
   "metadata": {
    "colab": {
     "base_uri": "https://localhost:8080/",
     "height": 352
    },
    "id": "tK_VXl2R1Osh",
    "outputId": "fa3cc2f6-47c9-4bb9-ac84-6495154b1805"
   },
   "outputs": [
    {
     "name": "stderr",
     "output_type": "stream",
     "text": [
      "C:\\Users\\ricky\\anaconda3\\lib\\site-packages\\seaborn\\_decorators.py:36: FutureWarning: Pass the following variable as a keyword arg: x. From version 0.12, the only valid positional argument will be `data`, and passing other arguments without an explicit keyword will result in an error or misinterpretation.\n",
      "  warnings.warn(\n"
     ]
    },
    {
     "data": {
      "text/plain": [
       "<AxesSubplot:xlabel='triple_barrier_signal', ylabel='count'>"
      ]
     },
     "execution_count": 46,
     "metadata": {},
     "output_type": "execute_result"
    },
    {
     "data": {
      "image/png": "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\n",
      "text/plain": [
       "<Figure size 432x288 with 1 Axes>"
      ]
     },
     "metadata": {
      "needs_background": "light"
     },
     "output_type": "display_data"
    }
   ],
   "source": [
    "import seaborn as sns\n",
    "df['triple_barrier_signal'].value_counts()\n",
    "sns.countplot(df['triple_barrier_signal'])"
   ]
  },
  {
   "cell_type": "markdown",
   "metadata": {},
   "source": [
    "# plot buy price and sell price"
   ]
  },
  {
   "cell_type": "code",
   "execution_count": 47,
   "metadata": {
    "colab": {
     "base_uri": "https://localhost:8080/",
     "height": 314
    },
    "id": "Qti5Zd4-jOrH",
    "outputId": "33f3f5d4-7a51-4cd0-fdc4-2e5780fad238"
   },
   "outputs": [
    {
     "data": {
      "image/png": "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\n",
      "text/plain": [
       "<Figure size 432x288 with 1 Axes>"
      ]
     },
     "metadata": {
      "needs_background": "light"
     },
     "output_type": "display_data"
    }
   ],
   "source": [
    "import matplotlib.pyplot as plt\n",
    "\n",
    "df_recent = df.tail(100)\n",
    "buy = df_recent[df_recent['triple_barrier_signal']==1]['Close']\n",
    "sell = df_recent[df_recent['triple_barrier_signal']==-1]['Close']\n",
    "df_recent['Close'].plot()\n",
    "plt.scatter(buy.index,buy.values,color='red',marker='^')\n",
    "plt.scatter(sell.index,sell.values,color='green',marker='v')\n",
    "plt.show()"
   ]
  },
  {
   "cell_type": "markdown",
   "metadata": {
    "id": "HUtEilqGfIJl"
   },
   "source": [
    "# 建立ohlcv"
   ]
  },
  {
   "cell_type": "code",
   "execution_count": 48,
   "metadata": {
    "id": "FdFhLZkYfKpN"
   },
   "outputs": [],
   "source": [
    "from finta import TA\n",
    "ohlcv = df[['Open','High','Low','Close','Volume']]\n",
    "ohlcv.columns = ['open','high','low','close','volume']"
   ]
  },
  {
   "cell_type": "markdown",
   "metadata": {
    "id": "9K9RepGQwbQQ"
   },
   "source": [
    "# 計算技術指標RSI"
   ]
  },
  {
   "cell_type": "markdown",
   "metadata": {},
   "source": [
    "https://sharegpt.com/c/lXPO7as"
   ]
  },
  {
   "cell_type": "code",
   "execution_count": 49,
   "metadata": {
    "colab": {
     "base_uri": "https://localhost:8080/",
     "height": 710
    },
    "id": "ZZkpnqk9e0Rw",
    "outputId": "0bcb6f01-781e-452e-8e8a-8388dee9200b"
   },
   "outputs": [
    {
     "name": "stdout",
     "output_type": "stream",
     "text": [
      "count    1196.000000\n",
      "mean       53.403830\n",
      "std        13.114932\n",
      "min        11.074216\n",
      "25%        43.642445\n",
      "50%        54.052469\n",
      "75%        62.719007\n",
      "max       100.000000\n",
      "Name: RSI, dtype: float64\n"
     ]
    },
    {
     "name": "stderr",
     "output_type": "stream",
     "text": [
      "C:\\Users\\ricky\\AppData\\Local\\Temp/ipykernel_10260/80940770.py:1: SettingWithCopyWarning: \n",
      "A value is trying to be set on a copy of a slice from a DataFrame.\n",
      "Try using .loc[row_indexer,col_indexer] = value instead\n",
      "\n",
      "See the caveats in the documentation: https://pandas.pydata.org/pandas-docs/stable/user_guide/indexing.html#returning-a-view-versus-a-copy\n",
      "  df['RSI'] = TA.RSI(ohlcv)\n",
      "C:\\Users\\ricky\\anaconda3\\lib\\site-packages\\seaborn\\distributions.py:2619: FutureWarning: `distplot` is a deprecated function and will be removed in a future version. Please adapt your code to use either `displot` (a figure-level function with similar flexibility) or `histplot` (an axes-level function for histograms).\n",
      "  warnings.warn(msg, FutureWarning)\n"
     ]
    },
    {
     "data": {
      "text/html": [
       "<div>\n",
       "<style scoped>\n",
       "    .dataframe tbody tr th:only-of-type {\n",
       "        vertical-align: middle;\n",
       "    }\n",
       "\n",
       "    .dataframe tbody tr th {\n",
       "        vertical-align: top;\n",
       "    }\n",
       "\n",
       "    .dataframe thead th {\n",
       "        text-align: right;\n",
       "    }\n",
       "</style>\n",
       "<table border=\"1\" class=\"dataframe\">\n",
       "  <thead>\n",
       "    <tr style=\"text-align: right;\">\n",
       "      <th></th>\n",
       "      <th>Open</th>\n",
       "      <th>High</th>\n",
       "      <th>Low</th>\n",
       "      <th>Close</th>\n",
       "      <th>Adj Close</th>\n",
       "      <th>Volume</th>\n",
       "      <th>triple_barrier_signal</th>\n",
       "      <th>RSI</th>\n",
       "    </tr>\n",
       "    <tr>\n",
       "      <th>Date</th>\n",
       "      <th></th>\n",
       "      <th></th>\n",
       "      <th></th>\n",
       "      <th></th>\n",
       "      <th></th>\n",
       "      <th></th>\n",
       "      <th></th>\n",
       "      <th></th>\n",
       "    </tr>\n",
       "  </thead>\n",
       "  <tbody>\n",
       "    <tr>\n",
       "      <th>2023-02-02</th>\n",
       "      <td>15508.830078</td>\n",
       "      <td>15602.089844</td>\n",
       "      <td>15496.519531</td>\n",
       "      <td>15595.160156</td>\n",
       "      <td>15595.160156</td>\n",
       "      <td>3248500</td>\n",
       "      <td>0</td>\n",
       "      <td>72.275262</td>\n",
       "    </tr>\n",
       "    <tr>\n",
       "      <th>2023-02-03</th>\n",
       "      <td>15591.950195</td>\n",
       "      <td>15617.730469</td>\n",
       "      <td>15504.030273</td>\n",
       "      <td>15602.660156</td>\n",
       "      <td>15602.660156</td>\n",
       "      <td>2647300</td>\n",
       "      <td>0</td>\n",
       "      <td>72.386625</td>\n",
       "    </tr>\n",
       "    <tr>\n",
       "      <th>2023-02-06</th>\n",
       "      <td>15514.799805</td>\n",
       "      <td>15514.799805</td>\n",
       "      <td>15392.820312</td>\n",
       "      <td>15392.820312</td>\n",
       "      <td>15392.820312</td>\n",
       "      <td>2320600</td>\n",
       "      <td>1</td>\n",
       "      <td>64.571670</td>\n",
       "    </tr>\n",
       "    <tr>\n",
       "      <th>2023-02-07</th>\n",
       "      <td>15376.120117</td>\n",
       "      <td>15462.099609</td>\n",
       "      <td>15363.650391</td>\n",
       "      <td>15400.910156</td>\n",
       "      <td>15400.910156</td>\n",
       "      <td>2251800</td>\n",
       "      <td>0</td>\n",
       "      <td>64.729764</td>\n",
       "    </tr>\n",
       "    <tr>\n",
       "      <th>2023-02-08</th>\n",
       "      <td>15538.709961</td>\n",
       "      <td>15631.219727</td>\n",
       "      <td>15520.049805</td>\n",
       "      <td>15618.169922</td>\n",
       "      <td>15618.169922</td>\n",
       "      <td>2514500</td>\n",
       "      <td>0</td>\n",
       "      <td>68.761373</td>\n",
       "    </tr>\n",
       "  </tbody>\n",
       "</table>\n",
       "</div>"
      ],
      "text/plain": [
       "                    Open          High           Low         Close  \\\n",
       "Date                                                                 \n",
       "2023-02-02  15508.830078  15602.089844  15496.519531  15595.160156   \n",
       "2023-02-03  15591.950195  15617.730469  15504.030273  15602.660156   \n",
       "2023-02-06  15514.799805  15514.799805  15392.820312  15392.820312   \n",
       "2023-02-07  15376.120117  15462.099609  15363.650391  15400.910156   \n",
       "2023-02-08  15538.709961  15631.219727  15520.049805  15618.169922   \n",
       "\n",
       "               Adj Close   Volume  triple_barrier_signal        RSI  \n",
       "Date                                                                 \n",
       "2023-02-02  15595.160156  3248500                      0  72.275262  \n",
       "2023-02-03  15602.660156  2647300                      0  72.386625  \n",
       "2023-02-06  15392.820312  2320600                      1  64.571670  \n",
       "2023-02-07  15400.910156  2251800                      0  64.729764  \n",
       "2023-02-08  15618.169922  2514500                      0  68.761373  "
      ]
     },
     "execution_count": 49,
     "metadata": {},
     "output_type": "execute_result"
    },
    {
     "data": {
      "image/png": "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\n",
      "text/plain": [
       "<Figure size 432x288 with 1 Axes>"
      ]
     },
     "metadata": {
      "needs_background": "light"
     },
     "output_type": "display_data"
    }
   ],
   "source": [
    "df['RSI'] = TA.RSI(ohlcv)\n",
    "print(df['RSI'].describe())\n",
    "sns.distplot(df['RSI'].dropna())\n",
    "df.tail()"
   ]
  },
  {
   "cell_type": "markdown",
   "metadata": {
    "id": "fZXZuQe93pJE"
   },
   "source": [
    "# 計算威廉指標"
   ]
  },
  {
   "cell_type": "code",
   "execution_count": 50,
   "metadata": {
    "colab": {
     "base_uri": "https://localhost:8080/",
     "height": 710
    },
    "id": "Q8_qx-dnfPJa",
    "outputId": "74fbe3f1-258c-49d6-f653-80e848d4748c"
   },
   "outputs": [
    {
     "name": "stderr",
     "output_type": "stream",
     "text": [
      "C:\\Users\\ricky\\AppData\\Local\\Temp/ipykernel_10260/4271450618.py:1: SettingWithCopyWarning: \n",
      "A value is trying to be set on a copy of a slice from a DataFrame.\n",
      "Try using .loc[row_indexer,col_indexer] = value instead\n",
      "\n",
      "See the caveats in the documentation: https://pandas.pydata.org/pandas-docs/stable/user_guide/indexing.html#returning-a-view-versus-a-copy\n",
      "  df['Williams %R'] = TA.WILLIAMS(ohlcv)\n",
      "C:\\Users\\ricky\\anaconda3\\lib\\site-packages\\seaborn\\distributions.py:2619: FutureWarning: `distplot` is a deprecated function and will be removed in a future version. Please adapt your code to use either `displot` (a figure-level function with similar flexibility) or `histplot` (an axes-level function for histograms).\n",
      "  warnings.warn(msg, FutureWarning)\n"
     ]
    },
    {
     "name": "stdout",
     "output_type": "stream",
     "text": [
      "count    1184.000000\n",
      "mean      -40.046322\n",
      "std        31.699744\n",
      "min      -100.000000\n",
      "25%       -67.940254\n",
      "50%       -32.475712\n",
      "75%       -12.186379\n",
      "max        -0.000000\n",
      "Name: Williams %R, dtype: float64\n"
     ]
    },
    {
     "data": {
      "text/html": [
       "<div>\n",
       "<style scoped>\n",
       "    .dataframe tbody tr th:only-of-type {\n",
       "        vertical-align: middle;\n",
       "    }\n",
       "\n",
       "    .dataframe tbody tr th {\n",
       "        vertical-align: top;\n",
       "    }\n",
       "\n",
       "    .dataframe thead th {\n",
       "        text-align: right;\n",
       "    }\n",
       "</style>\n",
       "<table border=\"1\" class=\"dataframe\">\n",
       "  <thead>\n",
       "    <tr style=\"text-align: right;\">\n",
       "      <th></th>\n",
       "      <th>Open</th>\n",
       "      <th>High</th>\n",
       "      <th>Low</th>\n",
       "      <th>Close</th>\n",
       "      <th>Adj Close</th>\n",
       "      <th>Volume</th>\n",
       "      <th>triple_barrier_signal</th>\n",
       "      <th>RSI</th>\n",
       "      <th>Williams %R</th>\n",
       "    </tr>\n",
       "    <tr>\n",
       "      <th>Date</th>\n",
       "      <th></th>\n",
       "      <th></th>\n",
       "      <th></th>\n",
       "      <th></th>\n",
       "      <th></th>\n",
       "      <th></th>\n",
       "      <th></th>\n",
       "      <th></th>\n",
       "      <th></th>\n",
       "    </tr>\n",
       "  </thead>\n",
       "  <tbody>\n",
       "    <tr>\n",
       "      <th>2023-02-02</th>\n",
       "      <td>15508.830078</td>\n",
       "      <td>15602.089844</td>\n",
       "      <td>15496.519531</td>\n",
       "      <td>15595.160156</td>\n",
       "      <td>15595.160156</td>\n",
       "      <td>3248500</td>\n",
       "      <td>0</td>\n",
       "      <td>72.275262</td>\n",
       "      <td>-0.486594</td>\n",
       "    </tr>\n",
       "    <tr>\n",
       "      <th>2023-02-03</th>\n",
       "      <td>15591.950195</td>\n",
       "      <td>15617.730469</td>\n",
       "      <td>15504.030273</td>\n",
       "      <td>15602.660156</td>\n",
       "      <td>15602.660156</td>\n",
       "      <td>2647300</td>\n",
       "      <td>0</td>\n",
       "      <td>72.386625</td>\n",
       "      <td>-1.118971</td>\n",
       "    </tr>\n",
       "    <tr>\n",
       "      <th>2023-02-06</th>\n",
       "      <td>15514.799805</td>\n",
       "      <td>15514.799805</td>\n",
       "      <td>15392.820312</td>\n",
       "      <td>15392.820312</td>\n",
       "      <td>15392.820312</td>\n",
       "      <td>2320600</td>\n",
       "      <td>1</td>\n",
       "      <td>64.571670</td>\n",
       "      <td>-16.794229</td>\n",
       "    </tr>\n",
       "    <tr>\n",
       "      <th>2023-02-07</th>\n",
       "      <td>15376.120117</td>\n",
       "      <td>15462.099609</td>\n",
       "      <td>15363.650391</td>\n",
       "      <td>15400.910156</td>\n",
       "      <td>15400.910156</td>\n",
       "      <td>2251800</td>\n",
       "      <td>0</td>\n",
       "      <td>64.729764</td>\n",
       "      <td>-19.476148</td>\n",
       "    </tr>\n",
       "    <tr>\n",
       "      <th>2023-02-08</th>\n",
       "      <td>15538.709961</td>\n",
       "      <td>15631.219727</td>\n",
       "      <td>15520.049805</td>\n",
       "      <td>15618.169922</td>\n",
       "      <td>15618.169922</td>\n",
       "      <td>2514500</td>\n",
       "      <td>0</td>\n",
       "      <td>68.761373</td>\n",
       "      <td>-1.402467</td>\n",
       "    </tr>\n",
       "  </tbody>\n",
       "</table>\n",
       "</div>"
      ],
      "text/plain": [
       "                    Open          High           Low         Close  \\\n",
       "Date                                                                 \n",
       "2023-02-02  15508.830078  15602.089844  15496.519531  15595.160156   \n",
       "2023-02-03  15591.950195  15617.730469  15504.030273  15602.660156   \n",
       "2023-02-06  15514.799805  15514.799805  15392.820312  15392.820312   \n",
       "2023-02-07  15376.120117  15462.099609  15363.650391  15400.910156   \n",
       "2023-02-08  15538.709961  15631.219727  15520.049805  15618.169922   \n",
       "\n",
       "               Adj Close   Volume  triple_barrier_signal        RSI  \\\n",
       "Date                                                                  \n",
       "2023-02-02  15595.160156  3248500                      0  72.275262   \n",
       "2023-02-03  15602.660156  2647300                      0  72.386625   \n",
       "2023-02-06  15392.820312  2320600                      1  64.571670   \n",
       "2023-02-07  15400.910156  2251800                      0  64.729764   \n",
       "2023-02-08  15618.169922  2514500                      0  68.761373   \n",
       "\n",
       "            Williams %R  \n",
       "Date                     \n",
       "2023-02-02    -0.486594  \n",
       "2023-02-03    -1.118971  \n",
       "2023-02-06   -16.794229  \n",
       "2023-02-07   -19.476148  \n",
       "2023-02-08    -1.402467  "
      ]
     },
     "execution_count": 50,
     "metadata": {},
     "output_type": "execute_result"
    },
    {
     "data": {
      "image/png": "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\n",
      "text/plain": [
       "<Figure size 432x288 with 1 Axes>"
      ]
     },
     "metadata": {
      "needs_background": "light"
     },
     "output_type": "display_data"
    }
   ],
   "source": [
    "df['Williams %R'] = TA.WILLIAMS(ohlcv)\n",
    "print(df['Williams %R'].describe())\n",
    "sns.distplot(df['Williams %R'].dropna())\n",
    "df.tail()"
   ]
  },
  {
   "cell_type": "markdown",
   "metadata": {
    "id": "xK4jb6KTDdGa"
   },
   "source": [
    "# SMA"
   ]
  },
  {
   "cell_type": "code",
   "execution_count": 51,
   "metadata": {
    "colab": {
     "base_uri": "https://localhost:8080/",
     "height": 710
    },
    "id": "osETw-NkfgfL",
    "outputId": "e56924f4-bbf5-44ec-d264-324681bac228"
   },
   "outputs": [
    {
     "name": "stdout",
     "output_type": "stream",
     "text": [
      "count     1157.000000\n",
      "mean     13338.958879\n",
      "std       2778.526293\n",
      "min       9731.243640\n",
      "25%      10790.313429\n",
      "50%      12691.975634\n",
      "75%      16288.511409\n",
      "max      18134.302258\n",
      "Name: SMA, dtype: float64\n"
     ]
    },
    {
     "name": "stderr",
     "output_type": "stream",
     "text": [
      "C:\\Users\\ricky\\AppData\\Local\\Temp/ipykernel_10260/1878676325.py:1: SettingWithCopyWarning: \n",
      "A value is trying to be set on a copy of a slice from a DataFrame.\n",
      "Try using .loc[row_indexer,col_indexer] = value instead\n",
      "\n",
      "See the caveats in the documentation: https://pandas.pydata.org/pandas-docs/stable/user_guide/indexing.html#returning-a-view-versus-a-copy\n",
      "  df['SMA'] = TA.SMA(ohlcv)\n",
      "C:\\Users\\ricky\\anaconda3\\lib\\site-packages\\seaborn\\distributions.py:2619: FutureWarning: `distplot` is a deprecated function and will be removed in a future version. Please adapt your code to use either `displot` (a figure-level function with similar flexibility) or `histplot` (an axes-level function for histograms).\n",
      "  warnings.warn(msg, FutureWarning)\n"
     ]
    },
    {
     "data": {
      "text/html": [
       "<div>\n",
       "<style scoped>\n",
       "    .dataframe tbody tr th:only-of-type {\n",
       "        vertical-align: middle;\n",
       "    }\n",
       "\n",
       "    .dataframe tbody tr th {\n",
       "        vertical-align: top;\n",
       "    }\n",
       "\n",
       "    .dataframe thead th {\n",
       "        text-align: right;\n",
       "    }\n",
       "</style>\n",
       "<table border=\"1\" class=\"dataframe\">\n",
       "  <thead>\n",
       "    <tr style=\"text-align: right;\">\n",
       "      <th></th>\n",
       "      <th>Open</th>\n",
       "      <th>High</th>\n",
       "      <th>Low</th>\n",
       "      <th>Close</th>\n",
       "      <th>Adj Close</th>\n",
       "      <th>Volume</th>\n",
       "      <th>triple_barrier_signal</th>\n",
       "      <th>RSI</th>\n",
       "      <th>Williams %R</th>\n",
       "      <th>SMA</th>\n",
       "    </tr>\n",
       "    <tr>\n",
       "      <th>Date</th>\n",
       "      <th></th>\n",
       "      <th></th>\n",
       "      <th></th>\n",
       "      <th></th>\n",
       "      <th></th>\n",
       "      <th></th>\n",
       "      <th></th>\n",
       "      <th></th>\n",
       "      <th></th>\n",
       "      <th></th>\n",
       "    </tr>\n",
       "  </thead>\n",
       "  <tbody>\n",
       "    <tr>\n",
       "      <th>2023-02-02</th>\n",
       "      <td>15508.830078</td>\n",
       "      <td>15602.089844</td>\n",
       "      <td>15496.519531</td>\n",
       "      <td>15595.160156</td>\n",
       "      <td>15595.160156</td>\n",
       "      <td>3248500</td>\n",
       "      <td>0</td>\n",
       "      <td>72.275262</td>\n",
       "      <td>-0.486594</td>\n",
       "      <td>14653.651177</td>\n",
       "    </tr>\n",
       "    <tr>\n",
       "      <th>2023-02-03</th>\n",
       "      <td>15591.950195</td>\n",
       "      <td>15617.730469</td>\n",
       "      <td>15504.030273</td>\n",
       "      <td>15602.660156</td>\n",
       "      <td>15602.660156</td>\n",
       "      <td>2647300</td>\n",
       "      <td>0</td>\n",
       "      <td>72.386625</td>\n",
       "      <td>-1.118971</td>\n",
       "      <td>14673.752406</td>\n",
       "    </tr>\n",
       "    <tr>\n",
       "      <th>2023-02-06</th>\n",
       "      <td>15514.799805</td>\n",
       "      <td>15514.799805</td>\n",
       "      <td>15392.820312</td>\n",
       "      <td>15392.820312</td>\n",
       "      <td>15392.820312</td>\n",
       "      <td>2320600</td>\n",
       "      <td>1</td>\n",
       "      <td>64.571670</td>\n",
       "      <td>-16.794229</td>\n",
       "      <td>14694.141435</td>\n",
       "    </tr>\n",
       "    <tr>\n",
       "      <th>2023-02-07</th>\n",
       "      <td>15376.120117</td>\n",
       "      <td>15462.099609</td>\n",
       "      <td>15363.650391</td>\n",
       "      <td>15400.910156</td>\n",
       "      <td>15400.910156</td>\n",
       "      <td>2251800</td>\n",
       "      <td>0</td>\n",
       "      <td>64.729764</td>\n",
       "      <td>-19.476148</td>\n",
       "      <td>14711.001691</td>\n",
       "    </tr>\n",
       "    <tr>\n",
       "      <th>2023-02-08</th>\n",
       "      <td>15538.709961</td>\n",
       "      <td>15631.219727</td>\n",
       "      <td>15520.049805</td>\n",
       "      <td>15618.169922</td>\n",
       "      <td>15618.169922</td>\n",
       "      <td>2514500</td>\n",
       "      <td>0</td>\n",
       "      <td>68.761373</td>\n",
       "      <td>-1.402467</td>\n",
       "      <td>14729.016816</td>\n",
       "    </tr>\n",
       "  </tbody>\n",
       "</table>\n",
       "</div>"
      ],
      "text/plain": [
       "                    Open          High           Low         Close  \\\n",
       "Date                                                                 \n",
       "2023-02-02  15508.830078  15602.089844  15496.519531  15595.160156   \n",
       "2023-02-03  15591.950195  15617.730469  15504.030273  15602.660156   \n",
       "2023-02-06  15514.799805  15514.799805  15392.820312  15392.820312   \n",
       "2023-02-07  15376.120117  15462.099609  15363.650391  15400.910156   \n",
       "2023-02-08  15538.709961  15631.219727  15520.049805  15618.169922   \n",
       "\n",
       "               Adj Close   Volume  triple_barrier_signal        RSI  \\\n",
       "Date                                                                  \n",
       "2023-02-02  15595.160156  3248500                      0  72.275262   \n",
       "2023-02-03  15602.660156  2647300                      0  72.386625   \n",
       "2023-02-06  15392.820312  2320600                      1  64.571670   \n",
       "2023-02-07  15400.910156  2251800                      0  64.729764   \n",
       "2023-02-08  15618.169922  2514500                      0  68.761373   \n",
       "\n",
       "            Williams %R           SMA  \n",
       "Date                                   \n",
       "2023-02-02    -0.486594  14653.651177  \n",
       "2023-02-03    -1.118971  14673.752406  \n",
       "2023-02-06   -16.794229  14694.141435  \n",
       "2023-02-07   -19.476148  14711.001691  \n",
       "2023-02-08    -1.402467  14729.016816  "
      ]
     },
     "execution_count": 51,
     "metadata": {},
     "output_type": "execute_result"
    },
    {
     "data": {
      "image/png": "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\n",
      "text/plain": [
       "<Figure size 432x288 with 1 Axes>"
      ]
     },
     "metadata": {
      "needs_background": "light"
     },
     "output_type": "display_data"
    }
   ],
   "source": [
    "df['SMA'] = TA.SMA(ohlcv)\n",
    "print(df['SMA'].describe())\n",
    "sns.distplot(df['SMA'].dropna())\n",
    "df.tail()"
   ]
  },
  {
   "cell_type": "markdown",
   "metadata": {
    "id": "a2Mf0ckEoHC_"
   },
   "source": [
    "# EMA"
   ]
  },
  {
   "cell_type": "code",
   "execution_count": 52,
   "metadata": {
    "colab": {
     "base_uri": "https://localhost:8080/",
     "height": 710
    },
    "id": "EQlFyJLeh4WA",
    "outputId": "2e855f69-5432-41fa-9ccc-7c9737057f2c"
   },
   "outputs": [
    {
     "name": "stdout",
     "output_type": "stream",
     "text": [
      "count     1197.000000\n",
      "mean     13309.349852\n",
      "std       2778.366304\n",
      "min       9510.655384\n",
      "25%      10841.974463\n",
      "50%      12670.539086\n",
      "75%      16137.591924\n",
      "max      18370.191557\n",
      "Name: EMA, dtype: float64\n"
     ]
    },
    {
     "name": "stderr",
     "output_type": "stream",
     "text": [
      "C:\\Users\\ricky\\AppData\\Local\\Temp/ipykernel_10260/3115164127.py:1: SettingWithCopyWarning: \n",
      "A value is trying to be set on a copy of a slice from a DataFrame.\n",
      "Try using .loc[row_indexer,col_indexer] = value instead\n",
      "\n",
      "See the caveats in the documentation: https://pandas.pydata.org/pandas-docs/stable/user_guide/indexing.html#returning-a-view-versus-a-copy\n",
      "  df['EMA'] = TA.EMA(ohlcv)\n",
      "C:\\Users\\ricky\\anaconda3\\lib\\site-packages\\seaborn\\distributions.py:2619: FutureWarning: `distplot` is a deprecated function and will be removed in a future version. Please adapt your code to use either `displot` (a figure-level function with similar flexibility) or `histplot` (an axes-level function for histograms).\n",
      "  warnings.warn(msg, FutureWarning)\n"
     ]
    },
    {
     "data": {
      "text/html": [
       "<div>\n",
       "<style scoped>\n",
       "    .dataframe tbody tr th:only-of-type {\n",
       "        vertical-align: middle;\n",
       "    }\n",
       "\n",
       "    .dataframe tbody tr th {\n",
       "        vertical-align: top;\n",
       "    }\n",
       "\n",
       "    .dataframe thead th {\n",
       "        text-align: right;\n",
       "    }\n",
       "</style>\n",
       "<table border=\"1\" class=\"dataframe\">\n",
       "  <thead>\n",
       "    <tr style=\"text-align: right;\">\n",
       "      <th></th>\n",
       "      <th>Open</th>\n",
       "      <th>High</th>\n",
       "      <th>Low</th>\n",
       "      <th>Close</th>\n",
       "      <th>Adj Close</th>\n",
       "      <th>Volume</th>\n",
       "      <th>triple_barrier_signal</th>\n",
       "      <th>RSI</th>\n",
       "      <th>Williams %R</th>\n",
       "      <th>SMA</th>\n",
       "      <th>EMA</th>\n",
       "    </tr>\n",
       "    <tr>\n",
       "      <th>Date</th>\n",
       "      <th></th>\n",
       "      <th></th>\n",
       "      <th></th>\n",
       "      <th></th>\n",
       "      <th></th>\n",
       "      <th></th>\n",
       "      <th></th>\n",
       "      <th></th>\n",
       "      <th></th>\n",
       "      <th></th>\n",
       "      <th></th>\n",
       "    </tr>\n",
       "  </thead>\n",
       "  <tbody>\n",
       "    <tr>\n",
       "      <th>2023-02-02</th>\n",
       "      <td>15508.830078</td>\n",
       "      <td>15602.089844</td>\n",
       "      <td>15496.519531</td>\n",
       "      <td>15595.160156</td>\n",
       "      <td>15595.160156</td>\n",
       "      <td>3248500</td>\n",
       "      <td>0</td>\n",
       "      <td>72.275262</td>\n",
       "      <td>-0.486594</td>\n",
       "      <td>14653.651177</td>\n",
       "      <td>15158.977368</td>\n",
       "    </tr>\n",
       "    <tr>\n",
       "      <th>2023-02-03</th>\n",
       "      <td>15591.950195</td>\n",
       "      <td>15617.730469</td>\n",
       "      <td>15504.030273</td>\n",
       "      <td>15602.660156</td>\n",
       "      <td>15602.660156</td>\n",
       "      <td>2647300</td>\n",
       "      <td>0</td>\n",
       "      <td>72.386625</td>\n",
       "      <td>-1.118971</td>\n",
       "      <td>14673.752406</td>\n",
       "      <td>15247.713926</td>\n",
       "    </tr>\n",
       "    <tr>\n",
       "      <th>2023-02-06</th>\n",
       "      <td>15514.799805</td>\n",
       "      <td>15514.799805</td>\n",
       "      <td>15392.820312</td>\n",
       "      <td>15392.820312</td>\n",
       "      <td>15392.820312</td>\n",
       "      <td>2320600</td>\n",
       "      <td>1</td>\n",
       "      <td>64.571670</td>\n",
       "      <td>-16.794229</td>\n",
       "      <td>14694.141435</td>\n",
       "      <td>15276.735203</td>\n",
       "    </tr>\n",
       "    <tr>\n",
       "      <th>2023-02-07</th>\n",
       "      <td>15376.120117</td>\n",
       "      <td>15462.099609</td>\n",
       "      <td>15363.650391</td>\n",
       "      <td>15400.910156</td>\n",
       "      <td>15400.910156</td>\n",
       "      <td>2251800</td>\n",
       "      <td>0</td>\n",
       "      <td>64.729764</td>\n",
       "      <td>-19.476148</td>\n",
       "      <td>14711.001691</td>\n",
       "      <td>15301.570194</td>\n",
       "    </tr>\n",
       "    <tr>\n",
       "      <th>2023-02-08</th>\n",
       "      <td>15538.709961</td>\n",
       "      <td>15631.219727</td>\n",
       "      <td>15520.049805</td>\n",
       "      <td>15618.169922</td>\n",
       "      <td>15618.169922</td>\n",
       "      <td>2514500</td>\n",
       "      <td>0</td>\n",
       "      <td>68.761373</td>\n",
       "      <td>-1.402467</td>\n",
       "      <td>14729.016816</td>\n",
       "      <td>15364.890139</td>\n",
       "    </tr>\n",
       "  </tbody>\n",
       "</table>\n",
       "</div>"
      ],
      "text/plain": [
       "                    Open          High           Low         Close  \\\n",
       "Date                                                                 \n",
       "2023-02-02  15508.830078  15602.089844  15496.519531  15595.160156   \n",
       "2023-02-03  15591.950195  15617.730469  15504.030273  15602.660156   \n",
       "2023-02-06  15514.799805  15514.799805  15392.820312  15392.820312   \n",
       "2023-02-07  15376.120117  15462.099609  15363.650391  15400.910156   \n",
       "2023-02-08  15538.709961  15631.219727  15520.049805  15618.169922   \n",
       "\n",
       "               Adj Close   Volume  triple_barrier_signal        RSI  \\\n",
       "Date                                                                  \n",
       "2023-02-02  15595.160156  3248500                      0  72.275262   \n",
       "2023-02-03  15602.660156  2647300                      0  72.386625   \n",
       "2023-02-06  15392.820312  2320600                      1  64.571670   \n",
       "2023-02-07  15400.910156  2251800                      0  64.729764   \n",
       "2023-02-08  15618.169922  2514500                      0  68.761373   \n",
       "\n",
       "            Williams %R           SMA           EMA  \n",
       "Date                                                 \n",
       "2023-02-02    -0.486594  14653.651177  15158.977368  \n",
       "2023-02-03    -1.118971  14673.752406  15247.713926  \n",
       "2023-02-06   -16.794229  14694.141435  15276.735203  \n",
       "2023-02-07   -19.476148  14711.001691  15301.570194  \n",
       "2023-02-08    -1.402467  14729.016816  15364.890139  "
      ]
     },
     "execution_count": 52,
     "metadata": {},
     "output_type": "execute_result"
    },
    {
     "data": {
      "image/png": "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\n",
      "text/plain": [
       "<Figure size 432x288 with 1 Axes>"
      ]
     },
     "metadata": {
      "needs_background": "light"
     },
     "output_type": "display_data"
    }
   ],
   "source": [
    "df['EMA'] = TA.EMA(ohlcv)\n",
    "print(df['EMA'].describe())\n",
    "sns.distplot(df['EMA'])\n",
    "df.tail()"
   ]
  },
  {
   "cell_type": "markdown",
   "metadata": {
    "id": "wqkaWfQryV3W"
   },
   "source": [
    "# WMA"
   ]
  },
  {
   "cell_type": "code",
   "execution_count": 53,
   "metadata": {
    "colab": {
     "base_uri": "https://localhost:8080/",
     "height": 859
    },
    "id": "9Dw9scCSieLI",
    "outputId": "1cd9b6c0-1ff1-46a1-f108-4e8f7ccbf7ca"
   },
   "outputs": [
    {
     "name": "stdout",
     "output_type": "stream",
     "text": [
      "count     1189.000000\n",
      "mean     13329.246344\n",
      "std       2785.496408\n",
      "min       9224.505100\n",
      "25%      10850.133095\n",
      "50%      12689.692079\n",
      "75%      16120.855143\n",
      "max      18389.146615\n",
      "Name: WMA, dtype: float64\n"
     ]
    },
    {
     "name": "stderr",
     "output_type": "stream",
     "text": [
      "C:\\Users\\ricky\\AppData\\Local\\Temp/ipykernel_10260/1037319935.py:1: SettingWithCopyWarning: \n",
      "A value is trying to be set on a copy of a slice from a DataFrame.\n",
      "Try using .loc[row_indexer,col_indexer] = value instead\n",
      "\n",
      "See the caveats in the documentation: https://pandas.pydata.org/pandas-docs/stable/user_guide/indexing.html#returning-a-view-versus-a-copy\n",
      "  df['WMA'] = TA.WMA(ohlcv)\n",
      "C:\\Users\\ricky\\anaconda3\\lib\\site-packages\\seaborn\\distributions.py:2619: FutureWarning: `distplot` is a deprecated function and will be removed in a future version. Please adapt your code to use either `displot` (a figure-level function with similar flexibility) or `histplot` (an axes-level function for histograms).\n",
      "  warnings.warn(msg, FutureWarning)\n"
     ]
    },
    {
     "data": {
      "text/html": [
       "<div>\n",
       "<style scoped>\n",
       "    .dataframe tbody tr th:only-of-type {\n",
       "        vertical-align: middle;\n",
       "    }\n",
       "\n",
       "    .dataframe tbody tr th {\n",
       "        vertical-align: top;\n",
       "    }\n",
       "\n",
       "    .dataframe thead th {\n",
       "        text-align: right;\n",
       "    }\n",
       "</style>\n",
       "<table border=\"1\" class=\"dataframe\">\n",
       "  <thead>\n",
       "    <tr style=\"text-align: right;\">\n",
       "      <th></th>\n",
       "      <th>Open</th>\n",
       "      <th>High</th>\n",
       "      <th>Low</th>\n",
       "      <th>Close</th>\n",
       "      <th>Adj Close</th>\n",
       "      <th>Volume</th>\n",
       "      <th>triple_barrier_signal</th>\n",
       "      <th>RSI</th>\n",
       "      <th>Williams %R</th>\n",
       "      <th>SMA</th>\n",
       "      <th>EMA</th>\n",
       "      <th>WMA</th>\n",
       "    </tr>\n",
       "    <tr>\n",
       "      <th>Date</th>\n",
       "      <th></th>\n",
       "      <th></th>\n",
       "      <th></th>\n",
       "      <th></th>\n",
       "      <th></th>\n",
       "      <th></th>\n",
       "      <th></th>\n",
       "      <th></th>\n",
       "      <th></th>\n",
       "      <th></th>\n",
       "      <th></th>\n",
       "      <th></th>\n",
       "    </tr>\n",
       "  </thead>\n",
       "  <tbody>\n",
       "    <tr>\n",
       "      <th>2023-02-02</th>\n",
       "      <td>15508.830078</td>\n",
       "      <td>15602.089844</td>\n",
       "      <td>15496.519531</td>\n",
       "      <td>15595.160156</td>\n",
       "      <td>15595.160156</td>\n",
       "      <td>3248500</td>\n",
       "      <td>0</td>\n",
       "      <td>72.275262</td>\n",
       "      <td>-0.486594</td>\n",
       "      <td>14653.651177</td>\n",
       "      <td>15158.977368</td>\n",
       "      <td>15257.702235</td>\n",
       "    </tr>\n",
       "    <tr>\n",
       "      <th>2023-02-03</th>\n",
       "      <td>15591.950195</td>\n",
       "      <td>15617.730469</td>\n",
       "      <td>15504.030273</td>\n",
       "      <td>15602.660156</td>\n",
       "      <td>15602.660156</td>\n",
       "      <td>2647300</td>\n",
       "      <td>0</td>\n",
       "      <td>72.386625</td>\n",
       "      <td>-1.118971</td>\n",
       "      <td>14673.752406</td>\n",
       "      <td>15247.713926</td>\n",
       "      <td>15357.312934</td>\n",
       "    </tr>\n",
       "    <tr>\n",
       "      <th>2023-02-06</th>\n",
       "      <td>15514.799805</td>\n",
       "      <td>15514.799805</td>\n",
       "      <td>15392.820312</td>\n",
       "      <td>15392.820312</td>\n",
       "      <td>15392.820312</td>\n",
       "      <td>2320600</td>\n",
       "      <td>1</td>\n",
       "      <td>64.571670</td>\n",
       "      <td>-16.794229</td>\n",
       "      <td>14694.141435</td>\n",
       "      <td>15276.735203</td>\n",
       "      <td>15396.039670</td>\n",
       "    </tr>\n",
       "    <tr>\n",
       "      <th>2023-02-07</th>\n",
       "      <td>15376.120117</td>\n",
       "      <td>15462.099609</td>\n",
       "      <td>15363.650391</td>\n",
       "      <td>15400.910156</td>\n",
       "      <td>15400.910156</td>\n",
       "      <td>2251800</td>\n",
       "      <td>0</td>\n",
       "      <td>64.729764</td>\n",
       "      <td>-19.476148</td>\n",
       "      <td>14711.001691</td>\n",
       "      <td>15301.570194</td>\n",
       "      <td>15421.691471</td>\n",
       "    </tr>\n",
       "    <tr>\n",
       "      <th>2023-02-08</th>\n",
       "      <td>15538.709961</td>\n",
       "      <td>15631.219727</td>\n",
       "      <td>15520.049805</td>\n",
       "      <td>15618.169922</td>\n",
       "      <td>15618.169922</td>\n",
       "      <td>2514500</td>\n",
       "      <td>0</td>\n",
       "      <td>68.761373</td>\n",
       "      <td>-1.402467</td>\n",
       "      <td>14729.016816</td>\n",
       "      <td>15364.890139</td>\n",
       "      <td>15477.977886</td>\n",
       "    </tr>\n",
       "  </tbody>\n",
       "</table>\n",
       "</div>"
      ],
      "text/plain": [
       "                    Open          High           Low         Close  \\\n",
       "Date                                                                 \n",
       "2023-02-02  15508.830078  15602.089844  15496.519531  15595.160156   \n",
       "2023-02-03  15591.950195  15617.730469  15504.030273  15602.660156   \n",
       "2023-02-06  15514.799805  15514.799805  15392.820312  15392.820312   \n",
       "2023-02-07  15376.120117  15462.099609  15363.650391  15400.910156   \n",
       "2023-02-08  15538.709961  15631.219727  15520.049805  15618.169922   \n",
       "\n",
       "               Adj Close   Volume  triple_barrier_signal        RSI  \\\n",
       "Date                                                                  \n",
       "2023-02-02  15595.160156  3248500                      0  72.275262   \n",
       "2023-02-03  15602.660156  2647300                      0  72.386625   \n",
       "2023-02-06  15392.820312  2320600                      1  64.571670   \n",
       "2023-02-07  15400.910156  2251800                      0  64.729764   \n",
       "2023-02-08  15618.169922  2514500                      0  68.761373   \n",
       "\n",
       "            Williams %R           SMA           EMA           WMA  \n",
       "Date                                                               \n",
       "2023-02-02    -0.486594  14653.651177  15158.977368  15257.702235  \n",
       "2023-02-03    -1.118971  14673.752406  15247.713926  15357.312934  \n",
       "2023-02-06   -16.794229  14694.141435  15276.735203  15396.039670  \n",
       "2023-02-07   -19.476148  14711.001691  15301.570194  15421.691471  \n",
       "2023-02-08    -1.402467  14729.016816  15364.890139  15477.977886  "
      ]
     },
     "execution_count": 53,
     "metadata": {},
     "output_type": "execute_result"
    },
    {
     "data": {
      "image/png": "iVBORw0KGgoAAAANSUhEUgAAAZsAAAEGCAYAAACzYDhlAAAAOXRFWHRTb2Z0d2FyZQBNYXRwbG90bGliIHZlcnNpb24zLjQuMywgaHR0cHM6Ly9tYXRwbG90bGliLm9yZy/MnkTPAAAACXBIWXMAAAsTAAALEwEAmpwYAAAzu0lEQVR4nO3dd3xc1Znw8d+jLqt3yZLcZYwbxpYL2JSEGGwCmASSUBITUhxaenZjdpdtSd6X7O672SUhECDFJtSEAE5i4oCDAdu4925ZbiqWJRdJlq3+vH/MFZkIlZE8V3ckPd/PZz4zc+459z5jS3rmnnvuOaKqGGOMMW4K8zoAY4wxA58lG2OMMa6zZGOMMcZ1lmyMMca4zpKNMcYY10V4HUCoSk9P1xEjRngdhjHG9CubN2+uUtWM9uWWbDoxYsQINm3a5HUYxhjTr4jI0Y7KrRvNGGOM6yzZGGOMcZ0lG2OMMa6zZGOMMcZ1lmyMMca4zpKNMcYY11myMcYY4zpXk42IzBOR/SJSJCKLO9guIvKYs32HiEztrq2IpIrImyJy0HlOccpniMg257FdRD7h12aaiOx09vWYiIibn9sYY8zfci3ZiEg48DgwHxgP3Cki49tVmw8UOI9FwBMBtF0MrFTVAmCl8x5gF1CoqlOAecDPRKTtptUnnP23HWteUD+sMcaYLrk5g8AMoEhViwFE5EVgAbDHr84CYKn6VnBbJyLJIpIDjOii7QLgWqf9EmAV8F1VPe+33xhAnbY5QKKqvu+8XwrcCrwR3I9rOvP8+mNB3+ddM4cFfZ/GGPe42Y2WCxz3e1/ilAVSp6u2WapaDuA8Z7ZVEpGZIrIb2Ancp6rNTruSbuJoa79IRDaJyKbKysqAPqQxxpjuuZlsOrou0n4N6s7qBNL2wxVU16vqBGA68LCIxPRkX6r6lKoWqmphRsaH5pEzxhjTS24mmxIg3+99HlAWYJ2u2lY4XWNtXWQn2x9YVfcCdcBEZ1953cRhjDHGRW4mm41AgYiMFJEo4A5gWbs6y4CFzqi0WUC10zXWVdtlwD3O63uA1wGcuhHO6+HAJcARZ3+1IjLLGYW2sK2NMcaYvuHaAAFVbRaRh4AVQDjwC1XdLSL3OdufBJYDNwJFwHng3q7aOrt+FHhZRL4IHAM+5ZTPARaLSBPQCjygqlXOtvuBXwGx+AYG2OAAY4zpQ+IbCGbaKywsVFvPJjhsNJoxg4eIbFbVwvblNoOAMcYY11myMcYY4zpLNsYYY1xnycYYY4zrLNkYY4xxnSUbY4wxrrNkY4wxxnWWbIwxxrjOko0xxhjXWbIxxhjjOks2xhhjXGfJxhhjjOss2RhjjHGdJRtjjDGus2RjjDHGdZZsjDHGuM6SjTHGGNdZsjHGGOM6SzbGGGNcZ8nGGGOM6yzZGGOMcZ0lG2OMMa6zZGOMMcZ1lmyMMca4zpKNMcYY17mabERknojsF5EiEVncwXYRkcec7TtEZGp3bUUkVUTeFJGDznOKUz5XRDaLyE7n+aN+bVY5+9rmPDLd/NzGGGP+lmvJRkTCgceB+cB44E4RGd+u2nygwHksAp4IoO1iYKWqFgArnfcAVcDNqjoJuAd4tt2x7lbVKc7jZPA+qTHGmO64eWYzAyhS1WJVbQReBBa0q7MAWKo+64BkEcnppu0CYInzeglwK4CqblXVMqd8NxAjItEufTZjjDE94GayyQWO+70vccoCqdNV2yxVLQdwnjvqErsN2KqqDX5lv3S60B4REekoYBFZJCKbRGRTZWVl15/OGGNMwNxMNh39QdcA6wTStuODikwAfgh8xa/4bqd77Srn8bmO2qrqU6paqKqFGRkZgRzOGGNMANxMNiVAvt/7PKAswDpdta1wutpwnj+4/iIiecCrwEJVPdRWrqqlznMt8Dy+bjpjjDF9xM1ksxEoEJGRIhIF3AEsa1dnGbDQGZU2C6h2usa6arsM3wAAnOfXAUQkGfgj8LCqrmk7gIhEiEi68zoSuAnYFfRPa4wxplMRbu1YVZtF5CFgBRAO/EJVd4vIfc72J4HlwI1AEXAeuLerts6uHwVeFpEvAseATznlDwFjgEdE5BGn7HqgDljhJJpw4C3gabc+tzHGmA8T1YAuhQw6hYWFumnTJq/DGBCeX38s6Pu8a+awoO/TGHPxRGSzqha2L7cZBIwxxrjOko0xxhjXWbIxxhjjOks2xhhjXGfJxhhjjOss2RhjjHGdJRtjjDGus2RjjDHGdZZsjDHGuM6SjTHGGNdZsjHGGOM6SzbGGGNcZ8nGGGOM6yzZGGOMcZ0lG2OMMa6zZGOMMcZ1lmyMMca4zpKNMcYY11myMcYY4zpLNsYYY1xnycYYY4zrLNkYY4xxnSUbY4wxrovwOgBjOnK6rpHdZdUA5CTFMjojDhHxOCpjTG9ZsjEhpbm1ld9vL2PTkTOoX/nw1CHcPi2PtPhoz2IzxvSeq91oIjJPRPaLSJGILO5gu4jIY872HSIytbu2IpIqIm+KyEHnOcUpnysim0Vkp/P8Ub8205zyIud49hU5BDU2t/Ls+0fZeOQMV4xO4+9vuIRHPj6eBVOGcrK2gaffK6aytsHrMI0xveBashGRcOBxYD4wHrhTRMa3qzYfKHAei4AnAmi7GFipqgXASuc9QBVws6pOAu4BnvU7zhPO/tuONS94n9QEyx92lFF08hyfvDyXmyYPJXlIFLFR4cwcmcaXrxpFi8Iv1hzmQmOL16EaY3rIzTObGUCRqharaiPwIrCgXZ0FwFL1WQcki0hON20XAEuc10uAWwFUdauqljnlu4EYEYl29peoqu+rqgJL29qY0LGj5Cybjp7hmrEZFI5I/dD27KQY7rliOLX1Tby6rRTff6Uxpr9wM9nkAsf93pc4ZYHU6aptlqqWAzjPmR0c+zZgq6o2OO1KuonDeOhCYwvLtpeRnxLLdZdmdVovL2UIcy/NYldpNb/fUd6HERpjLpabyaaj6yLtv452VieQth0fVGQC8EPgKz2Io63tIhHZJCKbKisrAzmcCYJVB05yobGFBVNyCQ/r+nLaVWMzGJoUww/f2Ed9k3WnGdNfuJlsSoB8v/d5QFmAdbpqW+F0jeE8n2yrJCJ5wKvAQlU95HeMvG7iAEBVn1LVQlUtzMjI6PYDmot35nwj7x86xeXDUhiaHNtt/TAR5k/KofTsBX655oj7ARpjgsLNZLMRKBCRkSISBdwBLGtXZxmw0BmVNguodrrGumq7DN8AAJzn1wFEJBn4I/Cwqq5pO4Czv1oRmeWMQlvY1sZ4772DlSgwd3zn3Wftjc6I57pxmfx0VRG19U3uBWeMCRrXko2qNgMPASuAvcDLqrpbRO4TkfucasuBYqAIeBp4oKu2TptHgbkichCY67zHqT8GeEREtjmPtus59wPPOMc5BLzh0sc2PXC+oZnNR88wJT+ZpNjIHrX9+scKqK1v5vn1x1yKzhgTTK7e1Kmqy/ElFP+yJ/1eK/BgoG2d8lPAdR2Ufx/4fif72gRM7Ensxn3rDp+mqUWZMya9x20n5yUze0waP199mM/PHkF0RLgLERpjgsXmRjOeaGlV1hefYmxWPFmJMb3ax33XjOZkbQOvb+3wEpwxJoRYsjGe2H+ihtqGZmaNTOv1PuaMSeeSrASeXXc0iJEZY9xgycZ4YuORMyTGRFCQldDrfYgId88axs7SanaUnA1ecMaYoLNkY/pc9YUmDlTUMnVYSrf31XTn1stziY0M59d2dmNMSLNkY/rctmO+GZ2nDU+56H0lxkRy6+VDWba9jHMNzRcfnDHGFZZsTJ/bXlLNsNQhQVsu4LapedQ3tbJi14mg7M8YE3yWbEyfqqip50RNPZPzkoK2z2nDU8hLieW1baVB26cxJrgCSjYi8oqIfFxELDmZi7KjpBoBJuUGL9mICJ+4PJc1RVWcrKkP2n6NMcETaPJ4ArgLOCgij4rIOBdjMgOUqrKj5CwjM+JIiOnZjAHdWTAll1aFZdvtnhtjQlFAyUZV31LVu4GpwBHgTRFZKyL3ikhw/2qYAauipoFTdY1BPatpMyYznsl5SdaVZkyICrhbTETSgM8DXwK2Av+LL/m86UpkZsDZU+7rQhufk+jK/m+dksuu0hqKTta6sn9jTO8Fes3md8B7wBB8Sy/foqovqepXgXg3AzQDx56yGvJThwS9C63NTZflECbwmk1fY0zICfTM5hlVHa+q/7dtlUwRiQZQ1ULXojMDxpm6Rsqq6107qwHITIhhTkEGr261ZaONCTWBJpuOZlN+P5iBmIFtT3kNABOGupdsABZcNpTSsxfYXlLt6nGMMT3T5RIDIpIN5AKxInI5f11iORFfl5oxATlQUUtGfHTQbuTszMcuzSIiTHhjVzlT8pNdPZYxJnDdrWdzA75BAXnAf/uV1wL/4FJMZoBpbG6luKqOWSNTXT9W0pBIZo9J542dJ1g8bxy+xVmNMV7rshtNVZeo6keAz6vqR/wet6jq7/ooRtPPFVeeo6VVuSTb3S60NvMnZnPs9PkPuu6MMd7rMtmIyGedlyNE5FvtH30QnxkA9lfUEhUexoi0vul5nTs+izCBP9lcacaEjO4GCMQ5z/FAQgcPY7qkqhyoqGV0RhwR4X0z21FafDSzRqWxfGd5nxzPGNO9Lq/ZqOrPnOd/65twzEBzqPIcZ843cfXYjD497vyJ2Tzy+m4OVtRe1AJtxpjgCPSmzv8QkUQRiRSRlSJS5dfFZkynVu2vBGBsH//Bv2FCNiKwfKd1pRkTCgLt17heVWuAm4ASYCzwd65FZQaMVfsryUyIJmVIVJ8eNzMxhsLhKbyxy7rSjAkFgSabtvlFbgReUNXTLsVjBpC6hmY2HD7NJR51Y82bmMO+E7Ucrqrz5PjGmL8KNNn8XkT2AYXAShHJAGzhENOltYdO0djSythsr5JNNoCd3RgTAgJdYmAxcAVQqKpNQB2wwM3ATP/3zoGTxEWFM7yPhjy3l5scy2X5yTYE2pgQ0N0MAv4uxXe/jX+bpUGOxwwga4tOMXNUGhFh3i3wOn9iNo++sY+SM+fJS7EZlozxSqCj0Z4F/guYA0x3Ht3O9iwi80Rkv4gUicjiDraLiDzmbN8hIlO7aysiqSLypogcdJ5TnPI0EXlbRM6JyE/aHWeVs69tziMzkM9teq/s7AWKq+qYPSbd0zjmO11pdnZjjLcC/cpZCMxW1QdU9avO42tdNRCRcOBxYD4wHrhTRMa3qzYfKHAei/AtP91d28XASlUtAFY678F3DekR4DudhHS3qk5xHicD/Nyml9YUVQEwe0yap3EMT4tjfE4ib1iyMcZTgSabXUB2D/c9AyhS1WJVbQRe5MPXeRYAS9VnHZAsIjndtF0ALHFeLwFuBVDVOlVdjQ1cCAlriqpIj4/ybCSavxsnZbP56BlOVNuPhjFeCTTZpAN7RGSFiCxre3TTJhc47ve+xCkLpE5XbbPaFnBzngPtEvul04X2iHQyFbCILBKRTSKyqbKyMsDdmvZUlTWHTnHl6PSQmHV5/qQcwEalGeOlQAcI/Gsv9t3RX5n2yyd2VieQtj1xt6qWikgC8ArwOToY3KCqTwFPARQWFtpSj7108OQ5KmsbPO9CazM6I55LshJ4Y+cJ7p090utwjBmUAh36/A5wBIh0Xm8EtnTTrATI93ufB7RfHL6zOl21rXC62nCeu73+oqqlznMt8Dy+bjrjkr9er/F2cIC/GyflsPHoaU7WWFeaMV4IdDTal4HfAj9zinKB17ppthEoEJGRIhIF3AG073pbBix0RqXNAqqdrrGu2i4D7nFe3wO83k3sESKS7ryOxDflzq5uYjcXYU1RFcPThoTUUOMbJ2WjCit220ABY7wQ6DWbB4HZQA2Aqh6km2slqtoMPASsAPYCL6vqbhG5T0Tuc6otB4qBIuBp4IGu2jptHgXmishBYK7zHgAROYJvRdHPi0iJM4ItGlghIjuAbUCpcyzjguaWVtYVnw6psxqAgqwExmTG80dbdsAYTwR6zaZBVRvbLvY6N3Z2e01DVZfjSyj+ZU/6vVZ8iSygtk75KeC6TtqM6CSUad3FaoJje0k15xqamT06tJINwI0Ts/nJ20VU1jaQkRDtdTjGDCqBntm8IyL/AMSKyFzgN8Dv3QvL9Fdri6oQgStGh8bgAH/zJ+XQqvDnPdaVZkxfCzTZLAYqgZ3AV/CdcfyTW0GZ/mvNoSrG5ySSGte3SwoEYlx2AqPS4/jDdutKM6avBToarRXfgIAHVPV2VX3a6QIz5gMXGlvYcvQsc0Lsek0bEeHmy4ay7vApu8HTmD7WZbJxRon9q4hUAfuA/SJSKSL/3Dfhmf5k45HTNLa0cmWIJhuABVOGogq/395+FL4xxk3dndl8A98otOmqmqaqqcBMYLaIfNPt4Ez/sqaoishwYfqIFK9D6dSojHgm5yXx+vZSr0MxZlDpLtksBO5U1cNtBapaDHzW2WbMB9YcqmLqsBSGRPVk5Yq+t2BKLrtKayg6ec7rUIwZNLr7qxCpqlXtC1W10rlB0hgAztQ1srushm9+bKzXoXTr5sk5/OCPe3h9Wynfvv4Sr8MxPfD8+mNB3+ddM4cFfZ/mw7o7s2ns5TYzyLxffArV0JqipjOZiTFcOTqd17eVYeNcjOkb3SWby0SkpoNHLTCpLwI0/cPqoirioyO4LC/J61ACsmDKUI6dPs/W42e9DsWYQaHLZKOq4aqa2MEjQVWtG818YG1RFbNGpRIR7t0S0D1xw8RsoiLCeH2rDRQwpi/0j78MJqSVnDnPkVPnuTIEp6jpTGJMJNePz+K1bWXUN7V4HY4xA54lG3PR1hadAmBOQf9JNgB3zRhG9YUmW1TNmD5gycZctDWHqkiPj6YgM97rUHpk1qg0RqQN4YX1x7uvbIy5KJZszEVpbVXWFFUxZ0xaSCwB3RNhYcIdM4ax4chpDlbUeh2OMQOaJRtzUfZX1FJ1rrFfDHnuyO3T8ogMF17YYGc3xrjJko25KG1LQPe36zVt0uOjuX5CNq9sKbGBAsa4yJKNuSiri6oYnRFHTlKs16H02t02UMAY11myMb3W2NzK+uLTIbukQKDaBgr8el3wp0Ix3qtvaqGqtoGaC0202owRngntGRNNSNt67AwXmlr67fWaNmFhwueuGMH3/rCHrcfOcPmw0J212gTm+OnzbD56hn0naqipb/6gPCYyjNEZ8cwalcao9Lh+N6ilP7NkY3ptdVEVYQKzQnAJ6J76zPR8/uetAzyz+jCP32XJpr8qr77A8p3lHKqsIyoijILMeIalDiE+OoKG5lbKzl5g74ladpfVMDojjk9OzfM65EHDko3ptdVFVVyWn0xiTP+fuSg+OoK7Zg7j6XeLOX76PPmpQ7wOyfRAS6vy1t4K3jtYSUxkODdOzGb6iFSiI8M/VLeppZWNR07z5z0VPLbyIBOGJnLtJZkeRD242DUb0ys19U1sP36Wq/p5F5q/e68cSURYGE++c8jrUEwPVF9o4ql3D/HOgUouz0/hW3PHMqcgo8NEAxAZHsaVo9P52kcLSI2L4ktLNvHq1pI+jnrwsWRjemXdoVO09pMlBQKVnRTDpwrzeHnTccrOXvA6HBOA46fP8/jbRVTUNnDnjGHcNi0v4MX7UuOi+PJVo5gxMpVvv7ydN/dUuBzt4GbJxvTKmqIqYiPDB9zF9PuvHY0qdnbTDxysqOWZ1cVERYRx/zWjmZTb8+UtYiLDeXphIZNyk3jo+S1styUnXGPJxvTK6qIqZo5KJSpiYP0I5aUM4VOFeby44TjHT5/3OhzTiZ2l1Sx9/yhpcdF85epRZCXG9HpfcdER/OLz00mPj+aB57Zw9rytC+kGV/9SiMg8EdkvIkUisriD7SIijznbd4jI1O7aikiqiLwpIged5xSnPE1E3haRcyLyk3bHmSYiO519PSY23vGilFdf4FBlXb+/v6YzX7uuABH40ZsHvA7FdGDz0dO8uOEYeSmxfPmqUSQEYYBKWnw0j989lZO19fzdb3fYCq4ucC3ZiEg48DgwHxgP3Cki49tVmw8UOI9FwBMBtF0MrFTVAmCl8x6gHngE+E4H4Tzh7L/tWPOC8BEHrdUH+/cUNd3JSYrl3tkjeXVbKbvLqr0Ox/jZcvQMv9tSypjMeO6dPZLYqI4HAfTGlPxkvjtvHG/uqeC1bbaoXrC5eWYzAyhS1WJVbQReBBa0q7MAWKo+64BkEcnppu0CYInzeglwK4Cq1qnqanxJ5wPO/hJV9X31fV1Z2tbG9M6aoirS46O4JCvB61Bcc/+1o0kZEsW/Ldtj33JDxOvbSnllSwmjM+L57KzhrnTh3jt7JNOGp/Cvy/Zwsqa++wYmYG7eZ5ML+E+lWwLMDKBObjdts1S1HEBVy0WkuwHyuU779sf4EBFZhO8MiGHDhnWz28FJVVlddIrZY9I9vfv6+fXuTy1zzdgMXt1ayndf2cGU/N4NhLhrpv0cBcMfd5TzzZe2MSI9js/OGk6kS8uPh4cJ/3n7ZOb9z3v8n+V7+Z87LnflOIORm2c2Hf0lav8VsbM6gbQNZhy+QtWnVLVQVQszMjJ6ebiBzbekQMOAGvLcmWnDU8hLiWX5zhOcb2zuvoFxxZ92neBrL25l2vAUFl7hzhmNv1EZ8XzlmlG8tq2M9cWnXD3WYOLmmU0JkO/3Pg8oC7BOVBdtK0QkxzmryQFOBhCH/5wUHcVhAvTO/koArhqg12v8hYlw65RcfrqqiOU7y7l9Wn73jUxQvbWngq++sIXJeUn88t4ZLNsW/F/djs6S0+KiSY6N5BsvbePBj4whrBdn8XZW+7fc/IqwESgQkZEiEgXcASxrV2cZsNAZlTYLqHa6yLpquwy4x3l9D/B6V0E4+6sVkVnOKLSF3bUxnVu1v5Jx2Qn9ekmBnhiaHMs1YzPYcuws+8prvA5nUPnLvgruf24z43MS+dW9M4iP7rvZtaIiwrhhQjbl1fXsLLFBIsHgWrJR1WbgIWAFsBd4WVV3i8h9InKfU205UAwUAU8DD3TV1mnzKDBXRA4Cc533AIjIEeC/gc+LSInfCLb7gWec4xwC3nDlQw9w5xqa2XT0NNdcMri6GD9ySSbZiTG8sqWEmvomr8MZFN7ef5L7nt3CuOxEln5xJkmxfT//3qS8JLITY3hrbwUtrTZI5GK5+lVBVZfjSyj+ZU/6vVbgwUDbOuWngOs6aTOik/JNwMRA4x7MurrwvqeshqYWpblF++QCfaiICA/jjun5PL6qiN9sOs7nrxxJeJjdquWWdw5U8pVnNzM2O55fe5RowNeNOnd8Fs+uO8qWo2eYPjLVkzgGioF1+7dx1YGKWqIiwhieNvhmRM5MjOGWy4ZyqLLOVvR00XsHK/ny0k2MyXASzRBvZxQfl51AfkosK/dV0NTS6mks/Z0lGxMQVeVARS1jMuKJCBucPzbThqcye3Qaaw+dYv1hG6UUbH/aVc4Xf7WJUelxPPelmSQPifI6JESE6ydkU1PfzPrDp70Op18bnH81TI+drG3g7IUmxg7gGzkDMW9iDmOz4vn99jIOVZ7zOpwB44UNx3jguS1MzE3kxUWzSInzPtG0GZ0Rz5iMeFbtP0ljs53d9JYlGxOQAxW1AIzNivc4Em+Fhwl3TB9Genw0z60/aksRXCRV5Sd/OcjDv9vJ1WMz+HWInNG095FxmZxvbGHzUTu76S1LNiYgBypqyUyIDsk/BH0tJjKce64YQXREOL9Yc5jyaks4vVHX0MxDL2zlv/58gFunDOXphYUBr0XT10akDWFY6hDeK6qykWm9ZMnGdKuhuYUjp84P6LnQeiolLoovzRlJRJjw89WHOWHzaPXIkao6PvnTtbyxs5yH54/jR5+Z4toUNMEgIlwzNoOz55vYWXrW63D6pdD93zUho7iyjpZWpcCSzd9Ii4/mS1eNItxJONal1r3WVuXX645y049XU1Fbz5IvzOAr14z2dJ69QF2SnUBmQjTvHqiyyVl7ITTPWU1I2VNeQ3REGCPSB9+Q5+6kx0fzpTmj+OWawzz1XjF3zxxGQaa7SdmNe5z6YmqV4spzLP7dTjYcPs3sMWk8+snJ5Kf2n5+pMBGuHpvBbzeXcKCilkuyE70OqV+xZGO61KrKvvIaLslOGLRDnruTkRDNV64ZzZK1R1iy9gi3T8vr9SzRA0lbUqy+0MQ7ByrZePg0kRHCbVNzmToshfecdZH6k8vyknlzTwWrDlRasukhSzamS8dPn6eusYVLc+wXqytJsZEsunoUz647ysubSqisbeS6S7tb/cJ7raqcb2xhd1k11eebCA8TIsKF6IhwshJjSIuLIqwXsyU0NLew70QNW4+d/WABumnDU7nu0kwSg7CyplfCw4Q5Y9L5485yjp8+36/OzLxmycZ0aU95DeEiNjggADGR4dx75Qhe31bG2/tPcqL6AgumDA3KssXB0tDcQnFlHYerfI8T1fW0dHH9ITJcyEyIITsphqzEaDITYshIiCYzIZr0+GjCwoRW9U1hVHWugSNVdewuq2HT0dPUN7USGxnOlaPTmTUqjdQQunfmYhQOT2HlvgpWF1Vx5wyb2TlQlmxMp1SVPWU1jMyIIyYyeMvvDmQR4WF8cmouOckxLN9Zzid+upYn7p7q6eAKVeXIqfNsPnqGXaXVNLa0EhEm5KUM4coxaSTFRnLT5BySYqNQVZpalQuNzVTUNHCipp6K6nrKq+vZf6KW9w5WUVvf+do+UeFhjMmM547pw2hVZUzmwJtxIjoynBkjUnnvYBVn6hpD6gbUUGbJxnSqsraBU3WNXDkIFkoLJhHhytHpZCXG8NrWUm7+yWr+/ZaJfKowr09HXbWqsqu0mrf3n6SipoGoiDAm5yVxWX4yw1KH/M1Q43kTcwLe74XGFiprG6iqa0AVwsTXvZQW7zvjadvvQJ6s9YrR6awuqmLtoSo+Pnmo1+H0C5ZsTKf2Ouu3XJptXWi9MTojnuVfv4pvvrSNv39lB6uLqvjegomuTy7ZqsqOEl+SqaxtICM+mtum5jIpNzkoq1zGRoUzLG0IwwbhhKxtkmIjmZyXzMajZ/jouCxio+zMvzuWbEyn9pTXkJsca7MGXISsxBie/eJMnlhVxI/eOsj7xaf491smMH9S4GcSgWpVZfvxs7y9/yRV5xrJTIjmjun5TMxN6tVKk6Zrc8aks+34WTYeOc3VYwfXGk+9YcnGdKi2vomSMxf6xYiqUBceJjz00QKuvSST776yg/uf28L147P4p4+PD8rZQasqO0uq+cu+k1SeayA7MYa7Zgxj/NBESzIuGpocy6j0ON4vPsXsMem2xlE3LNmYDu0pr0HBhjwH0cTcJF5/cDbPrD7Mj948wF/2reLT0/P56kfH9GqZ7aaWVnaVVrPqQCWVtQ1kJUZz54xhTOhFkhnI11fcNGdMOkvXHWVnaTVT8pO9DiekWbIxHdpRUk16fDTZiTFehzKgRISHcd81o/nE5bn85C9FvLjxGL/dXMLNk4fy6cI8CkekdvkNWVU5UV3P5qOn2XLsLBeaWqy7zENjsxNIj49mdVEll+Ul9Ytpd7xiycZ8SE19E0eq6vjIuEz75XFJVmIM37t1IouuHsWT7xzita2lvLKlhNS4KKaPSOHSnESGJsUSHRlGY3MrFTX17K84x+YjpymrridMYPzQJGaMSGVURpwlGY+Eie8mz9e2lXK4qo5RGYN7CY6uWLIxH7KrtBoFJucmeR3KgJefOoQffGIS/3Djpby9/yR/2XuSrcfPsmJ3xYfq5ibHcll+MjNHhjMuJyGkbhYdzC4flsyf95xgdVGVJZsuWLIxH7KjpJqcpBgyrQutz8RFR3DT5KHc5Nyz0dDcwsmaBhpbWokMCyMjIfqD4bV2fSW0RIaHMWtUmm+ARm0DGQnRXocUkgbWrb3mop2pa+TY6fN2VuOx6Ihw8lOHMDojnmFpQ+w+jhA3a1QaEWHCmqL+N7loX7FkY/7GzlLfpImT8pK9DcSYfiQ+OoIp+clsOXaGcw2dT+czmFmyMX9jR+lZ8lNiB8ykicb0ldlj0mluVTYcPuV1KCHJko35QHHlOcrO1jPZzmqM6bGsxBjGZsXzfvFpmlpavQ4n5LiabERknojsF5EiEVncwXYRkcec7TtEZGp3bUUkVUTeFJGDznOK37aHnfr7ReQGv/JVTtk252G3xXfgtW1lCL6bD40xPTdnTAZ1Dc1sP37W61BCjmvJRkTCgceB+cB44E4RGd+u2nygwHksAp4IoO1iYKWqFgArnfc42+8AJgDzgJ86+2lzt6pOcR4ng/15+7uWVuU3m45TkBVPUqwNqTWmN0ZnxJGdGMPqoiq0i3WCBiM3z2xmAEWqWqyqjcCLwIJ2dRYAS9VnHZAsIjndtF0ALHFeLwFu9St/UVUbVPUwUOTsxwTg3YOVlFfXUzg81etQjOm3RIQ5BemcrG3gnQOVXocTUtxMNrnAcb/3JU5ZIHW6apulquUAznNbl1h3x/ul04X2iNht8R/y0objpMVFMS7HlhMw5mJMzksiMSaCZ9477HUoIcXNZNPRH/T255Wd1QmkbU+Od7eqTgKuch6f63AHIotEZJOIbKqsHDzfSiprG3hrbwW3TcsbcKsqGtPXIsLCuGJUGquLqthTVuN1OCHDzb8sJUC+3/s8oCzAOl21rXC62nCe266/dNpGVUud51rgeTrpXlPVp1S1UFULMzIGz/oUv9tSQnOr8unC/O4rG2O6NX1kKrGR4TyzutjrUEKGm8lmI1AgIiNFJArfxftl7eosAxY6o9JmAdVO11hXbZcB9ziv7wFe9yu/Q0SiRWQkvkEHG0QkQkTSAUQkErgJ2OXGB+6PVJWXNh5n+ogUxmTavE7GBMOQqAg+XZjH77eXUVFT73U4IcG1ZKOqzcBDwApgL/Cyqu4WkftE5D6n2nKgGN/F/KeBB7pq67R5FJgrIgeBuc57nO0vA3uAPwEPqmoLEA2sEJEdwDag1DmWATYeOUNxVR2fmT7M61CMGVC+MGckza3Kr9Ye8TqUkODqRJyquhxfQvEve9LvtQIPBtrWKT8FXNdJmx8AP2hXVgdM62nsg8XS94+QEBPBjZOyvQ7FmAFleFocN07MYenaI3z5qlGDflYOuxo8iJVXX+CNXSe4Y3o+Q6JsAnBjgu3rHyvgfFMLP3v3kNeheM6SzSC29P2jqCoLrxjhdSjGDEhjsxK45bKhLF17lMraBq/D8ZQlm0HqfGMzL2w4xg0TsslPHeJ1OMYMWF+/roCG5haefGdwn91YshmkXthwnLPnm/jSVaO8DsWYAW1URjyfnJrHr9cdHdQj06yjfhBqaG7h6XeLmTUqlWnDU7pvYHrNVtU04Du7eW1rKT/+y0G+f+skr8PxhJ3ZDEKvbinlRE09D35kjNehGDMo5KcO4c4Zw3hhw3EOVNR6HY4nLNkMMg3NLfz4L0Vclp/MnDHpXodjzKDxzbljiYsK599/v2dQzghtyWaQeXHDcUrPXuA714/F5iM1pu+kxkXxrbljWV1UxZt7KrwOp89ZshlE6hqa+cnbRcwcmWpnNcZ44O5ZwynIjOf7f9xLfVOL1+H0KUs2g8iT7xyisraBv583zs5qjPFAZHgY/3LzBI6dPs/PVw+uJQgs2QwSJWfO89S7xdxy2VAbgWaMh+YUpHPDhCweW3mQopPnvA6nz1iyGSR+8Me9ACyeP87jSIwx31swkdiocL79m+00t7R6HU6fsGQzCPx59wne2HWCr11XwNDkWK/DMWbQy0yM4fu3TmT78bM8sWpwzCxgyWaAq6lv4l+W7WZcdgKLrrbZAowJFTdNHsrNlw3lf1ceZFdptdfhuM6SzQD3z6/t4mRtA4/eNpnIcPvvNiaUfG/BBFLiovjmS9uoa2j2OhxX2V+fAey1raW8tq2Mr19XwJT8ZK/DMca0kzwkih99egqHKs/x3Vd2DOibPS3ZDFD7TtTw8O92Mn1ECg9cO9rrcIwxnZhTkM53briEP+wo56cD+PqNTcQ5AJ2pa2TR0s0kxETw+F1TibDuM2NC2v3XjGb/iVr+c8V+8lJiWTAl1+uQgs6SzQBzvrGZe3+1kRM19bzw5VlkJsZ4HZIxphsiwn/cPpmKmnq+/fJ2YiPDuX7CwFqq3b7yDiAXGlv4yrOb2VFylh/febndvGlMPxIdEc7TCwuZmJvEg89v4U+7TngdUlBZshkgauubuPdXG1hdVMUPb5vMDQPsW5Exg0FCTCRLvjCDiblJPPDcZn697qjXIQWNJZsB4Pjp89z2xFo2HTnD/3xmCp8qzPc6JGNMLyXFRvLcl2Zy7SWZ/NNru/iHV3fS0Nz/J+20ZNPPLd9Zzscfe4+KmgaWfmHGgLywaMxgMyQqgqc+N437rhnN8+uPcevja9lbXuN1WBfFkk0/VVFTz4PPb+GB57YwMiOeZQ/N5kpbNsCYASMiPIzF88fxzMJCKmsbuPnHq/k/y/dSU9/kdWi9YqPR+pmTNfX8cu0RfrXmCC2qfGvuWO6/drTNDmDMAPWx8Vn8eXgKP3xjH0+9W8wLG47x2VnDuXf2CDIT+s9oU0s2/UBzSytrDp3i+fVHeWvvSVpVueWyoXxr7liGp8V5HZ4xxmWpcVH88PbJfO6K4Tyx6hBPvnOIn68+zPyJ2dw4KYdrxmYQExnudZhdcjXZiMg84H+BcOAZVX203XZxtt8InAc+r6pbumorIqnAS8AI4AjwaVU942x7GPgi0AJ8TVVXOOXTgF8BscBy4OsawvNC1De1cLDiHNuOn+G9g1W8f+gUtQ3NpMZF8aU5I7ljxjBGpluSMWawmZibxON3T+VwVR0/X13MH3aU8/q2MuKiwrlidDrThqcwdVgyE3OTiIsOrXMJcetvroiEAweAuUAJsBG4U1X3+NW5EfgqvmQzE/hfVZ3ZVVsR+Q/gtKo+KiKLgRRV/a6IjAdeAGYAQ4G3gLGq2iIiG4CvA+vwJZvHVPWNruIvLCzUTZs29eqzt7YqTa2tNLcoTS2tNDnPzS1KY0sLtfXN1NY3U1PfRM2FZk7XNVBWXc+J6nqOnKrjSFUdrc5/S15KLFcVZHDN2Aw+Mi6D6Ah3v708v/6Yq/s3ZrC4a+Yw14/R1NLKuuJTLN95gvXFpyiuqvtgW1ZiNCPT48hLGUJafBTpcdGkxUeRGhdFXHQEMRHhxESGERMZTrTzHBUeRniYEBEmvV7NV0Q2q2ph+3I3U98MoEhVi50AXgQWAHv86iwAljpnGetEJFlEcvCdtXTWdgFwrdN+CbAK+K5T/qKqNgCHRaQImCEiR4BEVX3f2ddS4Fagy2TTWzf86F32V9T2uF1qXBTZiTEUZMZz0+ShjMtOYMLQRIalDrElnI0xHYoMD+OqggyuKsgA4NS5BrYeO8v+iloOV9VRXHmOtUVVVJ1rpLEHi7Tt+968oHfLuZlscoHjfu9L8J29dFcnt5u2WapaDqCq5SKS6bevdR3sq8l53b78Q0RkEbDIeXtORPZ39uGCrZNbt9KBqr6KIYj6a9zQf2O3uPtWt3Hf3UeB9FBA/96xP7yoYwzvqNDNZNPR1/H2fXad1QmkbaDHC3hfqvoU8FQ3x+kzIrKpo9PRUNdf44b+G7vF3bcs7p5zc7xsCeB/K3seUBZgna7aVjhdbTjPJwPYV143cRhjjHGRm8lmI1AgIiNFJAq4A1jWrs4yYKH4zAKqnS6yrtouA+5xXt8DvO5XfoeIRIvISKAA2ODsr1ZEZjmj3xb6tTHGGNMHXOtGU9VmEXkIWIFv+PIvVHW3iNznbH8S38iwG4EifEOf7+2qrbPrR4GXReSLwDHgU06b3SLyMr5BBM3Ag6raNqHQ/fx16PMbuDQ4wAUh06XXQ/01bui/sVvcfcvi7iHXhj4bY4wxbWyOE2OMMa6zZGOMMcZ1lmz6mIh8U0R2i8guEXlBRGJEJFVE3hSRg85zil/9h0WkSET2i8gNfuXTRGSns+0xceHOTxH5hYicFJFdfmVBi9UZzPGSU75eREa4GPd/isg+EdkhIq+KSHJ/iNtv23dEREUk3a8spOMWka86se0W38wfIR+3iEwRkXUisk1ENonIjFCKW0TyReRtEdnr/Lt+3SkP+d9LVNUeffTAdzPpYSDWef8y8HngP4DFTtli4IfO6/HAdiAaGAkcAsKdbRuAK/DdR/QGMN+FeK8GpgK7/MqCFivwAPCk8/oO4CUX474eiHBe/7C/xO2U5+MbLHMUSO8PcQMfwTdlVLTzPrOfxP1nv+PeCKwKpbiBHGCq8zoB37Re4+kPv5fB2Ik9Av5BaZsZIRXfSMA/4PsjuB/I8fth2u+8fhh42K/9CueHIwfY51d+J/Azl2Ie0e6XMWixttVxXkfgu7NZ3Ii73bZPAM/1l7iB3wKX4Zt4Nr0/xI3vi9THOqgX6nGvAD7jF8PzoRi33/FexzeHZMj/Xlo3Wh9S1VLgv/AN2S7Hd1/Rn2k3BQ/gPwVPZ9P5BDQFjwuCGesHbVS1GagG0lyL/K++wF+Hv4d03CJyC1CqqtvbbQrpuIGxwFVON8w7IjK9n8T9DeA/ReQ4vt/Vh0M1bqd763JgPf3g99KSTR9y+lEX4DudHQrEichnu2rSQVlvp/NxW29i7fPPISL/iO8+rOe6icHzuEVkCPCPwD93tLmTGDyP2xEBpACzgL/Dd2+cdBFDqMR9P/BNVc0Hvgn8vJsYPIlbROKBV4BvqGpX60WHTNyWbPrWx4DDqlqpqk3A74Ar6V9T8AQz1g/aiEgEkAScditwEbkHuAm4W50+ghCPezS+LybbxTd7eR6wRUSyQzzutmP9Tn02AK34JoEM9bjvwfd7CfAbfLPX/00M7eLr87hFJBJfonlOVdtiDfnfS0s2fesYMEtEhjjf8q4D9tK/puAJZqz++7od+ItfEggq8S3G913gFlU93+7zhGTcqrpTVTNVdYSqjsD3R2Cqqp4I5bgdrwEfBRCRsUAUvr7/UI+7DLjGef1R4KBfDJ7H7Rzj58BeVf1vv02h/3sZzItV9gjogt6/AfuAXcCz+EaJpAEr8f1grwRS/er/I74RJPvxG3EGFDr7OAT8hCBfeHSO8QK+a0ttyzR8MZixAjH4vj0W4RsZM8rFuIvw9UNvcx5P9oe4220/gjNAINTjxpdcfu3EsQX4aD+Jew6wGd8IrvXAtFCK24lPgR1+P8s30g9+L226GmOMMa6zbjRjjDGus2RjjDHGdZZsjDHGuM6SjTHGGNdZsjHGGOM6SzbGeExEfiQi3/B7v0JEnvF7//9E5Fvim/X5e37l6SLSJCI/abe/7SLyQp8Eb0yALNkY4721+GaSQETC8N1pP8Fv+5XAGqAY3wwIbT4F7PZ7j4hciu/3+moRiXMxZmN6xJKNMd5bg5Ns8CWZXfju7k4RkWjgUuAMcAHYKyKFTt3P4Jtd2d9d+G4W/jNwi9uBGxMoSzbGeExVy4BmERmGL+m8j+/u9Svw3eW9A2h0qr+Ib/qRPKCFD8+J9xngJXx3x9/pfvTGBMaSjTGhoe3spi3ZvO/3fq1fvT/hW7/kTnxJ5QPONP6VqnoU35QlU/1XbDTGS5ZsjAkNbddtJuHrRluH78ym7XoNAKraiG/urm/jm/nX353AOGeG6ENAInCb24EbEwhLNsaEhjX4Lv6fVtUWVT0NJONLOO+3q/v/gO+q6qm2AmdgwaeAyfrXWaIXYF1pJkRYsjEmNOzENwptXbuyalWt8q+oqrtVdUm79lfjW9Gz1K/sXWB82zonxnjJZn02xhjjOjuzMcYY4zpLNsYYY1xnycYYY4zrLNkYY4xxnSUbY4wxrrNkY4wxxnWWbIwxxrju/wMSdFoTXbgPzgAAAABJRU5ErkJggg==\n",
      "text/plain": [
       "<Figure size 432x288 with 1 Axes>"
      ]
     },
     "metadata": {
      "needs_background": "light"
     },
     "output_type": "display_data"
    }
   ],
   "source": [
    "df['WMA'] = TA.WMA(ohlcv)\n",
    "print(df['WMA'].describe())\n",
    "sns.distplot(df['WMA'].dropna())\n",
    "df.tail()"
   ]
  },
  {
   "cell_type": "markdown",
   "metadata": {
    "id": "HNC131ghyrF1"
   },
   "source": [
    "# HMA"
   ]
  },
  {
   "cell_type": "code",
   "execution_count": 54,
   "metadata": {
    "colab": {
     "base_uri": "https://localhost:8080/",
     "height": 861
    },
    "id": "b02O6Yevi6mN",
    "outputId": "e65d2e1e-055f-4536-ad08-7204247bc397"
   },
   "outputs": [
    {
     "name": "stderr",
     "output_type": "stream",
     "text": [
      "C:\\Users\\ricky\\AppData\\Local\\Temp/ipykernel_10260/1554131951.py:1: SettingWithCopyWarning: \n",
      "A value is trying to be set on a copy of a slice from a DataFrame.\n",
      "Try using .loc[row_indexer,col_indexer] = value instead\n",
      "\n",
      "See the caveats in the documentation: https://pandas.pydata.org/pandas-docs/stable/user_guide/indexing.html#returning-a-view-versus-a-copy\n",
      "  df['HMA'] = TA.HMA(ohlcv)\n"
     ]
    },
    {
     "name": "stdout",
     "output_type": "stream",
     "text": [
      "count     1179.000000\n",
      "mean     13356.838467\n",
      "std       2798.061106\n",
      "min       8665.581722\n",
      "25%      10870.169471\n",
      "50%      12697.729781\n",
      "75%      16121.403196\n",
      "max      18487.953184\n",
      "Name: HMA, dtype: float64\n"
     ]
    },
    {
     "name": "stderr",
     "output_type": "stream",
     "text": [
      "C:\\Users\\ricky\\anaconda3\\lib\\site-packages\\seaborn\\distributions.py:2619: FutureWarning: `distplot` is a deprecated function and will be removed in a future version. Please adapt your code to use either `displot` (a figure-level function with similar flexibility) or `histplot` (an axes-level function for histograms).\n",
      "  warnings.warn(msg, FutureWarning)\n"
     ]
    },
    {
     "data": {
      "text/html": [
       "<div>\n",
       "<style scoped>\n",
       "    .dataframe tbody tr th:only-of-type {\n",
       "        vertical-align: middle;\n",
       "    }\n",
       "\n",
       "    .dataframe tbody tr th {\n",
       "        vertical-align: top;\n",
       "    }\n",
       "\n",
       "    .dataframe thead th {\n",
       "        text-align: right;\n",
       "    }\n",
       "</style>\n",
       "<table border=\"1\" class=\"dataframe\">\n",
       "  <thead>\n",
       "    <tr style=\"text-align: right;\">\n",
       "      <th></th>\n",
       "      <th>Open</th>\n",
       "      <th>High</th>\n",
       "      <th>Low</th>\n",
       "      <th>Close</th>\n",
       "      <th>Adj Close</th>\n",
       "      <th>Volume</th>\n",
       "      <th>triple_barrier_signal</th>\n",
       "      <th>RSI</th>\n",
       "      <th>Williams %R</th>\n",
       "      <th>SMA</th>\n",
       "      <th>EMA</th>\n",
       "      <th>WMA</th>\n",
       "      <th>HMA</th>\n",
       "    </tr>\n",
       "    <tr>\n",
       "      <th>Date</th>\n",
       "      <th></th>\n",
       "      <th></th>\n",
       "      <th></th>\n",
       "      <th></th>\n",
       "      <th></th>\n",
       "      <th></th>\n",
       "      <th></th>\n",
       "      <th></th>\n",
       "      <th></th>\n",
       "      <th></th>\n",
       "      <th></th>\n",
       "      <th></th>\n",
       "      <th></th>\n",
       "    </tr>\n",
       "  </thead>\n",
       "  <tbody>\n",
       "    <tr>\n",
       "      <th>2023-02-02</th>\n",
       "      <td>15508.830078</td>\n",
       "      <td>15602.089844</td>\n",
       "      <td>15496.519531</td>\n",
       "      <td>15595.160156</td>\n",
       "      <td>15595.160156</td>\n",
       "      <td>3248500</td>\n",
       "      <td>0</td>\n",
       "      <td>72.275262</td>\n",
       "      <td>-0.486594</td>\n",
       "      <td>14653.651177</td>\n",
       "      <td>15158.977368</td>\n",
       "      <td>15257.702235</td>\n",
       "      <td>15433.922732</td>\n",
       "    </tr>\n",
       "    <tr>\n",
       "      <th>2023-02-03</th>\n",
       "      <td>15591.950195</td>\n",
       "      <td>15617.730469</td>\n",
       "      <td>15504.030273</td>\n",
       "      <td>15602.660156</td>\n",
       "      <td>15602.660156</td>\n",
       "      <td>2647300</td>\n",
       "      <td>0</td>\n",
       "      <td>72.386625</td>\n",
       "      <td>-1.118971</td>\n",
       "      <td>14673.752406</td>\n",
       "      <td>15247.713926</td>\n",
       "      <td>15357.312934</td>\n",
       "      <td>15548.193225</td>\n",
       "    </tr>\n",
       "    <tr>\n",
       "      <th>2023-02-06</th>\n",
       "      <td>15514.799805</td>\n",
       "      <td>15514.799805</td>\n",
       "      <td>15392.820312</td>\n",
       "      <td>15392.820312</td>\n",
       "      <td>15392.820312</td>\n",
       "      <td>2320600</td>\n",
       "      <td>1</td>\n",
       "      <td>64.571670</td>\n",
       "      <td>-16.794229</td>\n",
       "      <td>14694.141435</td>\n",
       "      <td>15276.735203</td>\n",
       "      <td>15396.039670</td>\n",
       "      <td>15619.309118</td>\n",
       "    </tr>\n",
       "    <tr>\n",
       "      <th>2023-02-07</th>\n",
       "      <td>15376.120117</td>\n",
       "      <td>15462.099609</td>\n",
       "      <td>15363.650391</td>\n",
       "      <td>15400.910156</td>\n",
       "      <td>15400.910156</td>\n",
       "      <td>2251800</td>\n",
       "      <td>0</td>\n",
       "      <td>64.729764</td>\n",
       "      <td>-19.476148</td>\n",
       "      <td>14711.001691</td>\n",
       "      <td>15301.570194</td>\n",
       "      <td>15421.691471</td>\n",
       "      <td>15646.968786</td>\n",
       "    </tr>\n",
       "    <tr>\n",
       "      <th>2023-02-08</th>\n",
       "      <td>15538.709961</td>\n",
       "      <td>15631.219727</td>\n",
       "      <td>15520.049805</td>\n",
       "      <td>15618.169922</td>\n",
       "      <td>15618.169922</td>\n",
       "      <td>2514500</td>\n",
       "      <td>0</td>\n",
       "      <td>68.761373</td>\n",
       "      <td>-1.402467</td>\n",
       "      <td>14729.016816</td>\n",
       "      <td>15364.890139</td>\n",
       "      <td>15477.977886</td>\n",
       "      <td>15665.354419</td>\n",
       "    </tr>\n",
       "  </tbody>\n",
       "</table>\n",
       "</div>"
      ],
      "text/plain": [
       "                    Open          High           Low         Close  \\\n",
       "Date                                                                 \n",
       "2023-02-02  15508.830078  15602.089844  15496.519531  15595.160156   \n",
       "2023-02-03  15591.950195  15617.730469  15504.030273  15602.660156   \n",
       "2023-02-06  15514.799805  15514.799805  15392.820312  15392.820312   \n",
       "2023-02-07  15376.120117  15462.099609  15363.650391  15400.910156   \n",
       "2023-02-08  15538.709961  15631.219727  15520.049805  15618.169922   \n",
       "\n",
       "               Adj Close   Volume  triple_barrier_signal        RSI  \\\n",
       "Date                                                                  \n",
       "2023-02-02  15595.160156  3248500                      0  72.275262   \n",
       "2023-02-03  15602.660156  2647300                      0  72.386625   \n",
       "2023-02-06  15392.820312  2320600                      1  64.571670   \n",
       "2023-02-07  15400.910156  2251800                      0  64.729764   \n",
       "2023-02-08  15618.169922  2514500                      0  68.761373   \n",
       "\n",
       "            Williams %R           SMA           EMA           WMA  \\\n",
       "Date                                                                \n",
       "2023-02-02    -0.486594  14653.651177  15158.977368  15257.702235   \n",
       "2023-02-03    -1.118971  14673.752406  15247.713926  15357.312934   \n",
       "2023-02-06   -16.794229  14694.141435  15276.735203  15396.039670   \n",
       "2023-02-07   -19.476148  14711.001691  15301.570194  15421.691471   \n",
       "2023-02-08    -1.402467  14729.016816  15364.890139  15477.977886   \n",
       "\n",
       "                     HMA  \n",
       "Date                      \n",
       "2023-02-02  15433.922732  \n",
       "2023-02-03  15548.193225  \n",
       "2023-02-06  15619.309118  \n",
       "2023-02-07  15646.968786  \n",
       "2023-02-08  15665.354419  "
      ]
     },
     "execution_count": 54,
     "metadata": {},
     "output_type": "execute_result"
    },
    {
     "data": {
      "image/png": "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\n",
      "text/plain": [
       "<Figure size 432x288 with 1 Axes>"
      ]
     },
     "metadata": {
      "needs_background": "light"
     },
     "output_type": "display_data"
    }
   ],
   "source": [
    "df['HMA'] = TA.HMA(ohlcv)\n",
    "print(df['HMA'].describe())\n",
    "sns.distplot(df['HMA'].dropna())\n",
    "df.tail()"
   ]
  },
  {
   "cell_type": "markdown",
   "metadata": {
    "id": "ch7SZ7aFjCit"
   },
   "source": [
    "# TEMA"
   ]
  },
  {
   "cell_type": "code",
   "execution_count": 55,
   "metadata": {
    "colab": {
     "base_uri": "https://localhost:8080/",
     "height": 859
    },
    "id": "GeS0aHxZjFtA",
    "outputId": "27b87182-1793-484a-e6ad-f1cd98eff6db"
   },
   "outputs": [
    {
     "name": "stderr",
     "output_type": "stream",
     "text": [
      "C:\\Users\\ricky\\AppData\\Local\\Temp/ipykernel_10260/348095914.py:1: SettingWithCopyWarning: \n",
      "A value is trying to be set on a copy of a slice from a DataFrame.\n",
      "Try using .loc[row_indexer,col_indexer] = value instead\n",
      "\n",
      "See the caveats in the documentation: https://pandas.pydata.org/pandas-docs/stable/user_guide/indexing.html#returning-a-view-versus-a-copy\n",
      "  df['TEMA'] = TA.TEMA(ohlcv)\n",
      "C:\\Users\\ricky\\anaconda3\\lib\\site-packages\\seaborn\\distributions.py:2619: FutureWarning: `distplot` is a deprecated function and will be removed in a future version. Please adapt your code to use either `displot` (a figure-level function with similar flexibility) or `histplot` (an axes-level function for histograms).\n",
      "  warnings.warn(msg, FutureWarning)\n"
     ]
    },
    {
     "name": "stdout",
     "output_type": "stream",
     "text": [
      "count     1197.000000\n",
      "mean     13323.857129\n",
      "std       2789.804448\n",
      "min       8717.748685\n",
      "25%      10859.105076\n",
      "50%      12644.077798\n",
      "75%      16082.112508\n",
      "max      18516.770956\n",
      "Name: TEMA, dtype: float64\n"
     ]
    },
    {
     "data": {
      "text/html": [
       "<div>\n",
       "<style scoped>\n",
       "    .dataframe tbody tr th:only-of-type {\n",
       "        vertical-align: middle;\n",
       "    }\n",
       "\n",
       "    .dataframe tbody tr th {\n",
       "        vertical-align: top;\n",
       "    }\n",
       "\n",
       "    .dataframe thead th {\n",
       "        text-align: right;\n",
       "    }\n",
       "</style>\n",
       "<table border=\"1\" class=\"dataframe\">\n",
       "  <thead>\n",
       "    <tr style=\"text-align: right;\">\n",
       "      <th></th>\n",
       "      <th>Open</th>\n",
       "      <th>High</th>\n",
       "      <th>Low</th>\n",
       "      <th>Close</th>\n",
       "      <th>Adj Close</th>\n",
       "      <th>Volume</th>\n",
       "      <th>triple_barrier_signal</th>\n",
       "      <th>RSI</th>\n",
       "      <th>Williams %R</th>\n",
       "      <th>SMA</th>\n",
       "      <th>EMA</th>\n",
       "      <th>WMA</th>\n",
       "      <th>HMA</th>\n",
       "      <th>TEMA</th>\n",
       "    </tr>\n",
       "    <tr>\n",
       "      <th>Date</th>\n",
       "      <th></th>\n",
       "      <th></th>\n",
       "      <th></th>\n",
       "      <th></th>\n",
       "      <th></th>\n",
       "      <th></th>\n",
       "      <th></th>\n",
       "      <th></th>\n",
       "      <th></th>\n",
       "      <th></th>\n",
       "      <th></th>\n",
       "      <th></th>\n",
       "      <th></th>\n",
       "      <th></th>\n",
       "    </tr>\n",
       "  </thead>\n",
       "  <tbody>\n",
       "    <tr>\n",
       "      <th>2023-02-02</th>\n",
       "      <td>15508.830078</td>\n",
       "      <td>15602.089844</td>\n",
       "      <td>15496.519531</td>\n",
       "      <td>15595.160156</td>\n",
       "      <td>15595.160156</td>\n",
       "      <td>3248500</td>\n",
       "      <td>0</td>\n",
       "      <td>72.275262</td>\n",
       "      <td>-0.486594</td>\n",
       "      <td>14653.651177</td>\n",
       "      <td>15158.977368</td>\n",
       "      <td>15257.702235</td>\n",
       "      <td>15433.922732</td>\n",
       "      <td>15588.490344</td>\n",
       "    </tr>\n",
       "    <tr>\n",
       "      <th>2023-02-03</th>\n",
       "      <td>15591.950195</td>\n",
       "      <td>15617.730469</td>\n",
       "      <td>15504.030273</td>\n",
       "      <td>15602.660156</td>\n",
       "      <td>15602.660156</td>\n",
       "      <td>2647300</td>\n",
       "      <td>0</td>\n",
       "      <td>72.386625</td>\n",
       "      <td>-1.118971</td>\n",
       "      <td>14673.752406</td>\n",
       "      <td>15247.713926</td>\n",
       "      <td>15357.312934</td>\n",
       "      <td>15548.193225</td>\n",
       "      <td>15667.493529</td>\n",
       "    </tr>\n",
       "    <tr>\n",
       "      <th>2023-02-06</th>\n",
       "      <td>15514.799805</td>\n",
       "      <td>15514.799805</td>\n",
       "      <td>15392.820312</td>\n",
       "      <td>15392.820312</td>\n",
       "      <td>15392.820312</td>\n",
       "      <td>2320600</td>\n",
       "      <td>1</td>\n",
       "      <td>64.571670</td>\n",
       "      <td>-16.794229</td>\n",
       "      <td>14694.141435</td>\n",
       "      <td>15276.735203</td>\n",
       "      <td>15396.039670</td>\n",
       "      <td>15619.309118</td>\n",
       "      <td>15601.702110</td>\n",
       "    </tr>\n",
       "    <tr>\n",
       "      <th>2023-02-07</th>\n",
       "      <td>15376.120117</td>\n",
       "      <td>15462.099609</td>\n",
       "      <td>15363.650391</td>\n",
       "      <td>15400.910156</td>\n",
       "      <td>15400.910156</td>\n",
       "      <td>2251800</td>\n",
       "      <td>0</td>\n",
       "      <td>64.729764</td>\n",
       "      <td>-19.476148</td>\n",
       "      <td>14711.001691</td>\n",
       "      <td>15301.570194</td>\n",
       "      <td>15421.691471</td>\n",
       "      <td>15646.968786</td>\n",
       "      <td>15551.473450</td>\n",
       "    </tr>\n",
       "    <tr>\n",
       "      <th>2023-02-08</th>\n",
       "      <td>15538.709961</td>\n",
       "      <td>15631.219727</td>\n",
       "      <td>15520.049805</td>\n",
       "      <td>15618.169922</td>\n",
       "      <td>15618.169922</td>\n",
       "      <td>2514500</td>\n",
       "      <td>0</td>\n",
       "      <td>68.761373</td>\n",
       "      <td>-1.402467</td>\n",
       "      <td>14729.016816</td>\n",
       "      <td>15364.890139</td>\n",
       "      <td>15477.977886</td>\n",
       "      <td>15665.354419</td>\n",
       "      <td>15616.148463</td>\n",
       "    </tr>\n",
       "  </tbody>\n",
       "</table>\n",
       "</div>"
      ],
      "text/plain": [
       "                    Open          High           Low         Close  \\\n",
       "Date                                                                 \n",
       "2023-02-02  15508.830078  15602.089844  15496.519531  15595.160156   \n",
       "2023-02-03  15591.950195  15617.730469  15504.030273  15602.660156   \n",
       "2023-02-06  15514.799805  15514.799805  15392.820312  15392.820312   \n",
       "2023-02-07  15376.120117  15462.099609  15363.650391  15400.910156   \n",
       "2023-02-08  15538.709961  15631.219727  15520.049805  15618.169922   \n",
       "\n",
       "               Adj Close   Volume  triple_barrier_signal        RSI  \\\n",
       "Date                                                                  \n",
       "2023-02-02  15595.160156  3248500                      0  72.275262   \n",
       "2023-02-03  15602.660156  2647300                      0  72.386625   \n",
       "2023-02-06  15392.820312  2320600                      1  64.571670   \n",
       "2023-02-07  15400.910156  2251800                      0  64.729764   \n",
       "2023-02-08  15618.169922  2514500                      0  68.761373   \n",
       "\n",
       "            Williams %R           SMA           EMA           WMA  \\\n",
       "Date                                                                \n",
       "2023-02-02    -0.486594  14653.651177  15158.977368  15257.702235   \n",
       "2023-02-03    -1.118971  14673.752406  15247.713926  15357.312934   \n",
       "2023-02-06   -16.794229  14694.141435  15276.735203  15396.039670   \n",
       "2023-02-07   -19.476148  14711.001691  15301.570194  15421.691471   \n",
       "2023-02-08    -1.402467  14729.016816  15364.890139  15477.977886   \n",
       "\n",
       "                     HMA          TEMA  \n",
       "Date                                    \n",
       "2023-02-02  15433.922732  15588.490344  \n",
       "2023-02-03  15548.193225  15667.493529  \n",
       "2023-02-06  15619.309118  15601.702110  \n",
       "2023-02-07  15646.968786  15551.473450  \n",
       "2023-02-08  15665.354419  15616.148463  "
      ]
     },
     "execution_count": 55,
     "metadata": {},
     "output_type": "execute_result"
    },
    {
     "data": {
      "image/png": "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\n",
      "text/plain": [
       "<Figure size 432x288 with 1 Axes>"
      ]
     },
     "metadata": {
      "needs_background": "light"
     },
     "output_type": "display_data"
    }
   ],
   "source": [
    "df['TEMA'] = TA.TEMA(ohlcv)\n",
    "print(df['TEMA'].describe())\n",
    "sns.distplot(df['TEMA'].dropna())\n",
    "df.tail()"
   ]
  },
  {
   "cell_type": "markdown",
   "metadata": {
    "id": "EbMrqw5jjZaa"
   },
   "source": [
    "# CCI"
   ]
  },
  {
   "cell_type": "code",
   "execution_count": 56,
   "metadata": {
    "colab": {
     "base_uri": "https://localhost:8080/",
     "height": 859
    },
    "id": "WBfeDdkUjZiP",
    "outputId": "784c46f0-2257-4387-ba9b-e8b3968de529"
   },
   "outputs": [
    {
     "name": "stderr",
     "output_type": "stream",
     "text": [
      "C:\\Users\\ricky\\AppData\\Local\\Temp/ipykernel_10260/4109371288.py:1: SettingWithCopyWarning: \n",
      "A value is trying to be set on a copy of a slice from a DataFrame.\n",
      "Try using .loc[row_indexer,col_indexer] = value instead\n",
      "\n",
      "See the caveats in the documentation: https://pandas.pydata.org/pandas-docs/stable/user_guide/indexing.html#returning-a-view-versus-a-copy\n",
      "  df['CCI'] = TA.CCI(ohlcv)\n"
     ]
    },
    {
     "name": "stdout",
     "output_type": "stream",
     "text": [
      "count    1196.000000\n",
      "mean       21.374618\n",
      "std       113.807097\n",
      "min      -332.977175\n",
      "25%       -65.290143\n",
      "50%        45.234910\n",
      "75%       104.068759\n",
      "max       313.224598\n",
      "Name: CCI, dtype: float64\n"
     ]
    },
    {
     "name": "stderr",
     "output_type": "stream",
     "text": [
      "C:\\Users\\ricky\\anaconda3\\lib\\site-packages\\seaborn\\distributions.py:2619: FutureWarning: `distplot` is a deprecated function and will be removed in a future version. Please adapt your code to use either `displot` (a figure-level function with similar flexibility) or `histplot` (an axes-level function for histograms).\n",
      "  warnings.warn(msg, FutureWarning)\n"
     ]
    },
    {
     "data": {
      "text/html": [
       "<div>\n",
       "<style scoped>\n",
       "    .dataframe tbody tr th:only-of-type {\n",
       "        vertical-align: middle;\n",
       "    }\n",
       "\n",
       "    .dataframe tbody tr th {\n",
       "        vertical-align: top;\n",
       "    }\n",
       "\n",
       "    .dataframe thead th {\n",
       "        text-align: right;\n",
       "    }\n",
       "</style>\n",
       "<table border=\"1\" class=\"dataframe\">\n",
       "  <thead>\n",
       "    <tr style=\"text-align: right;\">\n",
       "      <th></th>\n",
       "      <th>Open</th>\n",
       "      <th>High</th>\n",
       "      <th>Low</th>\n",
       "      <th>Close</th>\n",
       "      <th>Adj Close</th>\n",
       "      <th>Volume</th>\n",
       "      <th>triple_barrier_signal</th>\n",
       "      <th>RSI</th>\n",
       "      <th>Williams %R</th>\n",
       "      <th>SMA</th>\n",
       "      <th>EMA</th>\n",
       "      <th>WMA</th>\n",
       "      <th>HMA</th>\n",
       "      <th>TEMA</th>\n",
       "      <th>CCI</th>\n",
       "    </tr>\n",
       "    <tr>\n",
       "      <th>Date</th>\n",
       "      <th></th>\n",
       "      <th></th>\n",
       "      <th></th>\n",
       "      <th></th>\n",
       "      <th></th>\n",
       "      <th></th>\n",
       "      <th></th>\n",
       "      <th></th>\n",
       "      <th></th>\n",
       "      <th></th>\n",
       "      <th></th>\n",
       "      <th></th>\n",
       "      <th></th>\n",
       "      <th></th>\n",
       "      <th></th>\n",
       "    </tr>\n",
       "  </thead>\n",
       "  <tbody>\n",
       "    <tr>\n",
       "      <th>2023-02-02</th>\n",
       "      <td>15508.830078</td>\n",
       "      <td>15602.089844</td>\n",
       "      <td>15496.519531</td>\n",
       "      <td>15595.160156</td>\n",
       "      <td>15595.160156</td>\n",
       "      <td>3248500</td>\n",
       "      <td>0</td>\n",
       "      <td>72.275262</td>\n",
       "      <td>-0.486594</td>\n",
       "      <td>14653.651177</td>\n",
       "      <td>15158.977368</td>\n",
       "      <td>15257.702235</td>\n",
       "      <td>15433.922732</td>\n",
       "      <td>15588.490344</td>\n",
       "      <td>149.011171</td>\n",
       "    </tr>\n",
       "    <tr>\n",
       "      <th>2023-02-03</th>\n",
       "      <td>15591.950195</td>\n",
       "      <td>15617.730469</td>\n",
       "      <td>15504.030273</td>\n",
       "      <td>15602.660156</td>\n",
       "      <td>15602.660156</td>\n",
       "      <td>2647300</td>\n",
       "      <td>0</td>\n",
       "      <td>72.386625</td>\n",
       "      <td>-1.118971</td>\n",
       "      <td>14673.752406</td>\n",
       "      <td>15247.713926</td>\n",
       "      <td>15357.312934</td>\n",
       "      <td>15548.193225</td>\n",
       "      <td>15667.493529</td>\n",
       "      <td>133.547974</td>\n",
       "    </tr>\n",
       "    <tr>\n",
       "      <th>2023-02-06</th>\n",
       "      <td>15514.799805</td>\n",
       "      <td>15514.799805</td>\n",
       "      <td>15392.820312</td>\n",
       "      <td>15392.820312</td>\n",
       "      <td>15392.820312</td>\n",
       "      <td>2320600</td>\n",
       "      <td>1</td>\n",
       "      <td>64.571670</td>\n",
       "      <td>-16.794229</td>\n",
       "      <td>14694.141435</td>\n",
       "      <td>15276.735203</td>\n",
       "      <td>15396.039670</td>\n",
       "      <td>15619.309118</td>\n",
       "      <td>15601.702110</td>\n",
       "      <td>99.651903</td>\n",
       "    </tr>\n",
       "    <tr>\n",
       "      <th>2023-02-07</th>\n",
       "      <td>15376.120117</td>\n",
       "      <td>15462.099609</td>\n",
       "      <td>15363.650391</td>\n",
       "      <td>15400.910156</td>\n",
       "      <td>15400.910156</td>\n",
       "      <td>2251800</td>\n",
       "      <td>0</td>\n",
       "      <td>64.729764</td>\n",
       "      <td>-19.476148</td>\n",
       "      <td>14711.001691</td>\n",
       "      <td>15301.570194</td>\n",
       "      <td>15421.691471</td>\n",
       "      <td>15646.968786</td>\n",
       "      <td>15551.473450</td>\n",
       "      <td>86.235604</td>\n",
       "    </tr>\n",
       "    <tr>\n",
       "      <th>2023-02-08</th>\n",
       "      <td>15538.709961</td>\n",
       "      <td>15631.219727</td>\n",
       "      <td>15520.049805</td>\n",
       "      <td>15618.169922</td>\n",
       "      <td>15618.169922</td>\n",
       "      <td>2514500</td>\n",
       "      <td>0</td>\n",
       "      <td>68.761373</td>\n",
       "      <td>-1.402467</td>\n",
       "      <td>14729.016816</td>\n",
       "      <td>15364.890139</td>\n",
       "      <td>15477.977886</td>\n",
       "      <td>15665.354419</td>\n",
       "      <td>15616.148463</td>\n",
       "      <td>103.254678</td>\n",
       "    </tr>\n",
       "  </tbody>\n",
       "</table>\n",
       "</div>"
      ],
      "text/plain": [
       "                    Open          High           Low         Close  \\\n",
       "Date                                                                 \n",
       "2023-02-02  15508.830078  15602.089844  15496.519531  15595.160156   \n",
       "2023-02-03  15591.950195  15617.730469  15504.030273  15602.660156   \n",
       "2023-02-06  15514.799805  15514.799805  15392.820312  15392.820312   \n",
       "2023-02-07  15376.120117  15462.099609  15363.650391  15400.910156   \n",
       "2023-02-08  15538.709961  15631.219727  15520.049805  15618.169922   \n",
       "\n",
       "               Adj Close   Volume  triple_barrier_signal        RSI  \\\n",
       "Date                                                                  \n",
       "2023-02-02  15595.160156  3248500                      0  72.275262   \n",
       "2023-02-03  15602.660156  2647300                      0  72.386625   \n",
       "2023-02-06  15392.820312  2320600                      1  64.571670   \n",
       "2023-02-07  15400.910156  2251800                      0  64.729764   \n",
       "2023-02-08  15618.169922  2514500                      0  68.761373   \n",
       "\n",
       "            Williams %R           SMA           EMA           WMA  \\\n",
       "Date                                                                \n",
       "2023-02-02    -0.486594  14653.651177  15158.977368  15257.702235   \n",
       "2023-02-03    -1.118971  14673.752406  15247.713926  15357.312934   \n",
       "2023-02-06   -16.794229  14694.141435  15276.735203  15396.039670   \n",
       "2023-02-07   -19.476148  14711.001691  15301.570194  15421.691471   \n",
       "2023-02-08    -1.402467  14729.016816  15364.890139  15477.977886   \n",
       "\n",
       "                     HMA          TEMA         CCI  \n",
       "Date                                                \n",
       "2023-02-02  15433.922732  15588.490344  149.011171  \n",
       "2023-02-03  15548.193225  15667.493529  133.547974  \n",
       "2023-02-06  15619.309118  15601.702110   99.651903  \n",
       "2023-02-07  15646.968786  15551.473450   86.235604  \n",
       "2023-02-08  15665.354419  15616.148463  103.254678  "
      ]
     },
     "execution_count": 56,
     "metadata": {},
     "output_type": "execute_result"
    },
    {
     "data": {
      "image/png": "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\n",
      "text/plain": [
       "<Figure size 432x288 with 1 Axes>"
      ]
     },
     "metadata": {
      "needs_background": "light"
     },
     "output_type": "display_data"
    }
   ],
   "source": [
    "df['CCI'] = TA.CCI(ohlcv)\n",
    "print(df['CCI'].describe())\n",
    "sns.distplot(df['CCI'].dropna())\n",
    "df.tail()"
   ]
  },
  {
   "cell_type": "markdown",
   "metadata": {
    "id": "G8rAJ61cjkJ4"
   },
   "source": [
    "# CMO"
   ]
  },
  {
   "cell_type": "code",
   "execution_count": 57,
   "metadata": {
    "colab": {
     "base_uri": "https://localhost:8080/",
     "height": 859
    },
    "id": "P9EispJmjkj_",
    "outputId": "8e3e772b-fbf8-4dfc-8221-2b5b24f9440e"
   },
   "outputs": [
    {
     "name": "stdout",
     "output_type": "stream",
     "text": [
      "count    1196.000000\n",
      "mean        7.709589\n",
      "std        30.411517\n",
      "min       -84.865245\n",
      "25%       -14.020068\n",
      "50%        10.269825\n",
      "75%        29.941536\n",
      "max       100.000000\n",
      "Name: CMO, dtype: float64\n"
     ]
    },
    {
     "name": "stderr",
     "output_type": "stream",
     "text": [
      "C:\\Users\\ricky\\AppData\\Local\\Temp/ipykernel_10260/2048488867.py:1: SettingWithCopyWarning: \n",
      "A value is trying to be set on a copy of a slice from a DataFrame.\n",
      "Try using .loc[row_indexer,col_indexer] = value instead\n",
      "\n",
      "See the caveats in the documentation: https://pandas.pydata.org/pandas-docs/stable/user_guide/indexing.html#returning-a-view-versus-a-copy\n",
      "  df['CMO'] = TA.CMO(ohlcv)\n",
      "C:\\Users\\ricky\\anaconda3\\lib\\site-packages\\seaborn\\distributions.py:2619: FutureWarning: `distplot` is a deprecated function and will be removed in a future version. Please adapt your code to use either `displot` (a figure-level function with similar flexibility) or `histplot` (an axes-level function for histograms).\n",
      "  warnings.warn(msg, FutureWarning)\n"
     ]
    },
    {
     "data": {
      "text/html": [
       "<div>\n",
       "<style scoped>\n",
       "    .dataframe tbody tr th:only-of-type {\n",
       "        vertical-align: middle;\n",
       "    }\n",
       "\n",
       "    .dataframe tbody tr th {\n",
       "        vertical-align: top;\n",
       "    }\n",
       "\n",
       "    .dataframe thead th {\n",
       "        text-align: right;\n",
       "    }\n",
       "</style>\n",
       "<table border=\"1\" class=\"dataframe\">\n",
       "  <thead>\n",
       "    <tr style=\"text-align: right;\">\n",
       "      <th></th>\n",
       "      <th>Open</th>\n",
       "      <th>High</th>\n",
       "      <th>Low</th>\n",
       "      <th>Close</th>\n",
       "      <th>Adj Close</th>\n",
       "      <th>Volume</th>\n",
       "      <th>triple_barrier_signal</th>\n",
       "      <th>RSI</th>\n",
       "      <th>Williams %R</th>\n",
       "      <th>SMA</th>\n",
       "      <th>EMA</th>\n",
       "      <th>WMA</th>\n",
       "      <th>HMA</th>\n",
       "      <th>TEMA</th>\n",
       "      <th>CCI</th>\n",
       "      <th>CMO</th>\n",
       "    </tr>\n",
       "    <tr>\n",
       "      <th>Date</th>\n",
       "      <th></th>\n",
       "      <th></th>\n",
       "      <th></th>\n",
       "      <th></th>\n",
       "      <th></th>\n",
       "      <th></th>\n",
       "      <th></th>\n",
       "      <th></th>\n",
       "      <th></th>\n",
       "      <th></th>\n",
       "      <th></th>\n",
       "      <th></th>\n",
       "      <th></th>\n",
       "      <th></th>\n",
       "      <th></th>\n",
       "      <th></th>\n",
       "    </tr>\n",
       "  </thead>\n",
       "  <tbody>\n",
       "    <tr>\n",
       "      <th>2023-02-02</th>\n",
       "      <td>15508.830078</td>\n",
       "      <td>15602.089844</td>\n",
       "      <td>15496.519531</td>\n",
       "      <td>15595.160156</td>\n",
       "      <td>15595.160156</td>\n",
       "      <td>3248500</td>\n",
       "      <td>0</td>\n",
       "      <td>72.275262</td>\n",
       "      <td>-0.486594</td>\n",
       "      <td>14653.651177</td>\n",
       "      <td>15158.977368</td>\n",
       "      <td>15257.702235</td>\n",
       "      <td>15433.922732</td>\n",
       "      <td>15588.490344</td>\n",
       "      <td>149.011171</td>\n",
       "      <td>51.978111</td>\n",
       "    </tr>\n",
       "    <tr>\n",
       "      <th>2023-02-03</th>\n",
       "      <td>15591.950195</td>\n",
       "      <td>15617.730469</td>\n",
       "      <td>15504.030273</td>\n",
       "      <td>15602.660156</td>\n",
       "      <td>15602.660156</td>\n",
       "      <td>2647300</td>\n",
       "      <td>0</td>\n",
       "      <td>72.386625</td>\n",
       "      <td>-1.118971</td>\n",
       "      <td>14673.752406</td>\n",
       "      <td>15247.713926</td>\n",
       "      <td>15357.312934</td>\n",
       "      <td>15548.193225</td>\n",
       "      <td>15667.493529</td>\n",
       "      <td>133.547974</td>\n",
       "      <td>52.240805</td>\n",
       "    </tr>\n",
       "    <tr>\n",
       "      <th>2023-02-06</th>\n",
       "      <td>15514.799805</td>\n",
       "      <td>15514.799805</td>\n",
       "      <td>15392.820312</td>\n",
       "      <td>15392.820312</td>\n",
       "      <td>15392.820312</td>\n",
       "      <td>2320600</td>\n",
       "      <td>1</td>\n",
       "      <td>64.571670</td>\n",
       "      <td>-16.794229</td>\n",
       "      <td>14694.141435</td>\n",
       "      <td>15276.735203</td>\n",
       "      <td>15396.039670</td>\n",
       "      <td>15619.309118</td>\n",
       "      <td>15601.702110</td>\n",
       "      <td>99.651903</td>\n",
       "      <td>30.113980</td>\n",
       "    </tr>\n",
       "    <tr>\n",
       "      <th>2023-02-07</th>\n",
       "      <td>15376.120117</td>\n",
       "      <td>15462.099609</td>\n",
       "      <td>15363.650391</td>\n",
       "      <td>15400.910156</td>\n",
       "      <td>15400.910156</td>\n",
       "      <td>2251800</td>\n",
       "      <td>0</td>\n",
       "      <td>64.729764</td>\n",
       "      <td>-19.476148</td>\n",
       "      <td>14711.001691</td>\n",
       "      <td>15301.570194</td>\n",
       "      <td>15421.691471</td>\n",
       "      <td>15646.968786</td>\n",
       "      <td>15551.473450</td>\n",
       "      <td>86.235604</td>\n",
       "      <td>30.546387</td>\n",
       "    </tr>\n",
       "    <tr>\n",
       "      <th>2023-02-08</th>\n",
       "      <td>15538.709961</td>\n",
       "      <td>15631.219727</td>\n",
       "      <td>15520.049805</td>\n",
       "      <td>15618.169922</td>\n",
       "      <td>15618.169922</td>\n",
       "      <td>2514500</td>\n",
       "      <td>0</td>\n",
       "      <td>68.761373</td>\n",
       "      <td>-1.402467</td>\n",
       "      <td>14729.016816</td>\n",
       "      <td>15364.890139</td>\n",
       "      <td>15477.977886</td>\n",
       "      <td>15665.354419</td>\n",
       "      <td>15616.148463</td>\n",
       "      <td>103.254678</td>\n",
       "      <td>41.370979</td>\n",
       "    </tr>\n",
       "  </tbody>\n",
       "</table>\n",
       "</div>"
      ],
      "text/plain": [
       "                    Open          High           Low         Close  \\\n",
       "Date                                                                 \n",
       "2023-02-02  15508.830078  15602.089844  15496.519531  15595.160156   \n",
       "2023-02-03  15591.950195  15617.730469  15504.030273  15602.660156   \n",
       "2023-02-06  15514.799805  15514.799805  15392.820312  15392.820312   \n",
       "2023-02-07  15376.120117  15462.099609  15363.650391  15400.910156   \n",
       "2023-02-08  15538.709961  15631.219727  15520.049805  15618.169922   \n",
       "\n",
       "               Adj Close   Volume  triple_barrier_signal        RSI  \\\n",
       "Date                                                                  \n",
       "2023-02-02  15595.160156  3248500                      0  72.275262   \n",
       "2023-02-03  15602.660156  2647300                      0  72.386625   \n",
       "2023-02-06  15392.820312  2320600                      1  64.571670   \n",
       "2023-02-07  15400.910156  2251800                      0  64.729764   \n",
       "2023-02-08  15618.169922  2514500                      0  68.761373   \n",
       "\n",
       "            Williams %R           SMA           EMA           WMA  \\\n",
       "Date                                                                \n",
       "2023-02-02    -0.486594  14653.651177  15158.977368  15257.702235   \n",
       "2023-02-03    -1.118971  14673.752406  15247.713926  15357.312934   \n",
       "2023-02-06   -16.794229  14694.141435  15276.735203  15396.039670   \n",
       "2023-02-07   -19.476148  14711.001691  15301.570194  15421.691471   \n",
       "2023-02-08    -1.402467  14729.016816  15364.890139  15477.977886   \n",
       "\n",
       "                     HMA          TEMA         CCI        CMO  \n",
       "Date                                                           \n",
       "2023-02-02  15433.922732  15588.490344  149.011171  51.978111  \n",
       "2023-02-03  15548.193225  15667.493529  133.547974  52.240805  \n",
       "2023-02-06  15619.309118  15601.702110   99.651903  30.113980  \n",
       "2023-02-07  15646.968786  15551.473450   86.235604  30.546387  \n",
       "2023-02-08  15665.354419  15616.148463  103.254678  41.370979  "
      ]
     },
     "execution_count": 57,
     "metadata": {},
     "output_type": "execute_result"
    },
    {
     "data": {
      "image/png": "iVBORw0KGgoAAAANSUhEUgAAAY4AAAEGCAYAAABy53LJAAAAOXRFWHRTb2Z0d2FyZQBNYXRwbG90bGliIHZlcnNpb24zLjQuMywgaHR0cHM6Ly9tYXRwbG90bGliLm9yZy/MnkTPAAAACXBIWXMAAAsTAAALEwEAmpwYAAAwHElEQVR4nO3deXxU9b3w8c93JpmEbIRsJISEAAYQkDUC1t1eK7ihXcG1y1NKq32e9t7bam/v06fbvW3t7eat1at20WpF2rqgRRG1blWUAAHZCWFJIIRAQhYgyyTf548ZNMYsMzAnZ5L5vl+veWXmnN9v5nsmmXznd85vEVXFGGOMCZXH7QCMMcYMLpY4jDHGhMUShzHGmLBY4jDGGBMWSxzGGGPCEud2AAMhKytLi4qK3A7DGGMGlXXr1h1R1ezu22MicRQVFVFaWup2GMYYM6iIyL6ettupKmOMMWGxxGGMMSYsljiMMcaExRKHMcaYsFjiMMYYExZHE4eIzBeRHSJSLiJ39rBfROTu4P5NIjKry77fichhEdncy3P/q4ioiGQ5eQzGGGM+yLHEISJe4B5gATAZWCwik7sVWwAUB29LgHu77PsDML+X5y4ALgf2RzZqY4wx/XGyxTEHKFfVClVtA5YBC7uVWQg8rAFrgHQRyQNQ1deAul6e+xfANwGbE94YYwaYk4kjH6js8rgquC3cMh8gItcCB1R1Yz/llohIqYiU1tbWhh61McaYPjk5clx62Na9hRBKmfcLiyQB3wY+1t+Lq+r9wP0AJSUl1jIxg8qf3g7tLOwNcwsdjsSYD3OyxVEFFHR5PBo4eBpluhoPjAU2isjeYPn1IpJ7xtEaY4wJiZOJYy1QLCJjRcQHLAJWdCuzArgl2LtqHtCgqtW9PaGqvquqOapapKpFBBLPLFU95NAxGGOM6caxxKGqfuB2YBWwDViuqltEZKmILA0WWwlUAOXAA8BXTtUXkceAt4CJIlIlIl9wKlZjjDGhc3R2XFVdSSA5dN12X5f7CtzWS93FITx/0RmGaIwxJkw2ctwYY0xYLHEYY4wJiyUOY4wxYbHEYYwxJiyWOIwxxoTFEocxxpiwWOIwxhgTFkscxhhjwmKJwxhjTFgscRhjjAmLJQ5jjDFhscRhjDEmLJY4jDHGhMXR2XGNMWeuuuEkGysbONLcSpLPS2FGEtML0on32vc+4w5LHMZEqVZ/B0+XHaSs8hheETKSfTS3+indV8/L2w9zzfRRbodoYpQlDmOiUFNLOw+9tZfqYy1cPCGbi4qzGebzoqrsrj3OynereWTNPkaPGMaSi8YhIm6HbGKItXWNiTIn2vw89NZeaptaufm8MVwxJZdhPi8AIsJZOSl8+ZLxTM0fzo+e284Dr1e4HLGJNdbiMCaKqCr/+ueNVB9r4ebzxjApN63HcvFeD585t4DCzCT+c+V28oYPs1NXZsBY4jAmiixbW8nKdw8xf0pur0njFI8Ic4oy2HyggX9ZvpGK2uNkpyb0Wv6GuYWRDtfEKDtVZUyUqKw7wQ+f3cp54zK5oDgrpDrxXg+Lzi0kzissW7sff0enw1Ea43DiEJH5IrJDRMpF5M4e9ouI3B3cv0lEZnXZ9zsROSwim7vV+amIbA+Wf1JE0p08BmMGyneeDvyp3/XJaXjCuNg9fFg8n5g1muqGFl7ZWetUeMa8x7HEISJe4B5gATAZWCwik7sVWwAUB29LgHu77PsDML+Hp14NTFXVacBO4FuRjdyYgffy9hr+vqOWr18+gYKMpLDrn52XxoyCdF7dUUtNY4sDERrzPidbHHOAclWtUNU2YBmwsFuZhcDDGrAGSBeRPABVfQ2o6/6kqvqCqvqDD9cAox07AmMGQJu/k+8/s5Xx2cnccl7RaT/Plefk4YvzsGLjQVQ1cgEa042TiSMfqOzyuCq4Ldwyffk88NxpRWdMlFi2dj97j57g36+ejC/u9D+SKQlxXD55JHuOHGf7oaYIRmjMBzmZOHo6Sdv9a1AoZXp+cpFvA37g0V72LxGRUhEpra21874mOp1o83P3S+XMGZvBJROyz/j5zi3KICvFx/NbDtHRaa0O4wwnE0cVUNDl8Wjg4GmU+RARuRW4GrhRe2mTq+r9qlqiqiXZ2Wf+gTTGCQ+9uY8jza1884qJERn97fUIV0zJpbaplfX76iMQoTEf5mTiWAsUi8hYEfEBi4AV3cqsAG4J9q6aBzSoanVfTyoi84E7gGtV9YQTgRszEBpOtnPfq7u5bFIOJUUZEXveyXlpjMlI4sVtNbT6OyL2vMac4ljiCF7Avh1YBWwDlqvqFhFZKiJLg8VWAhVAOfAA8JVT9UXkMeAtYKKIVInIF4K7fg2kAqtFpExE7nPqGIxx0oOvV9Bwsp1/+diEiD6viLBgai5NrX7e2HUkos9tDDg8clxVVxJIDl233dflvgK39VJ3cS/bz4pkjMa44UhzK799Yw9XT8tjyqjhEX/+wsxkpoxK443yI3xkfNZ7c10ZEwk2ctwYF/zm77tp9Xfyz5dHtrXR1WWTcmj1d/JWhbU6TGTZXFXGDJA/vb0fgGMn2njorb3MLEhnTUUdayo+NFwpIvKGD+Ps3FT+UX6U88eHNoWJMaGwFocxA+zl7YeBQIvAaZdMzOFkewdv73EmOZnYZInDmAF0qLGFdfvqmTc2g/Qkn+OvV5CRRHFOCq+XH+Fkm/WwMpFhicOYAbRq8yES4j1cOtH51sYpl0zM4Xirn2Vr9w/Ya5qhzRKHMQNkd20zO2qauGRCDkkJA3d5cWxWMkWZydz/WgXtNu26iQBLHMYMgM5O5bnN1aQPi+e88ZkD/voXTciiuqGFv23qc3ytMSGxxGHMAFix8SAHj7Vw+eSRxHsH/mM3YWQq47OTeeD1Cps515wxSxzGOKy51c9Pnt/OqOGJTC9IdyUGjwj/68JxbDnYyFsVR12JwQwdljiMcdgvV+/kUGML187ID2tlv0i7fmY+mck+Hnx9j2sxmKHBEocxDtp8oIHfv7mXRecWUngaK/tFUmK8l5vPG8PL2w9TftjW6zCnzxKHMQ5p9XfwL8s3kpHs4475E90OB4Cb540hIc7Db9+wVoc5fZY4jHHIL1bvYkdNE3d9YtqADPYLRWZKAh+fNZon1h+g/nib2+GYQcoShzEOeG1nLf/z2m4Wzyng0gGYWiQct35kDK3+TpaXVvZf2JgeWOIwJsIONbTw9cfLmJCTyneunuJ2OB8yKTeNOWMzeOTtfba8rDktljiMiaDjrX4+/4e1tLR3cM+NM6N2HYxbzhtDZd1JXt152O1QzCBkicOYCPF3dPLVxzawo6aJe26cxVk5qW6H1KsrpuSSk5rAw2/tczsUMwhZ4jAmAlSV7z+7lZe3H+Z7107hkgGcxPB0xHs93DC3kFd21LL3yHG3wzGDjCUOYyLgt2/s4eG39rHkonHcNG+M2+GE5IY5hcR5hEfWWKvDhMcShzFn6PnNh/iPldtYMDWXO+dPcjuckOWkJXLF1FyWl1baWh0mLJY4jDkDZZXH+NrjG5g+Op1ffGYGHo97U4qcjlvmjaGxxc+KjQfcDsUMIo4uCiAi84FfAV7gQVX9cbf9Etx/JXAC+Kyqrg/u+x1wNXBYVad2qZMBPA4UAXuBT6tqvZPHYWLPqfXB+1J/oo3f/2MP2akJPHhrCYnx0dmDqi9zxmYwKTeVh97cx6dLChAX59Iyg4djLQ4R8QL3AAuAycBiEZncrdgCoDh4WwLc22XfH4D5PTz1ncBLqloMvBR8bMyAavN38siafbT6O/n9Z88lKyXB7ZBOi4hw83lj2FrdyPr99v3LhMbJU1VzgHJVrVDVNmAZsLBbmYXAwxqwBkgXkTwAVX0NqOvheRcCDwXvPwRc50TwxvRGVXliQxWHGlr478Uzo7rbbSium5FPakIcj66xpWVNaJxMHPlA1zkNqoLbwi3T3UhVrQYI/uyx36OILBGRUhEpra2tDStwY/ryRvkRNlU1cPnkkVHf7TYUyQlxXDtjFCs3V9Nwst3tcMwg4GTi6Olkaff5DUIpc1pU9X5VLVHVkuzs7Eg8pTGUH27m+c2HmDoqjYsnDJ2/q0XnFtLS3smKjQfdDsUMAk5eHK8CCro8Hg10/6sMpUx3NSKSp6rVwdNaNmeCGRAn2zr4y7pKslIS+MTs0YhISBfRo0VfsaoqecMTufeVcrwi3DC3cAAjM4ONky2OtUCxiIwVER+wCFjRrcwK4BYJmAc0nDoN1YcVwK3B+7cCT0cyaGN688ymgzS3+vl0SQEJcYOvB1VfRISSMSM4eKyFA8dOuh2OiXKOJQ5V9QO3A6uAbcByVd0iIktFZGmw2EqgAigHHgC+cqq+iDwGvAVMFJEqEflCcNePgctFZBdwefCxMY5690ADZZXHuHRiDvkjhrkdjiNmFIwgziOU7u2pT4ox73N0HIeqriSQHLpuu6/LfQVu66Xu4l62HwU+GsEwjelTU0s7T5cdID992JC4GN6bYT4vU/OHs7HqGC3tHYNyXIoZGDZy3Jh+PLPxIG3+Tj41ezTeQTYyPFyzx4ygpb2T5zb3d8bYxDJLHMb0YdfhJjYfbOSSiTnkpCW6HY7jxmYlk5HsY9k7tjqg6Z0lDmN64e/s5JmN1WQk+7iwOMvtcAaEJ3iR/O09dVTUNrsdjolSljiM6cU/yo9ypLmVa6aNIt4bOx+VWYUj8HqE5aVVbodiolTsfBqMCUPDyXb+vv0wZ+elMTF3cE8pEq60YfFcOjGbv6yror2j0+1wTBSyxGFMD57fXE2nKlefk+d2KK74dEkBR5pbeW2nTddjPswShzHdbD3YyMaqBs4/K4sRyT63w3HFJRNzGJEUzxMbbJ0O82GWOIzp5r9e2EFivIeLiofOXFTh8sV5uHb6KFZvrbGJD82HWOIwpou1e+t4efthLi7OZpgvtgfAfXzWaNr8nax818Z0mA+yxGFMkKpy1/PbyUlN4LzxsdH9ti/TRg9nfHYyT6y33lXmgxydcsSYweSVHbWs3VvPD66bijfGl1A9NZPu+OwUXthaw3+/tIvMHlY5tFl0Y5O1OIwBOjuVu1btoDAjic+UFPRfIUbMKEhHgLLKY26HYqKIJQ5jgGffrWZbdSP/fPkEfHH2sTglPcnH2OxkNlQeIzAnqTGWOIyhvaOTn72wg0m5qVw7fZTb4USdWQUjqDvexv66E26HYqKEJQ4T85aXVrLv6Am+ccVEPEN89tvTMWVUGvFeYcP+Y26HYqKEJQ4T01raO7j7pV3MHjOCyyYN3bU2zkRCvJcpo4az6cAxm4LEAJY4TIx76M291DS28s0rJiIx3pOqLzML02lp72T7oSa3QzFRwBKHiVkNJ9v5zSu7uWRiNnPHZbodTlQbn51CWmIcG/bXux2KiQIhJQ4R+auIXCUilmjMkPHAaxU0nGznXz820e1Qop5HhOkF6eysaaK51e92OMZloQ4AvBf4HHC3iPwZ+IOqbncuLGMi79SgNgisI37/axWckz+cTVUNbKpqcDGywWFm4Qhe33WETVXH+IiNrI9pIbUgVPVFVb0RmAXsBVaLyJsi8jkRiXcyQGOc8MqOWvydnVw+eaTboQwauWmJjBqeaL2rTOjXOEQkE/gs8L+ADcCvCCSS1X3UmS8iO0SkXETu7GG/iMjdwf2bRGRWf3VFZIaIrBGRMhEpFZE5oR6DMQD1x9t4Z08ds8eMIKuHaTRM72YWjuDAsZPUNLa4HYpxUajXOJ4AXgeSgGtU9VpVfVxVvwqk9FLHC9wDLAAmA4tFZHK3YguA4uBtCYFTYv3VvQv4nqrOAL4TfGxMyF7cVoMIXDbJWhvhml6QjkewVkeMC7XF8aCqTlbVH6lqNYCIJACoakkvdeYA5apaoaptwDJgYbcyC4GHNWANkC4ief3UVSAteH84cDDEYzCGmsYWyiqPcd64TIYPs7Os4UpJiGPCyFTKKuvptClIYlaoieOHPWx7q586+UBll8dVwW2hlOmr7teAn4pIJfBfwLd6enERWRI8lVVaW2vLX5qA1Vtr8MV5uHhC7C7SdKZmFo6gscXP7tpmt0MxLukzcYhIrojMBoaJyEwRmRW8XULgtFWf1XvY1v0rSm9l+qr7ZeDrqloAfB34bU8vrqr3q2qJqpZkZ9s/CQOVdSfYWt3IhcVZJCXYigKna1JuKonxHjtdFcP6+/RcQeCC+Gjg5122NwH/1k/dKqDr/NSj+fBppd7K+Pqoeyvwf4L3/ww82E8cxqCqPL/lEMkJcZx/lnUlPRPxXg/T8tPZUFlPc6ufFEvCMafPFoeqPqSqlwKfVdVLu9yuVdUn+nnutUCxiIwVER+wCFjRrcwK4JZg76p5QEPwGkpfdQ8CFwfvXwbsCvVgTex6ZWcte44c57JJOSTExfaSsJEwqzCd9g7lOVtWNib1+VVBRG5S1UeAIhH55+77VfXnPVQ7tc8vIrcDqwAv8DtV3SIiS4P77wNWAlcC5cAJAoMMe60bfOovAr8SkTighUBvLGN61dmp/OS57WQk+zi3aITb4QwJBRlJZCb7+Ov6Kj5lC1/FnP7amMnBnz12ue2Pqq4kkBy6bruvy30Fbgu1bnD7G8Ds04nHxKanNx5g+6EmPnNuAXEemzUnEkSEmYUjeHFbDZV1JyjI6O+SpxlK+kwcqvo/wZ/fG5hwjImsVn8HP3thJ1NGpXFO/nC3wxlSZhak8+K2Gp7acICvfrTY7XDMAAp1AOBdIpImIvEi8pKIHBGRm5wOzpgz9eia/VTVn+TOBZPw2LTpETUi2ce8cRk8seGALSsbY0Jtt39MVRuBqwn0hJoAfMOxqIyJgKaWdn7993LOPyuTC4utS7YTPjFrNHuOHGe9dc2NKaEmjlNDbK8EHlPVOofiMSZiHnh9D3XH27hj/iS3QxmyFpyTx7B4L39dX+V2KGYAhZo4nhGR7UAJ8JKIZBPo0WRMVKppbOHB1yu4aloe00anux3OkJWSEMf8qbk8u/EgLe0dbodjBkio06rfCZwHlKhqO3CcD887ZUzU+OmqHfg7lDuusNaG0z4+K5/GFj8vbTvsdihmgIQz5PNsAuM5utZ5OMLxGHPGNh9o4K/rq1hy4TgKM62bqNM+Mj6L3LREnlhfxVXT8twOxwyAkBKHiPwRGA+UAafao4olDhNlVJXvP7uVjCQft112ltvhxASvR7huZj4PvF5BbVMr2am2xslQF2qLowSYrNbnzkS5VVsO8c6eOn543VTSEm3a9IHyydn53Pfqbp7cUMWSi8a7HY5xWKgXxzcDuU4GYsyZavV38J8rtzNhZAqLzrVpMAbSWTmpzCpM5/G1lTamIwaEmjiygK0iskpEVpy6ORmYMeF66M297K87wbevmkyc16YWGWiL5hSyu/Y46/bVux2KcViop6q+62QQxpyuP729H4DmVj8/e2EnE0amcKD+5HvbzcC56pw8vv/MVpatraSkKMPtcIyDQu2O+yqwF4gP3l8LrHcwLmPC8tK2Gto7OrlyqvXqcUtyQhzXTB/Fs5sO0tjS7nY4xkGhzlX1ReAvwP8EN+UDTzkUkzFhqWlsYe3eOuaMzSAnLdHtcGLaonMLaGnvZEVZ9zXbzFAS6ong24DzgUYAVd0F5DgVlDHheG5zNb44Dx+dNNLtUGLetNHDOTsvjcfXVrodinFQqImjVVXbTj0IDgK0rhPGddsPNbKzppnLJuaQbEuYuk5EWHRuAe8eaGDzgQa3wzEOCTVxvCoi/wYME5HLCaz1/YxzYRnTv1Z/B3/bVE12SgLzxme6HY4Jum5GPr44j7U6hrBQv6LdCXwBeBf4EoGV+R50KihjQvHg63s4eryNz32kyFb2c0lvvdcm56Xx53WVjM9OwRcX+N3cMLdwIEMzDgopcahqp4g8BTylqrXOhmRM/6obTvLrl8uZnJdG8chUt8Mx3ZQUjaCs8hhbDjYws9DWeR9q+vyaJgHfFZEjwHZgh4jUish3BiY8Y3r2o5Xb6VDlynOs+200GpuZTGayj7V7bemeoai/9v3XCPSmOldVM1U1A5gLnC8iX3c6OGN68nbFUVZsPMjSi8aRkexzOxzTAxGhpCiDvUdPcLjJlu4ZavpLHLcAi1V1z6kNqloB3BTc1ycRmS8iO0SkXETu7GG/iMjdwf2bRGRWKHVF5KvBfVtE5K7+4jBDh7+jk/+3Ygv56cP48iU2+200mz1mBF4RSvfaFCRDTX+JI15Vj3TfGLzO0efUoyLiBe4BFgCTgcUiMrlbsQVAcfC2BLi3v7oicimBRaSmqeoU4L/6OQYzhDz2zn62H2ri21edzTCf1+1wTB9SEuI4e1Qa6/bV097R6XY4JoL6uzjedpr7AOYA5cEWCiKyjMA//K1dyiwEHg5O175GRNJFJA8o6qPul4Efq2orgKrasmNDUE+9dY63+vn56p2My0qm/nibzUc1CMwpymDzgQa2HGx0OxQTQf21OKaLSGMPtybgnH7q5gNdO3JXBbeFUqavuhOAC0XkbRF5VUTO7enFRWSJiJSKSGltrXUEGwpWb6uh1d/BNdNHISJuh2NCMC47mYxkH+/ssYvkQ0mfiUNVvaqa1sMtVVX7WyWnp09299HmvZXpq24cMAKYB3wDWC49/BdR1ftVtURVS7Kzs/sJ1US7A/UnWbunjnnjMhlp81ENGh4Rzi3KYO/R45QfbnY7HBMhTo6aqgK6rqYzGug+81lvZfqqWwU8oQHvAJ0E1gsxQ1SnKk+VHSA5Ic7moxqETl0kX/aOnVocKpxMHGuBYhEZKyI+YBHQffGnFcAtwd5V84AGVa3up+5TwGUAIjIB8AEfuoBvho539tRx4NhJrjonzy6ID0KnLpL/ZX0VLe0dbodjIsCxxKGqfuB2YBWwDViuqltEZKmILA0WWwlUAOXAA8BX+qobrPM7YJyIbAaWAbfaWuhDV1NLO6u2HOKs7BSmjR7udjjmNM0pyuDYicDv0gx+jk4nqqorCSSHrtvu63JfCUzZHlLd4PY2AuNITAxY+W41/k7lWrsgPqiNy05mTGYSj769n4UzuveRMYONzQxnolb54WY2VjVw8YRsslIT3A7HnAGPCIvOLeSdPXV2kXwIsAUMTFRq7+jk6bIDZCb7uHiC9YobCrwewSvCd1ds6XeOMZtJN7pZi8NEpdd21XL0eBvXTh9FvNf+TIcCG0k+dNgn0kSdXTVNvLKjlmmjh9uU6UPMnKIMTrZ32EjyQc4Sh4kqHZ3KN/6yiYQ4D1dPG+V2OCbCbCT50GCJw0SV3/9jD2WVx7hm2ihSbA3xIafrSHKbbn3wssRhosbeI8f56aod/NPZI23MxhBm060PfpY4TFTo7FTu+OsmfHEe/uP6qTZmYwizi+SDnyUOExUefWc/b++p4/9eNdkmMYwB718kb3A7FHMaLHEY11XVn+DHK7dxYXEWnyoZ7XY4ZgCcukheus9OVw1GljiMq1SVf3tyMwr85/Xn2CmqGOERYWZhOntqj1N/or814Uy0scRhXPWXdVW8trOWOxdMoiAjye1wzACaVTACBTbsP+Z2KCZM1t/RDJjuS702tbTzixd3MiYzCY+ILQUbY0Yk+xiXlcz6/fVcOjHbWpuDiLU4jGtWbDyIv0P5xMzReOyfRkyaVTiCuuNt7Dt6wu1QTBgscRhXbDnYwJaDjVw2Kcdmvo1hU/LT8Hk9rN9vF8kHE0scZsCdbOtgxcaD5A1P5MJim/k2liXEeZmaP5x3DzTQ5rcxHYOFJQ4z4J7bXE1zi5+PzxyN12OnqGLdrDHptPo72VptYzoGC0scZkDtrm2mdF89FxRnkT9imNvhmChQlJnMiKR41lvvqkHDEocZMG3+Tp7ccICMZB8fnTTS7XBMlAiM6RjB7sPNHLMxHYOCJQ4zYP6+4zB1x9u4fmY+vjj70zPvm1UYGNNRVnnM7VBMCBz99IrIfBHZISLlInJnD/tFRO4O7t8kIrPCqPuvIqIikuXkMZjI2HPkOG+UH2FmQTrjs1PcDsdEmYxkH0WZyazbV4+quh2O6YdjiUNEvMA9wAJgMrBYRCZ3K7YAKA7elgD3hlJXRAqAywEbMTZI/ODZrcR5hCum5rodiolSs8ekc/R4G5V1NqYj2jnZ4pgDlKtqhaq2AcuAhd3KLAQe1oA1QLqI5IVQ9xfANwH7ajIIvLy9hpe3H+aySTmkJca7HY6JUlNGDSfOI5RVHXM7FNMPJxNHPlDZ5XFVcFsoZXqtKyLXAgdUdWNfLy4iS0SkVERKa2trT+8IzBlr9Xfw/We2Mi47mfPGZ7odjoliifFezs5LY1NVg63TEeWcTBw9ddDv3kLorUyP20UkCfg28J3+XlxV71fVElUtyc62QWZu+d0be9l79ATfvWYKcR67IG76NqMgnRNtHby+y77sRTMnP8lVQEGXx6OBgyGW6W37eGAssFFE9ga3rxcRO3EeheqPt/GbV8r56KQcLppgydv0r3hkCkk+L09u6P6vwkQTJxPHWqBYRMaKiA9YBKzoVmYFcEuwd9U8oEFVq3urq6rvqmqOqhapahGBBDNLVQ85eBzmNP367+Ucb/Vzx4JJbodiBok4j4dz8oezeushmlv9bodjeuFY4lBVP3A7sArYBixX1S0islRElgaLrQQqgHLgAeArfdV1KlYTeZV1J/jjW/v45OzRTBiZ6nY4ZhCZUZBOS3snqzbb98Fo5eh6HKq6kkBy6Lrtvi73Fbgt1Lo9lCk68yiNE372wg5E4OuXT3A7FDPIFGYkUZAxjKfKDvCJ2baUcDSyq5Um4jYfaOCpsoN8/oKx5A23+ahMeESE62bk84/yIxxubHE7HNMDSxwm4n72wg7Sk+JZevF4t0Mxg9TCGfl0amCxLxN9LHGYiCqrPMbfd9TyxQvHMXyYDfYzp+esnBSmjR7OU2UH3A7F9MASh4moX724kxFJ8dz6kSK3QzGD3MIZ+Ww+0Ej54Sa3QzHdWOIwEfNea+OicaQkONrvwsSAa6bn4RF4ysZ0RB1LHCZifhlsbdxyXpHboZghICc1kQuKs3mq7IDNmBtlLHGYiNiwv55XrLVhIuy6GaOoqj/Jun31bodiurBPuDkjf3o7MLP9H97cQ5LPy7A473vbjDlTV0zJZVj8Zp7ccICSogy3wzFB1uIwZ6yy7gQ7a5q5sDibhHiv2+GYISQ5IY6PTRnJ396tps1vM+ZGC0sc5oy9tL2GJJ+XeePsG6GJvOtm5HPsRDuv7rQZc6OFJQ5zRvZ3bW3EWWvDRN4FxVlkJvt4aoON6YgWljjMGXnZWhvGYfFeD9dMH8WL22pobGl3OxyDJQ5zBtbvr2dnTTMXWWvDOGzhjFG0+jt53mbMjQqWOMxp+9WLu0jyeZlrrQ3jsBkF6RRlJtnpqihh3XHNaVm3r55Xd9Yyf0qutTZMxPXUpXtcdgp/336Ye1/Z/d48aDfMLRzo0AzW4jCn6Vcv7SIj2ce8cZluh2JixIyCdBTYVHXM7VBiniUOE7Z1++p5bWctX7poHL44+xMyAyMrJYGCEcMoqzzmdigxzz71Jmy/fHEnmck+bj5vjNuhmBgzvSCd6oYWDtkCT66yxGHCUrq3jtd3HeFLF48jyWeXyMzAmjY6HY/ARmt1uMoShwnLL1/cRVaKj5vmWWvDDLyUhDiKc1IpqzxGp82Y6xpLHCZka/fW8Ub5EZZePN5aG8Y10wvSaTjZzr6jJ9wOJWY5mjhEZL6I7BCRchG5s4f9IiJ3B/dvEpFZ/dUVkZ+KyPZg+SdFJN3JYzDv++WLO8lKSeDGudbaMO6ZnJeGz+uhrNKmWneLY4lDRLzAPcACYDKwWEQmdyu2ACgO3pYA94ZQdzUwVVWnATuBbzl1DOZ9b1cc5R/lR1l68TiG+WzchnGPL87DlFFpbKpq4ESb3+1wYpKT5xvmAOWqWgEgIsuAhcDWLmUWAg9rYHmvNSKSLiJ5QFFvdVX1hS711wCfdPAYYlbXAViqyn2v7iYtMY44j8fW2zCumzM2gw2Vx3i67CCL59ggwIHm5KmqfKCyy+Oq4LZQyoRSF+DzwHM9vbiILBGRUhEpra216ZjPxNbqRirrT/JPZ4+0cRsmKhRmJJGblsgf39pny8q6wMn/AtLDtu6/4d7K9FtXRL4N+IFHe3pxVb1fVUtUtSQ7OzuEcE1POjqVVVtqyE5NYGbhCLfDMQYAEWHuuAy2VjeywbrmDjgnE0cVUNDl8WjgYIhl+qwrIrcCVwM3qn3dcNT6ffUcaW7lism5eD095XNj3DFjdDopCXE8smaf26HEHCcTx1qgWETGiogPWASs6FZmBXBLsHfVPKBBVav7qisi84E7gGtV1frjOajN38mL22sozEji7LxUt8Mx5gMS4r1cPzOfZzdVU3+8ze1wYopjiUNV/cDtwCpgG7BcVbeIyFIRWRosthKoAMqBB4Cv9FU3WOfXQCqwWkTKROQ+p44h1r2+q5amFj/zp+QiYq0NE31umjeGNn8nf15X2X9hEzGOjuJS1ZUEkkPXbfd1ua/AbaHWDW4/K8Jhmh7UHW/j1Z21nJM/nKKsZLfDMaZHE3NTmVOUwR/X7OMLF4yz06kDxLrImB6tfLcajwhXnpPndijG9Olz5xdRWXeSVVtsdcCBYonDfMgrOw6ztbqRSyflvLdgjjHR6mNTcinKTOK+V3db19wBYonDfECrv4PvPbOVrBQf54+3RZpM9PN6hC9eNI5NVQ28tfuo2+HEBEsc5gPufWU3e44c5+ppo4jz2p+HGRw+MWs02akJ3P3yLrdDiQn2n8G8592qBn79cjnXzRjFhJHW/dYMHonxXr5yyXjWVNTx5u4jbocz5FniMAC0tHfwz8vLyEzx8b1rp7odjjFhWzynkJFpCfz8hZ12rcNhljgMAD9fvZNdh5v5ySemMTzJLoibwScx3stXLyumdF89L2ytcTucIc0Sh+HtiqM88HoFN8wt5JKJOW6HY8xpW3RuAWflpPCjldto83e6Hc6QZYkjxh1ubOH2xzYwJiOJb195ttvhGHNG4rwevn3V2ew9eoI/vLnH7XCGLEscMazV38Ftf1pPc4uf+26eTXKCLQdrBr9LJmTz0Uk5/GL1LirrbDo7J1jiiFGqyh1/2cTavfX85JPTmJSb5nZIxkSEiPD966YiAv/+1Ga7UO4ASxwxSFX50XPbearsIN+4YiLXTh/ldkjGRFR++jC+ecVEXt1Zy6O2YmXEWeKIMarKXat2cP9rFdx63hi+csl4t0MyxhG3nFfERROy+cGzW9lxqMntcIYUSxwxpL2jk2898S73vrKbG+cW8t1rp9h06WbI8niEn31qOqmJ8Xzpj6UcO2FrdkSKJY4YcbiphVt++w7L1lZy+6Vn8cPrplrSMENedmoC/3PzLA4ea+HLj6yn1d/hdkhDgnWjGeJUlb+9W813V2yh4WQ7n5w1mlHpw3jsHVv4xsSG2WMy+Mknz+Hrj2/ktkc38JsbZ+GLs+/MZ8ISxxC2YX89//XCDv5RfpRz8odz49wxjExLdDssYwbc9TNH09zi5/8+vYUvP7KO/75hJkk++/d3uuydG2Lqjrfx4rYaHl9bybp99WQm+/juNZO5ad4YlpdWuR2eMa65+bwiRITvPL2ZRfev4d6bZpOfPsztsAYlSxyDWGenUll/gu2HmthxqIk3yo9QureOToUxmUn8+1Vns3hOoQ3sM0PWn8LoanvD3EJumjeG3LREvvZ4GQt++Rr/cf05XD0tz673hcn+o0Sp7h+I5lY/NY0tHGpoCfxsbOFwYyttHe/PxzMpN5XbLz2Lj03JZcqoNPswGNODf5o8kr/97wv4349t4KuPbeDP66q4Y/5Epowa7nZog4Yljihzsq2DXYebWLevLpgkWjnU2EJzq/+9Mkk+L7lpicwuGsHC6aOYmJvKhJGp1rIwJkRjMpP565c/wh/X7OPnq3dy1d1vcNmkHG6cW8iFxdl28bwf4uRwfBGZD/wK8AIPquqPu+2X4P4rgRPAZ1V1fV91RSQDeBwoAvYCn1bV+r7iKCkp0dLS0sgd2BlSVWqbW6moPR68NVNxJPBzX90JTv1K4r1CTmoiI9MSyU1LYOTwRHLTEklJiLPWhDFhumFuYY/bG0628/t/7OGRNfs50txKss/LBcVZXDoxh6n5wzkrJ4XEeO8ARxsdRGSdqpZ8aLtTiUNEvMBO4HKgClgLLFbVrV3KXAl8lUDimAv8SlXn9lVXRO4C6lT1xyJyJzBCVe/oK5ZIJY7OTsXfqXRq4GdHt9vJ9g6aWtppbvHT2OKnudVPU0s7dcfbqA6eYqpuCJxu6tqCSIjzMDYrmfHZKRSPTGFSbio7a5rJSPbhsQRhzIDwd3ayq6aZHYeaqKw/QXVDCwAegYKMJEamJZKR5GNEso+EOA9ej7CzpgmPCCK894VPVVE+/HjCyFQ6VVEFRUmI8zIs3ktivIfEeC+J8aceexnme39bYpyXeK8Q7/UQ5xV8Xg9xXs972+K9gVic0FvicPLcxhygXFUrggEsAxYCW7uUWQg8rIHstUZE0kUkj0Brore6C4FLgvUfAl4B+kwcp+t7z2zh0bf3v5cwTpdHICc1kdzhiZyVncIFZ2VRlJnEuOwUxmUnM2r4MDzdfvF1x21+HWMGUpzHw9l5aZydl8biOQXsrj3OjkNN7Kxpory2mSNNreyubaZ+Xxut/k46O5VWf+d7iQACEywKcOr7XtfHWw42IsJ7XwZb2zs42d7BGfxrec+p5z31Wl1f9/6bS7hoQvaZv0gXTiaOfKDrKLMqAq2K/srk91N3pKpWA6hqtYj0uPKQiCwBlgQfNovIjtM5iBBlAX0udBxDKwP0+17ECHsf3jfo3osbnXlaV96Hi394RtXH9LTRycTRU9upe27trUwodfukqvcD94dT53SJSGlPzblYZO9FgL0P77P3ImAovQ9Odh2oAgq6PB4NHAyxTF91a4Knswj+PBzBmI0xxvTDycSxFigWkbEi4gMWASu6lVkB3CIB84CG4GmovuquAG4N3r8VeNrBYzDGGNONY6eqVNUvIrcDqwh0qf2dqm4RkaXB/fcBKwn0qCon0B33c33VDT71j4HlIvIFYD/wKaeOIQwDckpskLD3IsDeh/fZexEwZN4HR8dxGGOMGXpseKQxxpiwWOIwxhgTFkscYRKRT4nIFhHpFJGSbvu+JSLlIrJDRK7osn22iLwb3He3DLH5QkTkuyJyQETKgrcru+zr8T0ZykRkfvB4y4OzG8QMEdkb/FsvE5HS4LYMEVktIruCP0e4HacTROR3InJYRDZ32dbrsQ/mz4YljvBtBj4OvNZ1o4hMJtD7awowH/hNcOoUgHsJDEYsDt7mD1i0A+cXqjojeFsJ/b4nQ1Lw+O4BFgCTgcXB9yGWXBr8Ozj1xepO4CVVLQZeCj4eiv7Ahz/bPR77YP9sWOIIk6puU9WeRqEvBJapaquq7iHQU2xOcKxJmqq+FZxa5WHguoGL2FU9vicux+S096baUdU24NR0ObFsIYHpgQj+vM69UJyjqq8Bdd0293bsg/qzYYkjcvqaPqWqh+1Dze0isinYXD/VHO/tPRnKYvGYu1LgBRFZF5z2B7pNEwT0OE3QENXbsQ/qvxNbwKEHIvIikNvDrm+ram8DDh2bPiUa9PWeEDgV9wMCx/UD4GfA5xkixx6mWDzmrs5X1YPBOeRWi8h2twOKUoP678QSRw9U9Z9Oo1pf06eM7mH7oBLqeyIiDwDPBh+GMu3MUBOLx/weVT0Y/HlYRJ4kcPqlRkTygpOSxto0Qb0d+6D+O7FTVZGzAlgkIgkiMpbARfB3gs3TJhGZF+xNdQtDbJqUU3OHBV1PoAMB9PKeDHR8AyyUqXaGJBFJFpHUU/eBjxH4W4jlaYJ6O/ZB/dmwFkeYROR64L+BbOBvIlKmqlcEp1NZTmDNED9wm6p2BKt9mUCPi2HAc8HbUHKXiMwg0NTeC3wJoJ/3ZEjqZ7qcoW4k8GSwt3kc8CdVfV5E1hJ90wRFnIg8RmCtoCwRqQL+H71MkTTYPxs25Ygxxpiw2KkqY4wxYbHEYYwxJiyWOIwxxoTFEocxxpiwWOIwxhgTFkscxjhARHJFZJmI7BaRrSKyUkQmiIiKyA+6lMsSkXYR+XWXbUtEZHvw9o6IXODOURjTM0scxkRYcKDnk8ArqjpeVScD/0ZgnEMFcHWX4p8CtnSpezWBcTAXqOokYCnwJxHpaboXY1xhicOYyLsUaFfV+05tUNUyApPanQS2dVnL5TPA8i517wC+oapHgvXWE5hV9bYBiNuYkFjiMCbypgLr+ti/jMB0E6OBDj44R9GUHuqWBrcbExVsyhFjBt7zBGYRrgEeD6G8MIhmTjVDn7U4jIm8LcDs3nYGF3haB/wL8Nduu7f2UHdWcLsxUcEShzGR9zKQICJfPLVBRM4FxnQp8zPgDlU92q3uXcBPRCQzWG8G8FngN04GbEw47FSVMRGmqhqcRfmXInIn0EJg1uCvdSmzhS69qbpsXyEi+cCbIqJAE3DTqVXkjIkGNjuuMcaYsNipKmOMMWGxxGGMMSYsljiMMcaExRKHMcaYsFjiMMYYExZLHMYYY8JiicMYY0xY/j/t8L2KOGzWzQAAAABJRU5ErkJggg==\n",
      "text/plain": [
       "<Figure size 432x288 with 1 Axes>"
      ]
     },
     "metadata": {
      "needs_background": "light"
     },
     "output_type": "display_data"
    }
   ],
   "source": [
    "df['CMO'] = TA.CMO(ohlcv)\n",
    "print(df['CMO'].describe())\n",
    "sns.distplot(df['CMO'].dropna())\n",
    "df.tail()"
   ]
  },
  {
   "cell_type": "markdown",
   "metadata": {
    "id": "35qI_9gZjsR0"
   },
   "source": [
    "# MACD"
   ]
  },
  {
   "cell_type": "code",
   "execution_count": 58,
   "metadata": {
    "colab": {
     "base_uri": "https://localhost:8080/",
     "height": 859
    },
    "id": "5QG4lBEfjsZb",
    "outputId": "e4ec3202-6c2e-4b9a-c425-9b589035517f"
   },
   "outputs": [
    {
     "name": "stdout",
     "output_type": "stream",
     "text": [
      "count    1197.000000\n",
      "mean        0.817370\n",
      "std        54.277968\n",
      "min      -244.072759\n",
      "25%       -28.634833\n",
      "50%         0.932638\n",
      "75%        31.953455\n",
      "max       214.802204\n",
      "Name: MACD, dtype: float64\n"
     ]
    },
    {
     "name": "stderr",
     "output_type": "stream",
     "text": [
      "C:\\Users\\ricky\\AppData\\Local\\Temp/ipykernel_10260/2662787808.py:1: SettingWithCopyWarning: \n",
      "A value is trying to be set on a copy of a slice from a DataFrame.\n",
      "Try using .loc[row_indexer,col_indexer] = value instead\n",
      "\n",
      "See the caveats in the documentation: https://pandas.pydata.org/pandas-docs/stable/user_guide/indexing.html#returning-a-view-versus-a-copy\n",
      "  df['MACD'] = TA.MACD(ohlcv)['MACD'] - TA.MACD(ohlcv)['SIGNAL']\n",
      "C:\\Users\\ricky\\anaconda3\\lib\\site-packages\\seaborn\\distributions.py:2619: FutureWarning: `distplot` is a deprecated function and will be removed in a future version. Please adapt your code to use either `displot` (a figure-level function with similar flexibility) or `histplot` (an axes-level function for histograms).\n",
      "  warnings.warn(msg, FutureWarning)\n"
     ]
    },
    {
     "data": {
      "text/html": [
       "<div>\n",
       "<style scoped>\n",
       "    .dataframe tbody tr th:only-of-type {\n",
       "        vertical-align: middle;\n",
       "    }\n",
       "\n",
       "    .dataframe tbody tr th {\n",
       "        vertical-align: top;\n",
       "    }\n",
       "\n",
       "    .dataframe thead th {\n",
       "        text-align: right;\n",
       "    }\n",
       "</style>\n",
       "<table border=\"1\" class=\"dataframe\">\n",
       "  <thead>\n",
       "    <tr style=\"text-align: right;\">\n",
       "      <th></th>\n",
       "      <th>Open</th>\n",
       "      <th>High</th>\n",
       "      <th>Low</th>\n",
       "      <th>Close</th>\n",
       "      <th>Adj Close</th>\n",
       "      <th>Volume</th>\n",
       "      <th>triple_barrier_signal</th>\n",
       "      <th>RSI</th>\n",
       "      <th>Williams %R</th>\n",
       "      <th>SMA</th>\n",
       "      <th>EMA</th>\n",
       "      <th>WMA</th>\n",
       "      <th>HMA</th>\n",
       "      <th>TEMA</th>\n",
       "      <th>CCI</th>\n",
       "      <th>CMO</th>\n",
       "      <th>MACD</th>\n",
       "    </tr>\n",
       "    <tr>\n",
       "      <th>Date</th>\n",
       "      <th></th>\n",
       "      <th></th>\n",
       "      <th></th>\n",
       "      <th></th>\n",
       "      <th></th>\n",
       "      <th></th>\n",
       "      <th></th>\n",
       "      <th></th>\n",
       "      <th></th>\n",
       "      <th></th>\n",
       "      <th></th>\n",
       "      <th></th>\n",
       "      <th></th>\n",
       "      <th></th>\n",
       "      <th></th>\n",
       "      <th></th>\n",
       "      <th></th>\n",
       "    </tr>\n",
       "  </thead>\n",
       "  <tbody>\n",
       "    <tr>\n",
       "      <th>2023-02-02</th>\n",
       "      <td>15508.830078</td>\n",
       "      <td>15602.089844</td>\n",
       "      <td>15496.519531</td>\n",
       "      <td>15595.160156</td>\n",
       "      <td>15595.160156</td>\n",
       "      <td>3248500</td>\n",
       "      <td>0</td>\n",
       "      <td>72.275262</td>\n",
       "      <td>-0.486594</td>\n",
       "      <td>14653.651177</td>\n",
       "      <td>15158.977368</td>\n",
       "      <td>15257.702235</td>\n",
       "      <td>15433.922732</td>\n",
       "      <td>15588.490344</td>\n",
       "      <td>149.011171</td>\n",
       "      <td>51.978111</td>\n",
       "      <td>105.880424</td>\n",
       "    </tr>\n",
       "    <tr>\n",
       "      <th>2023-02-03</th>\n",
       "      <td>15591.950195</td>\n",
       "      <td>15617.730469</td>\n",
       "      <td>15504.030273</td>\n",
       "      <td>15602.660156</td>\n",
       "      <td>15602.660156</td>\n",
       "      <td>2647300</td>\n",
       "      <td>0</td>\n",
       "      <td>72.386625</td>\n",
       "      <td>-1.118971</td>\n",
       "      <td>14673.752406</td>\n",
       "      <td>15247.713926</td>\n",
       "      <td>15357.312934</td>\n",
       "      <td>15548.193225</td>\n",
       "      <td>15667.493529</td>\n",
       "      <td>133.547974</td>\n",
       "      <td>52.240805</td>\n",
       "      <td>103.660283</td>\n",
       "    </tr>\n",
       "    <tr>\n",
       "      <th>2023-02-06</th>\n",
       "      <td>15514.799805</td>\n",
       "      <td>15514.799805</td>\n",
       "      <td>15392.820312</td>\n",
       "      <td>15392.820312</td>\n",
       "      <td>15392.820312</td>\n",
       "      <td>2320600</td>\n",
       "      <td>1</td>\n",
       "      <td>64.571670</td>\n",
       "      <td>-16.794229</td>\n",
       "      <td>14694.141435</td>\n",
       "      <td>15276.735203</td>\n",
       "      <td>15396.039670</td>\n",
       "      <td>15619.309118</td>\n",
       "      <td>15601.702110</td>\n",
       "      <td>99.651903</td>\n",
       "      <td>30.113980</td>\n",
       "      <td>81.685094</td>\n",
       "    </tr>\n",
       "    <tr>\n",
       "      <th>2023-02-07</th>\n",
       "      <td>15376.120117</td>\n",
       "      <td>15462.099609</td>\n",
       "      <td>15363.650391</td>\n",
       "      <td>15400.910156</td>\n",
       "      <td>15400.910156</td>\n",
       "      <td>2251800</td>\n",
       "      <td>0</td>\n",
       "      <td>64.729764</td>\n",
       "      <td>-19.476148</td>\n",
       "      <td>14711.001691</td>\n",
       "      <td>15301.570194</td>\n",
       "      <td>15421.691471</td>\n",
       "      <td>15646.968786</td>\n",
       "      <td>15551.473450</td>\n",
       "      <td>86.235604</td>\n",
       "      <td>30.546387</td>\n",
       "      <td>62.201387</td>\n",
       "    </tr>\n",
       "    <tr>\n",
       "      <th>2023-02-08</th>\n",
       "      <td>15538.709961</td>\n",
       "      <td>15631.219727</td>\n",
       "      <td>15520.049805</td>\n",
       "      <td>15618.169922</td>\n",
       "      <td>15618.169922</td>\n",
       "      <td>2514500</td>\n",
       "      <td>0</td>\n",
       "      <td>68.761373</td>\n",
       "      <td>-1.402467</td>\n",
       "      <td>14729.016816</td>\n",
       "      <td>15364.890139</td>\n",
       "      <td>15477.977886</td>\n",
       "      <td>15665.354419</td>\n",
       "      <td>15616.148463</td>\n",
       "      <td>103.254678</td>\n",
       "      <td>41.370979</td>\n",
       "      <td>58.507625</td>\n",
       "    </tr>\n",
       "  </tbody>\n",
       "</table>\n",
       "</div>"
      ],
      "text/plain": [
       "                    Open          High           Low         Close  \\\n",
       "Date                                                                 \n",
       "2023-02-02  15508.830078  15602.089844  15496.519531  15595.160156   \n",
       "2023-02-03  15591.950195  15617.730469  15504.030273  15602.660156   \n",
       "2023-02-06  15514.799805  15514.799805  15392.820312  15392.820312   \n",
       "2023-02-07  15376.120117  15462.099609  15363.650391  15400.910156   \n",
       "2023-02-08  15538.709961  15631.219727  15520.049805  15618.169922   \n",
       "\n",
       "               Adj Close   Volume  triple_barrier_signal        RSI  \\\n",
       "Date                                                                  \n",
       "2023-02-02  15595.160156  3248500                      0  72.275262   \n",
       "2023-02-03  15602.660156  2647300                      0  72.386625   \n",
       "2023-02-06  15392.820312  2320600                      1  64.571670   \n",
       "2023-02-07  15400.910156  2251800                      0  64.729764   \n",
       "2023-02-08  15618.169922  2514500                      0  68.761373   \n",
       "\n",
       "            Williams %R           SMA           EMA           WMA  \\\n",
       "Date                                                                \n",
       "2023-02-02    -0.486594  14653.651177  15158.977368  15257.702235   \n",
       "2023-02-03    -1.118971  14673.752406  15247.713926  15357.312934   \n",
       "2023-02-06   -16.794229  14694.141435  15276.735203  15396.039670   \n",
       "2023-02-07   -19.476148  14711.001691  15301.570194  15421.691471   \n",
       "2023-02-08    -1.402467  14729.016816  15364.890139  15477.977886   \n",
       "\n",
       "                     HMA          TEMA         CCI        CMO        MACD  \n",
       "Date                                                                       \n",
       "2023-02-02  15433.922732  15588.490344  149.011171  51.978111  105.880424  \n",
       "2023-02-03  15548.193225  15667.493529  133.547974  52.240805  103.660283  \n",
       "2023-02-06  15619.309118  15601.702110   99.651903  30.113980   81.685094  \n",
       "2023-02-07  15646.968786  15551.473450   86.235604  30.546387   62.201387  \n",
       "2023-02-08  15665.354419  15616.148463  103.254678  41.370979   58.507625  "
      ]
     },
     "execution_count": 58,
     "metadata": {},
     "output_type": "execute_result"
    },
    {
     "data": {
      "image/png": "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\n",
      "text/plain": [
       "<Figure size 432x288 with 1 Axes>"
      ]
     },
     "metadata": {
      "needs_background": "light"
     },
     "output_type": "display_data"
    }
   ],
   "source": [
    "df['MACD'] = TA.MACD(ohlcv)['MACD'] - TA.MACD(ohlcv)['SIGNAL']\n",
    "print(df['MACD'].describe())\n",
    "sns.distplot(df['MACD'].dropna())\n",
    "df.tail()"
   ]
  },
  {
   "cell_type": "markdown",
   "metadata": {
    "id": "roEAzvV7liUA"
   },
   "source": [
    "# PPO"
   ]
  },
  {
   "cell_type": "code",
   "execution_count": 59,
   "metadata": {
    "colab": {
     "base_uri": "https://localhost:8080/",
     "height": 859
    },
    "id": "ovCLHYPXli73",
    "outputId": "92133e2a-4bcb-4927-f5e7-8792284f056c"
   },
   "outputs": [
    {
     "name": "stdout",
     "output_type": "stream",
     "text": [
      "count    1197.000000\n",
      "mean        0.005514\n",
      "std         0.411200\n",
      "min        -2.355901\n",
      "25%        -0.218121\n",
      "50%         0.002129\n",
      "75%         0.245639\n",
      "max         1.592874\n",
      "Name: PPO, dtype: float64\n"
     ]
    },
    {
     "name": "stderr",
     "output_type": "stream",
     "text": [
      "C:\\Users\\ricky\\AppData\\Local\\Temp/ipykernel_10260/3095035729.py:1: SettingWithCopyWarning: \n",
      "A value is trying to be set on a copy of a slice from a DataFrame.\n",
      "Try using .loc[row_indexer,col_indexer] = value instead\n",
      "\n",
      "See the caveats in the documentation: https://pandas.pydata.org/pandas-docs/stable/user_guide/indexing.html#returning-a-view-versus-a-copy\n",
      "  df['PPO'] = TA.PPO(ohlcv)['PPO'] - TA.PPO(ohlcv)['SIGNAL']\n",
      "C:\\Users\\ricky\\anaconda3\\lib\\site-packages\\seaborn\\distributions.py:2619: FutureWarning: `distplot` is a deprecated function and will be removed in a future version. Please adapt your code to use either `displot` (a figure-level function with similar flexibility) or `histplot` (an axes-level function for histograms).\n",
      "  warnings.warn(msg, FutureWarning)\n"
     ]
    },
    {
     "data": {
      "text/html": [
       "<div>\n",
       "<style scoped>\n",
       "    .dataframe tbody tr th:only-of-type {\n",
       "        vertical-align: middle;\n",
       "    }\n",
       "\n",
       "    .dataframe tbody tr th {\n",
       "        vertical-align: top;\n",
       "    }\n",
       "\n",
       "    .dataframe thead th {\n",
       "        text-align: right;\n",
       "    }\n",
       "</style>\n",
       "<table border=\"1\" class=\"dataframe\">\n",
       "  <thead>\n",
       "    <tr style=\"text-align: right;\">\n",
       "      <th></th>\n",
       "      <th>Open</th>\n",
       "      <th>High</th>\n",
       "      <th>Low</th>\n",
       "      <th>Close</th>\n",
       "      <th>Adj Close</th>\n",
       "      <th>Volume</th>\n",
       "      <th>triple_barrier_signal</th>\n",
       "      <th>RSI</th>\n",
       "      <th>Williams %R</th>\n",
       "      <th>SMA</th>\n",
       "      <th>EMA</th>\n",
       "      <th>WMA</th>\n",
       "      <th>HMA</th>\n",
       "      <th>TEMA</th>\n",
       "      <th>CCI</th>\n",
       "      <th>CMO</th>\n",
       "      <th>MACD</th>\n",
       "      <th>PPO</th>\n",
       "    </tr>\n",
       "    <tr>\n",
       "      <th>Date</th>\n",
       "      <th></th>\n",
       "      <th></th>\n",
       "      <th></th>\n",
       "      <th></th>\n",
       "      <th></th>\n",
       "      <th></th>\n",
       "      <th></th>\n",
       "      <th></th>\n",
       "      <th></th>\n",
       "      <th></th>\n",
       "      <th></th>\n",
       "      <th></th>\n",
       "      <th></th>\n",
       "      <th></th>\n",
       "      <th></th>\n",
       "      <th></th>\n",
       "      <th></th>\n",
       "      <th></th>\n",
       "    </tr>\n",
       "  </thead>\n",
       "  <tbody>\n",
       "    <tr>\n",
       "      <th>2023-02-02</th>\n",
       "      <td>15508.830078</td>\n",
       "      <td>15602.089844</td>\n",
       "      <td>15496.519531</td>\n",
       "      <td>15595.160156</td>\n",
       "      <td>15595.160156</td>\n",
       "      <td>3248500</td>\n",
       "      <td>0</td>\n",
       "      <td>72.275262</td>\n",
       "      <td>-0.486594</td>\n",
       "      <td>14653.651177</td>\n",
       "      <td>15158.977368</td>\n",
       "      <td>15257.702235</td>\n",
       "      <td>15433.922732</td>\n",
       "      <td>15588.490344</td>\n",
       "      <td>149.011171</td>\n",
       "      <td>51.978111</td>\n",
       "      <td>105.880424</td>\n",
       "      <td>0.708702</td>\n",
       "    </tr>\n",
       "    <tr>\n",
       "      <th>2023-02-03</th>\n",
       "      <td>15591.950195</td>\n",
       "      <td>15617.730469</td>\n",
       "      <td>15504.030273</td>\n",
       "      <td>15602.660156</td>\n",
       "      <td>15602.660156</td>\n",
       "      <td>2647300</td>\n",
       "      <td>0</td>\n",
       "      <td>72.386625</td>\n",
       "      <td>-1.118971</td>\n",
       "      <td>14673.752406</td>\n",
       "      <td>15247.713926</td>\n",
       "      <td>15357.312934</td>\n",
       "      <td>15548.193225</td>\n",
       "      <td>15667.493529</td>\n",
       "      <td>133.547974</td>\n",
       "      <td>52.240805</td>\n",
       "      <td>103.660283</td>\n",
       "      <td>0.688625</td>\n",
       "    </tr>\n",
       "    <tr>\n",
       "      <th>2023-02-06</th>\n",
       "      <td>15514.799805</td>\n",
       "      <td>15514.799805</td>\n",
       "      <td>15392.820312</td>\n",
       "      <td>15392.820312</td>\n",
       "      <td>15392.820312</td>\n",
       "      <td>2320600</td>\n",
       "      <td>1</td>\n",
       "      <td>64.571670</td>\n",
       "      <td>-16.794229</td>\n",
       "      <td>14694.141435</td>\n",
       "      <td>15276.735203</td>\n",
       "      <td>15396.039670</td>\n",
       "      <td>15619.309118</td>\n",
       "      <td>15601.702110</td>\n",
       "      <td>99.651903</td>\n",
       "      <td>30.113980</td>\n",
       "      <td>81.685094</td>\n",
       "      <td>0.538152</td>\n",
       "    </tr>\n",
       "    <tr>\n",
       "      <th>2023-02-07</th>\n",
       "      <td>15376.120117</td>\n",
       "      <td>15462.099609</td>\n",
       "      <td>15363.650391</td>\n",
       "      <td>15400.910156</td>\n",
       "      <td>15400.910156</td>\n",
       "      <td>2251800</td>\n",
       "      <td>0</td>\n",
       "      <td>64.729764</td>\n",
       "      <td>-19.476148</td>\n",
       "      <td>14711.001691</td>\n",
       "      <td>15301.570194</td>\n",
       "      <td>15421.691471</td>\n",
       "      <td>15646.968786</td>\n",
       "      <td>15551.473450</td>\n",
       "      <td>86.235604</td>\n",
       "      <td>30.546387</td>\n",
       "      <td>62.201387</td>\n",
       "      <td>0.405341</td>\n",
       "    </tr>\n",
       "    <tr>\n",
       "      <th>2023-02-08</th>\n",
       "      <td>15538.709961</td>\n",
       "      <td>15631.219727</td>\n",
       "      <td>15520.049805</td>\n",
       "      <td>15618.169922</td>\n",
       "      <td>15618.169922</td>\n",
       "      <td>2514500</td>\n",
       "      <td>0</td>\n",
       "      <td>68.761373</td>\n",
       "      <td>-1.402467</td>\n",
       "      <td>14729.016816</td>\n",
       "      <td>15364.890139</td>\n",
       "      <td>15477.977886</td>\n",
       "      <td>15665.354419</td>\n",
       "      <td>15616.148463</td>\n",
       "      <td>103.254678</td>\n",
       "      <td>41.370979</td>\n",
       "      <td>58.507625</td>\n",
       "      <td>0.377303</td>\n",
       "    </tr>\n",
       "  </tbody>\n",
       "</table>\n",
       "</div>"
      ],
      "text/plain": [
       "                    Open          High           Low         Close  \\\n",
       "Date                                                                 \n",
       "2023-02-02  15508.830078  15602.089844  15496.519531  15595.160156   \n",
       "2023-02-03  15591.950195  15617.730469  15504.030273  15602.660156   \n",
       "2023-02-06  15514.799805  15514.799805  15392.820312  15392.820312   \n",
       "2023-02-07  15376.120117  15462.099609  15363.650391  15400.910156   \n",
       "2023-02-08  15538.709961  15631.219727  15520.049805  15618.169922   \n",
       "\n",
       "               Adj Close   Volume  triple_barrier_signal        RSI  \\\n",
       "Date                                                                  \n",
       "2023-02-02  15595.160156  3248500                      0  72.275262   \n",
       "2023-02-03  15602.660156  2647300                      0  72.386625   \n",
       "2023-02-06  15392.820312  2320600                      1  64.571670   \n",
       "2023-02-07  15400.910156  2251800                      0  64.729764   \n",
       "2023-02-08  15618.169922  2514500                      0  68.761373   \n",
       "\n",
       "            Williams %R           SMA           EMA           WMA  \\\n",
       "Date                                                                \n",
       "2023-02-02    -0.486594  14653.651177  15158.977368  15257.702235   \n",
       "2023-02-03    -1.118971  14673.752406  15247.713926  15357.312934   \n",
       "2023-02-06   -16.794229  14694.141435  15276.735203  15396.039670   \n",
       "2023-02-07   -19.476148  14711.001691  15301.570194  15421.691471   \n",
       "2023-02-08    -1.402467  14729.016816  15364.890139  15477.977886   \n",
       "\n",
       "                     HMA          TEMA         CCI        CMO        MACD  \\\n",
       "Date                                                                        \n",
       "2023-02-02  15433.922732  15588.490344  149.011171  51.978111  105.880424   \n",
       "2023-02-03  15548.193225  15667.493529  133.547974  52.240805  103.660283   \n",
       "2023-02-06  15619.309118  15601.702110   99.651903  30.113980   81.685094   \n",
       "2023-02-07  15646.968786  15551.473450   86.235604  30.546387   62.201387   \n",
       "2023-02-08  15665.354419  15616.148463  103.254678  41.370979   58.507625   \n",
       "\n",
       "                 PPO  \n",
       "Date                  \n",
       "2023-02-02  0.708702  \n",
       "2023-02-03  0.688625  \n",
       "2023-02-06  0.538152  \n",
       "2023-02-07  0.405341  \n",
       "2023-02-08  0.377303  "
      ]
     },
     "execution_count": 59,
     "metadata": {},
     "output_type": "execute_result"
    },
    {
     "data": {
      "image/png": "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\n",
      "text/plain": [
       "<Figure size 432x288 with 1 Axes>"
      ]
     },
     "metadata": {
      "needs_background": "light"
     },
     "output_type": "display_data"
    }
   ],
   "source": [
    "df['PPO'] = TA.PPO(ohlcv)['PPO'] - TA.PPO(ohlcv)['SIGNAL']\n",
    "print(df['PPO'].describe())\n",
    "sns.distplot(df['PPO'].dropna())\n",
    "df.tail()"
   ]
  },
  {
   "cell_type": "markdown",
   "metadata": {
    "id": "5BBE8vaWmdGN"
   },
   "source": [
    "# ROC"
   ]
  },
  {
   "cell_type": "code",
   "execution_count": 60,
   "metadata": {
    "colab": {
     "base_uri": "https://localhost:8080/",
     "height": 859
    },
    "id": "OKI3MqwhmdOj",
    "outputId": "116bea98-1a2d-4084-84a0-753ed49abc2b"
   },
   "outputs": [
    {
     "name": "stdout",
     "output_type": "stream",
     "text": [
      "count    1185.000000\n",
      "mean        0.420268\n",
      "std         4.136089\n",
      "min       -23.361982\n",
      "25%        -1.980613\n",
      "50%         0.909887\n",
      "75%         2.942792\n",
      "max        16.773101\n",
      "Name: ROC, dtype: float64\n"
     ]
    },
    {
     "name": "stderr",
     "output_type": "stream",
     "text": [
      "C:\\Users\\ricky\\AppData\\Local\\Temp/ipykernel_10260/1860037326.py:1: SettingWithCopyWarning: \n",
      "A value is trying to be set on a copy of a slice from a DataFrame.\n",
      "Try using .loc[row_indexer,col_indexer] = value instead\n",
      "\n",
      "See the caveats in the documentation: https://pandas.pydata.org/pandas-docs/stable/user_guide/indexing.html#returning-a-view-versus-a-copy\n",
      "  df['ROC'] = TA.ROC(ohlcv)\n",
      "C:\\Users\\ricky\\anaconda3\\lib\\site-packages\\seaborn\\distributions.py:2619: FutureWarning: `distplot` is a deprecated function and will be removed in a future version. Please adapt your code to use either `displot` (a figure-level function with similar flexibility) or `histplot` (an axes-level function for histograms).\n",
      "  warnings.warn(msg, FutureWarning)\n"
     ]
    },
    {
     "data": {
      "text/html": [
       "<div>\n",
       "<style scoped>\n",
       "    .dataframe tbody tr th:only-of-type {\n",
       "        vertical-align: middle;\n",
       "    }\n",
       "\n",
       "    .dataframe tbody tr th {\n",
       "        vertical-align: top;\n",
       "    }\n",
       "\n",
       "    .dataframe thead th {\n",
       "        text-align: right;\n",
       "    }\n",
       "</style>\n",
       "<table border=\"1\" class=\"dataframe\">\n",
       "  <thead>\n",
       "    <tr style=\"text-align: right;\">\n",
       "      <th></th>\n",
       "      <th>Open</th>\n",
       "      <th>High</th>\n",
       "      <th>Low</th>\n",
       "      <th>Close</th>\n",
       "      <th>Adj Close</th>\n",
       "      <th>Volume</th>\n",
       "      <th>triple_barrier_signal</th>\n",
       "      <th>RSI</th>\n",
       "      <th>Williams %R</th>\n",
       "      <th>SMA</th>\n",
       "      <th>EMA</th>\n",
       "      <th>WMA</th>\n",
       "      <th>HMA</th>\n",
       "      <th>TEMA</th>\n",
       "      <th>CCI</th>\n",
       "      <th>CMO</th>\n",
       "      <th>MACD</th>\n",
       "      <th>PPO</th>\n",
       "      <th>ROC</th>\n",
       "    </tr>\n",
       "    <tr>\n",
       "      <th>Date</th>\n",
       "      <th></th>\n",
       "      <th></th>\n",
       "      <th></th>\n",
       "      <th></th>\n",
       "      <th></th>\n",
       "      <th></th>\n",
       "      <th></th>\n",
       "      <th></th>\n",
       "      <th></th>\n",
       "      <th></th>\n",
       "      <th></th>\n",
       "      <th></th>\n",
       "      <th></th>\n",
       "      <th></th>\n",
       "      <th></th>\n",
       "      <th></th>\n",
       "      <th></th>\n",
       "      <th></th>\n",
       "      <th></th>\n",
       "    </tr>\n",
       "  </thead>\n",
       "  <tbody>\n",
       "    <tr>\n",
       "      <th>2023-02-02</th>\n",
       "      <td>15508.830078</td>\n",
       "      <td>15602.089844</td>\n",
       "      <td>15496.519531</td>\n",
       "      <td>15595.160156</td>\n",
       "      <td>15595.160156</td>\n",
       "      <td>3248500</td>\n",
       "      <td>0</td>\n",
       "      <td>72.275262</td>\n",
       "      <td>-0.486594</td>\n",
       "      <td>14653.651177</td>\n",
       "      <td>15158.977368</td>\n",
       "      <td>15257.702235</td>\n",
       "      <td>15433.922732</td>\n",
       "      <td>15588.490344</td>\n",
       "      <td>149.011171</td>\n",
       "      <td>51.978111</td>\n",
       "      <td>105.880424</td>\n",
       "      <td>0.708702</td>\n",
       "      <td>9.049058</td>\n",
       "    </tr>\n",
       "    <tr>\n",
       "      <th>2023-02-03</th>\n",
       "      <td>15591.950195</td>\n",
       "      <td>15617.730469</td>\n",
       "      <td>15504.030273</td>\n",
       "      <td>15602.660156</td>\n",
       "      <td>15602.660156</td>\n",
       "      <td>2647300</td>\n",
       "      <td>0</td>\n",
       "      <td>72.386625</td>\n",
       "      <td>-1.118971</td>\n",
       "      <td>14673.752406</td>\n",
       "      <td>15247.713926</td>\n",
       "      <td>15357.312934</td>\n",
       "      <td>15548.193225</td>\n",
       "      <td>15667.493529</td>\n",
       "      <td>133.547974</td>\n",
       "      <td>52.240805</td>\n",
       "      <td>103.660283</td>\n",
       "      <td>0.688625</td>\n",
       "      <td>8.552781</td>\n",
       "    </tr>\n",
       "    <tr>\n",
       "      <th>2023-02-06</th>\n",
       "      <td>15514.799805</td>\n",
       "      <td>15514.799805</td>\n",
       "      <td>15392.820312</td>\n",
       "      <td>15392.820312</td>\n",
       "      <td>15392.820312</td>\n",
       "      <td>2320600</td>\n",
       "      <td>1</td>\n",
       "      <td>64.571670</td>\n",
       "      <td>-16.794229</td>\n",
       "      <td>14694.141435</td>\n",
       "      <td>15276.735203</td>\n",
       "      <td>15396.039670</td>\n",
       "      <td>15619.309118</td>\n",
       "      <td>15601.702110</td>\n",
       "      <td>99.651903</td>\n",
       "      <td>30.113980</td>\n",
       "      <td>81.685094</td>\n",
       "      <td>0.538152</td>\n",
       "      <td>4.342470</td>\n",
       "    </tr>\n",
       "    <tr>\n",
       "      <th>2023-02-07</th>\n",
       "      <td>15376.120117</td>\n",
       "      <td>15462.099609</td>\n",
       "      <td>15363.650391</td>\n",
       "      <td>15400.910156</td>\n",
       "      <td>15400.910156</td>\n",
       "      <td>2251800</td>\n",
       "      <td>0</td>\n",
       "      <td>64.729764</td>\n",
       "      <td>-19.476148</td>\n",
       "      <td>14711.001691</td>\n",
       "      <td>15301.570194</td>\n",
       "      <td>15421.691471</td>\n",
       "      <td>15646.968786</td>\n",
       "      <td>15551.473450</td>\n",
       "      <td>86.235604</td>\n",
       "      <td>30.546387</td>\n",
       "      <td>62.201387</td>\n",
       "      <td>0.405341</td>\n",
       "      <td>4.039396</td>\n",
       "    </tr>\n",
       "    <tr>\n",
       "      <th>2023-02-08</th>\n",
       "      <td>15538.709961</td>\n",
       "      <td>15631.219727</td>\n",
       "      <td>15520.049805</td>\n",
       "      <td>15618.169922</td>\n",
       "      <td>15618.169922</td>\n",
       "      <td>2514500</td>\n",
       "      <td>0</td>\n",
       "      <td>68.761373</td>\n",
       "      <td>-1.402467</td>\n",
       "      <td>14729.016816</td>\n",
       "      <td>15364.890139</td>\n",
       "      <td>15477.977886</td>\n",
       "      <td>15665.354419</td>\n",
       "      <td>15616.148463</td>\n",
       "      <td>103.254678</td>\n",
       "      <td>41.370979</td>\n",
       "      <td>58.507625</td>\n",
       "      <td>0.377303</td>\n",
       "      <td>5.875558</td>\n",
       "    </tr>\n",
       "  </tbody>\n",
       "</table>\n",
       "</div>"
      ],
      "text/plain": [
       "                    Open          High           Low         Close  \\\n",
       "Date                                                                 \n",
       "2023-02-02  15508.830078  15602.089844  15496.519531  15595.160156   \n",
       "2023-02-03  15591.950195  15617.730469  15504.030273  15602.660156   \n",
       "2023-02-06  15514.799805  15514.799805  15392.820312  15392.820312   \n",
       "2023-02-07  15376.120117  15462.099609  15363.650391  15400.910156   \n",
       "2023-02-08  15538.709961  15631.219727  15520.049805  15618.169922   \n",
       "\n",
       "               Adj Close   Volume  triple_barrier_signal        RSI  \\\n",
       "Date                                                                  \n",
       "2023-02-02  15595.160156  3248500                      0  72.275262   \n",
       "2023-02-03  15602.660156  2647300                      0  72.386625   \n",
       "2023-02-06  15392.820312  2320600                      1  64.571670   \n",
       "2023-02-07  15400.910156  2251800                      0  64.729764   \n",
       "2023-02-08  15618.169922  2514500                      0  68.761373   \n",
       "\n",
       "            Williams %R           SMA           EMA           WMA  \\\n",
       "Date                                                                \n",
       "2023-02-02    -0.486594  14653.651177  15158.977368  15257.702235   \n",
       "2023-02-03    -1.118971  14673.752406  15247.713926  15357.312934   \n",
       "2023-02-06   -16.794229  14694.141435  15276.735203  15396.039670   \n",
       "2023-02-07   -19.476148  14711.001691  15301.570194  15421.691471   \n",
       "2023-02-08    -1.402467  14729.016816  15364.890139  15477.977886   \n",
       "\n",
       "                     HMA          TEMA         CCI        CMO        MACD  \\\n",
       "Date                                                                        \n",
       "2023-02-02  15433.922732  15588.490344  149.011171  51.978111  105.880424   \n",
       "2023-02-03  15548.193225  15667.493529  133.547974  52.240805  103.660283   \n",
       "2023-02-06  15619.309118  15601.702110   99.651903  30.113980   81.685094   \n",
       "2023-02-07  15646.968786  15551.473450   86.235604  30.546387   62.201387   \n",
       "2023-02-08  15665.354419  15616.148463  103.254678  41.370979   58.507625   \n",
       "\n",
       "                 PPO       ROC  \n",
       "Date                            \n",
       "2023-02-02  0.708702  9.049058  \n",
       "2023-02-03  0.688625  8.552781  \n",
       "2023-02-06  0.538152  4.342470  \n",
       "2023-02-07  0.405341  4.039396  \n",
       "2023-02-08  0.377303  5.875558  "
      ]
     },
     "execution_count": 60,
     "metadata": {},
     "output_type": "execute_result"
    },
    {
     "data": {
      "image/png": "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\n",
      "text/plain": [
       "<Figure size 432x288 with 1 Axes>"
      ]
     },
     "metadata": {
      "needs_background": "light"
     },
     "output_type": "display_data"
    }
   ],
   "source": [
    "df['ROC'] = TA.ROC(ohlcv)\n",
    "print(df['ROC'].describe())\n",
    "sns.distplot(df['ROC'].dropna())\n",
    "df.tail()"
   ]
  },
  {
   "cell_type": "markdown",
   "metadata": {
    "id": "b9LTKsyvmuSd"
   },
   "source": [
    "# CMFI"
   ]
  },
  {
   "cell_type": "code",
   "execution_count": 61,
   "metadata": {
    "colab": {
     "base_uri": "https://localhost:8080/",
     "height": 870
    },
    "id": "somnlSTOmvjJ",
    "outputId": "7daebd37-da99-4f56-bd63-5f56d6560ec3"
   },
   "outputs": [
    {
     "name": "stdout",
     "output_type": "stream",
     "text": [
      "count    1.188000e+03\n",
      "mean     1.756496e+09\n",
      "std      6.752813e+09\n",
      "min     -1.036932e+10\n",
      "25%     -2.472443e+09\n",
      "50%     -6.986650e+08\n",
      "75%      7.095911e+09\n",
      "max      2.268522e+10\n",
      "Name: CFI, dtype: float64\n"
     ]
    },
    {
     "name": "stderr",
     "output_type": "stream",
     "text": [
      "C:\\Users\\ricky\\AppData\\Local\\Temp/ipykernel_10260/3380674280.py:1: SettingWithCopyWarning: \n",
      "A value is trying to be set on a copy of a slice from a DataFrame.\n",
      "Try using .loc[row_indexer,col_indexer] = value instead\n",
      "\n",
      "See the caveats in the documentation: https://pandas.pydata.org/pandas-docs/stable/user_guide/indexing.html#returning-a-view-versus-a-copy\n",
      "  df['CFI'] = TA.CFI(ohlcv)\n",
      "C:\\Users\\ricky\\anaconda3\\lib\\site-packages\\seaborn\\distributions.py:2619: FutureWarning: `distplot` is a deprecated function and will be removed in a future version. Please adapt your code to use either `displot` (a figure-level function with similar flexibility) or `histplot` (an axes-level function for histograms).\n",
      "  warnings.warn(msg, FutureWarning)\n"
     ]
    },
    {
     "data": {
      "text/html": [
       "<div>\n",
       "<style scoped>\n",
       "    .dataframe tbody tr th:only-of-type {\n",
       "        vertical-align: middle;\n",
       "    }\n",
       "\n",
       "    .dataframe tbody tr th {\n",
       "        vertical-align: top;\n",
       "    }\n",
       "\n",
       "    .dataframe thead th {\n",
       "        text-align: right;\n",
       "    }\n",
       "</style>\n",
       "<table border=\"1\" class=\"dataframe\">\n",
       "  <thead>\n",
       "    <tr style=\"text-align: right;\">\n",
       "      <th></th>\n",
       "      <th>Open</th>\n",
       "      <th>High</th>\n",
       "      <th>Low</th>\n",
       "      <th>Close</th>\n",
       "      <th>Adj Close</th>\n",
       "      <th>Volume</th>\n",
       "      <th>triple_barrier_signal</th>\n",
       "      <th>RSI</th>\n",
       "      <th>Williams %R</th>\n",
       "      <th>SMA</th>\n",
       "      <th>EMA</th>\n",
       "      <th>WMA</th>\n",
       "      <th>HMA</th>\n",
       "      <th>TEMA</th>\n",
       "      <th>CCI</th>\n",
       "      <th>CMO</th>\n",
       "      <th>MACD</th>\n",
       "      <th>PPO</th>\n",
       "      <th>ROC</th>\n",
       "      <th>CFI</th>\n",
       "    </tr>\n",
       "    <tr>\n",
       "      <th>Date</th>\n",
       "      <th></th>\n",
       "      <th></th>\n",
       "      <th></th>\n",
       "      <th></th>\n",
       "      <th></th>\n",
       "      <th></th>\n",
       "      <th></th>\n",
       "      <th></th>\n",
       "      <th></th>\n",
       "      <th></th>\n",
       "      <th></th>\n",
       "      <th></th>\n",
       "      <th></th>\n",
       "      <th></th>\n",
       "      <th></th>\n",
       "      <th></th>\n",
       "      <th></th>\n",
       "      <th></th>\n",
       "      <th></th>\n",
       "      <th></th>\n",
       "    </tr>\n",
       "  </thead>\n",
       "  <tbody>\n",
       "    <tr>\n",
       "      <th>2023-02-02</th>\n",
       "      <td>15508.830078</td>\n",
       "      <td>15602.089844</td>\n",
       "      <td>15496.519531</td>\n",
       "      <td>15595.160156</td>\n",
       "      <td>15595.160156</td>\n",
       "      <td>3248500</td>\n",
       "      <td>0</td>\n",
       "      <td>72.275262</td>\n",
       "      <td>-0.486594</td>\n",
       "      <td>14653.651177</td>\n",
       "      <td>15158.977368</td>\n",
       "      <td>15257.702235</td>\n",
       "      <td>15433.922732</td>\n",
       "      <td>15588.490344</td>\n",
       "      <td>149.011171</td>\n",
       "      <td>51.978111</td>\n",
       "      <td>105.880424</td>\n",
       "      <td>0.708702</td>\n",
       "      <td>9.049058</td>\n",
       "      <td>-1.172762e+09</td>\n",
       "    </tr>\n",
       "    <tr>\n",
       "      <th>2023-02-03</th>\n",
       "      <td>15591.950195</td>\n",
       "      <td>15617.730469</td>\n",
       "      <td>15504.030273</td>\n",
       "      <td>15602.660156</td>\n",
       "      <td>15602.660156</td>\n",
       "      <td>2647300</td>\n",
       "      <td>0</td>\n",
       "      <td>72.386625</td>\n",
       "      <td>-1.118971</td>\n",
       "      <td>14673.752406</td>\n",
       "      <td>15247.713926</td>\n",
       "      <td>15357.312934</td>\n",
       "      <td>15548.193225</td>\n",
       "      <td>15667.493529</td>\n",
       "      <td>133.547974</td>\n",
       "      <td>52.240805</td>\n",
       "      <td>103.660283</td>\n",
       "      <td>0.688625</td>\n",
       "      <td>8.552781</td>\n",
       "      <td>-8.976374e+08</td>\n",
       "    </tr>\n",
       "    <tr>\n",
       "      <th>2023-02-06</th>\n",
       "      <td>15514.799805</td>\n",
       "      <td>15514.799805</td>\n",
       "      <td>15392.820312</td>\n",
       "      <td>15392.820312</td>\n",
       "      <td>15392.820312</td>\n",
       "      <td>2320600</td>\n",
       "      <td>1</td>\n",
       "      <td>64.571670</td>\n",
       "      <td>-16.794229</td>\n",
       "      <td>14694.141435</td>\n",
       "      <td>15276.735203</td>\n",
       "      <td>15396.039670</td>\n",
       "      <td>15619.309118</td>\n",
       "      <td>15601.702110</td>\n",
       "      <td>99.651903</td>\n",
       "      <td>30.113980</td>\n",
       "      <td>81.685094</td>\n",
       "      <td>0.538152</td>\n",
       "      <td>4.342470</td>\n",
       "      <td>-7.610725e+08</td>\n",
       "    </tr>\n",
       "    <tr>\n",
       "      <th>2023-02-07</th>\n",
       "      <td>15376.120117</td>\n",
       "      <td>15462.099609</td>\n",
       "      <td>15363.650391</td>\n",
       "      <td>15400.910156</td>\n",
       "      <td>15400.910156</td>\n",
       "      <td>2251800</td>\n",
       "      <td>0</td>\n",
       "      <td>64.729764</td>\n",
       "      <td>-19.476148</td>\n",
       "      <td>14711.001691</td>\n",
       "      <td>15301.570194</td>\n",
       "      <td>15421.691471</td>\n",
       "      <td>15646.968786</td>\n",
       "      <td>15551.473450</td>\n",
       "      <td>86.235604</td>\n",
       "      <td>30.546387</td>\n",
       "      <td>62.201387</td>\n",
       "      <td>0.405341</td>\n",
       "      <td>4.039396</td>\n",
       "      <td>-6.460254e+08</td>\n",
       "    </tr>\n",
       "    <tr>\n",
       "      <th>2023-02-08</th>\n",
       "      <td>15538.709961</td>\n",
       "      <td>15631.219727</td>\n",
       "      <td>15520.049805</td>\n",
       "      <td>15618.169922</td>\n",
       "      <td>15618.169922</td>\n",
       "      <td>2514500</td>\n",
       "      <td>0</td>\n",
       "      <td>68.761373</td>\n",
       "      <td>-1.402467</td>\n",
       "      <td>14729.016816</td>\n",
       "      <td>15364.890139</td>\n",
       "      <td>15477.977886</td>\n",
       "      <td>15665.354419</td>\n",
       "      <td>15616.148463</td>\n",
       "      <td>103.254678</td>\n",
       "      <td>41.370979</td>\n",
       "      <td>58.507625</td>\n",
       "      <td>0.377303</td>\n",
       "      <td>5.875558</td>\n",
       "      <td>-4.525687e+08</td>\n",
       "    </tr>\n",
       "  </tbody>\n",
       "</table>\n",
       "</div>"
      ],
      "text/plain": [
       "                    Open          High           Low         Close  \\\n",
       "Date                                                                 \n",
       "2023-02-02  15508.830078  15602.089844  15496.519531  15595.160156   \n",
       "2023-02-03  15591.950195  15617.730469  15504.030273  15602.660156   \n",
       "2023-02-06  15514.799805  15514.799805  15392.820312  15392.820312   \n",
       "2023-02-07  15376.120117  15462.099609  15363.650391  15400.910156   \n",
       "2023-02-08  15538.709961  15631.219727  15520.049805  15618.169922   \n",
       "\n",
       "               Adj Close   Volume  triple_barrier_signal        RSI  \\\n",
       "Date                                                                  \n",
       "2023-02-02  15595.160156  3248500                      0  72.275262   \n",
       "2023-02-03  15602.660156  2647300                      0  72.386625   \n",
       "2023-02-06  15392.820312  2320600                      1  64.571670   \n",
       "2023-02-07  15400.910156  2251800                      0  64.729764   \n",
       "2023-02-08  15618.169922  2514500                      0  68.761373   \n",
       "\n",
       "            Williams %R           SMA           EMA           WMA  \\\n",
       "Date                                                                \n",
       "2023-02-02    -0.486594  14653.651177  15158.977368  15257.702235   \n",
       "2023-02-03    -1.118971  14673.752406  15247.713926  15357.312934   \n",
       "2023-02-06   -16.794229  14694.141435  15276.735203  15396.039670   \n",
       "2023-02-07   -19.476148  14711.001691  15301.570194  15421.691471   \n",
       "2023-02-08    -1.402467  14729.016816  15364.890139  15477.977886   \n",
       "\n",
       "                     HMA          TEMA         CCI        CMO        MACD  \\\n",
       "Date                                                                        \n",
       "2023-02-02  15433.922732  15588.490344  149.011171  51.978111  105.880424   \n",
       "2023-02-03  15548.193225  15667.493529  133.547974  52.240805  103.660283   \n",
       "2023-02-06  15619.309118  15601.702110   99.651903  30.113980   81.685094   \n",
       "2023-02-07  15646.968786  15551.473450   86.235604  30.546387   62.201387   \n",
       "2023-02-08  15665.354419  15616.148463  103.254678  41.370979   58.507625   \n",
       "\n",
       "                 PPO       ROC           CFI  \n",
       "Date                                          \n",
       "2023-02-02  0.708702  9.049058 -1.172762e+09  \n",
       "2023-02-03  0.688625  8.552781 -8.976374e+08  \n",
       "2023-02-06  0.538152  4.342470 -7.610725e+08  \n",
       "2023-02-07  0.405341  4.039396 -6.460254e+08  \n",
       "2023-02-08  0.377303  5.875558 -4.525687e+08  "
      ]
     },
     "execution_count": 61,
     "metadata": {},
     "output_type": "execute_result"
    },
    {
     "data": {
      "image/png": "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\n",
      "text/plain": [
       "<Figure size 432x288 with 1 Axes>"
      ]
     },
     "metadata": {
      "needs_background": "light"
     },
     "output_type": "display_data"
    }
   ],
   "source": [
    "df['CFI'] = TA.CFI(ohlcv)\n",
    "print(df['CFI'].describe())\n",
    "sns.distplot(df['CFI'].dropna())\n",
    "df.tail()"
   ]
  },
  {
   "cell_type": "markdown",
   "metadata": {
    "id": "8WydSl0doUYk"
   },
   "source": [
    "# DMI"
   ]
  },
  {
   "cell_type": "code",
   "execution_count": 62,
   "metadata": {
    "colab": {
     "base_uri": "https://localhost:8080/",
     "height": 888
    },
    "id": "xRTnC6DboU05",
    "outputId": "44b95a05-2030-40a9-92fc-0f3ed1a13062"
   },
   "outputs": [
    {
     "name": "stdout",
     "output_type": "stream",
     "text": [
      "count    1184.000000\n",
      "mean       -0.293884\n",
      "std        19.369601\n",
      "min       -73.465234\n",
      "25%       -13.527051\n",
      "50%         0.242137\n",
      "75%        13.417747\n",
      "max        46.931640\n",
      "Name: DMI, dtype: float64\n"
     ]
    },
    {
     "name": "stderr",
     "output_type": "stream",
     "text": [
      "C:\\Users\\ricky\\AppData\\Local\\Temp/ipykernel_10260/3167327712.py:1: SettingWithCopyWarning: \n",
      "A value is trying to be set on a copy of a slice from a DataFrame.\n",
      "Try using .loc[row_indexer,col_indexer] = value instead\n",
      "\n",
      "See the caveats in the documentation: https://pandas.pydata.org/pandas-docs/stable/user_guide/indexing.html#returning-a-view-versus-a-copy\n",
      "  df['DMI'] = TA.DMI(ohlcv)['DI+'] - TA.DMI(ohlcv)['DI-']\n",
      "C:\\Users\\ricky\\anaconda3\\lib\\site-packages\\seaborn\\distributions.py:2619: FutureWarning: `distplot` is a deprecated function and will be removed in a future version. Please adapt your code to use either `displot` (a figure-level function with similar flexibility) or `histplot` (an axes-level function for histograms).\n",
      "  warnings.warn(msg, FutureWarning)\n"
     ]
    },
    {
     "data": {
      "text/html": [
       "<div>\n",
       "<style scoped>\n",
       "    .dataframe tbody tr th:only-of-type {\n",
       "        vertical-align: middle;\n",
       "    }\n",
       "\n",
       "    .dataframe tbody tr th {\n",
       "        vertical-align: top;\n",
       "    }\n",
       "\n",
       "    .dataframe thead th {\n",
       "        text-align: right;\n",
       "    }\n",
       "</style>\n",
       "<table border=\"1\" class=\"dataframe\">\n",
       "  <thead>\n",
       "    <tr style=\"text-align: right;\">\n",
       "      <th></th>\n",
       "      <th>Open</th>\n",
       "      <th>High</th>\n",
       "      <th>Low</th>\n",
       "      <th>Close</th>\n",
       "      <th>Adj Close</th>\n",
       "      <th>Volume</th>\n",
       "      <th>triple_barrier_signal</th>\n",
       "      <th>RSI</th>\n",
       "      <th>Williams %R</th>\n",
       "      <th>SMA</th>\n",
       "      <th>...</th>\n",
       "      <th>WMA</th>\n",
       "      <th>HMA</th>\n",
       "      <th>TEMA</th>\n",
       "      <th>CCI</th>\n",
       "      <th>CMO</th>\n",
       "      <th>MACD</th>\n",
       "      <th>PPO</th>\n",
       "      <th>ROC</th>\n",
       "      <th>CFI</th>\n",
       "      <th>DMI</th>\n",
       "    </tr>\n",
       "    <tr>\n",
       "      <th>Date</th>\n",
       "      <th></th>\n",
       "      <th></th>\n",
       "      <th></th>\n",
       "      <th></th>\n",
       "      <th></th>\n",
       "      <th></th>\n",
       "      <th></th>\n",
       "      <th></th>\n",
       "      <th></th>\n",
       "      <th></th>\n",
       "      <th></th>\n",
       "      <th></th>\n",
       "      <th></th>\n",
       "      <th></th>\n",
       "      <th></th>\n",
       "      <th></th>\n",
       "      <th></th>\n",
       "      <th></th>\n",
       "      <th></th>\n",
       "      <th></th>\n",
       "      <th></th>\n",
       "    </tr>\n",
       "  </thead>\n",
       "  <tbody>\n",
       "    <tr>\n",
       "      <th>2023-02-02</th>\n",
       "      <td>15508.830078</td>\n",
       "      <td>15602.089844</td>\n",
       "      <td>15496.519531</td>\n",
       "      <td>15595.160156</td>\n",
       "      <td>15595.160156</td>\n",
       "      <td>3248500</td>\n",
       "      <td>0</td>\n",
       "      <td>72.275262</td>\n",
       "      <td>-0.486594</td>\n",
       "      <td>14653.651177</td>\n",
       "      <td>...</td>\n",
       "      <td>15257.702235</td>\n",
       "      <td>15433.922732</td>\n",
       "      <td>15588.490344</td>\n",
       "      <td>149.011171</td>\n",
       "      <td>51.978111</td>\n",
       "      <td>105.880424</td>\n",
       "      <td>0.708702</td>\n",
       "      <td>9.049058</td>\n",
       "      <td>-1.172762e+09</td>\n",
       "      <td>32.343476</td>\n",
       "    </tr>\n",
       "    <tr>\n",
       "      <th>2023-02-03</th>\n",
       "      <td>15591.950195</td>\n",
       "      <td>15617.730469</td>\n",
       "      <td>15504.030273</td>\n",
       "      <td>15602.660156</td>\n",
       "      <td>15602.660156</td>\n",
       "      <td>2647300</td>\n",
       "      <td>0</td>\n",
       "      <td>72.386625</td>\n",
       "      <td>-1.118971</td>\n",
       "      <td>14673.752406</td>\n",
       "      <td>...</td>\n",
       "      <td>15357.312934</td>\n",
       "      <td>15548.193225</td>\n",
       "      <td>15667.493529</td>\n",
       "      <td>133.547974</td>\n",
       "      <td>52.240805</td>\n",
       "      <td>103.660283</td>\n",
       "      <td>0.688625</td>\n",
       "      <td>8.552781</td>\n",
       "      <td>-8.976374e+08</td>\n",
       "      <td>30.630152</td>\n",
       "    </tr>\n",
       "    <tr>\n",
       "      <th>2023-02-06</th>\n",
       "      <td>15514.799805</td>\n",
       "      <td>15514.799805</td>\n",
       "      <td>15392.820312</td>\n",
       "      <td>15392.820312</td>\n",
       "      <td>15392.820312</td>\n",
       "      <td>2320600</td>\n",
       "      <td>1</td>\n",
       "      <td>64.571670</td>\n",
       "      <td>-16.794229</td>\n",
       "      <td>14694.141435</td>\n",
       "      <td>...</td>\n",
       "      <td>15396.039670</td>\n",
       "      <td>15619.309118</td>\n",
       "      <td>15601.702110</td>\n",
       "      <td>99.651903</td>\n",
       "      <td>30.113980</td>\n",
       "      <td>81.685094</td>\n",
       "      <td>0.538152</td>\n",
       "      <td>4.342470</td>\n",
       "      <td>-7.610725e+08</td>\n",
       "      <td>24.279565</td>\n",
       "    </tr>\n",
       "    <tr>\n",
       "      <th>2023-02-07</th>\n",
       "      <td>15376.120117</td>\n",
       "      <td>15462.099609</td>\n",
       "      <td>15363.650391</td>\n",
       "      <td>15400.910156</td>\n",
       "      <td>15400.910156</td>\n",
       "      <td>2251800</td>\n",
       "      <td>0</td>\n",
       "      <td>64.729764</td>\n",
       "      <td>-19.476148</td>\n",
       "      <td>14711.001691</td>\n",
       "      <td>...</td>\n",
       "      <td>15421.691471</td>\n",
       "      <td>15646.968786</td>\n",
       "      <td>15551.473450</td>\n",
       "      <td>86.235604</td>\n",
       "      <td>30.546387</td>\n",
       "      <td>62.201387</td>\n",
       "      <td>0.405341</td>\n",
       "      <td>4.039396</td>\n",
       "      <td>-6.460254e+08</td>\n",
       "      <td>21.450187</td>\n",
       "    </tr>\n",
       "    <tr>\n",
       "      <th>2023-02-08</th>\n",
       "      <td>15538.709961</td>\n",
       "      <td>15631.219727</td>\n",
       "      <td>15520.049805</td>\n",
       "      <td>15618.169922</td>\n",
       "      <td>15618.169922</td>\n",
       "      <td>2514500</td>\n",
       "      <td>0</td>\n",
       "      <td>68.761373</td>\n",
       "      <td>-1.402467</td>\n",
       "      <td>14729.016816</td>\n",
       "      <td>...</td>\n",
       "      <td>15477.977886</td>\n",
       "      <td>15665.354419</td>\n",
       "      <td>15616.148463</td>\n",
       "      <td>103.254678</td>\n",
       "      <td>41.370979</td>\n",
       "      <td>58.507625</td>\n",
       "      <td>0.377303</td>\n",
       "      <td>5.875558</td>\n",
       "      <td>-4.525687e+08</td>\n",
       "      <td>26.642332</td>\n",
       "    </tr>\n",
       "  </tbody>\n",
       "</table>\n",
       "<p>5 rows × 21 columns</p>\n",
       "</div>"
      ],
      "text/plain": [
       "                    Open          High           Low         Close  \\\n",
       "Date                                                                 \n",
       "2023-02-02  15508.830078  15602.089844  15496.519531  15595.160156   \n",
       "2023-02-03  15591.950195  15617.730469  15504.030273  15602.660156   \n",
       "2023-02-06  15514.799805  15514.799805  15392.820312  15392.820312   \n",
       "2023-02-07  15376.120117  15462.099609  15363.650391  15400.910156   \n",
       "2023-02-08  15538.709961  15631.219727  15520.049805  15618.169922   \n",
       "\n",
       "               Adj Close   Volume  triple_barrier_signal        RSI  \\\n",
       "Date                                                                  \n",
       "2023-02-02  15595.160156  3248500                      0  72.275262   \n",
       "2023-02-03  15602.660156  2647300                      0  72.386625   \n",
       "2023-02-06  15392.820312  2320600                      1  64.571670   \n",
       "2023-02-07  15400.910156  2251800                      0  64.729764   \n",
       "2023-02-08  15618.169922  2514500                      0  68.761373   \n",
       "\n",
       "            Williams %R           SMA  ...           WMA           HMA  \\\n",
       "Date                                   ...                               \n",
       "2023-02-02    -0.486594  14653.651177  ...  15257.702235  15433.922732   \n",
       "2023-02-03    -1.118971  14673.752406  ...  15357.312934  15548.193225   \n",
       "2023-02-06   -16.794229  14694.141435  ...  15396.039670  15619.309118   \n",
       "2023-02-07   -19.476148  14711.001691  ...  15421.691471  15646.968786   \n",
       "2023-02-08    -1.402467  14729.016816  ...  15477.977886  15665.354419   \n",
       "\n",
       "                    TEMA         CCI        CMO        MACD       PPO  \\\n",
       "Date                                                                    \n",
       "2023-02-02  15588.490344  149.011171  51.978111  105.880424  0.708702   \n",
       "2023-02-03  15667.493529  133.547974  52.240805  103.660283  0.688625   \n",
       "2023-02-06  15601.702110   99.651903  30.113980   81.685094  0.538152   \n",
       "2023-02-07  15551.473450   86.235604  30.546387   62.201387  0.405341   \n",
       "2023-02-08  15616.148463  103.254678  41.370979   58.507625  0.377303   \n",
       "\n",
       "                 ROC           CFI        DMI  \n",
       "Date                                           \n",
       "2023-02-02  9.049058 -1.172762e+09  32.343476  \n",
       "2023-02-03  8.552781 -8.976374e+08  30.630152  \n",
       "2023-02-06  4.342470 -7.610725e+08  24.279565  \n",
       "2023-02-07  4.039396 -6.460254e+08  21.450187  \n",
       "2023-02-08  5.875558 -4.525687e+08  26.642332  \n",
       "\n",
       "[5 rows x 21 columns]"
      ]
     },
     "execution_count": 62,
     "metadata": {},
     "output_type": "execute_result"
    },
    {
     "data": {
      "image/png": "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\n",
      "text/plain": [
       "<Figure size 432x288 with 1 Axes>"
      ]
     },
     "metadata": {
      "needs_background": "light"
     },
     "output_type": "display_data"
    }
   ],
   "source": [
    "df['DMI'] = TA.DMI(ohlcv)['DI+'] - TA.DMI(ohlcv)['DI-']\n",
    "print(df['DMI'].describe())\n",
    "sns.distplot(df['DMI'].dropna())\n",
    "df.tail()"
   ]
  },
  {
   "cell_type": "markdown",
   "metadata": {
    "id": "96c_FgXOo98u"
   },
   "source": [
    "# SAR"
   ]
  },
  {
   "cell_type": "code",
   "execution_count": 63,
   "metadata": {
    "colab": {
     "base_uri": "https://localhost:8080/",
     "height": 888
    },
    "id": "eRPVEtrmo-bi",
    "outputId": "d52d7cff-0942-430d-bdf0-60441dcc90a0"
   },
   "outputs": [
    {
     "name": "stdout",
     "output_type": "stream",
     "text": [
      "count     1197.000000\n",
      "mean     13265.392813\n",
      "std       2787.906462\n",
      "min       8523.629883\n",
      "25%      10832.493242\n",
      "50%      12372.083559\n",
      "75%      16033.378843\n",
      "max      18619.609375\n",
      "Name: SAR, dtype: float64\n"
     ]
    },
    {
     "name": "stderr",
     "output_type": "stream",
     "text": [
      "C:\\Users\\ricky\\AppData\\Local\\Temp/ipykernel_10260/1481618610.py:1: SettingWithCopyWarning: \n",
      "A value is trying to be set on a copy of a slice from a DataFrame.\n",
      "Try using .loc[row_indexer,col_indexer] = value instead\n",
      "\n",
      "See the caveats in the documentation: https://pandas.pydata.org/pandas-docs/stable/user_guide/indexing.html#returning-a-view-versus-a-copy\n",
      "  df['SAR'] = TA.SAR(ohlcv)\n",
      "C:\\Users\\ricky\\anaconda3\\lib\\site-packages\\seaborn\\distributions.py:2619: FutureWarning: `distplot` is a deprecated function and will be removed in a future version. Please adapt your code to use either `displot` (a figure-level function with similar flexibility) or `histplot` (an axes-level function for histograms).\n",
      "  warnings.warn(msg, FutureWarning)\n"
     ]
    },
    {
     "data": {
      "text/html": [
       "<div>\n",
       "<style scoped>\n",
       "    .dataframe tbody tr th:only-of-type {\n",
       "        vertical-align: middle;\n",
       "    }\n",
       "\n",
       "    .dataframe tbody tr th {\n",
       "        vertical-align: top;\n",
       "    }\n",
       "\n",
       "    .dataframe thead th {\n",
       "        text-align: right;\n",
       "    }\n",
       "</style>\n",
       "<table border=\"1\" class=\"dataframe\">\n",
       "  <thead>\n",
       "    <tr style=\"text-align: right;\">\n",
       "      <th></th>\n",
       "      <th>Open</th>\n",
       "      <th>High</th>\n",
       "      <th>Low</th>\n",
       "      <th>Close</th>\n",
       "      <th>Adj Close</th>\n",
       "      <th>Volume</th>\n",
       "      <th>triple_barrier_signal</th>\n",
       "      <th>RSI</th>\n",
       "      <th>Williams %R</th>\n",
       "      <th>SMA</th>\n",
       "      <th>...</th>\n",
       "      <th>HMA</th>\n",
       "      <th>TEMA</th>\n",
       "      <th>CCI</th>\n",
       "      <th>CMO</th>\n",
       "      <th>MACD</th>\n",
       "      <th>PPO</th>\n",
       "      <th>ROC</th>\n",
       "      <th>CFI</th>\n",
       "      <th>DMI</th>\n",
       "      <th>SAR</th>\n",
       "    </tr>\n",
       "    <tr>\n",
       "      <th>Date</th>\n",
       "      <th></th>\n",
       "      <th></th>\n",
       "      <th></th>\n",
       "      <th></th>\n",
       "      <th></th>\n",
       "      <th></th>\n",
       "      <th></th>\n",
       "      <th></th>\n",
       "      <th></th>\n",
       "      <th></th>\n",
       "      <th></th>\n",
       "      <th></th>\n",
       "      <th></th>\n",
       "      <th></th>\n",
       "      <th></th>\n",
       "      <th></th>\n",
       "      <th></th>\n",
       "      <th></th>\n",
       "      <th></th>\n",
       "      <th></th>\n",
       "      <th></th>\n",
       "    </tr>\n",
       "  </thead>\n",
       "  <tbody>\n",
       "    <tr>\n",
       "      <th>2023-02-02</th>\n",
       "      <td>15508.830078</td>\n",
       "      <td>15602.089844</td>\n",
       "      <td>15496.519531</td>\n",
       "      <td>15595.160156</td>\n",
       "      <td>15595.160156</td>\n",
       "      <td>3248500</td>\n",
       "      <td>0</td>\n",
       "      <td>72.275262</td>\n",
       "      <td>-0.486594</td>\n",
       "      <td>14653.651177</td>\n",
       "      <td>...</td>\n",
       "      <td>15433.922732</td>\n",
       "      <td>15588.490344</td>\n",
       "      <td>149.011171</td>\n",
       "      <td>51.978111</td>\n",
       "      <td>105.880424</td>\n",
       "      <td>0.708702</td>\n",
       "      <td>9.049058</td>\n",
       "      <td>-1.172762e+09</td>\n",
       "      <td>32.343476</td>\n",
       "      <td>14844.859369</td>\n",
       "    </tr>\n",
       "    <tr>\n",
       "      <th>2023-02-03</th>\n",
       "      <td>15591.950195</td>\n",
       "      <td>15617.730469</td>\n",
       "      <td>15504.030273</td>\n",
       "      <td>15602.660156</td>\n",
       "      <td>15602.660156</td>\n",
       "      <td>2647300</td>\n",
       "      <td>0</td>\n",
       "      <td>72.386625</td>\n",
       "      <td>-1.118971</td>\n",
       "      <td>14673.752406</td>\n",
       "      <td>...</td>\n",
       "      <td>15548.193225</td>\n",
       "      <td>15667.493529</td>\n",
       "      <td>133.547974</td>\n",
       "      <td>52.240805</td>\n",
       "      <td>103.660283</td>\n",
       "      <td>0.688625</td>\n",
       "      <td>8.552781</td>\n",
       "      <td>-8.976374e+08</td>\n",
       "      <td>30.630152</td>\n",
       "      <td>14966.016245</td>\n",
       "    </tr>\n",
       "    <tr>\n",
       "      <th>2023-02-06</th>\n",
       "      <td>15514.799805</td>\n",
       "      <td>15514.799805</td>\n",
       "      <td>15392.820312</td>\n",
       "      <td>15392.820312</td>\n",
       "      <td>15392.820312</td>\n",
       "      <td>2320600</td>\n",
       "      <td>1</td>\n",
       "      <td>64.571670</td>\n",
       "      <td>-16.794229</td>\n",
       "      <td>14694.141435</td>\n",
       "      <td>...</td>\n",
       "      <td>15619.309118</td>\n",
       "      <td>15601.702110</td>\n",
       "      <td>99.651903</td>\n",
       "      <td>30.113980</td>\n",
       "      <td>81.685094</td>\n",
       "      <td>0.538152</td>\n",
       "      <td>4.342470</td>\n",
       "      <td>-7.610725e+08</td>\n",
       "      <td>24.279565</td>\n",
       "      <td>15083.324806</td>\n",
       "    </tr>\n",
       "    <tr>\n",
       "      <th>2023-02-07</th>\n",
       "      <td>15376.120117</td>\n",
       "      <td>15462.099609</td>\n",
       "      <td>15363.650391</td>\n",
       "      <td>15400.910156</td>\n",
       "      <td>15400.910156</td>\n",
       "      <td>2251800</td>\n",
       "      <td>0</td>\n",
       "      <td>64.729764</td>\n",
       "      <td>-19.476148</td>\n",
       "      <td>14711.001691</td>\n",
       "      <td>...</td>\n",
       "      <td>15646.968786</td>\n",
       "      <td>15551.473450</td>\n",
       "      <td>86.235604</td>\n",
       "      <td>30.546387</td>\n",
       "      <td>62.201387</td>\n",
       "      <td>0.405341</td>\n",
       "      <td>4.039396</td>\n",
       "      <td>-6.460254e+08</td>\n",
       "      <td>21.450187</td>\n",
       "      <td>15179.517825</td>\n",
       "    </tr>\n",
       "    <tr>\n",
       "      <th>2023-02-08</th>\n",
       "      <td>15538.709961</td>\n",
       "      <td>15631.219727</td>\n",
       "      <td>15520.049805</td>\n",
       "      <td>15618.169922</td>\n",
       "      <td>15618.169922</td>\n",
       "      <td>2514500</td>\n",
       "      <td>0</td>\n",
       "      <td>68.761373</td>\n",
       "      <td>-1.402467</td>\n",
       "      <td>14729.016816</td>\n",
       "      <td>...</td>\n",
       "      <td>15665.354419</td>\n",
       "      <td>15616.148463</td>\n",
       "      <td>103.254678</td>\n",
       "      <td>41.370979</td>\n",
       "      <td>58.507625</td>\n",
       "      <td>0.377303</td>\n",
       "      <td>5.875558</td>\n",
       "      <td>-4.525687e+08</td>\n",
       "      <td>26.642332</td>\n",
       "      <td>15258.396101</td>\n",
       "    </tr>\n",
       "  </tbody>\n",
       "</table>\n",
       "<p>5 rows × 22 columns</p>\n",
       "</div>"
      ],
      "text/plain": [
       "                    Open          High           Low         Close  \\\n",
       "Date                                                                 \n",
       "2023-02-02  15508.830078  15602.089844  15496.519531  15595.160156   \n",
       "2023-02-03  15591.950195  15617.730469  15504.030273  15602.660156   \n",
       "2023-02-06  15514.799805  15514.799805  15392.820312  15392.820312   \n",
       "2023-02-07  15376.120117  15462.099609  15363.650391  15400.910156   \n",
       "2023-02-08  15538.709961  15631.219727  15520.049805  15618.169922   \n",
       "\n",
       "               Adj Close   Volume  triple_barrier_signal        RSI  \\\n",
       "Date                                                                  \n",
       "2023-02-02  15595.160156  3248500                      0  72.275262   \n",
       "2023-02-03  15602.660156  2647300                      0  72.386625   \n",
       "2023-02-06  15392.820312  2320600                      1  64.571670   \n",
       "2023-02-07  15400.910156  2251800                      0  64.729764   \n",
       "2023-02-08  15618.169922  2514500                      0  68.761373   \n",
       "\n",
       "            Williams %R           SMA  ...           HMA          TEMA  \\\n",
       "Date                                   ...                               \n",
       "2023-02-02    -0.486594  14653.651177  ...  15433.922732  15588.490344   \n",
       "2023-02-03    -1.118971  14673.752406  ...  15548.193225  15667.493529   \n",
       "2023-02-06   -16.794229  14694.141435  ...  15619.309118  15601.702110   \n",
       "2023-02-07   -19.476148  14711.001691  ...  15646.968786  15551.473450   \n",
       "2023-02-08    -1.402467  14729.016816  ...  15665.354419  15616.148463   \n",
       "\n",
       "                   CCI        CMO        MACD       PPO       ROC  \\\n",
       "Date                                                                \n",
       "2023-02-02  149.011171  51.978111  105.880424  0.708702  9.049058   \n",
       "2023-02-03  133.547974  52.240805  103.660283  0.688625  8.552781   \n",
       "2023-02-06   99.651903  30.113980   81.685094  0.538152  4.342470   \n",
       "2023-02-07   86.235604  30.546387   62.201387  0.405341  4.039396   \n",
       "2023-02-08  103.254678  41.370979   58.507625  0.377303  5.875558   \n",
       "\n",
       "                     CFI        DMI           SAR  \n",
       "Date                                               \n",
       "2023-02-02 -1.172762e+09  32.343476  14844.859369  \n",
       "2023-02-03 -8.976374e+08  30.630152  14966.016245  \n",
       "2023-02-06 -7.610725e+08  24.279565  15083.324806  \n",
       "2023-02-07 -6.460254e+08  21.450187  15179.517825  \n",
       "2023-02-08 -4.525687e+08  26.642332  15258.396101  \n",
       "\n",
       "[5 rows x 22 columns]"
      ]
     },
     "execution_count": 63,
     "metadata": {},
     "output_type": "execute_result"
    },
    {
     "data": {
      "image/png": "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\n",
      "text/plain": [
       "<Figure size 432x288 with 1 Axes>"
      ]
     },
     "metadata": {
      "needs_background": "light"
     },
     "output_type": "display_data"
    }
   ],
   "source": [
    "df['SAR'] = TA.SAR(ohlcv)\n",
    "print(df['SAR'].describe())\n",
    "sns.distplot(df['SAR'].dropna())\n",
    "df.tail()"
   ]
  },
  {
   "cell_type": "markdown",
   "metadata": {
    "id": "MoqrDEejwYOV"
   },
   "source": [
    "# 定義features(X) label(y)"
   ]
  },
  {
   "cell_type": "markdown",
   "metadata": {},
   "source": [
    "# MACD RSI講一下"
   ]
  },
  {
   "cell_type": "code",
   "execution_count": 64,
   "metadata": {
    "colab": {
     "base_uri": "https://localhost:8080/",
     "height": 440
    },
    "id": "qrGg0ojRKuE1",
    "outputId": "824578e6-f0b6-4fbe-c36f-7e8a3affb47a"
   },
   "outputs": [
    {
     "name": "stdout",
     "output_type": "stream",
     "text": [
      "(1197, 22)\n",
      "(1157, 16)\n"
     ]
    },
    {
     "data": {
      "text/html": [
       "<div>\n",
       "<style scoped>\n",
       "    .dataframe tbody tr th:only-of-type {\n",
       "        vertical-align: middle;\n",
       "    }\n",
       "\n",
       "    .dataframe tbody tr th {\n",
       "        vertical-align: top;\n",
       "    }\n",
       "\n",
       "    .dataframe thead th {\n",
       "        text-align: right;\n",
       "    }\n",
       "</style>\n",
       "<table border=\"1\" class=\"dataframe\">\n",
       "  <thead>\n",
       "    <tr style=\"text-align: right;\">\n",
       "      <th></th>\n",
       "      <th>RSI</th>\n",
       "      <th>Williams %R</th>\n",
       "      <th>SMA</th>\n",
       "      <th>EMA</th>\n",
       "      <th>WMA</th>\n",
       "      <th>HMA</th>\n",
       "      <th>TEMA</th>\n",
       "      <th>CCI</th>\n",
       "      <th>CMO</th>\n",
       "      <th>MACD</th>\n",
       "      <th>PPO</th>\n",
       "      <th>ROC</th>\n",
       "      <th>CFI</th>\n",
       "      <th>DMI</th>\n",
       "      <th>SAR</th>\n",
       "      <th>triple_barrier_signal</th>\n",
       "    </tr>\n",
       "    <tr>\n",
       "      <th>Date</th>\n",
       "      <th></th>\n",
       "      <th></th>\n",
       "      <th></th>\n",
       "      <th></th>\n",
       "      <th></th>\n",
       "      <th></th>\n",
       "      <th></th>\n",
       "      <th></th>\n",
       "      <th></th>\n",
       "      <th></th>\n",
       "      <th></th>\n",
       "      <th></th>\n",
       "      <th></th>\n",
       "      <th></th>\n",
       "      <th></th>\n",
       "      <th></th>\n",
       "    </tr>\n",
       "  </thead>\n",
       "  <tbody>\n",
       "    <tr>\n",
       "      <th>2023-02-02</th>\n",
       "      <td>72.275262</td>\n",
       "      <td>-0.486594</td>\n",
       "      <td>14653.651177</td>\n",
       "      <td>15158.977368</td>\n",
       "      <td>15257.702235</td>\n",
       "      <td>15433.922732</td>\n",
       "      <td>15588.490344</td>\n",
       "      <td>149.011171</td>\n",
       "      <td>51.978111</td>\n",
       "      <td>105.880424</td>\n",
       "      <td>0.708702</td>\n",
       "      <td>9.049058</td>\n",
       "      <td>-1.172762e+09</td>\n",
       "      <td>32.343476</td>\n",
       "      <td>14844.859369</td>\n",
       "      <td>0</td>\n",
       "    </tr>\n",
       "    <tr>\n",
       "      <th>2023-02-03</th>\n",
       "      <td>72.386625</td>\n",
       "      <td>-1.118971</td>\n",
       "      <td>14673.752406</td>\n",
       "      <td>15247.713926</td>\n",
       "      <td>15357.312934</td>\n",
       "      <td>15548.193225</td>\n",
       "      <td>15667.493529</td>\n",
       "      <td>133.547974</td>\n",
       "      <td>52.240805</td>\n",
       "      <td>103.660283</td>\n",
       "      <td>0.688625</td>\n",
       "      <td>8.552781</td>\n",
       "      <td>-8.976374e+08</td>\n",
       "      <td>30.630152</td>\n",
       "      <td>14966.016245</td>\n",
       "      <td>0</td>\n",
       "    </tr>\n",
       "    <tr>\n",
       "      <th>2023-02-06</th>\n",
       "      <td>64.571670</td>\n",
       "      <td>-16.794229</td>\n",
       "      <td>14694.141435</td>\n",
       "      <td>15276.735203</td>\n",
       "      <td>15396.039670</td>\n",
       "      <td>15619.309118</td>\n",
       "      <td>15601.702110</td>\n",
       "      <td>99.651903</td>\n",
       "      <td>30.113980</td>\n",
       "      <td>81.685094</td>\n",
       "      <td>0.538152</td>\n",
       "      <td>4.342470</td>\n",
       "      <td>-7.610725e+08</td>\n",
       "      <td>24.279565</td>\n",
       "      <td>15083.324806</td>\n",
       "      <td>1</td>\n",
       "    </tr>\n",
       "    <tr>\n",
       "      <th>2023-02-07</th>\n",
       "      <td>64.729764</td>\n",
       "      <td>-19.476148</td>\n",
       "      <td>14711.001691</td>\n",
       "      <td>15301.570194</td>\n",
       "      <td>15421.691471</td>\n",
       "      <td>15646.968786</td>\n",
       "      <td>15551.473450</td>\n",
       "      <td>86.235604</td>\n",
       "      <td>30.546387</td>\n",
       "      <td>62.201387</td>\n",
       "      <td>0.405341</td>\n",
       "      <td>4.039396</td>\n",
       "      <td>-6.460254e+08</td>\n",
       "      <td>21.450187</td>\n",
       "      <td>15179.517825</td>\n",
       "      <td>0</td>\n",
       "    </tr>\n",
       "    <tr>\n",
       "      <th>2023-02-08</th>\n",
       "      <td>68.761373</td>\n",
       "      <td>-1.402467</td>\n",
       "      <td>14729.016816</td>\n",
       "      <td>15364.890139</td>\n",
       "      <td>15477.977886</td>\n",
       "      <td>15665.354419</td>\n",
       "      <td>15616.148463</td>\n",
       "      <td>103.254678</td>\n",
       "      <td>41.370979</td>\n",
       "      <td>58.507625</td>\n",
       "      <td>0.377303</td>\n",
       "      <td>5.875558</td>\n",
       "      <td>-4.525687e+08</td>\n",
       "      <td>26.642332</td>\n",
       "      <td>15258.396101</td>\n",
       "      <td>0</td>\n",
       "    </tr>\n",
       "  </tbody>\n",
       "</table>\n",
       "</div>"
      ],
      "text/plain": [
       "                  RSI  Williams %R           SMA           EMA           WMA  \\\n",
       "Date                                                                           \n",
       "2023-02-02  72.275262    -0.486594  14653.651177  15158.977368  15257.702235   \n",
       "2023-02-03  72.386625    -1.118971  14673.752406  15247.713926  15357.312934   \n",
       "2023-02-06  64.571670   -16.794229  14694.141435  15276.735203  15396.039670   \n",
       "2023-02-07  64.729764   -19.476148  14711.001691  15301.570194  15421.691471   \n",
       "2023-02-08  68.761373    -1.402467  14729.016816  15364.890139  15477.977886   \n",
       "\n",
       "                     HMA          TEMA         CCI        CMO        MACD  \\\n",
       "Date                                                                        \n",
       "2023-02-02  15433.922732  15588.490344  149.011171  51.978111  105.880424   \n",
       "2023-02-03  15548.193225  15667.493529  133.547974  52.240805  103.660283   \n",
       "2023-02-06  15619.309118  15601.702110   99.651903  30.113980   81.685094   \n",
       "2023-02-07  15646.968786  15551.473450   86.235604  30.546387   62.201387   \n",
       "2023-02-08  15665.354419  15616.148463  103.254678  41.370979   58.507625   \n",
       "\n",
       "                 PPO       ROC           CFI        DMI           SAR  \\\n",
       "Date                                                                    \n",
       "2023-02-02  0.708702  9.049058 -1.172762e+09  32.343476  14844.859369   \n",
       "2023-02-03  0.688625  8.552781 -8.976374e+08  30.630152  14966.016245   \n",
       "2023-02-06  0.538152  4.342470 -7.610725e+08  24.279565  15083.324806   \n",
       "2023-02-07  0.405341  4.039396 -6.460254e+08  21.450187  15179.517825   \n",
       "2023-02-08  0.377303  5.875558 -4.525687e+08  26.642332  15258.396101   \n",
       "\n",
       "            triple_barrier_signal  \n",
       "Date                               \n",
       "2023-02-02                      0  \n",
       "2023-02-03                      0  \n",
       "2023-02-06                      1  \n",
       "2023-02-07                      0  \n",
       "2023-02-08                      0  "
      ]
     },
     "execution_count": 64,
     "metadata": {},
     "output_type": "execute_result"
    }
   ],
   "source": [
    "print(df.shape)\n",
    "df = df.dropna(axis=0)#刪除有缺失的row,會缺失主要因為用時間rolling計算技術指標導致,正常的\n",
    "features = ['RSI','Williams %R','SMA','EMA','WMA','HMA','TEMA','CCI','CMO','MACD','PPO','ROC','CFI','DMI','SAR']\n",
    "y_name = 'triple_barrier_signal' #當作labels\n",
    "df = df[features+[y_name]]\n",
    "print(df.shape)\n",
    "df.tail()"
   ]
  },
  {
   "cell_type": "markdown",
   "metadata": {
    "id": "c68TXVQaqGl3"
   },
   "source": [
    "# features scaling(特徵縮放)"
   ]
  },
  {
   "cell_type": "code",
   "execution_count": 65,
   "metadata": {
    "colab": {
     "base_uri": "https://localhost:8080/",
     "height": 281
    },
    "id": "JpZPZWfJqGuo",
    "outputId": "00e4a943-7054-48ab-a8e3-8346945ef1a7"
   },
   "outputs": [
    {
     "data": {
      "text/html": [
       "<div>\n",
       "<style scoped>\n",
       "    .dataframe tbody tr th:only-of-type {\n",
       "        vertical-align: middle;\n",
       "    }\n",
       "\n",
       "    .dataframe tbody tr th {\n",
       "        vertical-align: top;\n",
       "    }\n",
       "\n",
       "    .dataframe thead th {\n",
       "        text-align: right;\n",
       "    }\n",
       "</style>\n",
       "<table border=\"1\" class=\"dataframe\">\n",
       "  <thead>\n",
       "    <tr style=\"text-align: right;\">\n",
       "      <th></th>\n",
       "      <th>RSI</th>\n",
       "      <th>Williams %R</th>\n",
       "      <th>SMA</th>\n",
       "      <th>EMA</th>\n",
       "      <th>WMA</th>\n",
       "      <th>HMA</th>\n",
       "      <th>TEMA</th>\n",
       "      <th>CCI</th>\n",
       "      <th>CMO</th>\n",
       "      <th>MACD</th>\n",
       "      <th>PPO</th>\n",
       "      <th>ROC</th>\n",
       "      <th>CFI</th>\n",
       "      <th>DMI</th>\n",
       "      <th>SAR</th>\n",
       "      <th>triple_barrier_signal</th>\n",
       "    </tr>\n",
       "    <tr>\n",
       "      <th>Date</th>\n",
       "      <th></th>\n",
       "      <th></th>\n",
       "      <th></th>\n",
       "      <th></th>\n",
       "      <th></th>\n",
       "      <th></th>\n",
       "      <th></th>\n",
       "      <th></th>\n",
       "      <th></th>\n",
       "      <th></th>\n",
       "      <th></th>\n",
       "      <th></th>\n",
       "      <th></th>\n",
       "      <th></th>\n",
       "      <th></th>\n",
       "      <th></th>\n",
       "    </tr>\n",
       "  </thead>\n",
       "  <tbody>\n",
       "    <tr>\n",
       "      <th>2023-02-02</th>\n",
       "      <td>0.836583</td>\n",
       "      <td>0.995134</td>\n",
       "      <td>0.585788</td>\n",
       "      <td>0.637542</td>\n",
       "      <td>0.658312</td>\n",
       "      <td>0.689074</td>\n",
       "      <td>0.701166</td>\n",
       "      <td>0.745879</td>\n",
       "      <td>0.848661</td>\n",
       "      <td>0.762633</td>\n",
       "      <td>0.776089</td>\n",
       "      <td>0.807549</td>\n",
       "      <td>0.278224</td>\n",
       "      <td>0.878833</td>\n",
       "      <td>0.626114</td>\n",
       "      <td>0</td>\n",
       "    </tr>\n",
       "    <tr>\n",
       "      <th>2023-02-03</th>\n",
       "      <td>0.838106</td>\n",
       "      <td>0.988810</td>\n",
       "      <td>0.588180</td>\n",
       "      <td>0.647557</td>\n",
       "      <td>0.669181</td>\n",
       "      <td>0.700708</td>\n",
       "      <td>0.709228</td>\n",
       "      <td>0.721950</td>\n",
       "      <td>0.850290</td>\n",
       "      <td>0.757795</td>\n",
       "      <td>0.771005</td>\n",
       "      <td>0.795184</td>\n",
       "      <td>0.286547</td>\n",
       "      <td>0.864602</td>\n",
       "      <td>0.638114</td>\n",
       "      <td>0</td>\n",
       "    </tr>\n",
       "    <tr>\n",
       "      <th>2023-02-06</th>\n",
       "      <td>0.731280</td>\n",
       "      <td>0.832058</td>\n",
       "      <td>0.590606</td>\n",
       "      <td>0.650833</td>\n",
       "      <td>0.673407</td>\n",
       "      <td>0.707948</td>\n",
       "      <td>0.702514</td>\n",
       "      <td>0.669495</td>\n",
       "      <td>0.713066</td>\n",
       "      <td>0.709905</td>\n",
       "      <td>0.732899</td>\n",
       "      <td>0.690280</td>\n",
       "      <td>0.290679</td>\n",
       "      <td>0.811855</td>\n",
       "      <td>0.649733</td>\n",
       "      <td>1</td>\n",
       "    </tr>\n",
       "    <tr>\n",
       "      <th>2023-02-07</th>\n",
       "      <td>0.733441</td>\n",
       "      <td>0.805239</td>\n",
       "      <td>0.592613</td>\n",
       "      <td>0.653636</td>\n",
       "      <td>0.676206</td>\n",
       "      <td>0.710764</td>\n",
       "      <td>0.697388</td>\n",
       "      <td>0.648734</td>\n",
       "      <td>0.715748</td>\n",
       "      <td>0.667446</td>\n",
       "      <td>0.699266</td>\n",
       "      <td>0.682729</td>\n",
       "      <td>0.294159</td>\n",
       "      <td>0.788355</td>\n",
       "      <td>0.659261</td>\n",
       "      <td>0</td>\n",
       "    </tr>\n",
       "    <tr>\n",
       "      <th>2023-02-08</th>\n",
       "      <td>0.788551</td>\n",
       "      <td>0.985975</td>\n",
       "      <td>0.594756</td>\n",
       "      <td>0.660783</td>\n",
       "      <td>0.682348</td>\n",
       "      <td>0.712636</td>\n",
       "      <td>0.703989</td>\n",
       "      <td>0.675071</td>\n",
       "      <td>0.782879</td>\n",
       "      <td>0.659396</td>\n",
       "      <td>0.692165</td>\n",
       "      <td>0.728478</td>\n",
       "      <td>0.300012</td>\n",
       "      <td>0.831480</td>\n",
       "      <td>0.667074</td>\n",
       "      <td>0</td>\n",
       "    </tr>\n",
       "  </tbody>\n",
       "</table>\n",
       "</div>"
      ],
      "text/plain": [
       "                 RSI  Williams %R       SMA       EMA       WMA       HMA  \\\n",
       "Date                                                                        \n",
       "2023-02-02  0.836583     0.995134  0.585788  0.637542  0.658312  0.689074   \n",
       "2023-02-03  0.838106     0.988810  0.588180  0.647557  0.669181  0.700708   \n",
       "2023-02-06  0.731280     0.832058  0.590606  0.650833  0.673407  0.707948   \n",
       "2023-02-07  0.733441     0.805239  0.592613  0.653636  0.676206  0.710764   \n",
       "2023-02-08  0.788551     0.985975  0.594756  0.660783  0.682348  0.712636   \n",
       "\n",
       "                TEMA       CCI       CMO      MACD       PPO       ROC  \\\n",
       "Date                                                                     \n",
       "2023-02-02  0.701166  0.745879  0.848661  0.762633  0.776089  0.807549   \n",
       "2023-02-03  0.709228  0.721950  0.850290  0.757795  0.771005  0.795184   \n",
       "2023-02-06  0.702514  0.669495  0.713066  0.709905  0.732899  0.690280   \n",
       "2023-02-07  0.697388  0.648734  0.715748  0.667446  0.699266  0.682729   \n",
       "2023-02-08  0.703989  0.675071  0.782879  0.659396  0.692165  0.728478   \n",
       "\n",
       "                 CFI       DMI       SAR  triple_barrier_signal  \n",
       "Date                                                             \n",
       "2023-02-02  0.278224  0.878833  0.626114                      0  \n",
       "2023-02-03  0.286547  0.864602  0.638114                      0  \n",
       "2023-02-06  0.290679  0.811855  0.649733                      1  \n",
       "2023-02-07  0.294159  0.788355  0.659261                      0  \n",
       "2023-02-08  0.300012  0.831480  0.667074                      0  "
      ]
     },
     "execution_count": 65,
     "metadata": {},
     "output_type": "execute_result"
    }
   ],
   "source": [
    "from sklearn.preprocessing import MinMaxScaler\n",
    "import pickle\n",
    "min_max_scaler = MinMaxScaler()\n",
    "df_minmax = df.copy()\n",
    "df_minmax[features] = min_max_scaler.fit_transform(df_minmax[features])#縮放到0-1之間\n",
    "with open('scaler.pkl', 'wb') as f:\n",
    "    pickle.dump(min_max_scaler, f)\n",
    "df_minmax.tail()"
   ]
  },
  {
   "cell_type": "code",
   "execution_count": 66,
   "metadata": {},
   "outputs": [
    {
     "data": {
      "text/html": [
       "<div>\n",
       "<style scoped>\n",
       "    .dataframe tbody tr th:only-of-type {\n",
       "        vertical-align: middle;\n",
       "    }\n",
       "\n",
       "    .dataframe tbody tr th {\n",
       "        vertical-align: top;\n",
       "    }\n",
       "\n",
       "    .dataframe thead th {\n",
       "        text-align: right;\n",
       "    }\n",
       "</style>\n",
       "<table border=\"1\" class=\"dataframe\">\n",
       "  <thead>\n",
       "    <tr style=\"text-align: right;\">\n",
       "      <th></th>\n",
       "      <th>RSI</th>\n",
       "      <th>Williams %R</th>\n",
       "      <th>SMA</th>\n",
       "    </tr>\n",
       "    <tr>\n",
       "      <th>Date</th>\n",
       "      <th></th>\n",
       "      <th></th>\n",
       "      <th></th>\n",
       "    </tr>\n",
       "  </thead>\n",
       "  <tbody>\n",
       "    <tr>\n",
       "      <th>2023-02-06</th>\n",
       "      <td>64.571670</td>\n",
       "      <td>-16.794229</td>\n",
       "      <td>14694.141435</td>\n",
       "    </tr>\n",
       "    <tr>\n",
       "      <th>2023-02-07</th>\n",
       "      <td>64.729764</td>\n",
       "      <td>-19.476148</td>\n",
       "      <td>14711.001691</td>\n",
       "    </tr>\n",
       "    <tr>\n",
       "      <th>2023-02-08</th>\n",
       "      <td>68.761373</td>\n",
       "      <td>-1.402467</td>\n",
       "      <td>14729.016816</td>\n",
       "    </tr>\n",
       "  </tbody>\n",
       "</table>\n",
       "</div>"
      ],
      "text/plain": [
       "                  RSI  Williams %R           SMA\n",
       "Date                                            \n",
       "2023-02-06  64.571670   -16.794229  14694.141435\n",
       "2023-02-07  64.729764   -19.476148  14711.001691\n",
       "2023-02-08  68.761373    -1.402467  14729.016816"
      ]
     },
     "execution_count": 66,
     "metadata": {},
     "output_type": "execute_result"
    }
   ],
   "source": [
    "df.tail(3)[['RSI','Williams %R','SMA']]"
   ]
  },
  {
   "cell_type": "code",
   "execution_count": 70,
   "metadata": {},
   "outputs": [
    {
     "data": {
      "text/plain": [
       "<matplotlib.image.AxesImage at 0x285af3c8a60>"
      ]
     },
     "execution_count": 70,
     "metadata": {},
     "output_type": "execute_result"
    },
    {
     "data": {
      "image/png": "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\n",
      "text/plain": [
       "<Figure size 432x288 with 1 Axes>"
      ]
     },
     "metadata": {
      "needs_background": "light"
     },
     "output_type": "display_data"
    }
   ],
   "source": [
    "img = df.head(3)[['RSI','Williams %R','MACD']].values\n",
    "plt.imshow(img)"
   ]
  },
  {
   "cell_type": "code",
   "execution_count": 68,
   "metadata": {
    "colab": {
     "base_uri": "https://localhost:8080/"
    },
    "id": "5MCZDpBgrrQQ",
    "outputId": "e90f39f8-23d4-4878-d63f-cb27b2dd095b"
   },
   "outputs": [
    {
     "name": "stdout",
     "output_type": "stream",
     "text": [
      "特徵縮放完成!\n"
     ]
    }
   ],
   "source": [
    "df = df_minmax\n",
    "print('特徵縮放完成!')"
   ]
  },
  {
   "cell_type": "markdown",
   "metadata": {
    "id": "_kc7tvz_M7PO"
   },
   "source": [
    "# 定義X,y pair"
   ]
  },
  {
   "cell_type": "markdown",
   "metadata": {},
   "source": [
    "https://sharegpt.com/c/KcXGMUL"
   ]
  },
  {
   "cell_type": "code",
   "execution_count": 78,
   "metadata": {
    "colab": {
     "base_uri": "https://localhost:8080/"
    },
    "id": "2ZHvlRJ5Lzzu",
    "outputId": "74cf3daf-357b-42da-bb37-a21aa7ebcc78"
   },
   "outputs": [
    {
     "name": "stderr",
     "output_type": "stream",
     "text": [
      "100%|██████████| 2386/2386 [00:02<00:00, 910.09it/s]"
     ]
    },
    {
     "name": "stdout",
     "output_type": "stream",
     "text": [
      "準備完成\n"
     ]
    },
    {
     "name": "stderr",
     "output_type": "stream",
     "text": [
      "\n"
     ]
    }
   ],
   "source": [
    "from tqdm import tqdm\n",
    "import numpy as np\n",
    "\n",
    "#定義觀察天數,起始index(0),結束index(資料筆數-觀察天數)\n",
    "days = 15\n",
    "start_index = 0\n",
    "end_index = len(df)-days\n",
    "\n",
    "#特徵欄位\n",
    "features = df.drop(y_name,axis=1).columns.tolist()\n",
    "\n",
    "#待存放序列\n",
    "Xs = []\n",
    "ys = []\n",
    "indexs = []\n",
    "\n",
    "'''\n",
    "若資料筆數100,days=15天,f_index=85,i只會跑到84,i+days=99,features只會跑到98天.\n",
    "若資料筆數100,days=15天,f_index=85+1,i會跑到85,i+days=100,features會跑到99天.\n",
    "'''\n",
    "for i in tqdm(range(start_index ,end_index+1 ,1)):#每次i都會遞增1\n",
    "  X = df.iloc[i:i+days,:][features] #ex:若i為0,則i+days為15因此數據index為0...14(不含15)之features\n",
    "  y = df.iloc[i+days-1:i+days,:][y_name]#ex:若i為0days為15則[i+days-1:i+days]為[14:15]相當於index[14]之y_name('triple_barrier_signal')\n",
    "  X = np.array(X) # 轉成np_array\n",
    "  Xs.append(X) #加入至list\n",
    "  ys.append(y) #加入至list\n",
    "  indexs.append((df.iloc[[i]].index,df.iloc[[i+days-1]].index)) #加入資料日期\n",
    "#轉換成np_array\n",
    "Xs = np.array(Xs)\n",
    "ys = np.array(ys)\n",
    "print('準備完成')"
   ]
  },
  {
   "cell_type": "markdown",
   "metadata": {
    "id": "a9iNRYKpNfIP"
   },
   "source": [
    "# check 資料總數跟 資料時間範圍"
   ]
  },
  {
   "cell_type": "code",
   "execution_count": 79,
   "metadata": {
    "colab": {
     "base_uri": "https://localhost:8080/"
    },
    "id": "7YiS6ZmtNfSf",
    "outputId": "8dd32a11-d46d-40c1-cce0-049a3c5d3467"
   },
   "outputs": [
    {
     "name": "stdout",
     "output_type": "stream",
     "text": [
      "資料筆數: 2386\n",
      "第一筆的index開始和結束:2008-03-07-2008-03-27\n",
      "最後一筆的index開始和結束:2017-11-13-2017-12-01\n"
     ]
    }
   ],
   "source": [
    "print('資料筆數:',len(Xs))\n",
    "print('第一筆的index開始和結束:{}-{}'.format(indexs[0][0].date[0],indexs[0][1].date[0]))\n",
    "print('最後一筆的index開始和結束:{}-{}'.format(indexs[-1][0].date[0],indexs[-1][1].date[0]))"
   ]
  },
  {
   "cell_type": "markdown",
   "metadata": {
    "id": "Pabl4tEsXYB8"
   },
   "source": [
    "# Reshape X (圖片數量,長,寬,1張)"
   ]
  },
  {
   "cell_type": "code",
   "execution_count": 80,
   "metadata": {
    "colab": {
     "base_uri": "https://localhost:8080/"
    },
    "id": "In4R0IcSPDwG",
    "outputId": "80fa7a67-706b-4a89-da2f-aa6bd6e492ff"
   },
   "outputs": [
    {
     "name": "stdout",
     "output_type": "stream",
     "text": [
      "(2386, 15, 15)\n",
      "(2386, 15, 15, 1)\n"
     ]
    }
   ],
   "source": [
    "print(Xs.shape)\n",
    "Xs = Xs.reshape(-1,days,len(features),1)\n",
    "print(Xs.shape)"
   ]
  },
  {
   "cell_type": "markdown",
   "metadata": {
    "id": "lUy2cpReXaOV"
   },
   "source": [
    "# One hot encoding of label(獨熱編碼)"
   ]
  },
  {
   "cell_type": "markdown",
   "metadata": {
    "id": "hjDc-sStA1gk"
   },
   "source": [
    "原始y代表漲幅"
   ]
  },
  {
   "cell_type": "code",
   "execution_count": 81,
   "metadata": {
    "colab": {
     "base_uri": "https://localhost:8080/"
    },
    "id": "6XGRdxmfWrfo",
    "outputId": "42bae8dc-7639-4f25-911d-f7068a07b04f"
   },
   "outputs": [
    {
     "name": "stdout",
     "output_type": "stream",
     "text": [
      "One hot encoding前\n",
      "(2386, 1)\n",
      "[[1]\n",
      " [1]\n",
      " [1]\n",
      " [1]\n",
      " [1]]\n",
      "One hot encoding後\n",
      "(2386, 3)\n",
      "[[0. 1. 0.]\n",
      " [0. 1. 0.]\n",
      " [0. 1. 0.]\n",
      " [0. 1. 0.]\n",
      " [0. 1. 0.]]\n"
     ]
    }
   ],
   "source": [
    "print('One hot encoding前')\n",
    "print(ys.shape)\n",
    "print(ys[:5])\n",
    "from keras.utils.np_utils import to_categorical\n",
    "ys = to_categorical(ys, num_classes = 3)\n",
    "print('One hot encoding後')\n",
    "print(ys.shape)\n",
    "print(ys[:5])"
   ]
  },
  {
   "cell_type": "markdown",
   "metadata": {
    "id": "TYcPI2TWBTpJ"
   },
   "source": [
    "# Visualization"
   ]
  },
  {
   "cell_type": "markdown",
   "metadata": {},
   "source": [
    "https://sharegpt.com/c/lQ0OLk6"
   ]
  },
  {
   "cell_type": "code",
   "execution_count": 82,
   "metadata": {},
   "outputs": [
    {
     "data": {
      "image/png": "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",
      "text/plain": [
       "<Figure size 1000x1000 with 9 Axes>"
      ]
     },
     "metadata": {},
     "output_type": "display_data"
    }
   ],
   "source": [
    "import matplotlib.pyplot as plt\n",
    "\n",
    "# n为batch大小，这里设为9\n",
    "n = 9\n",
    "\n",
    "# 生成一个九宫格的画布\n",
    "fig, axs = plt.subplots(3, 3, figsize=(10, 10))\n",
    "\n",
    "# 遍历batch中的每一个样本，依次画出对应的矩阵和标注\n",
    "for i in range(n):\n",
    "    # 获取当前样本的矩阵和标注\n",
    "    x = Xs[i]\n",
    "    y = ys[i]\n",
    "    \n",
    "    # 在对应的子图上画出矩阵和标注\n",
    "    axs[i//3, i%3].imshow(x)\n",
    "    axs[i//3, i%3].set_title('y={}'.format(y))\n",
    "    axs[i//3, i%3].axis('off')\n",
    "\n",
    "# 调整子图之间的距离\n",
    "plt.subplots_adjust(hspace=0.3, wspace=0.3)\n",
    "\n",
    "# 显示画布\n",
    "plt.show()\n"
   ]
  },
  {
   "cell_type": "markdown",
   "metadata": {
    "id": "5Oa6gYq_aVjE"
   },
   "source": [
    "# Split training and test sets"
   ]
  },
  {
   "cell_type": "code",
   "execution_count": 83,
   "metadata": {
    "colab": {
     "base_uri": "https://localhost:8080/"
    },
    "id": "OLHFbreckAlH",
    "outputId": "890e44a7-a031-448b-88b4-6234a533d2ca"
   },
   "outputs": [
    {
     "name": "stdout",
     "output_type": "stream",
     "text": [
      "(2346, 15, 15, 1) (2346, 3) (40, 15, 15, 1)\n"
     ]
    }
   ],
   "source": [
    "X_test = Xs[-40:] #最後40天features當作test資料\n",
    "X_train,y_train = Xs[:-40],ys[:-40] #其他當作訓練\n",
    "print(X_train.shape,y_train.shape,X_test.shape)"
   ]
  },
  {
   "cell_type": "markdown",
   "metadata": {
    "id": "gldr_9_D6CWR"
   },
   "source": [
    "# 調整採樣"
   ]
  },
  {
   "cell_type": "markdown",
   "metadata": {},
   "source": [
    "https://sharegpt.com/c/Vm1VcLs"
   ]
  },
  {
   "cell_type": "code",
   "execution_count": 84,
   "metadata": {
    "colab": {
     "base_uri": "https://localhost:8080/"
    },
    "id": "gUrzPr896Che",
    "outputId": "7a3f59ed-d305-436b-a5a7-7c1b38dd61f8"
   },
   "outputs": [
    {
     "name": "stdout",
     "output_type": "stream",
     "text": [
      "(2346, 225)\n",
      "(2346,)\n",
      "0    601\n",
      "1    601\n",
      "2    601\n",
      "Name: 0, dtype: int64\n",
      "(1803, 15, 15, 1)\n",
      "(1803, 3)\n"
     ]
    }
   ],
   "source": [
    "X_train2維 = X_train.reshape(X_train.shape[0],-1)\n",
    "y_train數字 = np.array([ np.argmax(i) for i in y_train])\n",
    "print(X_train2維.shape)\n",
    "print(y_train數字.shape)\n",
    "\n",
    "from imblearn.under_sampling import RandomUnderSampler\n",
    "ros = RandomUnderSampler()\n",
    "X_train平衡 ,y_train平衡 = ros.fit_resample(X_train2維 ,y_train數字)\n",
    "print(pd.DataFrame(y_train平衡)[0].value_counts().sort_index())#顯示結果\n",
    "\n",
    "X_train = X_train平衡.reshape(X_train平衡.shape[0],15,15,1)#資料數,15,15,1\n",
    "y_train = y_train平衡.reshape(y_train平衡.shape[0],1)#資料數,1\n",
    "y_train = to_categorical(y_train , num_classes = 3)#one_hot\n",
    "print(X_train.shape)\n",
    "print(y_train.shape)"
   ]
  },
  {
   "cell_type": "markdown",
   "metadata": {
    "id": "0LI45EZC6k4Q"
   },
   "source": [
    "# Split training and val sets"
   ]
  },
  {
   "cell_type": "markdown",
   "metadata": {},
   "source": [
    "https://sharegpt.com/c/ZgCDypE"
   ]
  },
  {
   "cell_type": "code",
   "execution_count": 85,
   "metadata": {
    "colab": {
     "base_uri": "https://localhost:8080/"
    },
    "id": "MgsrVpYUYf5J",
    "outputId": "6cca6788-385b-4e8b-af90-50a3c585dea6"
   },
   "outputs": [
    {
     "name": "stdout",
     "output_type": "stream",
     "text": [
      "(1442, 15, 15, 1) (1442, 3) (361, 15, 15, 1) (361, 3)\n"
     ]
    }
   ],
   "source": [
    "from sklearn.model_selection import train_test_split\n",
    "xtrain, xval, ytrain, yval = train_test_split(\n",
    "    X_train,\n",
    "    y_train, \n",
    "    test_size = 0.2,\n",
    "    random_state = 42,\n",
    "    shuffle = True,#是否洗牌\n",
    "    stratify = y_train #是否根據y欄位做分層取樣\n",
    "    )\n",
    "print(xtrain.shape, ytrain.shape, xval.shape, yval.shape)"
   ]
  },
  {
   "cell_type": "markdown",
   "metadata": {
    "id": "2xQOFrENMkSb"
   },
   "source": [
    "# 看一下樣本的label分布情況是否平均(待解決)"
   ]
  },
  {
   "cell_type": "markdown",
   "metadata": {
    "id": "xnUz7A3tlfya"
   },
   "source": [
    "0:Hold,1:Buy,2:Sell"
   ]
  },
  {
   "cell_type": "code",
   "execution_count": 86,
   "metadata": {
    "colab": {
     "base_uri": "https://localhost:8080/"
    },
    "id": "aA9SXiicML6Y",
    "outputId": "cd9708df-7efa-4340-9e24-66ada66568e0"
   },
   "outputs": [
    {
     "data": {
      "text/plain": [
       "1    985\n",
       "2    773\n",
       "0    628\n",
       "dtype: int64"
      ]
     },
     "execution_count": 86,
     "metadata": {},
     "output_type": "execute_result"
    }
   ],
   "source": [
    "pd.Series([np.argmax(i) for i in ys]).value_counts()"
   ]
  },
  {
   "cell_type": "code",
   "execution_count": 87,
   "metadata": {
    "colab": {
     "base_uri": "https://localhost:8080/"
    },
    "id": "l3gzqyHc8hKR",
    "outputId": "2c19bc14-ed29-4105-aa39-d347f9ae6194"
   },
   "outputs": [
    {
     "data": {
      "text/plain": [
       "0    601\n",
       "1    601\n",
       "2    601\n",
       "dtype: int64"
      ]
     },
     "execution_count": 87,
     "metadata": {},
     "output_type": "execute_result"
    }
   ],
   "source": [
    "pd.Series([np.argmax(i) for i in y_train]).value_counts()"
   ]
  },
  {
   "cell_type": "code",
   "execution_count": 88,
   "metadata": {
    "colab": {
     "base_uri": "https://localhost:8080/"
    },
    "id": "UIOBe8tVL5dV",
    "outputId": "a67bed62-5c55-484c-fc4d-cf312ca37fc0"
   },
   "outputs": [
    {
     "data": {
      "text/plain": [
       "1    481\n",
       "2    481\n",
       "0    480\n",
       "dtype: int64"
      ]
     },
     "execution_count": 88,
     "metadata": {},
     "output_type": "execute_result"
    }
   ],
   "source": [
    "pd.Series([np.argmax(i) for i in ytrain]).value_counts()"
   ]
  },
  {
   "cell_type": "code",
   "execution_count": 89,
   "metadata": {
    "colab": {
     "base_uri": "https://localhost:8080/"
    },
    "id": "A235BZ6cMQ-S",
    "outputId": "36dae7ac-2679-43c0-e1e5-68025f81dd0a"
   },
   "outputs": [
    {
     "data": {
      "text/plain": [
       "0    121\n",
       "2    120\n",
       "1    120\n",
       "dtype: int64"
      ]
     },
     "execution_count": 89,
     "metadata": {},
     "output_type": "execute_result"
    }
   ],
   "source": [
    "pd.Series([np.argmax(i) for i in yval]).value_counts()"
   ]
  },
  {
   "cell_type": "markdown",
   "metadata": {
    "id": "m-oXz0FGarb1"
   },
   "source": [
    "# 用chatgpt幫忙製作模型"
   ]
  },
  {
   "cell_type": "markdown",
   "metadata": {},
   "source": [
    "https://sharegpt.com/c/M7VugUR"
   ]
  },
  {
   "cell_type": "code",
   "execution_count": 90,
   "metadata": {},
   "outputs": [
    {
     "name": "stdout",
     "output_type": "stream",
     "text": [
      "Model: \"sequential_1\"\n",
      "_________________________________________________________________\n",
      " Layer (type)                Output Shape              Param #   \n",
      "=================================================================\n",
      " conv2d_3 (Conv2D)           (None, 13, 13, 32)        320       \n",
      "                                                                 \n",
      " conv2d_4 (Conv2D)           (None, 11, 11, 64)        18496     \n",
      "                                                                 \n",
      " conv2d_5 (Conv2D)           (None, 9, 9, 128)         73856     \n",
      "                                                                 \n",
      " flatten_1 (Flatten)         (None, 10368)             0         \n",
      "                                                                 \n",
      " dropout_1 (Dropout)         (None, 10368)             0         \n",
      "                                                                 \n",
      " dense_1 (Dense)             (None, 3)                 31107     \n",
      "                                                                 \n",
      "=================================================================\n",
      "Total params: 123,779\n",
      "Trainable params: 123,779\n",
      "Non-trainable params: 0\n",
      "_________________________________________________________________\n"
     ]
    }
   ],
   "source": [
    "from keras import backend as K\n",
    "from keras.models import Sequential\n",
    "from keras.layers import Dense, Dropout, Lambda, Flatten, BatchNormalization\n",
    "from keras.layers import Conv2D, MaxPool2D, AvgPool2D\n",
    "from tensorflow.keras.optimizers import Adam \n",
    "from keras.callbacks import ReduceLROnPlateau , EarlyStopping\n",
    "from keras.models import Sequential\n",
    "from keras.layers import Dense, Flatten, Dropout\n",
    "\n",
    "# 創建一個序列模型\n",
    "model = Sequential()\n",
    "\n",
    "# 添加第一個卷積層，使用32個3x3的卷積核，使用ReLU激活函數，並指定輸入形狀\n",
    "model.add(Conv2D(32, (3, 3), activation='relu', input_shape=(15, 15, 1)))\n",
    "\n",
    "# 添加第二個卷積層，使用64個3x3的卷積核，使用ReLU激活函數\n",
    "model.add(Conv2D(64, (3, 3), activation='relu'))\n",
    "\n",
    "# 添加第三個卷積層，使用128個3x3的卷積核，使用ReLU激活函數\n",
    "model.add(Conv2D(128, (3, 3), activation='relu'))\n",
    "\n",
    "# 添加平坦層，將卷積層的輸出展開為一維數組\n",
    "model.add(Flatten())\n",
    "\n",
    "# 添加dropout層，防止過度擬合\n",
    "model.add(Dropout(0.5))\n",
    "\n",
    "# 添加全連接層，使用softmax激活函數，輸出3個類別\n",
    "model.add(Dense(3, activation='softmax'))\n",
    "\n",
    "# 編譯模型，使用交叉熵損失函數和Adam優化器\n",
    "model.compile(loss='categorical_crossentropy', optimizer='adam', metrics=['accuracy'])\n",
    "\n",
    "# 打印模型結構\n",
    "model.summary()"
   ]
  },
  {
   "cell_type": "code",
   "execution_count": 91,
   "metadata": {
    "colab": {
     "base_uri": "https://localhost:8080/"
    },
    "id": "yd-csnW2auJS",
    "outputId": "83a07049-c549-4377-d5c9-d54d32795749"
   },
   "outputs": [
    {
     "data": {
      "text/plain": [
       "\"\\nnclasses = 3 \\nmodel = Sequential()\\nmodel.add(Conv2D(filters=32, kernel_size=(3,3), padding='same', activation='relu', input_shape=(15,15,1)))#15,15,32\\nmodel.add(Conv2D(filters=64, kernel_size=(3,3), padding='same', activation='relu',))#15,15,64\\nmodel.add(MaxPool2D(pool_size=(5,5)))# 3,3,64\\nmodel.add(Flatten())#576\\nmodel.add(Dropout(0.5))#288\\nmodel.add(Dense(128, activation='relu'))#128\\nmodel.add(Dropout(0.5))#64\\nmodel.add(Dense(32, activation='relu'))#32\\nmodel.add(Dropout(0.5))#16\\nmodel.add(Dense(nclasses, activation='softmax'))#3\\nmodel.summary()\\n\""
      ]
     },
     "execution_count": 91,
     "metadata": {},
     "output_type": "execute_result"
    }
   ],
   "source": [
    "'''\n",
    "nclasses = 3 \n",
    "model = Sequential()\n",
    "model.add(Conv2D(filters=32, kernel_size=(3,3), padding='same', activation='relu', input_shape=(15,15,1)))#15,15,32\n",
    "model.add(Conv2D(filters=64, kernel_size=(3,3), padding='same', activation='relu',))#15,15,64\n",
    "model.add(MaxPool2D(pool_size=(5,5)))# 3,3,64\n",
    "model.add(Flatten())#576\n",
    "model.add(Dropout(0.5))#288\n",
    "model.add(Dense(128, activation='relu'))#128\n",
    "model.add(Dropout(0.5))#64\n",
    "model.add(Dense(32, activation='relu'))#32\n",
    "model.add(Dropout(0.5))#16\n",
    "model.add(Dense(nclasses, activation='softmax'))#3\n",
    "model.summary()\n",
    "'''"
   ]
  },
  {
   "cell_type": "markdown",
   "metadata": {},
   "source": [
    "# 編譯模型"
   ]
  },
  {
   "cell_type": "code",
   "execution_count": 92,
   "metadata": {
    "id": "8Z913AqUa8bJ"
   },
   "outputs": [],
   "source": [
    "model.compile(optimizer=\"adam\", loss=\"categorical_crossentropy\", metrics=[\"accuracy\"])"
   ]
  },
  {
   "cell_type": "markdown",
   "metadata": {
    "id": "VORA4n9Lz9of"
   },
   "source": [
    "# 定義訓練過程的早停法機制"
   ]
  },
  {
   "cell_type": "code",
   "execution_count": 93,
   "metadata": {
    "id": "Kw_j4R4Da_To"
   },
   "outputs": [],
   "source": [
    "es = EarlyStopping(monitor='val_accuracy',#驗證集acc\n",
    "                   min_delta=0.001, \n",
    "                   patience=20,  \n",
    "                   mode='max',\n",
    "                   restore_best_weights=True)#恢復最佳權重"
   ]
  },
  {
   "cell_type": "markdown",
   "metadata": {
    "id": "aevlVsI9Lk9a"
   },
   "source": [
    "# fit"
   ]
  },
  {
   "cell_type": "code",
   "execution_count": 94,
   "metadata": {
    "colab": {
     "base_uri": "https://localhost:8080/"
    },
    "id": "TJJR7Yg-bHac",
    "outputId": "9d6aae57-82a5-4a43-b61f-480500967762"
   },
   "outputs": [
    {
     "name": "stdout",
     "output_type": "stream",
     "text": [
      "Epoch 1/200\n",
      "12/12 [==============================] - 2s 83ms/step - loss: 1.0960 - accuracy: 0.3419 - val_loss: 1.0761 - val_accuracy: 0.4044\n",
      "Epoch 2/200\n",
      "12/12 [==============================] - 1s 71ms/step - loss: 1.0624 - accuracy: 0.4327 - val_loss: 1.0356 - val_accuracy: 0.4349\n",
      "Epoch 3/200\n",
      "12/12 [==============================] - 1s 73ms/step - loss: 1.0116 - accuracy: 0.4709 - val_loss: 0.9599 - val_accuracy: 0.5235\n",
      "Epoch 4/200\n",
      "12/12 [==============================] - 1s 74ms/step - loss: 0.9936 - accuracy: 0.4778 - val_loss: 0.9706 - val_accuracy: 0.5374\n",
      "Epoch 5/200\n",
      "12/12 [==============================] - 1s 74ms/step - loss: 0.9839 - accuracy: 0.4951 - val_loss: 0.9798 - val_accuracy: 0.4598\n",
      "Epoch 6/200\n",
      "12/12 [==============================] - 1s 71ms/step - loss: 0.9649 - accuracy: 0.5083 - val_loss: 0.9398 - val_accuracy: 0.5402\n",
      "Epoch 7/200\n",
      "12/12 [==============================] - 1s 68ms/step - loss: 0.9573 - accuracy: 0.5146 - val_loss: 0.9569 - val_accuracy: 0.5291\n",
      "Epoch 8/200\n",
      "12/12 [==============================] - 1s 73ms/step - loss: 0.9458 - accuracy: 0.5069 - val_loss: 0.9347 - val_accuracy: 0.5152\n",
      "Epoch 9/200\n",
      "12/12 [==============================] - 1s 69ms/step - loss: 0.9334 - accuracy: 0.5312 - val_loss: 0.9284 - val_accuracy: 0.5429\n",
      "Epoch 10/200\n",
      "12/12 [==============================] - 1s 69ms/step - loss: 0.9263 - accuracy: 0.5485 - val_loss: 0.9260 - val_accuracy: 0.5180\n",
      "Epoch 11/200\n",
      "12/12 [==============================] - 1s 70ms/step - loss: 0.9143 - accuracy: 0.5541 - val_loss: 0.9152 - val_accuracy: 0.5319\n",
      "Epoch 12/200\n",
      "12/12 [==============================] - 1s 72ms/step - loss: 0.9089 - accuracy: 0.5555 - val_loss: 0.9095 - val_accuracy: 0.5512\n",
      "Epoch 13/200\n",
      "12/12 [==============================] - 1s 69ms/step - loss: 0.9165 - accuracy: 0.5451 - val_loss: 0.9165 - val_accuracy: 0.5374\n",
      "Epoch 14/200\n",
      "12/12 [==============================] - 1s 69ms/step - loss: 0.8992 - accuracy: 0.5763 - val_loss: 0.9135 - val_accuracy: 0.5346\n",
      "Epoch 15/200\n",
      "12/12 [==============================] - 1s 69ms/step - loss: 0.8948 - accuracy: 0.5700 - val_loss: 0.9092 - val_accuracy: 0.5512\n",
      "Epoch 16/200\n",
      "12/12 [==============================] - 1s 71ms/step - loss: 0.8959 - accuracy: 0.5673 - val_loss: 0.9014 - val_accuracy: 0.5485\n",
      "Epoch 17/200\n",
      "12/12 [==============================] - 1s 71ms/step - loss: 0.8836 - accuracy: 0.5798 - val_loss: 0.8991 - val_accuracy: 0.5512\n",
      "Epoch 18/200\n",
      "12/12 [==============================] - 1s 70ms/step - loss: 0.8919 - accuracy: 0.5749 - val_loss: 0.9191 - val_accuracy: 0.5457\n",
      "Epoch 19/200\n",
      "12/12 [==============================] - 1s 72ms/step - loss: 0.8945 - accuracy: 0.5687 - val_loss: 0.8902 - val_accuracy: 0.5706\n",
      "Epoch 20/200\n",
      "12/12 [==============================] - 1s 69ms/step - loss: 0.8657 - accuracy: 0.5992 - val_loss: 0.9350 - val_accuracy: 0.5596\n",
      "Epoch 21/200\n",
      "12/12 [==============================] - 1s 71ms/step - loss: 0.8852 - accuracy: 0.5832 - val_loss: 0.9010 - val_accuracy: 0.5651\n",
      "Epoch 22/200\n",
      "12/12 [==============================] - 1s 70ms/step - loss: 0.8649 - accuracy: 0.5867 - val_loss: 0.8869 - val_accuracy: 0.5762\n",
      "Epoch 23/200\n",
      "12/12 [==============================] - 1s 72ms/step - loss: 0.8585 - accuracy: 0.6130 - val_loss: 0.8917 - val_accuracy: 0.5706\n",
      "Epoch 24/200\n",
      "12/12 [==============================] - 1s 71ms/step - loss: 0.8391 - accuracy: 0.6207 - val_loss: 0.8822 - val_accuracy: 0.5457\n",
      "Epoch 25/200\n",
      "12/12 [==============================] - 1s 70ms/step - loss: 0.8470 - accuracy: 0.6172 - val_loss: 0.8925 - val_accuracy: 0.5568\n",
      "Epoch 26/200\n",
      "12/12 [==============================] - 1s 71ms/step - loss: 0.8426 - accuracy: 0.6096 - val_loss: 0.8738 - val_accuracy: 0.5873\n",
      "Epoch 27/200\n",
      "12/12 [==============================] - 1s 77ms/step - loss: 0.8292 - accuracy: 0.6227 - val_loss: 0.8630 - val_accuracy: 0.5956\n",
      "Epoch 28/200\n",
      "12/12 [==============================] - 1s 71ms/step - loss: 0.8227 - accuracy: 0.6331 - val_loss: 0.8450 - val_accuracy: 0.5983\n",
      "Epoch 29/200\n",
      "12/12 [==============================] - 1s 71ms/step - loss: 0.8130 - accuracy: 0.6318 - val_loss: 0.8421 - val_accuracy: 0.6316\n",
      "Epoch 30/200\n",
      "12/12 [==============================] - 1s 71ms/step - loss: 0.8121 - accuracy: 0.6123 - val_loss: 0.8613 - val_accuracy: 0.6039\n",
      "Epoch 31/200\n",
      "12/12 [==============================] - 1s 76ms/step - loss: 0.8106 - accuracy: 0.6325 - val_loss: 0.8454 - val_accuracy: 0.6399\n",
      "Epoch 32/200\n",
      "12/12 [==============================] - 1s 71ms/step - loss: 0.8106 - accuracy: 0.6241 - val_loss: 0.8323 - val_accuracy: 0.6343\n",
      "Epoch 33/200\n",
      "12/12 [==============================] - 1s 70ms/step - loss: 0.7943 - accuracy: 0.6373 - val_loss: 0.8301 - val_accuracy: 0.6260\n",
      "Epoch 34/200\n",
      "12/12 [==============================] - 1s 71ms/step - loss: 0.7886 - accuracy: 0.6366 - val_loss: 0.8342 - val_accuracy: 0.6122\n",
      "Epoch 35/200\n",
      "12/12 [==============================] - 1s 78ms/step - loss: 0.7918 - accuracy: 0.6498 - val_loss: 0.8453 - val_accuracy: 0.6150\n",
      "Epoch 36/200\n",
      "12/12 [==============================] - 1s 71ms/step - loss: 0.7815 - accuracy: 0.6442 - val_loss: 0.8054 - val_accuracy: 0.6399\n",
      "Epoch 37/200\n",
      "12/12 [==============================] - 1s 71ms/step - loss: 0.7709 - accuracy: 0.6484 - val_loss: 0.8198 - val_accuracy: 0.6316\n",
      "Epoch 38/200\n",
      "12/12 [==============================] - 1s 71ms/step - loss: 0.7601 - accuracy: 0.6595 - val_loss: 0.8215 - val_accuracy: 0.6343\n",
      "Epoch 39/200\n",
      "12/12 [==============================] - 1s 77ms/step - loss: 0.7688 - accuracy: 0.6630 - val_loss: 0.8311 - val_accuracy: 0.6177\n",
      "Epoch 40/200\n",
      "12/12 [==============================] - 1s 72ms/step - loss: 0.7595 - accuracy: 0.6637 - val_loss: 0.7917 - val_accuracy: 0.6648\n",
      "Epoch 41/200\n",
      "12/12 [==============================] - 1s 72ms/step - loss: 0.7448 - accuracy: 0.6810 - val_loss: 0.7913 - val_accuracy: 0.6482\n",
      "Epoch 42/200\n",
      "12/12 [==============================] - 1s 71ms/step - loss: 0.7479 - accuracy: 0.6692 - val_loss: 0.7973 - val_accuracy: 0.6482\n",
      "Epoch 43/200\n",
      "12/12 [==============================] - 1s 77ms/step - loss: 0.7347 - accuracy: 0.6678 - val_loss: 0.8213 - val_accuracy: 0.6593\n",
      "Epoch 44/200\n",
      "12/12 [==============================] - 1s 71ms/step - loss: 0.7501 - accuracy: 0.6616 - val_loss: 0.7875 - val_accuracy: 0.6510\n",
      "Epoch 45/200\n",
      "12/12 [==============================] - 1s 70ms/step - loss: 0.7260 - accuracy: 0.6810 - val_loss: 0.7627 - val_accuracy: 0.6620\n",
      "Epoch 46/200\n",
      "12/12 [==============================] - 1s 74ms/step - loss: 0.7203 - accuracy: 0.6796 - val_loss: 0.7803 - val_accuracy: 0.6620\n",
      "Epoch 47/200\n",
      "12/12 [==============================] - 1s 83ms/step - loss: 0.7127 - accuracy: 0.6921 - val_loss: 0.7816 - val_accuracy: 0.6537\n",
      "Epoch 48/200\n",
      "12/12 [==============================] - 1s 73ms/step - loss: 0.7099 - accuracy: 0.6893 - val_loss: 0.7668 - val_accuracy: 0.6676\n",
      "Epoch 49/200\n",
      "12/12 [==============================] - 1s 75ms/step - loss: 0.7186 - accuracy: 0.6914 - val_loss: 0.7945 - val_accuracy: 0.6787\n",
      "Epoch 50/200\n",
      "12/12 [==============================] - 1s 75ms/step - loss: 0.6940 - accuracy: 0.7011 - val_loss: 0.7575 - val_accuracy: 0.6787\n",
      "Epoch 51/200\n",
      "12/12 [==============================] - 1s 81ms/step - loss: 0.6903 - accuracy: 0.6969 - val_loss: 0.7595 - val_accuracy: 0.6925\n",
      "Epoch 52/200\n",
      "12/12 [==============================] - 1s 74ms/step - loss: 0.7043 - accuracy: 0.6956 - val_loss: 0.7561 - val_accuracy: 0.6953\n",
      "Epoch 53/200\n",
      "12/12 [==============================] - 1s 76ms/step - loss: 0.6844 - accuracy: 0.7025 - val_loss: 0.7506 - val_accuracy: 0.7036\n",
      "Epoch 54/200\n",
      "12/12 [==============================] - 1s 74ms/step - loss: 0.6611 - accuracy: 0.7053 - val_loss: 0.7400 - val_accuracy: 0.6925\n",
      "Epoch 55/200\n",
      "12/12 [==============================] - 1s 82ms/step - loss: 0.6618 - accuracy: 0.7178 - val_loss: 0.7472 - val_accuracy: 0.6981\n",
      "Epoch 56/200\n",
      "12/12 [==============================] - 1s 77ms/step - loss: 0.6515 - accuracy: 0.7205 - val_loss: 0.7189 - val_accuracy: 0.7202\n",
      "Epoch 57/200\n",
      "12/12 [==============================] - 1s 73ms/step - loss: 0.6633 - accuracy: 0.7018 - val_loss: 0.7881 - val_accuracy: 0.6787\n",
      "Epoch 58/200\n",
      "12/12 [==============================] - 1s 71ms/step - loss: 0.6597 - accuracy: 0.7191 - val_loss: 0.7448 - val_accuracy: 0.7008\n",
      "Epoch 59/200\n",
      "12/12 [==============================] - 1s 80ms/step - loss: 0.6864 - accuracy: 0.7046 - val_loss: 0.8065 - val_accuracy: 0.6648\n",
      "Epoch 60/200\n",
      "12/12 [==============================] - 1s 72ms/step - loss: 0.6722 - accuracy: 0.7039 - val_loss: 0.7807 - val_accuracy: 0.6565\n",
      "Epoch 61/200\n",
      "12/12 [==============================] - 1s 71ms/step - loss: 0.6663 - accuracy: 0.7129 - val_loss: 0.7437 - val_accuracy: 0.7008\n",
      "Epoch 62/200\n",
      "12/12 [==============================] - 1s 71ms/step - loss: 0.6526 - accuracy: 0.7240 - val_loss: 0.7451 - val_accuracy: 0.6814\n",
      "Epoch 63/200\n",
      "12/12 [==============================] - 1s 76ms/step - loss: 0.6495 - accuracy: 0.7295 - val_loss: 0.7512 - val_accuracy: 0.6981\n",
      "Epoch 64/200\n",
      "12/12 [==============================] - 1s 70ms/step - loss: 0.6286 - accuracy: 0.7351 - val_loss: 0.7037 - val_accuracy: 0.7091\n",
      "Epoch 65/200\n",
      "12/12 [==============================] - 1s 72ms/step - loss: 0.6052 - accuracy: 0.7552 - val_loss: 0.7098 - val_accuracy: 0.7091\n",
      "Epoch 66/200\n",
      "12/12 [==============================] - 1s 72ms/step - loss: 0.6041 - accuracy: 0.7386 - val_loss: 0.7064 - val_accuracy: 0.7036\n",
      "Epoch 67/200\n",
      "12/12 [==============================] - 1s 73ms/step - loss: 0.6113 - accuracy: 0.7434 - val_loss: 0.6926 - val_accuracy: 0.7064\n",
      "Epoch 68/200\n",
      "12/12 [==============================] - 1s 72ms/step - loss: 0.6147 - accuracy: 0.7462 - val_loss: 0.7279 - val_accuracy: 0.6898\n",
      "Epoch 69/200\n",
      "12/12 [==============================] - 1s 71ms/step - loss: 0.6208 - accuracy: 0.7309 - val_loss: 0.7212 - val_accuracy: 0.6953\n",
      "Epoch 70/200\n",
      "12/12 [==============================] - 1s 70ms/step - loss: 0.6063 - accuracy: 0.7406 - val_loss: 0.6876 - val_accuracy: 0.7119\n",
      "Epoch 71/200\n",
      "12/12 [==============================] - 1s 78ms/step - loss: 0.5797 - accuracy: 0.7607 - val_loss: 0.6979 - val_accuracy: 0.7313\n",
      "Epoch 72/200\n",
      "12/12 [==============================] - 1s 71ms/step - loss: 0.5811 - accuracy: 0.7614 - val_loss: 0.6949 - val_accuracy: 0.7175\n",
      "Epoch 73/200\n",
      "12/12 [==============================] - 1s 70ms/step - loss: 0.5811 - accuracy: 0.7566 - val_loss: 0.6850 - val_accuracy: 0.7285\n",
      "Epoch 74/200\n",
      "12/12 [==============================] - 1s 71ms/step - loss: 0.5921 - accuracy: 0.7621 - val_loss: 0.6924 - val_accuracy: 0.7230\n",
      "Epoch 75/200\n",
      "12/12 [==============================] - 1s 73ms/step - loss: 0.5708 - accuracy: 0.7642 - val_loss: 0.6937 - val_accuracy: 0.6898\n",
      "Epoch 76/200\n",
      "12/12 [==============================] - 1s 71ms/step - loss: 0.5755 - accuracy: 0.7614 - val_loss: 0.6852 - val_accuracy: 0.7008\n",
      "Epoch 77/200\n",
      "12/12 [==============================] - 1s 72ms/step - loss: 0.5649 - accuracy: 0.7663 - val_loss: 0.6510 - val_accuracy: 0.7285\n",
      "Epoch 78/200\n",
      "12/12 [==============================] - 1s 71ms/step - loss: 0.5353 - accuracy: 0.7816 - val_loss: 0.7249 - val_accuracy: 0.7119\n",
      "Epoch 79/200\n",
      "12/12 [==============================] - 1s 75ms/step - loss: 0.5417 - accuracy: 0.7809 - val_loss: 0.6476 - val_accuracy: 0.7396\n",
      "Epoch 80/200\n",
      "12/12 [==============================] - 1s 71ms/step - loss: 0.5498 - accuracy: 0.7802 - val_loss: 0.6802 - val_accuracy: 0.7119\n",
      "Epoch 81/200\n",
      "12/12 [==============================] - 1s 71ms/step - loss: 0.5571 - accuracy: 0.7712 - val_loss: 0.6800 - val_accuracy: 0.7285\n",
      "Epoch 82/200\n",
      "12/12 [==============================] - 1s 71ms/step - loss: 0.5381 - accuracy: 0.7816 - val_loss: 0.6580 - val_accuracy: 0.7424\n",
      "Epoch 83/200\n",
      "12/12 [==============================] - 1s 79ms/step - loss: 0.5634 - accuracy: 0.7635 - val_loss: 0.6707 - val_accuracy: 0.7341\n",
      "Epoch 84/200\n",
      "12/12 [==============================] - 1s 71ms/step - loss: 0.5224 - accuracy: 0.7822 - val_loss: 0.6773 - val_accuracy: 0.7313\n",
      "Epoch 85/200\n",
      "12/12 [==============================] - 1s 71ms/step - loss: 0.5239 - accuracy: 0.7885 - val_loss: 0.6737 - val_accuracy: 0.7452\n",
      "Epoch 86/200\n",
      "12/12 [==============================] - 1s 70ms/step - loss: 0.5115 - accuracy: 0.7975 - val_loss: 0.6586 - val_accuracy: 0.7701\n",
      "Epoch 87/200\n",
      "12/12 [==============================] - 1s 77ms/step - loss: 0.5332 - accuracy: 0.7816 - val_loss: 0.6673 - val_accuracy: 0.7396\n",
      "Epoch 88/200\n",
      "12/12 [==============================] - 1s 72ms/step - loss: 0.5082 - accuracy: 0.7926 - val_loss: 0.6675 - val_accuracy: 0.7507\n",
      "Epoch 89/200\n",
      "12/12 [==============================] - 1s 70ms/step - loss: 0.5127 - accuracy: 0.8017 - val_loss: 0.6905 - val_accuracy: 0.6870\n",
      "Epoch 90/200\n",
      "12/12 [==============================] - 1s 73ms/step - loss: 0.5225 - accuracy: 0.7829 - val_loss: 0.6549 - val_accuracy: 0.7452\n",
      "Epoch 91/200\n",
      "12/12 [==============================] - 1s 72ms/step - loss: 0.5023 - accuracy: 0.7996 - val_loss: 0.6225 - val_accuracy: 0.7535\n",
      "Epoch 92/200\n",
      "12/12 [==============================] - 1s 72ms/step - loss: 0.4956 - accuracy: 0.8107 - val_loss: 0.6417 - val_accuracy: 0.7562\n",
      "Epoch 93/200\n",
      "12/12 [==============================] - 1s 71ms/step - loss: 0.4697 - accuracy: 0.8162 - val_loss: 0.6192 - val_accuracy: 0.7479\n",
      "Epoch 94/200\n",
      "12/12 [==============================] - 1s 76ms/step - loss: 0.4763 - accuracy: 0.8031 - val_loss: 0.6387 - val_accuracy: 0.7645\n",
      "Epoch 95/200\n",
      "12/12 [==============================] - 1s 71ms/step - loss: 0.4724 - accuracy: 0.8176 - val_loss: 0.6171 - val_accuracy: 0.7562\n",
      "Epoch 96/200\n",
      "12/12 [==============================] - 1s 70ms/step - loss: 0.4847 - accuracy: 0.8037 - val_loss: 0.6601 - val_accuracy: 0.7258\n",
      "Epoch 97/200\n",
      "12/12 [==============================] - 1s 70ms/step - loss: 0.4957 - accuracy: 0.8079 - val_loss: 0.5977 - val_accuracy: 0.7507\n",
      "Epoch 98/200\n",
      "12/12 [==============================] - 1s 74ms/step - loss: 0.4888 - accuracy: 0.8121 - val_loss: 0.6527 - val_accuracy: 0.7562\n",
      "Epoch 99/200\n",
      "12/12 [==============================] - 1s 71ms/step - loss: 0.4622 - accuracy: 0.8225 - val_loss: 0.6498 - val_accuracy: 0.7618\n",
      "Epoch 100/200\n",
      "12/12 [==============================] - 1s 71ms/step - loss: 0.4797 - accuracy: 0.8128 - val_loss: 0.6336 - val_accuracy: 0.7452\n",
      "Epoch 101/200\n",
      "12/12 [==============================] - 1s 76ms/step - loss: 0.4528 - accuracy: 0.8211 - val_loss: 0.6377 - val_accuracy: 0.7590\n",
      "Epoch 102/200\n",
      "12/12 [==============================] - 1s 70ms/step - loss: 0.4323 - accuracy: 0.8294 - val_loss: 0.7007 - val_accuracy: 0.7452\n",
      "Epoch 103/200\n",
      "12/12 [==============================] - 1s 71ms/step - loss: 0.4861 - accuracy: 0.8148 - val_loss: 0.6222 - val_accuracy: 0.7618\n",
      "Epoch 104/200\n",
      "12/12 [==============================] - 1s 71ms/step - loss: 0.4696 - accuracy: 0.8086 - val_loss: 0.6363 - val_accuracy: 0.7812\n",
      "Epoch 105/200\n",
      "12/12 [==============================] - 1s 77ms/step - loss: 0.4591 - accuracy: 0.8218 - val_loss: 0.6215 - val_accuracy: 0.7535\n",
      "Epoch 106/200\n",
      "12/12 [==============================] - 1s 70ms/step - loss: 0.4161 - accuracy: 0.8447 - val_loss: 0.6174 - val_accuracy: 0.7922\n",
      "Epoch 107/200\n",
      "12/12 [==============================] - 1s 70ms/step - loss: 0.4161 - accuracy: 0.8398 - val_loss: 0.5960 - val_accuracy: 0.7867\n",
      "Epoch 108/200\n",
      "12/12 [==============================] - 1s 91ms/step - loss: 0.4214 - accuracy: 0.8384 - val_loss: 0.6278 - val_accuracy: 0.7618\n",
      "Epoch 109/200\n",
      "12/12 [==============================] - 1s 75ms/step - loss: 0.4310 - accuracy: 0.8384 - val_loss: 0.6231 - val_accuracy: 0.7784\n",
      "Epoch 110/200\n",
      "12/12 [==============================] - 1s 72ms/step - loss: 0.4200 - accuracy: 0.8398 - val_loss: 0.6103 - val_accuracy: 0.7729\n",
      "Epoch 111/200\n",
      "12/12 [==============================] - 1s 70ms/step - loss: 0.4589 - accuracy: 0.8239 - val_loss: 0.6630 - val_accuracy: 0.7673\n",
      "Epoch 112/200\n",
      "12/12 [==============================] - 1s 77ms/step - loss: 0.4266 - accuracy: 0.8343 - val_loss: 0.5730 - val_accuracy: 0.7673\n",
      "Epoch 113/200\n",
      "12/12 [==============================] - 1s 73ms/step - loss: 0.4357 - accuracy: 0.8280 - val_loss: 0.6234 - val_accuracy: 0.7867\n",
      "Epoch 114/200\n",
      "12/12 [==============================] - 1s 71ms/step - loss: 0.4087 - accuracy: 0.8454 - val_loss: 0.6378 - val_accuracy: 0.7535\n",
      "Epoch 115/200\n",
      "12/12 [==============================] - 1s 70ms/step - loss: 0.4320 - accuracy: 0.8336 - val_loss: 0.6350 - val_accuracy: 0.7673\n",
      "Epoch 116/200\n",
      "12/12 [==============================] - 1s 77ms/step - loss: 0.4334 - accuracy: 0.8301 - val_loss: 0.6097 - val_accuracy: 0.7922\n",
      "Epoch 117/200\n",
      "12/12 [==============================] - 1s 70ms/step - loss: 0.4081 - accuracy: 0.8474 - val_loss: 0.5749 - val_accuracy: 0.7673\n",
      "Epoch 118/200\n",
      "12/12 [==============================] - 1s 72ms/step - loss: 0.3939 - accuracy: 0.8474 - val_loss: 0.6305 - val_accuracy: 0.7535\n",
      "Epoch 119/200\n",
      "12/12 [==============================] - 1s 77ms/step - loss: 0.4187 - accuracy: 0.8287 - val_loss: 0.6060 - val_accuracy: 0.7812\n",
      "Epoch 120/200\n",
      "12/12 [==============================] - 1s 71ms/step - loss: 0.4313 - accuracy: 0.8232 - val_loss: 0.6121 - val_accuracy: 0.7950\n",
      "Epoch 121/200\n",
      "12/12 [==============================] - 1s 72ms/step - loss: 0.4041 - accuracy: 0.8356 - val_loss: 0.6156 - val_accuracy: 0.7701\n",
      "Epoch 122/200\n",
      "12/12 [==============================] - 1s 71ms/step - loss: 0.4094 - accuracy: 0.8454 - val_loss: 0.5911 - val_accuracy: 0.8006\n",
      "Epoch 123/200\n",
      "12/12 [==============================] - 1s 78ms/step - loss: 0.4075 - accuracy: 0.8308 - val_loss: 0.6176 - val_accuracy: 0.7701\n",
      "Epoch 124/200\n",
      "12/12 [==============================] - 1s 70ms/step - loss: 0.3907 - accuracy: 0.8433 - val_loss: 0.6134 - val_accuracy: 0.7812\n",
      "Epoch 125/200\n",
      "12/12 [==============================] - 1s 71ms/step - loss: 0.4112 - accuracy: 0.8315 - val_loss: 0.6338 - val_accuracy: 0.7618\n",
      "Epoch 126/200\n",
      "12/12 [==============================] - 1s 70ms/step - loss: 0.3951 - accuracy: 0.8447 - val_loss: 0.6148 - val_accuracy: 0.7812\n",
      "Epoch 127/200\n",
      "12/12 [==============================] - 1s 73ms/step - loss: 0.3757 - accuracy: 0.8620 - val_loss: 0.5925 - val_accuracy: 0.8006\n",
      "Epoch 128/200\n",
      "12/12 [==============================] - 1s 70ms/step - loss: 0.3524 - accuracy: 0.8682 - val_loss: 0.6457 - val_accuracy: 0.7701\n",
      "Epoch 129/200\n",
      "12/12 [==============================] - 1s 71ms/step - loss: 0.3902 - accuracy: 0.8537 - val_loss: 0.6714 - val_accuracy: 0.7424\n",
      "Epoch 130/200\n",
      "12/12 [==============================] - 1s 76ms/step - loss: 0.4041 - accuracy: 0.8447 - val_loss: 0.5532 - val_accuracy: 0.7895\n",
      "Epoch 131/200\n",
      "12/12 [==============================] - 1s 72ms/step - loss: 0.3602 - accuracy: 0.8641 - val_loss: 0.6060 - val_accuracy: 0.8116\n",
      "Epoch 132/200\n",
      "12/12 [==============================] - 1s 72ms/step - loss: 0.3394 - accuracy: 0.8766 - val_loss: 0.5984 - val_accuracy: 0.7839\n",
      "Epoch 133/200\n",
      "12/12 [==============================] - 1s 71ms/step - loss: 0.3442 - accuracy: 0.8641 - val_loss: 0.5961 - val_accuracy: 0.7922\n",
      "Epoch 134/200\n",
      "12/12 [==============================] - 1s 75ms/step - loss: 0.3593 - accuracy: 0.8731 - val_loss: 0.6323 - val_accuracy: 0.7839\n",
      "Epoch 135/200\n",
      "12/12 [==============================] - 1s 71ms/step - loss: 0.3688 - accuracy: 0.8592 - val_loss: 0.6352 - val_accuracy: 0.7729\n",
      "Epoch 136/200\n",
      "12/12 [==============================] - 1s 71ms/step - loss: 0.3966 - accuracy: 0.8571 - val_loss: 0.6678 - val_accuracy: 0.7839\n",
      "Epoch 137/200\n",
      "12/12 [==============================] - 1s 77ms/step - loss: 0.3427 - accuracy: 0.8759 - val_loss: 0.5886 - val_accuracy: 0.7784\n",
      "Epoch 138/200\n",
      "12/12 [==============================] - 1s 72ms/step - loss: 0.3487 - accuracy: 0.8641 - val_loss: 0.6298 - val_accuracy: 0.7812\n",
      "Epoch 139/200\n",
      "12/12 [==============================] - 1s 70ms/step - loss: 0.3580 - accuracy: 0.8689 - val_loss: 0.5909 - val_accuracy: 0.7812\n",
      "Epoch 140/200\n",
      "12/12 [==============================] - 1s 71ms/step - loss: 0.3540 - accuracy: 0.8662 - val_loss: 0.6095 - val_accuracy: 0.7673\n",
      "Epoch 141/200\n",
      "12/12 [==============================] - 1s 79ms/step - loss: 0.3383 - accuracy: 0.8724 - val_loss: 0.6080 - val_accuracy: 0.8061\n",
      "Epoch 142/200\n",
      "12/12 [==============================] - 1s 70ms/step - loss: 0.3563 - accuracy: 0.8655 - val_loss: 0.6299 - val_accuracy: 0.7756\n",
      "Epoch 143/200\n",
      "12/12 [==============================] - 1s 71ms/step - loss: 0.3680 - accuracy: 0.8516 - val_loss: 0.6198 - val_accuracy: 0.7978\n",
      "Epoch 144/200\n",
      "12/12 [==============================] - 1s 71ms/step - loss: 0.3310 - accuracy: 0.8807 - val_loss: 0.5790 - val_accuracy: 0.7895\n",
      "Epoch 145/200\n",
      "12/12 [==============================] - 1s 72ms/step - loss: 0.3128 - accuracy: 0.8821 - val_loss: 0.5560 - val_accuracy: 0.8061\n",
      "Epoch 146/200\n",
      "12/12 [==============================] - 1s 71ms/step - loss: 0.3133 - accuracy: 0.8752 - val_loss: 0.5952 - val_accuracy: 0.8033\n",
      "Epoch 147/200\n",
      "12/12 [==============================] - 1s 73ms/step - loss: 0.3073 - accuracy: 0.8883 - val_loss: 0.5627 - val_accuracy: 0.8172\n",
      "Epoch 148/200\n",
      "12/12 [==============================] - 1s 78ms/step - loss: 0.3188 - accuracy: 0.8835 - val_loss: 0.5797 - val_accuracy: 0.7922\n",
      "Epoch 149/200\n",
      "12/12 [==============================] - 1s 71ms/step - loss: 0.3035 - accuracy: 0.8877 - val_loss: 0.5679 - val_accuracy: 0.7839\n",
      "Epoch 150/200\n",
      "12/12 [==============================] - 1s 70ms/step - loss: 0.3131 - accuracy: 0.8807 - val_loss: 0.5459 - val_accuracy: 0.8144\n",
      "Epoch 151/200\n",
      "12/12 [==============================] - 1s 71ms/step - loss: 0.3325 - accuracy: 0.8689 - val_loss: 0.5676 - val_accuracy: 0.8033\n",
      "Epoch 152/200\n",
      "12/12 [==============================] - 1s 77ms/step - loss: 0.3276 - accuracy: 0.8682 - val_loss: 0.5723 - val_accuracy: 0.8144\n",
      "Epoch 153/200\n",
      "12/12 [==============================] - 1s 71ms/step - loss: 0.3077 - accuracy: 0.8883 - val_loss: 0.5928 - val_accuracy: 0.7867\n",
      "Epoch 154/200\n",
      "12/12 [==============================] - 1s 72ms/step - loss: 0.2812 - accuracy: 0.8953 - val_loss: 0.5684 - val_accuracy: 0.8199\n",
      "Epoch 155/200\n",
      "12/12 [==============================] - 1s 76ms/step - loss: 0.3110 - accuracy: 0.8793 - val_loss: 0.5974 - val_accuracy: 0.8116\n",
      "Epoch 156/200\n",
      "12/12 [==============================] - 1s 71ms/step - loss: 0.2926 - accuracy: 0.8870 - val_loss: 0.6216 - val_accuracy: 0.8033\n",
      "Epoch 157/200\n",
      "12/12 [==============================] - 1s 71ms/step - loss: 0.3247 - accuracy: 0.8717 - val_loss: 0.6207 - val_accuracy: 0.8006\n",
      "Epoch 158/200\n",
      "12/12 [==============================] - 1s 79ms/step - loss: 0.3382 - accuracy: 0.8655 - val_loss: 0.5631 - val_accuracy: 0.7978\n",
      "Epoch 159/200\n",
      "12/12 [==============================] - 1s 72ms/step - loss: 0.2968 - accuracy: 0.8883 - val_loss: 0.5797 - val_accuracy: 0.8255\n",
      "Epoch 160/200\n",
      "12/12 [==============================] - 1s 71ms/step - loss: 0.2943 - accuracy: 0.8890 - val_loss: 0.5614 - val_accuracy: 0.8116\n",
      "Epoch 161/200\n",
      "12/12 [==============================] - 1s 76ms/step - loss: 0.3043 - accuracy: 0.8870 - val_loss: 0.6392 - val_accuracy: 0.7867\n",
      "Epoch 162/200\n",
      "12/12 [==============================] - 1s 70ms/step - loss: 0.3282 - accuracy: 0.8689 - val_loss: 0.5837 - val_accuracy: 0.8061\n",
      "Epoch 163/200\n",
      "12/12 [==============================] - 1s 70ms/step - loss: 0.3032 - accuracy: 0.8849 - val_loss: 0.5992 - val_accuracy: 0.8033\n",
      "Epoch 164/200\n",
      "12/12 [==============================] - 1s 72ms/step - loss: 0.2669 - accuracy: 0.8925 - val_loss: 0.5861 - val_accuracy: 0.8227\n",
      "Epoch 165/200\n",
      "12/12 [==============================] - 1s 77ms/step - loss: 0.2718 - accuracy: 0.9001 - val_loss: 0.5976 - val_accuracy: 0.8116\n",
      "Epoch 166/200\n",
      "12/12 [==============================] - 1s 71ms/step - loss: 0.2664 - accuracy: 0.8988 - val_loss: 0.5844 - val_accuracy: 0.8255\n",
      "Epoch 167/200\n",
      "12/12 [==============================] - 1s 71ms/step - loss: 0.2770 - accuracy: 0.8988 - val_loss: 0.5699 - val_accuracy: 0.8283\n",
      "Epoch 168/200\n",
      "12/12 [==============================] - 1s 77ms/step - loss: 0.2729 - accuracy: 0.9008 - val_loss: 0.6141 - val_accuracy: 0.8033\n",
      "Epoch 169/200\n",
      "12/12 [==============================] - 1s 71ms/step - loss: 0.2718 - accuracy: 0.9029 - val_loss: 0.6070 - val_accuracy: 0.8310\n",
      "Epoch 170/200\n",
      "12/12 [==============================] - 1s 71ms/step - loss: 0.2611 - accuracy: 0.8981 - val_loss: 0.5688 - val_accuracy: 0.8144\n",
      "Epoch 171/200\n",
      "12/12 [==============================] - 1s 76ms/step - loss: 0.2880 - accuracy: 0.8911 - val_loss: 0.5871 - val_accuracy: 0.8006\n",
      "Epoch 172/200\n",
      "12/12 [==============================] - 1s 70ms/step - loss: 0.2547 - accuracy: 0.9105 - val_loss: 0.5743 - val_accuracy: 0.8199\n",
      "Epoch 173/200\n",
      "12/12 [==============================] - 1s 71ms/step - loss: 0.2726 - accuracy: 0.8960 - val_loss: 0.6227 - val_accuracy: 0.7978\n",
      "Epoch 174/200\n",
      "12/12 [==============================] - 1s 76ms/step - loss: 0.2955 - accuracy: 0.8918 - val_loss: 0.6247 - val_accuracy: 0.8033\n",
      "Epoch 175/200\n",
      "12/12 [==============================] - 1s 70ms/step - loss: 0.2827 - accuracy: 0.8988 - val_loss: 0.5553 - val_accuracy: 0.8172\n",
      "Epoch 176/200\n",
      "12/12 [==============================] - 1s 74ms/step - loss: 0.2735 - accuracy: 0.9008 - val_loss: 0.5581 - val_accuracy: 0.8199\n",
      "Epoch 177/200\n",
      "12/12 [==============================] - 1s 76ms/step - loss: 0.2633 - accuracy: 0.9050 - val_loss: 0.6273 - val_accuracy: 0.8283\n",
      "Epoch 178/200\n",
      "12/12 [==============================] - 1s 70ms/step - loss: 0.2461 - accuracy: 0.9105 - val_loss: 0.6096 - val_accuracy: 0.7978\n",
      "Epoch 179/200\n",
      "12/12 [==============================] - 1s 70ms/step - loss: 0.2539 - accuracy: 0.9098 - val_loss: 0.6229 - val_accuracy: 0.8033\n",
      "Epoch 180/200\n",
      "12/12 [==============================] - 1s 69ms/step - loss: 0.2635 - accuracy: 0.9001 - val_loss: 0.6094 - val_accuracy: 0.8255\n",
      "Epoch 181/200\n",
      "12/12 [==============================] - 1s 75ms/step - loss: 0.2626 - accuracy: 0.9015 - val_loss: 0.5426 - val_accuracy: 0.8310\n",
      "Epoch 182/200\n",
      "12/12 [==============================] - 1s 69ms/step - loss: 0.2472 - accuracy: 0.9064 - val_loss: 0.5822 - val_accuracy: 0.8172\n",
      "Epoch 183/200\n",
      "12/12 [==============================] - 1s 70ms/step - loss: 0.2407 - accuracy: 0.9119 - val_loss: 0.6234 - val_accuracy: 0.8449\n",
      "Epoch 184/200\n",
      "12/12 [==============================] - 1s 69ms/step - loss: 0.2796 - accuracy: 0.8974 - val_loss: 0.5969 - val_accuracy: 0.8061\n",
      "Epoch 185/200\n",
      "12/12 [==============================] - 1s 75ms/step - loss: 0.2574 - accuracy: 0.9001 - val_loss: 0.6254 - val_accuracy: 0.7839\n",
      "Epoch 186/200\n",
      "12/12 [==============================] - 1s 69ms/step - loss: 0.2857 - accuracy: 0.8918 - val_loss: 0.5957 - val_accuracy: 0.8421\n",
      "Epoch 187/200\n",
      "12/12 [==============================] - 1s 69ms/step - loss: 0.2633 - accuracy: 0.8946 - val_loss: 0.6422 - val_accuracy: 0.8199\n",
      "Epoch 188/200\n",
      "12/12 [==============================] - 1s 70ms/step - loss: 0.2832 - accuracy: 0.8911 - val_loss: 0.5718 - val_accuracy: 0.8227\n",
      "Epoch 189/200\n",
      "12/12 [==============================] - 1s 75ms/step - loss: 0.2373 - accuracy: 0.9161 - val_loss: 0.5845 - val_accuracy: 0.8227\n",
      "Epoch 190/200\n",
      "12/12 [==============================] - 1s 69ms/step - loss: 0.2227 - accuracy: 0.9202 - val_loss: 0.6179 - val_accuracy: 0.8310\n",
      "Epoch 191/200\n",
      "12/12 [==============================] - 1s 69ms/step - loss: 0.2410 - accuracy: 0.9154 - val_loss: 0.6346 - val_accuracy: 0.8227\n",
      "Epoch 192/200\n",
      "12/12 [==============================] - 1s 69ms/step - loss: 0.2525 - accuracy: 0.9008 - val_loss: 0.5660 - val_accuracy: 0.8366\n",
      "Epoch 193/200\n",
      "12/12 [==============================] - 1s 75ms/step - loss: 0.2266 - accuracy: 0.9175 - val_loss: 0.6237 - val_accuracy: 0.8144\n",
      "Epoch 194/200\n",
      "12/12 [==============================] - 1s 76ms/step - loss: 0.2366 - accuracy: 0.9133 - val_loss: 0.6657 - val_accuracy: 0.8199\n",
      "Epoch 195/200\n",
      "12/12 [==============================] - 1s 71ms/step - loss: 0.2783 - accuracy: 0.8960 - val_loss: 0.6414 - val_accuracy: 0.8172\n",
      "Epoch 196/200\n",
      "12/12 [==============================] - 1s 70ms/step - loss: 0.2402 - accuracy: 0.9105 - val_loss: 0.5948 - val_accuracy: 0.8227\n",
      "Epoch 197/200\n",
      "12/12 [==============================] - 1s 76ms/step - loss: 0.2122 - accuracy: 0.9223 - val_loss: 0.6246 - val_accuracy: 0.8172\n",
      "Epoch 198/200\n",
      "12/12 [==============================] - 1s 69ms/step - loss: 0.2224 - accuracy: 0.9258 - val_loss: 0.6251 - val_accuracy: 0.8310\n",
      "Epoch 199/200\n",
      "12/12 [==============================] - 1s 69ms/step - loss: 0.2119 - accuracy: 0.9202 - val_loss: 0.6215 - val_accuracy: 0.8144\n",
      "Epoch 200/200\n",
      "12/12 [==============================] - 1s 69ms/step - loss: 0.2208 - accuracy: 0.9230 - val_loss: 0.5662 - val_accuracy: 0.8366\n"
     ]
    }
   ],
   "source": [
    "history = model.fit(\n",
    "    xtrain,\n",
    "    ytrain,\n",
    "    batch_size = 128,\n",
    "    epochs = 200,\n",
    "    validation_data=(xval,yval),\n",
    "    verbose=1,callbacks=[es]\n",
    "    )"
   ]
  },
  {
   "cell_type": "markdown",
   "metadata": {
    "id": "xQ2Koxsz0Zun"
   },
   "source": [
    "# chatgpt協助做訓練過程評估"
   ]
  },
  {
   "cell_type": "markdown",
   "metadata": {},
   "source": [
    "https://sharegpt.com/c/1CqBYQz"
   ]
  },
  {
   "cell_type": "code",
   "execution_count": 95,
   "metadata": {
    "colab": {
     "base_uri": "https://localhost:8080/",
     "height": 265
    },
    "id": "2SxJIEDzbaZ7",
    "outputId": "a497d834-d543-4515-ddca-128e29314047"
   },
   "outputs": [
    {
     "data": {
      "image/png": "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",
      "text/plain": [
       "<Figure size 640x480 with 2 Axes>"
      ]
     },
     "metadata": {},
     "output_type": "display_data"
    }
   ],
   "source": [
    "import matplotlib.pyplot as plt\n",
    "fig, ax = plt.subplots(2,1)\n",
    "ax[0].plot(history.history['loss'], color='b', label=\"Training loss\")\n",
    "ax[0].plot(history.history['val_loss'], color='r', label=\"Validation loss\",axes =ax[0])\n",
    "ax[0].grid(color='black', linestyle='-', linewidth=0.25)\n",
    "legend = ax[0].legend(loc='best', shadow=True)\n",
    "\n",
    "ax[1].plot(history.history['accuracy'], color='b', label=\"Training accuracy\")\n",
    "ax[1].plot(history.history['val_accuracy'], color='r',label=\"Validation accuracy\")\n",
    "ax[1].grid(color='black', linestyle='-', linewidth=0.25)\n",
    "legend = ax[1].legend(loc='best', shadow=True)"
   ]
  },
  {
   "cell_type": "markdown",
   "metadata": {
    "id": "zWVmgHz80cCp"
   },
   "source": [
    "# chatgpt協助做混淆矩陣"
   ]
  },
  {
   "cell_type": "markdown",
   "metadata": {},
   "source": [
    "https://sharegpt.com/c/0SZ8tM0"
   ]
  },
  {
   "cell_type": "code",
   "execution_count": 96,
   "metadata": {
    "colab": {
     "base_uri": "https://localhost:8080/",
     "height": 328
    },
    "id": "UH5CcmX6btme",
    "outputId": "7d92e0fe-f376-4a04-fc2a-6b7f16d4c946"
   },
   "outputs": [
    {
     "name": "stdout",
     "output_type": "stream",
     "text": [
      "12/12 [==============================] - 0s 5ms/step\n"
     ]
    },
    {
     "data": {
      "image/png": "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",
      "text/plain": [
       "<Figure size 640x480 with 2 Axes>"
      ]
     },
     "metadata": {},
     "output_type": "display_data"
    }
   ],
   "source": [
    "from sklearn.metrics import confusion_matrix\n",
    "import itertools\n",
    "\n",
    "def plot_confusion_matrix(cm, classes, normalize=False, title='Confusion matrix', cmap=plt.cm.Blues):\n",
    "    plt.imshow(cm, interpolation='nearest', cmap=cmap)\n",
    "    plt.title(title)\n",
    "    plt.colorbar()\n",
    "    tick_marks = np.arange(len(classes))\n",
    "    plt.xticks(tick_marks, classes, rotation=45)\n",
    "    plt.yticks(tick_marks, classes)\n",
    "    if normalize:\n",
    "        cm = cm.astype('float') / cm.sum(axis=1)[:, np.newaxis]\n",
    "    thresh = cm.max() / 2.\n",
    "    for i, j in itertools.product(range(cm.shape[0]), range(cm.shape[1])):\n",
    "        plt.text(j, i, cm[i, j],\n",
    "                 horizontalalignment=\"center\",\n",
    "                 color=\"white\" if cm[i, j] > thresh else \"black\")\n",
    "    plt.tight_layout()\n",
    "    plt.ylabel('True label')\n",
    "    plt.xlabel('Predicted label')\n",
    "\n",
    "#預測的y\n",
    "ypred_onehot = model.predict(xval)\n",
    "#轉換預測的y: [0 0 1 0 0 ...] --> 2\n",
    "ypred = np.argmax(ypred_onehot,axis=1)\n",
    "#轉換真實的y\n",
    "ytrue = np.argmax(yval,axis=1)\n",
    "#計算 confusion matrix\n",
    "confusion_mtx = confusion_matrix(ytrue, ypred)\n",
    "#畫出 confusion matrix\n",
    "nclasses = 3\n",
    "plot_confusion_matrix(confusion_mtx, classes=range(nclasses))"
   ]
  },
  {
   "cell_type": "markdown",
   "metadata": {
    "id": "PmgafP2rpjAO"
   },
   "source": [
    "# classification_report "
   ]
  },
  {
   "cell_type": "code",
   "execution_count": 97,
   "metadata": {
    "colab": {
     "base_uri": "https://localhost:8080/"
    },
    "id": "lCSuw9cYqEYk",
    "outputId": "12988b1c-4618-41aa-ec20-6b63e25b499a"
   },
   "outputs": [
    {
     "name": "stdout",
     "output_type": "stream",
     "text": [
      "12/12 [==============================] - 0s 5ms/step\n",
      "              precision    recall  f1-score   support\n",
      "\n",
      "        Hold       0.83      0.82      0.82       121\n",
      "         BUY       0.83      0.85      0.84       120\n",
      "        SELL       0.85      0.84      0.85       120\n",
      "\n",
      "   micro avg       0.84      0.84      0.84       361\n",
      "   macro avg       0.84      0.84      0.84       361\n",
      "weighted avg       0.84      0.84      0.84       361\n",
      " samples avg       0.84      0.84      0.84       361\n",
      "\n"
     ]
    }
   ],
   "source": [
    "from sklearn.metrics import classification_report \n",
    "y_pred = model.predict(xval)\n",
    "y_pred = [np.argmax(i) for i in y_pred]\n",
    "y_pred = to_categorical(y_pred, num_classes = 3)\n",
    "target_names = ['Hold','BUY','SELL']\n",
    "print(classification_report(yval,y_pred,target_names=target_names))"
   ]
  },
  {
   "cell_type": "markdown",
   "metadata": {
    "id": "wztZOw2r1ddE"
   },
   "source": [
    "# 驗證集的準確度"
   ]
  },
  {
   "cell_type": "code",
   "execution_count": 98,
   "metadata": {
    "colab": {
     "base_uri": "https://localhost:8080/"
    },
    "id": "dl9iTLBf2VOe",
    "outputId": "7455eb27-8073-4de9-f1f9-8dc718fa7e73"
   },
   "outputs": [
    {
     "data": {
      "text/plain": [
       "0.8365650969529086"
      ]
     },
     "execution_count": 98,
     "metadata": {},
     "output_type": "execute_result"
    }
   ],
   "source": [
    "def val_acc(yval,y_pred):\n",
    "  t = []\n",
    "  for i,j in zip(yval,y_pred):\n",
    "    t.append(np.allclose(i,j))\n",
    "  return np.mean(t)\n",
    "val_acc(yval,y_pred)"
   ]
  },
  {
   "cell_type": "markdown",
   "metadata": {
    "id": "togdM5Afo71w"
   },
   "source": [
    "## 測試集預測"
   ]
  },
  {
   "cell_type": "code",
   "execution_count": 99,
   "metadata": {
    "colab": {
     "base_uri": "https://localhost:8080/"
    },
    "id": "kQqzNPdQo8GW",
    "outputId": "91b19ef9-4e17-491c-aa11-3e8f9d65a21e"
   },
   "outputs": [
    {
     "name": "stdout",
     "output_type": "stream",
     "text": [
      "2/2 [==============================] - 0s 6ms/step\n",
      "40\n",
      "[*********************100%***********************]  1 of 1 completed\n"
     ]
    },
    {
     "data": {
      "text/plain": [
       "<matplotlib.collections.PathCollection at 0x23cdc93e4f0>"
      ]
     },
     "execution_count": 99,
     "metadata": {},
     "output_type": "execute_result"
    },
    {
     "data": {
      "image/png": "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",
      "text/plain": [
       "<Figure size 640x480 with 1 Axes>"
      ]
     },
     "metadata": {},
     "output_type": "display_data"
    }
   ],
   "source": [
    "answer = model.predict(X_test)\n",
    "answer = [ np.argmax(i) for i in answer]\n",
    "print(len(answer))\n",
    "C = pd.DataFrame()\n",
    "C['Close'] = pdr.get_data_yahoo(y_symbols, start=startdate, end=enddate)['Close']\n",
    "C['SIGNAL'] = 0\n",
    "C = C.tail(len(answer))\n",
    "C['SIGNAL'] = answer \n",
    "buy = C[C['SIGNAL']==1]['Close']\n",
    "sell = C[C['SIGNAL']==2]['Close']\n",
    "C['Close'].plot()\n",
    "plt.scatter(list(buy.index),list(buy.values),color='red',marker=\"^\")\n",
    "plt.scatter(list(sell.index),list(sell.values),color='black')"
   ]
  },
  {
   "cell_type": "markdown",
   "metadata": {},
   "source": [
    "# 製作交易訊號表格"
   ]
  },
  {
   "cell_type": "code",
   "execution_count": 100,
   "metadata": {
    "colab": {
     "base_uri": "https://localhost:8080/",
     "height": 290
    },
    "id": "Mhqp36TP3GPc",
    "outputId": "423849a7-b350-4c89-f307-2ce00a2851e2"
   },
   "outputs": [
    {
     "name": "stdout",
     "output_type": "stream",
     "text": [
      "2/2 [==============================] - 0s 6ms/step\n",
      "2/2 [==============================] - 0s 4ms/step\n",
      "2/2 [==============================] - 0s 6ms/step\n"
     ]
    },
    {
     "data": {
      "text/html": [
       "<div>\n",
       "<style scoped>\n",
       "    .dataframe tbody tr th:only-of-type {\n",
       "        vertical-align: middle;\n",
       "    }\n",
       "\n",
       "    .dataframe tbody tr th {\n",
       "        vertical-align: top;\n",
       "    }\n",
       "\n",
       "    .dataframe thead th {\n",
       "        text-align: right;\n",
       "    }\n",
       "</style>\n",
       "<table border=\"1\" class=\"dataframe\">\n",
       "  <thead>\n",
       "    <tr style=\"text-align: right;\">\n",
       "      <th></th>\n",
       "      <th>Close</th>\n",
       "      <th>HOLD%</th>\n",
       "      <th>BUY%</th>\n",
       "      <th>SELL%</th>\n",
       "    </tr>\n",
       "    <tr>\n",
       "      <th>Date</th>\n",
       "      <th></th>\n",
       "      <th></th>\n",
       "      <th></th>\n",
       "      <th></th>\n",
       "    </tr>\n",
       "  </thead>\n",
       "  <tbody>\n",
       "    <tr>\n",
       "      <th>2017-12-04</th>\n",
       "      <td>10651.1104</td>\n",
       "      <td>0.1863</td>\n",
       "      <td>0.8136</td>\n",
       "      <td>0.0001</td>\n",
       "    </tr>\n",
       "    <tr>\n",
       "      <th>2017-12-05</th>\n",
       "      <td>10566.8496</td>\n",
       "      <td>0.2491</td>\n",
       "      <td>0.7508</td>\n",
       "      <td>0.0000</td>\n",
       "    </tr>\n",
       "    <tr>\n",
       "      <th>2017-12-06</th>\n",
       "      <td>10393.9199</td>\n",
       "      <td>0.2827</td>\n",
       "      <td>0.7173</td>\n",
       "      <td>0.0000</td>\n",
       "    </tr>\n",
       "    <tr>\n",
       "      <th>2017-12-07</th>\n",
       "      <td>10355.7598</td>\n",
       "      <td>0.1796</td>\n",
       "      <td>0.8204</td>\n",
       "      <td>0.0000</td>\n",
       "    </tr>\n",
       "    <tr>\n",
       "      <th>2017-12-08</th>\n",
       "      <td>10398.6201</td>\n",
       "      <td>0.0755</td>\n",
       "      <td>0.9245</td>\n",
       "      <td>0.0000</td>\n",
       "    </tr>\n",
       "    <tr>\n",
       "      <th>2017-12-11</th>\n",
       "      <td>10473.0898</td>\n",
       "      <td>0.0145</td>\n",
       "      <td>0.9855</td>\n",
       "      <td>0.0000</td>\n",
       "    </tr>\n",
       "    <tr>\n",
       "      <th>2017-12-12</th>\n",
       "      <td>10443.2803</td>\n",
       "      <td>0.0094</td>\n",
       "      <td>0.9906</td>\n",
       "      <td>0.0000</td>\n",
       "    </tr>\n",
       "    <tr>\n",
       "      <th>2017-12-13</th>\n",
       "      <td>10470.7002</td>\n",
       "      <td>0.0158</td>\n",
       "      <td>0.9842</td>\n",
       "      <td>0.0000</td>\n",
       "    </tr>\n",
       "    <tr>\n",
       "      <th>2017-12-14</th>\n",
       "      <td>10538.0098</td>\n",
       "      <td>0.0209</td>\n",
       "      <td>0.9791</td>\n",
       "      <td>0.0000</td>\n",
       "    </tr>\n",
       "    <tr>\n",
       "      <th>2017-12-15</th>\n",
       "      <td>10491.4404</td>\n",
       "      <td>0.1200</td>\n",
       "      <td>0.8800</td>\n",
       "      <td>0.0000</td>\n",
       "    </tr>\n",
       "    <tr>\n",
       "      <th>2017-12-18</th>\n",
       "      <td>10506.5195</td>\n",
       "      <td>0.2363</td>\n",
       "      <td>0.7636</td>\n",
       "      <td>0.0001</td>\n",
       "    </tr>\n",
       "    <tr>\n",
       "      <th>2017-12-19</th>\n",
       "      <td>10467.3398</td>\n",
       "      <td>0.8767</td>\n",
       "      <td>0.1230</td>\n",
       "      <td>0.0003</td>\n",
       "    </tr>\n",
       "    <tr>\n",
       "      <th>2017-12-20</th>\n",
       "      <td>10504.5195</td>\n",
       "      <td>0.9911</td>\n",
       "      <td>0.0082</td>\n",
       "      <td>0.0008</td>\n",
       "    </tr>\n",
       "    <tr>\n",
       "      <th>2017-12-21</th>\n",
       "      <td>10488.9697</td>\n",
       "      <td>0.9972</td>\n",
       "      <td>0.0023</td>\n",
       "      <td>0.0005</td>\n",
       "    </tr>\n",
       "    <tr>\n",
       "      <th>2017-12-22</th>\n",
       "      <td>10537.2695</td>\n",
       "      <td>0.9984</td>\n",
       "      <td>0.0011</td>\n",
       "      <td>0.0005</td>\n",
       "    </tr>\n",
       "    <tr>\n",
       "      <th>2017-12-25</th>\n",
       "      <td>10522.4902</td>\n",
       "      <td>0.9921</td>\n",
       "      <td>0.0067</td>\n",
       "      <td>0.0011</td>\n",
       "    </tr>\n",
       "    <tr>\n",
       "      <th>2017-12-26</th>\n",
       "      <td>10421.9102</td>\n",
       "      <td>0.9068</td>\n",
       "      <td>0.0890</td>\n",
       "      <td>0.0043</td>\n",
       "    </tr>\n",
       "    <tr>\n",
       "      <th>2017-12-27</th>\n",
       "      <td>10486.6699</td>\n",
       "      <td>0.4243</td>\n",
       "      <td>0.5633</td>\n",
       "      <td>0.0124</td>\n",
       "    </tr>\n",
       "    <tr>\n",
       "      <th>2017-12-28</th>\n",
       "      <td>10567.6396</td>\n",
       "      <td>0.0634</td>\n",
       "      <td>0.9252</td>\n",
       "      <td>0.0114</td>\n",
       "    </tr>\n",
       "    <tr>\n",
       "      <th>2017-12-29</th>\n",
       "      <td>10642.8604</td>\n",
       "      <td>0.3161</td>\n",
       "      <td>0.5532</td>\n",
       "      <td>0.1306</td>\n",
       "    </tr>\n",
       "  </tbody>\n",
       "</table>\n",
       "</div>"
      ],
      "text/plain": [
       "                Close  HOLD%   BUY%  SELL%\n",
       "Date                                      \n",
       "2017-12-04 10651.1104 0.1863 0.8136 0.0001\n",
       "2017-12-05 10566.8496 0.2491 0.7508 0.0000\n",
       "2017-12-06 10393.9199 0.2827 0.7173 0.0000\n",
       "2017-12-07 10355.7598 0.1796 0.8204 0.0000\n",
       "2017-12-08 10398.6201 0.0755 0.9245 0.0000\n",
       "2017-12-11 10473.0898 0.0145 0.9855 0.0000\n",
       "2017-12-12 10443.2803 0.0094 0.9906 0.0000\n",
       "2017-12-13 10470.7002 0.0158 0.9842 0.0000\n",
       "2017-12-14 10538.0098 0.0209 0.9791 0.0000\n",
       "2017-12-15 10491.4404 0.1200 0.8800 0.0000\n",
       "2017-12-18 10506.5195 0.2363 0.7636 0.0001\n",
       "2017-12-19 10467.3398 0.8767 0.1230 0.0003\n",
       "2017-12-20 10504.5195 0.9911 0.0082 0.0008\n",
       "2017-12-21 10488.9697 0.9972 0.0023 0.0005\n",
       "2017-12-22 10537.2695 0.9984 0.0011 0.0005\n",
       "2017-12-25 10522.4902 0.9921 0.0067 0.0011\n",
       "2017-12-26 10421.9102 0.9068 0.0890 0.0043\n",
       "2017-12-27 10486.6699 0.4243 0.5633 0.0124\n",
       "2017-12-28 10567.6396 0.0634 0.9252 0.0114\n",
       "2017-12-29 10642.8604 0.3161 0.5532 0.1306"
      ]
     },
     "execution_count": 100,
     "metadata": {},
     "output_type": "execute_result"
    }
   ],
   "source": [
    "import pandas as pd\n",
    "# Set the float_format option to not use scientific notation\n",
    "pd.set_option('display.float_format', '{:.4f}'.format)\n",
    "np.set_printoptions(suppress=True)\n",
    "C['HOLD%'] = model.predict(X_test)[:,0]\n",
    "C['BUY%'] = model.predict(X_test)[:,1]\n",
    "C['SELL%'] = model.predict(X_test)[:,2]\n",
    "C.drop(['SIGNAL'],axis=1).tail(20)"
   ]
  },
  {
   "cell_type": "markdown",
   "metadata": {
    "id": "uzCeo-ctGg-o"
   },
   "source": [
    "# 保存模型"
   ]
  },
  {
   "cell_type": "code",
   "execution_count": 101,
   "metadata": {
    "id": "M2fvxlPnBG7r"
   },
   "outputs": [
    {
     "name": "stdout",
     "output_type": "stream",
     "text": [
      "2/2 [==============================] - 0s 5ms/step\n"
     ]
    },
    {
     "data": {
      "text/plain": [
       "array([[0.99213326, 0.00674147, 0.00112519],\n",
       "       [0.90676135, 0.08895899, 0.00427966],\n",
       "       [0.4242929 , 0.56333333, 0.01237378],\n",
       "       [0.06339464, 0.92523223, 0.01137304],\n",
       "       [0.31614643, 0.55324346, 0.13061017]], dtype=float32)"
      ]
     },
     "execution_count": 101,
     "metadata": {},
     "output_type": "execute_result"
    }
   ],
   "source": [
    "model.save('model.h5')\n",
    "del model\n",
    "from keras.models import load_model\n",
    "model = load_model('model.h5')\n",
    "predict = model.predict(X_test)\n",
    "predict[-5:]"
   ]
  },
  {
   "cell_type": "code",
   "execution_count": null,
   "metadata": {
    "id": "e51I2mMLHKe1"
   },
   "outputs": [],
   "source": []
  }
 ],
 "metadata": {
  "accelerator": "GPU",
  "colab": {
   "include_colab_link": true,
   "name": "CNN_stock.ipynb",
   "provenance": []
  },
  "kernelspec": {
   "display_name": "Python 3 (ipykernel)",
   "language": "python",
   "name": "python3"
  },
  "language_info": {
   "codemirror_mode": {
    "name": "ipython",
    "version": 3
   },
   "file_extension": ".py",
   "mimetype": "text/x-python",
   "name": "python",
   "nbconvert_exporter": "python",
   "pygments_lexer": "ipython3",
   "version": "3.9.7"
  },
  "vscode": {
   "interpreter": {
    "hash": "57bc2b6ce032b5f0e93daa91901b7ea38a856826ef43aa9e95b6d3999f5310df"
   }
  }
 },
 "nbformat": 4,
 "nbformat_minor": 1
}

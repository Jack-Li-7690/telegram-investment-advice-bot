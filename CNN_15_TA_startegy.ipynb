{
  "nbformat": 4,
  "nbformat_minor": 0,
  "metadata": {
    "colab": {
      "provenance": [],
      "authorship_tag": "ABX9TyMLkK4HK42wfr1rGgnOzzl1",
      "include_colab_link": true
    },
    "kernelspec": {
      "name": "python3",
      "display_name": "Python 3"
    },
    "language_info": {
      "name": "python"
    }
  },
  "cells": [
    {
      "cell_type": "markdown",
      "metadata": {
        "id": "view-in-github",
        "colab_type": "text"
      },
      "source": [
        "<a href=\"https://colab.research.google.com/github/skywalker0803r/telegram-investment-advice-bot/blob/main/CNN_15_TA_startegy.ipynb\" target=\"_parent\"><img src=\"https://colab.research.google.com/assets/colab-badge.svg\" alt=\"Open In Colab\"/></a>"
      ]
    },
    {
      "cell_type": "code",
      "execution_count": 7,
      "metadata": {
        "id": "rDtUanlMGuuh"
      },
      "outputs": [],
      "source": [
        "#!pip install yfinance\n",
        "#!pip install finta"
      ]
    },
    {
      "cell_type": "code",
      "source": [
        "import yfinance as yf\n",
        "import numpy as np\n",
        "import pandas as pd\n",
        "import keras\n",
        "from keras.models import load_model\n",
        "import pickle\n",
        "import matplotlib.pyplot as plt\n",
        "from finta import TA\n",
        "from tqdm import tqdm\n",
        "\n",
        "# 下載台灣加權指數資料\n",
        "ticker = '^TWII'\n",
        "start_date = '2018-01-01'#從訓練資料沒有包括的時間開始做回測\n",
        "end_date = '2023-02-26'#設置回測結束日期\n",
        "df = yf.download(ticker, start=start_date, end=end_date)\n",
        "\n",
        "# 載入Model和Scaler\n",
        "model = load_model('model.h5')\n",
        "with open('scaler.pkl', 'rb') as f:\n",
        "    scaler = pickle.load(f)\n",
        "\n",
        "# 此函數參考至CHATGPT:https://sharegpt.com/c/CTyoQQ2\n",
        "def calculate_ta(df):\n",
        "    ta_functions = [TA.RSI, TA.WILLIAMS, TA.SMA, TA.EMA, TA.WMA, TA.HMA, TA.TEMA, TA.CCI, TA.CMO, TA.MACD, TA.PPO, TA.ROC, TA.CFI, TA.DMI, TA.SAR]\n",
        "    ta_names = ['RSI', 'Williams %R', 'SMA', 'EMA', 'WMA', 'HMA', 'TEMA', 'CCI', 'CMO', 'MACD', 'PPO', 'ROC', 'CFI', 'DMI', 'SAR']\n",
        "    for i, ta_func in enumerate(ta_functions):\n",
        "        try:\n",
        "            df[ta_names[i]] = ta_func(df)\n",
        "        except:\n",
        "            if ta_names[i] == 'MACD':\n",
        "                df[ta_names[i]] = ta_func(df)['MACD']-ta_func(df)['SIGNAL']\n",
        "            if ta_names[i] == 'PPO':\n",
        "                df[ta_names[i]] = ta_func(df)['PPO']-ta_func(df)['SIGNAL']  \n",
        "            if ta_names[i] == 'DMI':\n",
        "                df[ta_names[i]] = ta_func(df)['DI+']-ta_func(df)['DI-']\n",
        "    return df\n",
        "\n",
        "# 輸入股價資料,scaler,model,輸出(0,1,2)等買進賣出訊號\n",
        "def process(df,scaler,model):\n",
        "    # 特徵工程\n",
        "    df = calculate_ta(df)\n",
        "    df = df.dropna(axis=0)\n",
        "    features = df.columns[-15:].tolist()\n",
        "    Close = df[['Close']]\n",
        "    df = df[features]\n",
        "    \n",
        "    # 數值轉換\n",
        "    df[features] = scaler.transform(df[features])\n",
        "    \n",
        "    # 製作X\n",
        "    days = 15\n",
        "    start_index = 0\n",
        "    end_index = len(df)-days\n",
        "    Xs = []\n",
        "    indexs = []\n",
        "    for i in tqdm(range(start_index ,end_index+1 ,1)):\n",
        "        X = df.iloc[i:i+days,:][features]\n",
        "        X = np.array(X)\n",
        "        Xs.append(X)\n",
        "        indexs.append((df.iloc[[i]].index,df.iloc[[i+days-1]].index))\n",
        "    Xs = np.array(Xs)\n",
        "    \n",
        "    # 模型預測\n",
        "    answer = model.predict(Xs)\n",
        "    answer = [ np.argmax(i) for i in answer]\n",
        "    \n",
        "    # 繪製圖表\n",
        "    Close = Close.iloc[-len(Xs):,:]\n",
        "    Close['SIGNAL'] = answer\n",
        "    buy = Close[Close['SIGNAL']==1]['Close']\n",
        "    sell = Close[Close['SIGNAL']==2]['Close']\n",
        "    Close['Close'].plot()\n",
        "    plt.scatter(list(buy.index),list(buy.values),color='red',marker=\"^\")\n",
        "    plt.title('BUY SIGNAL')\n",
        "    plt.show()\n",
        "    Close['Close'].plot()\n",
        "    plt.scatter(list(sell.index),list(sell.values),color='green',marker='v')\n",
        "    plt.title('SELL SIGNAL')\n",
        "    plt.show()\n",
        "    \n",
        "    return answer\n",
        "\n",
        "# 回測框架參考自CHATGPT\n",
        "# https://shareg.pt/wQwSsaA\n",
        "'''\n",
        "我希望請你做代碼補全的工作規則如下:\n",
        "1.#字號後面為註解\n",
        "2.<you codeing here> 代表要請你輸入代碼\n",
        "以下是第一個我請你幫忙補全的代碼:\n",
        "def backtest(df, model, scaler,ub,lb,t):\n",
        "    signals = process(df,scaler,model) #signals是一個list元素有0,1,2分別代表pass,buy,sell\n",
        "    df = df.tail(len(signals)) #dataframe代表股價歷史資料\n",
        "    # 以下請幫我對df做遍歷根據signals進行BUY跟SELL來做模擬交易回測\n",
        "    # 其中止盈賣出價格 = 進場價格*ub, 止損價格 = 進場價格*lb\n",
        "    # 當持有時間超過t個時間點也需要將股票賣出\n",
        "    <you codeing here>\n",
        "'''\n",
        "\n",
        "signals = process(df,scaler,model)\n",
        "capital = 1000000  # 初始資本\n",
        "hold = False  # 是否持有股票\n",
        "entry_price = 0  # 進場價格\n",
        "entry_idx = 0  # 進場時間點\n",
        "exit_price = 0  # 出場價格\n",
        "exit_idx = 0  # 出場時間點\n",
        "t = 20\n",
        "lb = 0.97\n",
        "ub = 1.03\n",
        "capital_history = []\n",
        "for i, signal in enumerate(signals):\n",
        "    if signal == 1 and not hold:  # 進場買入\n",
        "        hold = True\n",
        "        entry_price = df.iloc[i]['Close']\n",
        "        entry_idx = i\n",
        "    elif signal == 2 and hold:  # 出場賣出\n",
        "        hold = False\n",
        "        exit_price = df.iloc[i]['Close']\n",
        "        exit_idx = i\n",
        "        # 計算交易結果\n",
        "        shares = capital // entry_price\n",
        "        profit = shares * (exit_price - entry_price)\n",
        "        capital += profit\n",
        "        print('買入時間:', df.index[entry_idx])\n",
        "        print('買入價格:', entry_price)\n",
        "        print('賣出時間:', df.index[exit_idx])\n",
        "        print('賣出價格:', exit_price)\n",
        "        print('獲利:', profit)\n",
        "    elif hold and (i - entry_idx >= t or df.iloc[i]['Close'] <= entry_price * lb or df.iloc[i]['Close'] >= entry_price * ub):  # 到達出場條件\n",
        "        hold = False\n",
        "        exit_price = df.iloc[i]['Close']\n",
        "        exit_idx = i\n",
        "        # 計算交易結果\n",
        "        shares = capital // entry_price\n",
        "        profit = shares * (exit_price - entry_price)\n",
        "        capital += profit\n",
        "        print('買入時間:', df.index[entry_idx])\n",
        "        print('買入價格:', entry_price)\n",
        "        print('賣出時間:', df.index[exit_idx])\n",
        "        print('賣出價格:', exit_price)\n",
        "        print('獲利:', profit)\n",
        "    capital_history.append(capital)"
      ],
      "metadata": {
        "colab": {
          "base_uri": "https://localhost:8080/",
          "height": 1000
        },
        "id": "B3HfPuzPHChx",
        "outputId": "62019f5f-0738-48f0-f164-362f2d12a609"
      },
      "execution_count": 8,
      "outputs": [
        {
          "output_type": "stream",
          "name": "stdout",
          "text": [
            "\r[*********************100%***********************]  1 of 1 completed\n"
          ]
        },
        {
          "output_type": "stream",
          "name": "stderr",
          "text": [
            "100%|██████████| 1197/1197 [00:01<00:00, 1087.39it/s]\n"
          ]
        },
        {
          "output_type": "stream",
          "name": "stdout",
          "text": [
            "38/38 [==============================] - 1s 21ms/step\n"
          ]
        },
        {
          "output_type": "display_data",
          "data": {
            "text/plain": [
              "<Figure size 432x288 with 1 Axes>"
            ],
            "image/png": "[encoded data removed]"
          },
          "metadata": {
            "needs_background": "light"
          }
        },
        {
          "output_type": "display_data",
          "data": {
            "text/plain": [
              "<Figure size 432x288 with 1 Axes>"
            ],
            "image/png": "[encoded data removed]"
          },
          "metadata": {
            "needs_background": "light"
          }
        },
        {
          "output_type": "stream",
          "name": "stdout",
          "text": [
            "買入時間: 2018-11-29 00:00:00\n",
            "買入價格: 9885.3603515625\n",
            "賣出時間: 2018-12-17 00:00:00\n",
            "賣出價格: 9787.5302734375\n",
            "獲利: -9880.837890625\n",
            "買入時間: 2018-12-20 00:00:00\n",
            "買入價格: 9674.51953125\n",
            "賣出時間: 2018-12-21 00:00:00\n",
            "賣出價格: 9676.669921875\n",
            "獲利: 219.33984375\n",
            "買入時間: 2018-12-24 00:00:00\n",
            "買入價格: 9639.7001953125\n",
            "賣出時間: 2019-01-02 00:00:00\n",
            "賣出價格: 9554.1396484375\n",
            "獲利: -8727.17578125\n",
            "買入時間: 2019-01-07 00:00:00\n",
            "買入價格: 9590.2998046875\n",
            "賣出時間: 2019-01-21 00:00:00\n",
            "賣出價格: 9889.400390625\n",
            "獲利: 30508.259765625\n",
            "買入時間: 2019-01-22 00:00:00\n",
            "買入價格: 9894.66015625\n",
            "賣出時間: 2019-02-20 00:00:00\n",
            "賣出價格: 10272.4599609375\n",
            "獲利: 38535.580078125\n",
            "買入時間: 2019-02-21 00:00:00\n",
            "買入價格: 10319.5302734375\n",
            "賣出時間: 2019-02-22 00:00:00\n",
            "賣出價格: 10322.919921875\n",
            "獲利: 342.3544921875\n",
            "買入時間: 2019-08-05 00:00:00\n",
            "買入價格: 10423.41015625\n",
            "賣出時間: 2019-09-03 00:00:00\n",
            "賣出價格: 10558.2099609375\n",
            "獲利: 13479.98046875\n",
            "買入時間: 2019-09-04 00:00:00\n",
            "買入價格: 10657.3095703125\n",
            "賣出時間: 2019-09-05 00:00:00\n",
            "賣出價格: 10756.9296875\n",
            "獲利: 9862.3916015625\n",
            "買入時間: 2019-09-11 00:00:00\n",
            "買入價格: 10790.349609375\n",
            "賣出時間: 2019-09-18 00:00:00\n",
            "賣出價格: 10929.4501953125\n",
            "獲利: 13770.9580078125\n",
            "買入時間: 2019-10-03 00:00:00\n",
            "買入價格: 10875.91015625\n",
            "賣出時間: 2019-10-22 00:00:00\n",
            "賣出價格: 11271.25\n",
            "獲利: 39533.984375\n",
            "買入時間: 2019-10-23 00:00:00\n",
            "買入價格: 11239.669921875\n",
            "賣出時間: 2019-10-29 00:00:00\n",
            "賣出價格: 11333.8701171875\n",
            "獲利: 9420.01953125\n",
            "買入時間: 2019-12-31 00:00:00\n",
            "買入價格: 11997.1396484375\n",
            "賣出時間: 2020-01-13 00:00:00\n",
            "賣出價格: 12113.419921875\n",
            "獲利: 10930.345703125\n",
            "買入時間: 2020-03-25 00:00:00\n",
            "買入價格: 9644.75\n",
            "賣出時間: 2020-03-30 00:00:00\n",
            "賣出價格: 9629.4296875\n",
            "獲利: -1823.1171875\n",
            "買入時間: 2020-04-22 00:00:00\n",
            "買入價格: 10307.740234375\n",
            "賣出時間: 2020-04-29 00:00:00\n",
            "賣出價格: 10772.2197265625\n",
            "獲利: 51557.2236328125\n",
            "買入時間: 2020-04-30 00:00:00\n",
            "買入價格: 10992.1396484375\n",
            "賣出時間: 2020-05-29 00:00:00\n",
            "賣出價格: 10942.16015625\n",
            "獲利: -5397.78515625\n",
            "買入時間: 2020-06-03 00:00:00\n",
            "買入價格: 11320.16015625\n",
            "賣出時間: 2020-06-05 00:00:00\n",
            "賣出價格: 11479.400390625\n",
            "獲利: 16720.224609375\n",
            "買入時間: 2020-09-03 00:00:00\n",
            "買入價格: 12757.9697265625\n",
            "賣出時間: 2020-09-24 00:00:00\n",
            "賣出價格: 12264.3798828125\n",
            "獲利: -46397.4453125\n",
            "買入時間: 2020-09-25 00:00:00\n",
            "買入價格: 12232.91015625\n",
            "賣出時間: 2020-10-06 00:00:00\n",
            "賣出價格: 12704.23046875\n",
            "獲利: 44775.4296875\n",
            "買入時間: 2020-10-29 00:00:00\n",
            "買入價格: 12662.91015625\n",
            "賣出時間: 2020-11-09 00:00:00\n",
            "賣出價格: 13127.4697265625\n",
            "獲利: 44133.1591796875\n",
            "買入時間: 2020-11-10 00:00:00\n",
            "買入價格: 13081.7197265625\n",
            "賣出時間: 2020-11-16 00:00:00\n",
            "賣出價格: 13551.830078125\n",
            "獲利: 44660.4833984375\n",
            "買入時間: 2020-11-17 00:00:00\n",
            "買入價格: 13593.009765625\n",
            "賣出時間: 2020-11-18 00:00:00\n",
            "賣出價格: 13773.2900390625\n",
            "獲利: 17126.6259765625\n",
            "買入時間: 2021-03-03 00:00:00\n",
            "買入價格: 16211.73046875\n",
            "賣出時間: 2021-03-17 00:00:00\n",
            "賣出價格: 16215.8203125\n",
            "獲利: 331.27734375\n"
          ]
        }
      ]
    },
    {
      "cell_type": "code",
      "source": [
        "plt.plot(capital_history)\n",
        "plt.title('CNN-15-TA startegy')\n",
        "print(f\"最終報酬率:+{(capital_history[-1]/capital_history[0]-1)*100}%\")\n",
        "print(f\"最大虧損:{-(1-min(capital_history)/capital_history[0])*100}%\")"
      ],
      "metadata": {
        "colab": {
          "base_uri": "https://localhost:8080/",
          "height": 317
        },
        "id": "E-vafI4QHM9_",
        "outputId": "8ffd05ab-c521-4965-d298-b455530f7bb1"
      },
      "execution_count": 9,
      "outputs": [
        {
          "output_type": "stream",
          "name": "stdout",
          "text": [
            "最終報酬率:+31.368127636718746%\n",
            "最大虧損:-1.8388673828125035%\n"
          ]
        },
        {
          "output_type": "display_data",
          "data": {
            "text/plain": [
              "<Figure size 432x288 with 1 Axes>"
            ],
            "image/png": "[encoded data removed]"
          },
          "metadata": {
            "needs_background": "light"
          }
        }
      ]
    }
  ]
}
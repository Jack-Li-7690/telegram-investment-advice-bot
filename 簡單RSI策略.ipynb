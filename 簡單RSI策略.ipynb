{
  "nbformat": 4,
  "nbformat_minor": 0,
  "metadata": {
    "colab": {
      "provenance": [],
      "authorship_tag": "ABX9TyMt17Kwsszf2DwF7z6AVN+V",
      "include_colab_link": true
    },
    "kernelspec": {
      "name": "python3",
      "display_name": "Python 3"
    },
    "language_info": {
      "name": "python"
    }
  },
  "cells": [
    {
      "cell_type": "markdown",
      "metadata": {
        "id": "view-in-github",
        "colab_type": "text"
      },
      "source": [
        "<a href=\"https://colab.research.google.com/github/skywalker0803r/telegram-investment-advice-bot/blob/main/%E7%B0%A1%E5%96%AERSI%E7%AD%96%E7%95%A5.ipynb\" target=\"_parent\"><img src=\"https://colab.research.google.com/assets/colab-badge.svg\" alt=\"Open In Colab\"/></a>"
      ]
    },
    {
      "cell_type": "code",
      "source": [
        "#!pip install yfinance\n",
        "#!pip install finta"
      ],
      "metadata": {
        "id": "G6DLKCg49sEW"
      },
      "execution_count": 6,
      "outputs": []
    },
    {
      "cell_type": "code",
      "execution_count": 7,
      "metadata": {
        "id": "UcsvRRPL9pv7"
      },
      "outputs": [],
      "source": [
        "import yfinance as yf\n",
        "import numpy as np\n",
        "import pandas as pd\n",
        "import keras\n",
        "from keras.models import load_model\n",
        "import pickle\n",
        "import matplotlib.pyplot as plt\n",
        "from finta import TA\n",
        "from tqdm import tqdm\n"
      ]
    },
    {
      "cell_type": "code",
      "source": [
        "# 下載台灣加權指數資料\n",
        "ticker = '^TWII'\n",
        "start_date = '2018-01-01'#從訓練資料沒有包括的時間開始做回測\n",
        "end_date = '2023-02-26'#設置回測結束日期\n",
        "df = yf.download(ticker, start=start_date, end=end_date)\n",
        "df"
      ],
      "metadata": {
        "colab": {
          "base_uri": "https://localhost:8080/",
          "height": 473
        },
        "id": "j-zxFpsq97P1",
        "outputId": "851e4194-448c-4caa-b43b-6ff1d9d6d736"
      },
      "execution_count": 8,
      "outputs": [
        {
          "output_type": "stream",
          "name": "stdout",
          "text": [
            "\r[*********************100%***********************]  1 of 1 completed\n"
          ]
        },
        {
          "output_type": "execute_result",
          "data": {
            "text/plain": [
              "                    Open          High           Low         Close  \\\n",
              "Date                                                                 \n",
              "2018-01-02  10664.820312  10710.730469  10650.769531  10710.730469   \n",
              "2018-01-03  10759.610352  10813.160156  10759.610352  10801.570312   \n",
              "2018-01-04  10834.580078  10853.459961  10794.250000  10848.629883   \n",
              "2018-01-05  10856.919922  10879.799805  10815.679688  10879.799805   \n",
              "2018-01-08  10899.089844  10918.469727  10869.120117  10915.750000   \n",
              "...                  ...           ...           ...           ...   \n",
              "2023-02-20  15452.009766  15575.320312  15436.660156  15551.230469   \n",
              "2023-02-21  15535.639648  15567.740234  15496.730469  15563.000000   \n",
              "2023-02-22  15541.169922  15541.169922  15345.929688  15418.769531   \n",
              "2023-02-23  15463.459961  15657.629883  15463.459961  15615.410156   \n",
              "2023-02-24  15669.879883  15717.959961  15503.790039  15503.790039   \n",
              "\n",
              "               Adj Close   Volume  \n",
              "Date                               \n",
              "2018-01-02  10710.730469  2375900  \n",
              "2018-01-03  10801.570312  2964800  \n",
              "2018-01-04  10848.629883  3048500  \n",
              "2018-01-05  10879.799805  3028400  \n",
              "2018-01-08  10915.750000  3246900  \n",
              "...                  ...      ...  \n",
              "2023-02-20  15551.230469  2994900  \n",
              "2023-02-21  15563.000000  2997300  \n",
              "2023-02-22  15418.769531  2881300  \n",
              "2023-02-23  15615.410156  3012200  \n",
              "2023-02-24  15503.790039  2717600  \n",
              "\n",
              "[1251 rows x 6 columns]"
            ],
            "text/html": [
              "\n",
              "  <div id=\"df-917e3c5b-6e13-4e8e-b466-5f4391335ca2\">\n",
              "    <div class=\"colab-df-container\">\n",
              "      <div>\n",
              "<style scoped>\n",
              "    .dataframe tbody tr th:only-of-type {\n",
              "        vertical-align: middle;\n",
              "    }\n",
              "\n",
              "    .dataframe tbody tr th {\n",
              "        vertical-align: top;\n",
              "    }\n",
              "\n",
              "    .dataframe thead th {\n",
              "        text-align: right;\n",
              "    }\n",
              "</style>\n",
              "<table border=\"1\" class=\"dataframe\">\n",
              "  <thead>\n",
              "    <tr style=\"text-align: right;\">\n",
              "      <th></th>\n",
              "      <th>Open</th>\n",
              "      <th>High</th>\n",
              "      <th>Low</th>\n",
              "      <th>Close</th>\n",
              "      <th>Adj Close</th>\n",
              "      <th>Volume</th>\n",
              "    </tr>\n",
              "    <tr>\n",
              "      <th>Date</th>\n",
              "      <th></th>\n",
              "      <th></th>\n",
              "      <th></th>\n",
              "      <th></th>\n",
              "      <th></th>\n",
              "      <th></th>\n",
              "    </tr>\n",
              "  </thead>\n",
              "  <tbody>\n",
              "    <tr>\n",
              "      <th>2018-01-02</th>\n",
              "      <td>10664.820312</td>\n",
              "      <td>10710.730469</td>\n",
              "      <td>10650.769531</td>\n",
              "      <td>10710.730469</td>\n",
              "      <td>10710.730469</td>\n",
              "      <td>2375900</td>\n",
              "    </tr>\n",
              "    <tr>\n",
              "      <th>2018-01-03</th>\n",
              "      <td>10759.610352</td>\n",
              "      <td>10813.160156</td>\n",
              "      <td>10759.610352</td>\n",
              "      <td>10801.570312</td>\n",
              "      <td>10801.570312</td>\n",
              "      <td>2964800</td>\n",
              "    </tr>\n",
              "    <tr>\n",
              "      <th>2018-01-04</th>\n",
              "      <td>10834.580078</td>\n",
              "      <td>10853.459961</td>\n",
              "      <td>10794.250000</td>\n",
              "      <td>10848.629883</td>\n",
              "      <td>10848.629883</td>\n",
              "      <td>3048500</td>\n",
              "    </tr>\n",
              "    <tr>\n",
              "      <th>2018-01-05</th>\n",
              "      <td>10856.919922</td>\n",
              "      <td>10879.799805</td>\n",
              "      <td>10815.679688</td>\n",
              "      <td>10879.799805</td>\n",
              "      <td>10879.799805</td>\n",
              "      <td>3028400</td>\n",
              "    </tr>\n",
              "    <tr>\n",
              "      <th>2018-01-08</th>\n",
              "      <td>10899.089844</td>\n",
              "      <td>10918.469727</td>\n",
              "      <td>10869.120117</td>\n",
              "      <td>10915.750000</td>\n",
              "      <td>10915.750000</td>\n",
              "      <td>3246900</td>\n",
              "    </tr>\n",
              "    <tr>\n",
              "      <th>...</th>\n",
              "      <td>...</td>\n",
              "      <td>...</td>\n",
              "      <td>...</td>\n",
              "      <td>...</td>\n",
              "      <td>...</td>\n",
              "      <td>...</td>\n",
              "    </tr>\n",
              "    <tr>\n",
              "      <th>2023-02-20</th>\n",
              "      <td>15452.009766</td>\n",
              "      <td>15575.320312</td>\n",
              "      <td>15436.660156</td>\n",
              "      <td>15551.230469</td>\n",
              "      <td>15551.230469</td>\n",
              "      <td>2994900</td>\n",
              "    </tr>\n",
              "    <tr>\n",
              "      <th>2023-02-21</th>\n",
              "      <td>15535.639648</td>\n",
              "      <td>15567.740234</td>\n",
              "      <td>15496.730469</td>\n",
              "      <td>15563.000000</td>\n",
              "      <td>15563.000000</td>\n",
              "      <td>2997300</td>\n",
              "    </tr>\n",
              "    <tr>\n",
              "      <th>2023-02-22</th>\n",
              "      <td>15541.169922</td>\n",
              "      <td>15541.169922</td>\n",
              "      <td>15345.929688</td>\n",
              "      <td>15418.769531</td>\n",
              "      <td>15418.769531</td>\n",
              "      <td>2881300</td>\n",
              "    </tr>\n",
              "    <tr>\n",
              "      <th>2023-02-23</th>\n",
              "      <td>15463.459961</td>\n",
              "      <td>15657.629883</td>\n",
              "      <td>15463.459961</td>\n",
              "      <td>15615.410156</td>\n",
              "      <td>15615.410156</td>\n",
              "      <td>3012200</td>\n",
              "    </tr>\n",
              "    <tr>\n",
              "      <th>2023-02-24</th>\n",
              "      <td>15669.879883</td>\n",
              "      <td>15717.959961</td>\n",
              "      <td>15503.790039</td>\n",
              "      <td>15503.790039</td>\n",
              "      <td>15503.790039</td>\n",
              "      <td>2717600</td>\n",
              "    </tr>\n",
              "  </tbody>\n",
              "</table>\n",
              "<p>1251 rows × 6 columns</p>\n",
              "</div>\n",
              "      <button class=\"colab-df-convert\" onclick=\"convertToInteractive('df-917e3c5b-6e13-4e8e-b466-5f4391335ca2')\"\n",
              "              title=\"Convert this dataframe to an interactive table.\"\n",
              "              style=\"display:none;\">\n",
              "        \n",
              "  <svg xmlns=\"http://www.w3.org/2000/svg\" height=\"24px\"viewBox=\"0 0 24 24\"\n",
              "       width=\"24px\">\n",
              "    <path d=\"M0 0h24v24H0V0z\" fill=\"none\"/>\n",
              "    <path d=\"M18.56 5.44l.94 2.06.94-2.06 2.06-.94-2.06-.94-.94-2.06-.94 2.06-2.06.94zm-11 1L8.5 8.5l.94-2.06 2.06-.94-2.06-.94L8.5 2.5l-.94 2.06-2.06.94zm10 10l.94 2.06.94-2.06 2.06-.94-2.06-.94-.94-2.06-.94 2.06-2.06.94z\"/><path d=\"M17.41 7.96l-1.37-1.37c-.4-.4-.92-.59-1.43-.59-.52 0-1.04.2-1.43.59L10.3 9.45l-7.72 7.72c-.78.78-.78 2.05 0 2.83L4 21.41c.39.39.9.59 1.41.59.51 0 1.02-.2 1.41-.59l7.78-7.78 2.81-2.81c.8-.78.8-2.07 0-2.86zM5.41 20L4 18.59l7.72-7.72 1.47 1.35L5.41 20z\"/>\n",
              "  </svg>\n",
              "      </button>\n",
              "      \n",
              "  <style>\n",
              "    .colab-df-container {\n",
              "      display:flex;\n",
              "      flex-wrap:wrap;\n",
              "      gap: 12px;\n",
              "    }\n",
              "\n",
              "    .colab-df-convert {\n",
              "      background-color: #E8F0FE;\n",
              "      border: none;\n",
              "      border-radius: 50%;\n",
              "      cursor: pointer;\n",
              "      display: none;\n",
              "      fill: #1967D2;\n",
              "      height: 32px;\n",
              "      padding: 0 0 0 0;\n",
              "      width: 32px;\n",
              "    }\n",
              "\n",
              "    .colab-df-convert:hover {\n",
              "      background-color: #E2EBFA;\n",
              "      box-shadow: 0px 1px 2px rgba(60, 64, 67, 0.3), 0px 1px 3px 1px rgba(60, 64, 67, 0.15);\n",
              "      fill: #174EA6;\n",
              "    }\n",
              "\n",
              "    [theme=dark] .colab-df-convert {\n",
              "      background-color: #3B4455;\n",
              "      fill: #D2E3FC;\n",
              "    }\n",
              "\n",
              "    [theme=dark] .colab-df-convert:hover {\n",
              "      background-color: #434B5C;\n",
              "      box-shadow: 0px 1px 3px 1px rgba(0, 0, 0, 0.15);\n",
              "      filter: drop-shadow(0px 1px 2px rgba(0, 0, 0, 0.3));\n",
              "      fill: #FFFFFF;\n",
              "    }\n",
              "  </style>\n",
              "\n",
              "      <script>\n",
              "        const buttonEl =\n",
              "          document.querySelector('#df-917e3c5b-6e13-4e8e-b466-5f4391335ca2 button.colab-df-convert');\n",
              "        buttonEl.style.display =\n",
              "          google.colab.kernel.accessAllowed ? 'block' : 'none';\n",
              "\n",
              "        async function convertToInteractive(key) {\n",
              "          const element = document.querySelector('#df-917e3c5b-6e13-4e8e-b466-5f4391335ca2');\n",
              "          const dataTable =\n",
              "            await google.colab.kernel.invokeFunction('convertToInteractive',\n",
              "                                                     [key], {});\n",
              "          if (!dataTable) return;\n",
              "\n",
              "          const docLinkHtml = 'Like what you see? Visit the ' +\n",
              "            '<a target=\"_blank\" href=https://colab.research.google.com/notebooks/data_table.ipynb>data table notebook</a>'\n",
              "            + ' to learn more about interactive tables.';\n",
              "          element.innerHTML = '';\n",
              "          dataTable['output_type'] = 'display_data';\n",
              "          await google.colab.output.renderOutput(dataTable, element);\n",
              "          const docLink = document.createElement('div');\n",
              "          docLink.innerHTML = docLinkHtml;\n",
              "          element.appendChild(docLink);\n",
              "        }\n",
              "      </script>\n",
              "    </div>\n",
              "  </div>\n",
              "  "
            ]
          },
          "metadata": {},
          "execution_count": 8
        }
      ]
    },
    {
      "cell_type": "code",
      "source": [
        "def calculate_ta(df):\n",
        "    ta_functions = [TA.RSI, TA.WILLIAMS, TA.SMA, TA.EMA, TA.WMA, TA.HMA, TA.TEMA, TA.CCI, TA.CMO, TA.MACD, TA.PPO, TA.ROC, TA.CFI, TA.DMI, TA.SAR]\n",
        "    ta_names = ['RSI', 'Williams %R', 'SMA', 'EMA', 'WMA', 'HMA', 'TEMA', 'CCI', 'CMO', 'MACD', 'PPO', 'ROC', 'CFI', 'DMI', 'SAR']\n",
        "    for i, ta_func in enumerate(ta_functions):\n",
        "        try:\n",
        "            df[ta_names[i]] = ta_func(df)\n",
        "        except:\n",
        "            if ta_names[i] == 'MACD':\n",
        "                df[ta_names[i]] = ta_func(df)['MACD']-ta_func(df)['SIGNAL']\n",
        "            if ta_names[i] == 'PPO':\n",
        "                df[ta_names[i]] = ta_func(df)['PPO']-ta_func(df)['SIGNAL']  \n",
        "            if ta_names[i] == 'DMI':\n",
        "                df[ta_names[i]] = ta_func(df)['DI+']-ta_func(df)['DI-']\n",
        "    return df"
      ],
      "metadata": {
        "id": "YXrSPvi999Gz"
      },
      "execution_count": 9,
      "outputs": []
    },
    {
      "cell_type": "code",
      "source": [
        "def process(df):\n",
        "    # 特徵工程\n",
        "    df = calculate_ta(df)\n",
        "    print(df.columns)\n",
        "    df = df.dropna(axis=0)\n",
        "    df = df[['RSI','Close']]\n",
        "    df['SIGNAL'] = 0\n",
        "    df.loc[df['RSI'] >= 80,'SIGNAL'] = 2 # sell\n",
        "    df.loc[df['RSI'] <= 20,'SIGNAL'] = 1 # buy\n",
        "    buy = df[df['SIGNAL']==1]['Close']\n",
        "    sell = df[df['SIGNAL']==2]['Close']\n",
        "    df['Close'].plot()\n",
        "    plt.scatter(list(buy.index),list(buy.values),color='red',marker=\"^\")\n",
        "    plt.title('BUY SIGNAL')\n",
        "    plt.show()\n",
        "    df['Close'].plot()\n",
        "    plt.scatter(list(sell.index),list(sell.values),color='green',marker='v')\n",
        "    plt.title('SELL SIGNAL')\n",
        "    plt.show()\n",
        "    return df['SIGNAL'].values.tolist()"
      ],
      "metadata": {
        "id": "PUTgHndg-AHn"
      },
      "execution_count": 10,
      "outputs": []
    },
    {
      "cell_type": "code",
      "source": [
        "signals = process(df)\n",
        "capital = 1000000  # 初始資本\n",
        "hold = False  # 是否持有股票\n",
        "entry_price = 0  # 進場價格\n",
        "entry_idx = 0  # 進場時間點\n",
        "exit_price = 0  # 出場價格\n",
        "exit_idx = 0  # 出場時間點\n",
        "t = 20\n",
        "lb = 0.97\n",
        "ub = 1.03\n",
        "capital_history = []\n",
        "for i, signal in enumerate(signals):\n",
        "    if signal == 1 and not hold:  # 進場買入\n",
        "        hold = True\n",
        "        entry_price = df.iloc[i]['Close']\n",
        "        entry_idx = i\n",
        "    elif signal == 2 and hold:  # 出場賣出\n",
        "        hold = False\n",
        "        exit_price = df.iloc[i]['Close']\n",
        "        exit_idx = i\n",
        "        # 計算交易結果\n",
        "        shares = capital // entry_price\n",
        "        profit = shares * (exit_price - entry_price)\n",
        "        capital += profit\n",
        "        print('買入時間:', df.index[entry_idx])\n",
        "        print('買入價格:', entry_price)\n",
        "        print('賣出時間:', df.index[exit_idx])\n",
        "        print('賣出價格:', exit_price)\n",
        "        print('獲利:', profit)\n",
        "    elif hold and (i - entry_idx >= t or df.iloc[i]['Close'] <= entry_price * lb or df.iloc[i]['Close'] >= entry_price * ub):  # 到達出場條件\n",
        "        hold = False\n",
        "        exit_price = df.iloc[i]['Close']\n",
        "        exit_idx = i\n",
        "        # 計算交易結果\n",
        "        shares = capital // entry_price\n",
        "        profit = shares * (exit_price - entry_price)\n",
        "        capital += profit\n",
        "        print('買入時間:', df.index[entry_idx])\n",
        "        print('買入價格:', entry_price)\n",
        "        print('賣出時間:', df.index[exit_idx])\n",
        "        print('賣出價格:', exit_price)\n",
        "        print('獲利:', profit)\n",
        "    capital_history.append(capital)"
      ],
      "metadata": {
        "colab": {
          "base_uri": "https://localhost:8080/",
          "height": 806
        },
        "id": "3P1AeAWv-yH5",
        "outputId": "cc9007fc-99f8-40c0-a7ee-661b81d372d8"
      },
      "execution_count": 11,
      "outputs": [
        {
          "output_type": "stream",
          "name": "stdout",
          "text": [
            "Index(['Open', 'High', 'Low', 'Close', 'Adj Close', 'Volume', 'RSI',\n",
            "       'Williams %R', 'SMA', 'EMA', 'WMA', 'HMA', 'TEMA', 'CCI', 'CMO', 'MACD',\n",
            "       'PPO', 'ROC', 'CFI', 'DMI', 'SAR'],\n",
            "      dtype='object')\n"
          ]
        },
        {
          "output_type": "display_data",
          "data": {
            "text/plain": [
              "<Figure size 432x288 with 1 Axes>"
            ],
            "image/png": "[encoded data removed]"
          },
          "metadata": {
            "needs_background": "light"
          }
        },
        {
          "output_type": "display_data",
          "data": {
            "text/plain": [
              "<Figure size 432x288 with 1 Axes>"
            ],
            "image/png": "[encoded data removed]"
          },
          "metadata": {
            "needs_background": "light"
          }
        },
        {
          "output_type": "stream",
          "name": "stdout",
          "text": [
            "買入時間: 2018-08-14 00:00:00\n",
            "買入價格: 10824.23046875\n",
            "賣出時間: 2018-09-11 00:00:00\n",
            "賣出價格: 10752.2998046875\n",
            "獲利: -6617.62109375\n",
            "買入時間: 2020-01-08 00:00:00\n",
            "買入價格: 11817.099609375\n",
            "賣出時間: 2020-01-14 00:00:00\n",
            "賣出價格: 12179.8095703125\n",
            "獲利: 30467.63671875\n"
          ]
        }
      ]
    },
    {
      "cell_type": "code",
      "source": [
        "plt.plot(capital_history)\n",
        "plt.title('simple RSI strategy')\n",
        "print(f\"最終報酬率:+{(capital_history[-1]/capital_history[0]-1)*100}%\")\n",
        "print(f\"最大虧損:{-(1-min(capital_history)/capital_history[0])*100}%\")"
      ],
      "metadata": {
        "colab": {
          "base_uri": "https://localhost:8080/",
          "height": 317
        },
        "id": "cwn1SX0y-zyC",
        "outputId": "23040621-8c89-4b35-d56a-1d9e868e8a19"
      },
      "execution_count": 12,
      "outputs": [
        {
          "output_type": "stream",
          "name": "stdout",
          "text": [
            "最終報酬率:+2.385001562500011%\n",
            "最大虧損:-0.661762109374997%\n"
          ]
        },
        {
          "output_type": "display_data",
          "data": {
            "text/plain": [
              "<Figure size 432x288 with 1 Axes>"
            ],
            "image/png": "[encoded data removed]"
          },
          "metadata": {
            "needs_background": "light"
          }
        }
      ]
    },
    {
      "cell_type": "code",
      "source": [],
      "metadata": {
        "id": "d_nYyea5_Y-z"
      },
      "execution_count": 12,
      "outputs": []
    }
  ]
}